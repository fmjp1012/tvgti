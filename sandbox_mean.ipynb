{
 "cells": [
  {
   "cell_type": "code",
   "execution_count": 1,
   "metadata": {},
   "outputs": [],
   "source": [
    "import shutil\n",
    "import os\n",
    "import datetime\n",
    "\n",
    "import numpy as np\n",
    "from scipy.linalg import inv, eigvals, norm\n",
    "import matplotlib.pyplot as plt\n",
    "import cvxpy as cp\n",
    "from tqdm import tqdm\n",
    "from joblib import Parallel, delayed\n",
    "from multiprocessing import Manager\n",
    "\n",
    "from utils import *\n",
    "from models.tvgti_pc_nonsparse import TimeVaryingSEM as TimeVaryingSEM_PC_NONSPARSE\n",
    "from models.tvgti_pp_nonsparse_undirected import TimeVaryingSEM as TimeVaryingSEM_PP_NONSPARSE_UNDIRECTED"
   ]
  },
  {
   "cell_type": "code",
   "execution_count": 2,
   "metadata": {},
   "outputs": [],
   "source": [
    "def generate_random_S(N, sparsity, max_weight):\n",
    "    S = np.zeros((N, N))\n",
    "    \n",
    "    for i in range(N):\n",
    "        for j in range(i + 1, N):\n",
    "            if np.random.rand() < sparsity:\n",
    "                weight = np.random.uniform(-max_weight, max_weight)\n",
    "                # weight = np.random.uniform(0, max_weight)\n",
    "                S[i, j] = weight\n",
    "                S[j, i] = weight\n",
    "    \n",
    "    # Ensure spectral radius < 1\n",
    "    spectral_radius = max(abs(eigvals(S)))\n",
    "    if spectral_radius >= 1:\n",
    "        S = S / (spectral_radius + 0.1)\n",
    "\n",
    "    S = S / norm(S)\n",
    "    return S\n",
    "\n",
    "def generate_random_S_with_off_diagonal(N, sparsity, max_weight):\n",
    "    S = np.zeros((N, N))\n",
    "    \n",
    "    for i in range(N):\n",
    "        for j in range(N):\n",
    "            if i != j and np.random.rand() < sparsity:\n",
    "                weight = np.random.uniform(-max_weight, max_weight)\n",
    "                # weight = np.random.uniform(0, max_weight)\n",
    "                S[i, j] = weight\n",
    "    \n",
    "    # Ensure spectral radius < 1\n",
    "    spectral_radius = max(abs(eigvals(S)))\n",
    "    if spectral_radius >= 1:\n",
    "        S = S / (spectral_radius + 0.1)\n",
    "\n",
    "    S = S / norm(S)\n",
    "    return S\n",
    "\n",
    "def modify_S(S, edge_indices, factor=2.0):\n",
    "    S_modified = S.copy()\n",
    "    for (i, j) in edge_indices:\n",
    "        if i != j:\n",
    "            S_modified[i, j] *= factor\n",
    "            S_modified[j, i] *= factor\n",
    "    return S_modified\n",
    "\n",
    "def generate_stationary_X(N, T, S_is_symmetric, sparsity, max_weight, std_e):\n",
    "    if S_is_symmetric:\n",
    "        S = generate_random_S(N, sparsity=sparsity, max_weight=max_weight)\n",
    "    else:\n",
    "        S = generate_random_S_with_off_diagonal(N, sparsity=sparsity, max_weight=max_weight)\n",
    "    S_series = [S for _ in range(T)]\n",
    "    e_t_series = np.random.normal(0, std_e, size=(N, T))\n",
    "\n",
    "    I = np.eye(N)\n",
    "    try:\n",
    "        inv_I_S = inv(I - S)\n",
    "    except np.linalg.LinAlgError:\n",
    "        raise ValueError(\"The matrix (I - S) is non-invertible. Please adjust S to ensure invertibility.\")\n",
    "\n",
    "    X = inv_I_S @ e_t_series\n",
    "\n",
    "    return S_series, X, e_t_series\n",
    "\n",
    "def generate_stationary_X_from_S(S, N, T, std_e):\n",
    "    S = S\n",
    "    S_series = [S for _ in range(T)]\n",
    "    e_t_series = np.random.normal(0, std_e, size=(N, T))\n",
    "\n",
    "    I = np.eye(N)\n",
    "    try:\n",
    "        inv_I_S = inv(I - S)\n",
    "    except np.linalg.LinAlgError:\n",
    "        raise ValueError(\"The matrix (I - S) is non-invertible. Please adjust S to ensure invertibility.\")\n",
    "\n",
    "    X = inv_I_S @ e_t_series\n",
    "\n",
    "    return S_series, X\n",
    "\n",
    "def generate_piecewise_X(N, T, S_is_symmetric, sparsity, max_weight, std_e):\n",
    "    max_weight_0 = max_weight\n",
    "    max_weight_1 = max_weight\n",
    "    if S_is_symmetric:\n",
    "        S0 = generate_random_S(N, sparsity=sparsity, max_weight=max_weight)\n",
    "    else:\n",
    "        S0 = generate_random_S_with_off_diagonal(N, sparsity=sparsity, max_weight=max_weight)\n",
    "    # S1 = generate_random_S(N, sparsity=sparsity, max_weight=max_weight_1)\n",
    "    S1 = S0*2\n",
    "    S_series = [S0 for _ in range(T // 2)] + [S1 for _ in range(T - T // 2)]\n",
    "    e_t_series = np.random.normal(0, std_e, size=(N, T))\n",
    "\n",
    "    I = np.eye(N)\n",
    "    try:\n",
    "        inv_I_S0 = inv(I - S0)\n",
    "        inv_I_S1 = inv(I - S1)\n",
    "    except np.linalg.LinAlgError:\n",
    "        raise ValueError(\"The matrix (I - S) is non-invertible. Please adjust S to ensure invertibility.\")\n",
    "\n",
    "    X0 = inv_I_S0 @ e_t_series[:, :T // 2]\n",
    "    X1 = inv_I_S1 @ e_t_series[:, T // 2:]\n",
    "    X = np.concatenate([X0, X1], axis=1)\n",
    "\n",
    "    return S_series, X\n",
    "\n",
    "def generate_piecewise_X_K(N, T, S_is_symmetric, sparsity, max_weight, std_e, K):\n",
    "    S_list = []\n",
    "    inv_I_S_list = []\n",
    "    I = np.eye(N)\n",
    "\n",
    "    for i in range(K):\n",
    "        if S_is_symmetric:\n",
    "            S = generate_random_S(N, sparsity=sparsity, max_weight=max_weight)\n",
    "        else:\n",
    "            S = generate_random_S_with_off_diagonal(N, sparsity=sparsity, max_weight=max_weight)\n",
    "        S_list.append(S)\n",
    "        try:\n",
    "            inv_I_S = inv(I - S)\n",
    "            inv_I_S_list.append(inv_I_S)\n",
    "        except np.linalg.LinAlgError:\n",
    "            raise ValueError(\"The matrix (I - S) is non-invertible. Please adjust S to ensure invertibility.\")\n",
    "\n",
    "    # Divide T into K segments\n",
    "    segment_lengths = [T // K] * K\n",
    "    segment_lengths[i-1] += T % K\n",
    "\n",
    "    # Create S_series\n",
    "    S_series = []\n",
    "    for i, length in enumerate(segment_lengths):\n",
    "        S_series.extend([S_list[i]] * length)\n",
    "\n",
    "    # Generate error terms\n",
    "    e_t_series = np.random.normal(0, std_e, size=(N, T))\n",
    "\n",
    "    # Compute X\n",
    "    X_list = []\n",
    "    start = 0\n",
    "    for i, length in enumerate(segment_lengths):\n",
    "        end = start + length\n",
    "        X_i = inv_I_S_list[i] @ e_t_series[:, start:end]\n",
    "        X_list.append(X_i)\n",
    "        start = end\n",
    "\n",
    "    X = np.concatenate(X_list, axis=1)\n",
    "\n",
    "    return S_series, X\n",
    "\n",
    "\n",
    "def solve_offline_sem(X_up_to_t, lambda_reg):\n",
    "    N, t = X_up_to_t.shape\n",
    "    S = cp.Variable((N, N), symmetric=True)\n",
    "    \n",
    "    # objective = (1/(2*t)) * cp.norm(X_up_to_t - S @ X_up_to_t, 'fro') + lambda_reg * cp.norm1(S)\n",
    "    objective = (1/(2*t)) * cp.norm(X_up_to_t - S @ X_up_to_t, 'fro')\n",
    "    \n",
    "    constraints = [cp.diag(S) == 0]\n",
    "    \n",
    "    prob = cp.Problem(cp.Minimize(objective), constraints)\n",
    "    \n",
    "    prob.solve(solver=cp.SCS, verbose=False)\n",
    "    \n",
    "    if prob.status not in [\"optimal\", \"optimal_inaccurate\"]:\n",
    "        raise ValueError(\"CVXPY did not find an optimal solution.\")\n",
    "    \n",
    "    S_opt = S.value\n",
    "    return S_opt\n"
   ]
  },
  {
   "cell_type": "code",
   "execution_count": 3,
   "metadata": {},
   "outputs": [],
   "source": [
    "plt.rc('text',usetex=True)\n",
    "plt.rc('font',family=\"serif\")\n",
    "plt.rcParams[\"font.family\"] = \"Times New Roman\"      #全体のフォントを設定\n",
    "plt.rcParams[\"xtick.direction\"] = \"in\"               #x軸の目盛線が内向き('in')か外向き('out')か双方向か('inout')\n",
    "plt.rcParams[\"ytick.direction\"] = \"in\"               #y軸の目盛線が内向き('in')か外向き('out')か双方向か('inout')\n",
    "plt.rcParams[\"xtick.minor.visible\"] = True          #x軸補助目盛りの追加\n",
    "plt.rcParams[\"ytick.minor.visible\"] = True          #y軸補助目盛りの追加\n",
    "plt.rcParams[\"xtick.major.width\"] = 1.5              #x軸主目盛り線の線幅\n",
    "plt.rcParams[\"ytick.major.width\"] = 1.5              #y軸主目盛り線の線幅\n",
    "plt.rcParams[\"xtick.minor.width\"] = 1.0              #x軸補助目盛り線の線幅\n",
    "plt.rcParams[\"ytick.minor.width\"] = 1.0              #y軸補助目盛り線の線幅\n",
    "plt.rcParams[\"xtick.major.size\"] = 10                #x軸主目盛り線の長さ\n",
    "plt.rcParams[\"ytick.major.size\"] = 10                #y軸主目盛り線の長さ\n",
    "plt.rcParams[\"xtick.minor.size\"] = 5                #x軸補助目盛り線の長さ\n",
    "plt.rcParams[\"ytick.minor.size\"] = 5                #y軸補助目盛り線の長さ\n",
    "plt.rcParams[\"font.size\"] = 15                       #フォントの大きさ"
   ]
  },
  {
   "cell_type": "code",
   "execution_count": null,
   "metadata": {},
   "outputs": [
    {
     "name": "stdout",
     "output_type": "stream",
     "text": [
      "Loaded cached matrix from matrix_cache/duplication_matrix_hh_N=10.npz\n",
      "Loaded cached matrix from matrix_cache/elimination_matrix_hh_N=10.npz\n",
      "Loaded cached matrix from matrix_cache/duplication_matrix_hh_N=10.npz\n",
      "Loaded cached matrix from matrix_cache/elimination_matrix_hh_N=10.npz\n",
      "Loaded cached matrix from matrix_cache/duplication_matrix_hh_N=10.npz\n",
      "Loaded cached matrix from matrix_cache/elimination_matrix_hh_N=10.npz\n"
     ]
    },
    {
     "name": "stderr",
     "output_type": "stream",
     "text": [
      "pc_nonsparse_0.999:   0%|          | 0/20000 [00:00<?, ?it/s]477.04it/s]"
     ]
    },
    {
     "name": "stdout",
     "output_type": "stream",
     "text": [
      "Loaded cached matrix from matrix_cache/duplication_matrix_hh_N=10.npz\n",
      "Loaded cached matrix from matrix_cache/elimination_matrix_hh_N=10.npz\n",
      "Loaded cached matrix from matrix_cache/duplication_matrix_hh_N=10.npz\n",
      "Loaded cached matrix from matrix_cache/elimination_matrix_hh_N=10.npz\n",
      "Loaded cached matrix from matrix_cache/duplication_matrix_hh_N=10.npz\n",
      "Loaded cached matrix from matrix_cache/elimination_matrix_hh_N=10.npz\n"
     ]
    },
    {
     "name": "stderr",
     "output_type": "stream",
     "text": [
      "pc_nonsparse_0.999:   3%|▎         | 545/20000 [00:01<00:44, 441.77it/s]]"
     ]
    },
    {
     "name": "stdout",
     "output_type": "stream",
     "text": [
      "Loaded cached matrix from matrix_cache/duplication_matrix_hh_N=10.npz\n",
      "Loaded cached matrix from matrix_cache/elimination_matrix_hh_N=10.npz\n",
      "Loaded cached matrix from matrix_cache/duplication_matrix_hh_N=10.npz\n",
      "Loaded cached matrix from matrix_cache/elimination_matrix_hh_N=10.npz\n",
      "Loaded cached matrix from matrix_cache/duplication_matrix_hh_N=10.npz\n",
      "Loaded cached matrix from matrix_cache/elimination_matrix_hh_N=10.npz\n",
      "Loaded cached matrix from matrix_cache/duplication_matrix_hh_N=10.npz\n",
      "Loaded cached matrix from matrix_cache/elimination_matrix_hh_N=10.npz\n",
      "Loaded cached matrix from matrix_cache/duplication_matrix_hh_N=10.npz\n",
      "Loaded cached matrix from matrix_cache/elimination_matrix_hh_N=10.npz\n",
      "Loaded cached matrix from matrix_cache/duplication_matrix_hh_N=10.npz\n",
      "Loaded cached matrix from matrix_cache/elimination_matrix_hh_N=10.npz\n",
      "Loaded cached matrix from matrix_cache/duplication_matrix_hh_N=10.npz\n",
      "Loaded cached matrix from matrix_cache/elimination_matrix_hh_N=10.npz\n",
      "Loaded cached matrix from matrix_cache/duplication_matrix_hh_N=10.npz\n",
      "Loaded cached matrix from matrix_cache/elimination_matrix_hh_N=10.npz\n",
      "Loaded cached matrix from matrix_cache/duplication_matrix_hh_N=10.npz\n",
      "Loaded cached matrix from matrix_cache/elimination_matrix_hh_N=10.npz\n",
      "Loaded cached matrix from matrix_cache/duplication_matrix_hh_N=10.npz\n",
      "Loaded cached matrix from matrix_cache/elimination_matrix_hh_N=10.npz\n",
      "Loaded cached matrix from matrix_cache/duplication_matrix_hh_N=10.npz\n",
      "Loaded cached matrix from matrix_cache/elimination_matrix_hh_N=10.npz\n",
      "Loaded cached matrix from matrix_cache/duplication_matrix_hh_N=10.npz\n",
      "Loaded cached matrix from matrix_cache/elimination_matrix_hh_N=10.npz\n"
     ]
    },
    {
     "name": "stderr",
     "output_type": "stream",
     "text": [
      "pc_nonsparse_0.999:   0%|          | 0/20000 [00:00<?, ?it/s]1198.98it/s]"
     ]
    },
    {
     "name": "stdout",
     "output_type": "stream",
     "text": [
      "Loaded cached matrix from matrix_cache/duplication_matrix_hh_N=10.npz\n",
      "Loaded cached matrix from matrix_cache/elimination_matrix_hh_N=10.npz\n",
      "Loaded cached matrix from matrix_cache/duplication_matrix_hh_N=10.npz\n",
      "Loaded cached matrix from matrix_cache/elimination_matrix_hh_N=10.npz\n",
      "Loaded cached matrix from matrix_cache/duplication_matrix_hh_N=10.npz\n",
      "Loaded cached matrix from matrix_cache/elimination_matrix_hh_N=10.npz\n",
      "Loaded cached matrix from matrix_cache/duplication_matrix_hh_N=10.npz\n",
      "Loaded cached matrix from matrix_cache/elimination_matrix_hh_N=10.npz\n",
      "Loaded cached matrix from matrix_cache/duplication_matrix_hh_N=10.npz\n",
      "Loaded cached matrix from matrix_cache/elimination_matrix_hh_N=10.npz\n",
      "Loaded cached matrix from matrix_cache/duplication_matrix_hh_N=10.npz\n",
      "Loaded cached matrix from matrix_cache/elimination_matrix_hh_N=10.npz\n",
      "Loaded cached matrix from matrix_cache/duplication_matrix_hh_N=10.npz\n",
      "Loaded cached matrix from matrix_cache/elimination_matrix_hh_N=10.npz\n",
      "Loaded cached matrix from matrix_cache/duplication_matrix_hh_N=10.npz\n",
      "Loaded cached matrix from matrix_cache/elimination_matrix_hh_N=10.npz\n",
      "Loaded cached matrix from matrix_cache/duplication_matrix_hh_N=10.npz\n",
      "Loaded cached matrix from matrix_cache/elimination_matrix_hh_N=10.npz\n",
      "Loaded cached matrix from matrix_cache/duplication_matrix_hh_N=10.npz\n",
      "Loaded cached matrix from matrix_cache/elimination_matrix_hh_N=10.npz\n"
     ]
    },
    {
     "name": "stderr",
     "output_type": "stream",
     "text": [
      "pc_nonsparse_0.999:   1%|          | 104/20000 [00:00<00:20, 964.99it/s]"
     ]
    },
    {
     "name": "stdout",
     "output_type": "stream",
     "text": [
      "Loaded cached matrix from matrix_cache/duplication_matrix_hh_N=10.npz\n",
      "Loaded cached matrix from matrix_cache/elimination_matrix_hh_N=10.npz\n",
      "Loaded cached matrix from matrix_cache/duplication_matrix_hh_N=10.npz\n",
      "Loaded cached matrix from matrix_cache/elimination_matrix_hh_N=10.npz\n",
      "Loaded cached matrix from matrix_cache/duplication_matrix_hh_N=10.npz\n",
      "Loaded cached matrix from matrix_cache/elimination_matrix_hh_N=10.npz\n",
      "Loaded cached matrix from matrix_cache/duplication_matrix_hh_N=10.npz\n",
      "Loaded cached matrix from matrix_cache/duplication_matrix_hh_N=10.npz\n",
      "Loaded cached matrix from matrix_cache/elimination_matrix_hh_N=10.npz\n",
      "Loaded cached matrix from matrix_cache/elimination_matrix_hh_N=10.npz\n",
      "Loaded cached matrix from matrix_cache/duplication_matrix_hh_N=10.npz\n",
      "Loaded cached matrix from matrix_cache/elimination_matrix_hh_N=10.npz\n",
      "Loaded cached matrix from matrix_cache/duplication_matrix_hh_N=10.npz\n",
      "Loaded cached matrix from matrix_cache/elimination_matrix_hh_N=10.npz\n",
      "Loaded cached matrix from matrix_cache/duplication_matrix_hh_N=10.npz\n",
      "Loaded cached matrix from matrix_cache/elimination_matrix_hh_N=10.npz\n",
      "Loaded cached matrix from matrix_cache/duplication_matrix_hh_N=10.npz\n",
      "Loaded cached matrix from matrix_cache/elimination_matrix_hh_N=10.npz\n",
      "Loaded cached matrix from matrix_cache/duplication_matrix_hh_N=10.npz\n",
      "Loaded cached matrix from matrix_cache/elimination_matrix_hh_N=10.npz\n",
      "Loaded cached matrix from matrix_cache/duplication_matrix_hh_N=10.npz\n",
      "Loaded cached matrix from matrix_cache/elimination_matrix_hh_N=10.npz\n",
      "Loaded cached matrix from matrix_cache/duplication_matrix_hh_N=10.npz\n"
     ]
    },
    {
     "name": "stderr",
     "output_type": "stream",
     "text": [
      "pc_nonsparse_0.999:   2%|▏         | 311/20000 [00:00<00:43, 450.21it/s]]"
     ]
    },
    {
     "name": "stdout",
     "output_type": "stream",
     "text": [
      "Loaded cached matrix from matrix_cache/elimination_matrix_hh_N=10.npz\n",
      "Loaded cached matrix from matrix_cache/duplication_matrix_hh_N=10.npz\n",
      "Loaded cached matrix from matrix_cache/elimination_matrix_hh_N=10.npz\n",
      "Loaded cached matrix from matrix_cache/duplication_matrix_hh_N=10.npz\n",
      "Loaded cached matrix from matrix_cache/duplication_matrix_hh_N=10.npz\n",
      "Loaded cached matrix from matrix_cache/elimination_matrix_hh_N=10.npz\n",
      "Loaded cached matrix from matrix_cache/duplication_matrix_hh_N=10.npz\n",
      "Loaded cached matrix from matrix_cache/elimination_matrix_hh_N=10.npz\n",
      "Loaded cached matrix from matrix_cache/elimination_matrix_hh_N=10.npzLoaded cached matrix from matrix_cache/duplication_matrix_hh_N=10.npz\n",
      "Loaded cached matrix from matrix_cache/elimination_matrix_hh_N=10.npz\n",
      "\n"
     ]
    },
    {
     "name": "stderr",
     "output_type": "stream",
     "text": [
      "pc_nonsparse_0.999:   0%|          | 42/20000 [00:00<01:01, 325.89it/s]]]"
     ]
    },
    {
     "name": "stdout",
     "output_type": "stream",
     "text": [
      "Loaded cached matrix from matrix_cache/duplication_matrix_hh_N=10.npz\n",
      "Loaded cached matrix from matrix_cache/elimination_matrix_hh_N=10.npz\n",
      "Loaded cached matrix from matrix_cache/duplication_matrix_hh_N=10.npz\n",
      "Loaded cached matrix from matrix_cache/elimination_matrix_hh_N=10.npz\n",
      "Loaded cached matrix from matrix_cache/duplication_matrix_hh_N=10.npz\n",
      "Loaded cached matrix from matrix_cache/elimination_matrix_hh_N=10.npz\n",
      "Loaded cached matrix from matrix_cache/duplication_matrix_hh_N=10.npz\n",
      "Loaded cached matrix from matrix_cache/elimination_matrix_hh_N=10.npz\n",
      "Loaded cached matrix from matrix_cache/duplication_matrix_hh_N=10.npz\n",
      "Loaded cached matrix from matrix_cache/elimination_matrix_hh_N=10.npz\n",
      "Loaded cached matrix from matrix_cache/duplication_matrix_hh_N=10.npz\n",
      "Loaded cached matrix from matrix_cache/elimination_matrix_hh_N=10.npz\n"
     ]
    },
    {
     "name": "stderr",
     "output_type": "stream",
     "text": [
      "pc_nonsparse_0.999: 100%|██████████| 20000/20000 [00:11<00:00, 1700.65it/s]\n",
      "pc_nonsparse_0.999: 100%|██████████| 20000/20000 [00:10<00:00, 1840.54it/s]\n",
      "pc_nonsparse_0.999: 100%|██████████| 20000/20000 [00:10<00:00, 1952.52it/s]\n",
      "pc_nonsparse_0.999: 100%|██████████| 20000/20000 [00:09<00:00, 2026.85it/s]\n",
      "pc_nonsparse_0.999: 100%|██████████| 20000/20000 [00:10<00:00, 1933.49it/s]\n",
      "pc_nonsparse_0.999: 100%|██████████| 20000/20000 [00:09<00:00, 2151.11it/s]\n",
      "pc_nonsparse_0.999: 100%|██████████| 20000/20000 [00:10<00:00, 1906.16it/s]\n",
      "pc_nonsparse_0.999:  97%|█████████▋| 19412/20000 [00:10<00:00, 2539.99it/s]\n",
      "pc_nonsparse_0.999: 100%|██████████| 20000/20000 [00:09<00:00, 2022.29it/s]\n",
      "pc_nonsparse_0.999: 100%|██████████| 20000/20000 [00:09<00:00, 2015.01it/s]\n",
      "pc_nonsparse_0.999: 100%|██████████| 20000/20000 [00:10<00:00, 1923.79it/s]\n",
      "pc_nonsparse_0.999: 100%|██████████| 20000/20000 [00:09<00:00, 2079.47it/s]\n",
      "pc_nonsparse_0.999: 100%|██████████| 20000/20000 [00:10<00:00, 1964.60it/s]\n",
      "pc_nonsparse_0.999: 100%|██████████| 20000/20000 [00:10<00:00, 1951.08it/s]\n",
      "pc_nonsparse_0.999: 100%|██████████| 20000/20000 [00:10<00:00, 1880.72it/s]\n",
      "pc_nonsparse_0.999: 100%|██████████| 20000/20000 [00:10<00:00, 1962.15it/s]\n",
      "pc_nonsparse_0.999: 100%|██████████| 20000/20000 [00:10<00:00, 1922.06it/s]\n",
      "pc_nonsparse_0.999: 100%|██████████| 20000/20000 [00:07<00:00, 2552.12it/s]\n",
      "pc_nonsparse_0.999: 100%|██████████| 20000/20000 [00:07<00:00, 2590.78it/s]\n",
      "pc_nonsparse_0.999: 100%|██████████| 20000/20000 [00:07<00:00, 2560.39it/s]\n",
      "pc_nonsparse_0.999: 100%|██████████| 20000/20000 [00:07<00:00, 2552.42it/s]\n",
      "pc_nonsparse_0.999: 100%|██████████| 20000/20000 [00:07<00:00, 2536.85it/s]\n",
      "pc_nonsparse_0.999: 100%|██████████| 20000/20000 [00:07<00:00, 2620.73it/s]\n",
      "pc_nonsparse_0.999: 100%|██████████| 20000/20000 [00:07<00:00, 2567.22it/s]\n",
      "pc_nonsparse_0.999: 100%|██████████| 20000/20000 [00:07<00:00, 2586.44it/s]\n",
      "pc_nonsparse_0.999: 100%|██████████| 20000/20000 [00:07<00:00, 2597.56it/s]\n",
      "pc_nonsparse_0.999: 100%|██████████| 20000/20000 [00:07<00:00, 2563.81it/s]\n",
      "pc_nonsparse_0:   3%|▎         | 585/20000 [00:00<00:07, 2645.88it/s]0it/s]\n",
      "pc_nonsparse_0.999: 100%|██████████| 20000/20000 [00:08<00:00, 2496.29it/s]\n",
      "pc_nonsparse_0.999: 100%|██████████| 20000/20000 [00:07<00:00, 2539.43it/s]\n",
      "pc_nonsparse_0.999: 100%|██████████| 20000/20000 [00:07<00:00, 2514.59it/s]\n",
      "pc_nonsparse_0.999: 100%|██████████| 20000/20000 [00:07<00:00, 2515.04it/s]\n",
      "pc_nonsparse_0.999: 100%|██████████| 20000/20000 [00:08<00:00, 2464.94it/s]\n",
      "pc_nonsparse_0:   7%|▋         | 1303/20000 [00:00<00:07, 2495.35it/s]it/s]\n",
      "pc_nonsparse_0: 100%|██████████| 20000/20000 [00:07<00:00, 2615.36it/s]\n",
      "pc_nonsparse_0: 100%|██████████| 20000/20000 [00:07<00:00, 2752.87it/s]\n",
      "pc_nonsparse_0: 100%|██████████| 20000/20000 [00:07<00:00, 2699.20it/s]\n",
      "pc_nonsparse_0: 100%|██████████| 20000/20000 [00:07<00:00, 2640.42it/s]\n",
      "pc_nonsparse_0: 100%|██████████| 20000/20000 [00:07<00:00, 2656.76it/s]\n",
      "pc_nonsparse_0: 100%|██████████| 20000/20000 [00:07<00:00, 2607.82it/s]\n",
      "pc_nonsparse_0: 100%|██████████| 20000/20000 [00:07<00:00, 2716.72it/s]\n",
      "pc_nonsparse_0: 100%|██████████| 20000/20000 [00:07<00:00, 2695.76it/s]\n",
      "pc_nonsparse_0: 100%|██████████| 20000/20000 [00:07<00:00, 2715.74it/s]\n",
      "pc_nonsparse_0: 100%|██████████| 20000/20000 [00:07<00:00, 2732.80it/s]\n",
      "pc_nonsparse_0: 100%|██████████| 20000/20000 [00:07<00:00, 2592.00it/s]\n",
      "pc_nonsparse_0: 100%|██████████| 20000/20000 [00:07<00:00, 2642.72it/s]\n",
      "pc_nonsparse_0: 100%|██████████| 20000/20000 [00:07<00:00, 2600.80it/s]\n",
      "pc_nonsparse_0: 100%|██████████| 20000/20000 [00:07<00:00, 2609.86it/s]\n",
      "pc_nonsparse_0: 100%|██████████| 20000/20000 [00:07<00:00, 2611.82it/s]\n",
      "pc_nonsparse_0: 100%|██████████| 20000/20000 [00:07<00:00, 2584.31it/s]\n",
      "pc_nonsparse_0: 100%|██████████| 20000/20000 [00:07<00:00, 2583.28it/s]\n",
      "pp_nonsparse: 100%|██████████| 20000/20000 [00:22<00:00, 908.17it/s]]\n",
      "pp_nonsparse: 100%|██████████| 20000/20000 [00:21<00:00, 912.52it/s]]\n",
      "pp_nonsparse: 100%|██████████| 20000/20000 [00:22<00:00, 908.53it/s]]\n",
      "pp_nonsparse:  97%|█████████▋| 19451/20000 [00:21<00:00, 944.11it/s]\n",
      "pp_nonsparse: 100%|██████████| 20000/20000 [00:22<00:00, 898.42it/s] \n",
      "pp_nonsparse: 100%|██████████| 20000/20000 [00:22<00:00, 894.96it/s]\n",
      "pp_nonsparse: 100%|██████████| 20000/20000 [00:22<00:00, 899.71it/s]\n",
      "pp_nonsparse: 100%|██████████| 20000/20000 [00:22<00:00, 897.95it/s]\n",
      "pp_nonsparse: 100%|██████████| 20000/20000 [00:22<00:00, 896.36it/s]\n",
      "pp_nonsparse: 100%|██████████| 20000/20000 [00:22<00:00, 896.65it/s]\n",
      "pp_nonsparse: 100%|██████████| 20000/20000 [00:21<00:00, 910.40it/s]\n",
      "pp_nonsparse: 100%|██████████| 20000/20000 [00:22<00:00, 900.91it/s]\n",
      "pp_nonsparse: 100%|██████████| 20000/20000 [00:22<00:00, 906.84it/s]\n",
      "pp_nonsparse: 100%|██████████| 20000/20000 [00:22<00:00, 883.00it/s]\n",
      "pp_nonsparse: 100%|██████████| 20000/20000 [00:22<00:00, 907.49it/s]\n",
      "pp_nonsparse: 100%|██████████| 20000/20000 [00:22<00:00, 895.86it/s]\n",
      "pp_nonsparse: 100%|██████████| 20000/20000 [00:22<00:00, 873.53it/s]\n"
     ]
    },
    {
     "name": "stdout",
     "output_type": "stream",
     "text": [
      "Loaded cached matrix from matrix_cache/duplication_matrix_hh_N=10.npz\n",
      "Loaded cached matrix from matrix_cache/elimination_matrix_hh_N=10.npz\n",
      "Loaded cached matrix from matrix_cache/duplication_matrix_hh_N=10.npz\n",
      "Loaded cached matrix from matrix_cache/elimination_matrix_hh_N=10.npz\n",
      "Loaded cached matrix from matrix_cache/duplication_matrix_hh_N=10.npz\n",
      "Loaded cached matrix from matrix_cache/elimination_matrix_hh_N=10.npz\n"
     ]
    },
    {
     "name": "stderr",
     "output_type": "stream",
     "text": [
      "pc_nonsparse_0.999:   6%|▋         | 1299/20000 [00:03<00:42, 442.30it/s]"
     ]
    },
    {
     "name": "stdout",
     "output_type": "stream",
     "text": [
      "Loaded cached matrix from matrix_cache/duplication_matrix_hh_N=10.npz\n",
      "Loaded cached matrix from matrix_cache/elimination_matrix_hh_N=10.npz\n",
      "Loaded cached matrix from matrix_cache/duplication_matrix_hh_N=10.npz\n",
      "Loaded cached matrix from matrix_cache/elimination_matrix_hh_N=10.npz\n",
      "Loaded cached matrix from matrix_cache/duplication_matrix_hh_N=10.npz\n",
      "Loaded cached matrix from matrix_cache/elimination_matrix_hh_N=10.npz\n"
     ]
    },
    {
     "name": "stderr",
     "output_type": "stream",
     "text": [
      "pc_nonsparse_0.999:  26%|██▋       | 5256/20000 [00:34<06:16, 39.15it/s] "
     ]
    },
    {
     "name": "stdout",
     "output_type": "stream",
     "text": [
      "Loaded cached matrix from matrix_cache/duplication_matrix_hh_N=10.npz\n",
      "Loaded cached matrix from matrix_cache/elimination_matrix_hh_N=10.npz\n",
      "Loaded cached matrix from matrix_cache/duplication_matrix_hh_N=10.npz\n",
      "Loaded cached matrix from matrix_cache/elimination_matrix_hh_N=10.npz\n",
      "Loaded cached matrix from matrix_cache/duplication_matrix_hh_N=10.npz\n",
      "Loaded cached matrix from matrix_cache/elimination_matrix_hh_N=10.npz\n"
     ]
    },
    {
     "name": "stderr",
     "output_type": "stream",
     "text": [
      "pc_nonsparse_0.999: 100%|██████████| 20000/20000 [01:03<00:00, 313.37it/s] \n",
      "pc_nonsparse_0.999:   8%|▊         | 1544/20000 [00:12<00:38, 483.11it/s]  "
     ]
    },
    {
     "name": "stdout",
     "output_type": "stream",
     "text": [
      "Loaded cached matrix from matrix_cache/duplication_matrix_hh_N=10.npz\n",
      "Loaded cached matrix from matrix_cache/duplication_matrix_hh_N=10.npz\n"
     ]
    },
    {
     "name": "stderr",
     "output_type": "stream",
     "text": [
      "pc_nonsparse_0.999:   9%|▊         | 1711/20000 [00:13<01:06, 276.89it/s]"
     ]
    },
    {
     "name": "stdout",
     "output_type": "stream",
     "text": [
      "Loaded cached matrix from matrix_cache/duplication_matrix_hh_N=10.npz\n",
      "Loaded cached matrix from matrix_cache/elimination_matrix_hh_N=10.npz\n"
     ]
    },
    {
     "name": "stderr",
     "output_type": "stream",
     "text": [
      "pc_nonsparse_0.999:  49%|████▉     | 9851/20000 [00:41<00:53, 189.40it/s]]"
     ]
    },
    {
     "name": "stdout",
     "output_type": "stream",
     "text": [
      "Loaded cached matrix from matrix_cache/duplication_matrix_hh_N=10.npz\n"
     ]
    },
    {
     "name": "stderr",
     "output_type": "stream",
     "text": [
      "pc_nonsparse_0.999:  91%|█████████ | 18111/20000 [01:15<00:02, 693.07it/s]"
     ]
    },
    {
     "name": "stdout",
     "output_type": "stream",
     "text": [
      "Loaded cached matrix from matrix_cache/duplication_matrix_hh_N=10.npz\n",
      "Loaded cached matrix from matrix_cache/elimination_matrix_hh_N=10.npz\n",
      "Loaded cached matrix from matrix_cache/duplication_matrix_hh_N=10.npz\n",
      "Loaded cached matrix from matrix_cache/elimination_matrix_hh_N=10.npz\n"
     ]
    },
    {
     "name": "stderr",
     "output_type": "stream",
     "text": [
      "pc_nonsparse_0.999:   9%|▉         | 1831/20000 [00:16<02:03, 147.36it/s]]"
     ]
    },
    {
     "name": "stdout",
     "output_type": "stream",
     "text": [
      "Loaded cached matrix from matrix_cache/duplication_matrix_hh_N=10.npz\n",
      "Loaded cached matrix from matrix_cache/elimination_matrix_hh_N=10.npz\n",
      "Loaded cached matrix from matrix_cache/duplication_matrix_hh_N=10.npz\n",
      "Loaded cached matrix from matrix_cache/elimination_matrix_hh_N=10.npz\n",
      "Loaded cached matrix from matrix_cache/elimination_matrix_hh_N=10.npz\n",
      "Loaded cached matrix from matrix_cache/elimination_matrix_hh_N=10.npz\n",
      "Loaded cached matrix from matrix_cache/elimination_matrix_hh_N=10.npz\n",
      "Loaded cached matrix from matrix_cache/duplication_matrix_hh_N=10.npz\n",
      "Loaded cached matrix from matrix_cache/duplication_matrix_hh_N=10.npz\n",
      "Loaded cached matrix from matrix_cache/duplication_matrix_hh_N=10.npz\n",
      "Loaded cached matrix from matrix_cache/elimination_matrix_hh_N=10.npz\n",
      "Loaded cached matrix from matrix_cache/elimination_matrix_hh_N=10.npz\n",
      "Loaded cached matrix from matrix_cache/duplication_matrix_hh_N=10.npz\n",
      "Loaded cached matrix from matrix_cache/duplication_matrix_hh_N=10.npz\n",
      "Loaded cached matrix from matrix_cache/elimination_matrix_hh_N=10.npz\n"
     ]
    },
    {
     "name": "stderr",
     "output_type": "stream",
     "text": [
      "pc_nonsparse_0.999:  92%|█████████▏| 18468/20000 [01:20<00:09, 161.18it/s]"
     ]
    },
    {
     "name": "stdout",
     "output_type": "stream",
     "text": [
      "Loaded cached matrix from matrix_cache/elimination_matrix_hh_N=10.npz\n",
      "Loaded cached matrix from matrix_cache/elimination_matrix_hh_N=10.npz\n",
      "Loaded cached matrix from matrix_cache/duplication_matrix_hh_N=10.npz\n"
     ]
    },
    {
     "name": "stderr",
     "output_type": "stream",
     "text": [
      "pc_nonsparse_0.999:  51%|█████     | 10208/20000 [00:46<02:09, 75.65it/s]"
     ]
    },
    {
     "name": "stdout",
     "output_type": "stream",
     "text": [
      "Loaded cached matrix from matrix_cache/elimination_matrix_hh_N=10.npz\n",
      "Loaded cached matrix from matrix_cache/duplication_matrix_hh_N=10.npz\n"
     ]
    },
    {
     "name": "stderr",
     "output_type": "stream",
     "text": [
      "pc_nonsparse_0.999:   0%|          | 0/20000 [00:00<?, ?it/s] 1.16it/s]]]"
     ]
    },
    {
     "name": "stdout",
     "output_type": "stream",
     "text": [
      "Loaded cached matrix from matrix_cache/elimination_matrix_hh_N=10.npz\n"
     ]
    },
    {
     "name": "stderr",
     "output_type": "stream",
     "text": [
      "pc_nonsparse_0.999:  12%|█▏        | 2311/20000 [00:35<10:52, 27.12it/s]] "
     ]
    },
    {
     "name": "stdout",
     "output_type": "stream",
     "text": [
      "Loaded cached matrix from matrix_cache/duplication_matrix_hh_N=10.npz\n",
      "Loaded cached matrix from matrix_cache/elimination_matrix_hh_N=10.npz\n",
      "Loaded cached matrix from matrix_cache/duplication_matrix_hh_N=10.npz\n",
      "Loaded cached matrix from matrix_cache/duplication_matrix_hh_N=10.npz\n",
      "Loaded cached matrix from matrix_cache/elimination_matrix_hh_N=10.npz\n",
      "Loaded cached matrix from matrix_cache/duplication_matrix_hh_N=10.npz\n",
      "Loaded cached matrix from matrix_cache/elimination_matrix_hh_N=10.npz\n"
     ]
    },
    {
     "name": "stderr",
     "output_type": "stream",
     "text": [
      "pc_nonsparse_0.999:  52%|█████▏    | 10357/20000 [01:04<12:39, 12.69it/s]"
     ]
    },
    {
     "name": "stdout",
     "output_type": "stream",
     "text": [
      "Loaded cached matrix from matrix_cache/duplication_matrix_hh_N=10.npz\n",
      "Loaded cached matrix from matrix_cache/elimination_matrix_hh_N=10.npz\n",
      "Loaded cached matrix from matrix_cache/duplication_matrix_hh_N=10.npz\n",
      "Loaded cached matrix from matrix_cache/duplication_matrix_hh_N=10.npz\n"
     ]
    },
    {
     "name": "stderr",
     "output_type": "stream",
     "text": [
      "pc_nonsparse_0.999:  94%|█████████▍| 18787/20000 [01:38<00:31, 38.25it/s]"
     ]
    },
    {
     "name": "stdout",
     "output_type": "stream",
     "text": [
      "Loaded cached matrix from matrix_cache/elimination_matrix_hh_N=10.npz\n",
      "Loaded cached matrix from matrix_cache/duplication_matrix_hh_N=10.npz\n",
      "Loaded cached matrix from matrix_cache/elimination_matrix_hh_N=10.npz\n",
      "Loaded cached matrix from matrix_cache/elimination_matrix_hh_N=10.npz\n"
     ]
    },
    {
     "name": "stderr",
     "output_type": "stream",
     "text": [
      "pc_nonsparse_0.999:  52%|█████▏    | 10485/20000 [01:05<01:41, 93.30it/s]]"
     ]
    },
    {
     "name": "stdout",
     "output_type": "stream",
     "text": [
      "Loaded cached matrix from matrix_cache/elimination_matrix_hh_N=10.npz\n",
      "Loaded cached matrix from matrix_cache/duplication_matrix_hh_N=10.npz\n",
      "Loaded cached matrix from matrix_cache/elimination_matrix_hh_N=10.npz\n"
     ]
    },
    {
     "name": "stderr",
     "output_type": "stream",
     "text": [
      "pc_nonsparse_0.999:   0%|          | 68/20000 [00:16<53:09,  6.25it/s]t/s]"
     ]
    },
    {
     "name": "stdout",
     "output_type": "stream",
     "text": [
      "Loaded cached matrix from matrix_cache/duplication_matrix_hh_N=10.npz\n",
      "Loaded cached matrix from matrix_cache/duplication_matrix_hh_N=10.npz\n",
      "Loaded cached matrix from matrix_cache/duplication_matrix_hh_N=10.npz\n",
      "Loaded cached matrix from matrix_cache/elimination_matrix_hh_N=10.npz\n",
      "Loaded cached matrix from matrix_cache/duplication_matrix_hh_N=10.npz\n",
      "Loaded cached matrix from matrix_cache/elimination_matrix_hh_N=10.npz\n"
     ]
    },
    {
     "name": "stderr",
     "output_type": "stream",
     "text": [
      "pc_nonsparse_0.999:   0%|          | 95/20000 [00:22<38:56,  8.52it/s]/s] "
     ]
    },
    {
     "name": "stdout",
     "output_type": "stream",
     "text": [
      "Loaded cached matrix from matrix_cache/elimination_matrix_hh_N=10.npz\n",
      "Loaded cached matrix from matrix_cache/elimination_matrix_hh_N=10.npz\n",
      "Loaded cached matrix from matrix_cache/duplication_matrix_hh_N=10.npz\n",
      "Loaded cached matrix from matrix_cache/duplication_matrix_hh_N=10.npz\n",
      "Loaded cached matrix from matrix_cache/duplication_matrix_hh_N=10.npz\n"
     ]
    },
    {
     "name": "stderr",
     "output_type": "stream",
     "text": [
      "pc_nonsparse_0.999:   1%|          | 108/20000 [00:19<12:15, 27.04it/s] ]"
     ]
    },
    {
     "name": "stdout",
     "output_type": "stream",
     "text": [
      "Loaded cached matrix from matrix_cache/elimination_matrix_hh_N=10.npz\n",
      "Loaded cached matrix from matrix_cache/elimination_matrix_hh_N=10.npz\n",
      "Loaded cached matrix from matrix_cache/elimination_matrix_hh_N=10.npz\n"
     ]
    },
    {
     "name": "stderr",
     "output_type": "stream",
     "text": [
      "pc_nonsparse_0.999:   0%|          | 8/20000 [00:04<2:03:55,  2.69it/s]/s]"
     ]
    },
    {
     "name": "stdout",
     "output_type": "stream",
     "text": [
      "Loaded cached matrix from matrix_cache/duplication_matrix_hh_N=10.npz\n",
      "Loaded cached matrix from matrix_cache/elimination_matrix_hh_N=10.npz\n"
     ]
    },
    {
     "name": "stderr",
     "output_type": "stream",
     "text": [
      "pc_nonsparse_0.999:   0%|          | 10/20000 [00:05<2:21:39,  2.35it/s]]"
     ]
    },
    {
     "name": "stdout",
     "output_type": "stream",
     "text": [
      "Loaded cached matrix from matrix_cache/duplication_matrix_hh_N=10.npz\n"
     ]
    },
    {
     "name": "stderr",
     "output_type": "stream",
     "text": [
      "pc_nonsparse_0.999:   1%|          | 110/20000 [00:24<2:25:17,  2.28it/s]"
     ]
    },
    {
     "name": "stdout",
     "output_type": "stream",
     "text": [
      "Loaded cached matrix from matrix_cache/elimination_matrix_hh_N=10.npz\n",
      "Loaded cached matrix from matrix_cache/duplication_matrix_hh_N=10.npz\n"
     ]
    },
    {
     "name": "stderr",
     "output_type": "stream",
     "text": [
      "pc_nonsparse_0.999:   1%|          | 127/20000 [00:23<53:31,  6.19it/s] ]"
     ]
    },
    {
     "name": "stdout",
     "output_type": "stream",
     "text": [
      "Loaded cached matrix from matrix_cache/elimination_matrix_hh_N=10.npz\n",
      "Loaded cached matrix from matrix_cache/duplication_matrix_hh_N=10.npz\n",
      "Loaded cached matrix from matrix_cache/elimination_matrix_hh_N=10.npz\n"
     ]
    },
    {
     "name": "stderr",
     "output_type": "stream",
     "text": [
      "pc_nonsparse_0.999:   1%|          | 132/20000 [00:27<50:44,  6.53it/s]  "
     ]
    },
    {
     "name": "stdout",
     "output_type": "stream",
     "text": [
      "Loaded cached matrix from matrix_cache/duplication_matrix_hh_N=10.npz\n",
      "Loaded cached matrix from matrix_cache/elimination_matrix_hh_N=10.npz\n"
     ]
    },
    {
     "name": "stderr",
     "output_type": "stream",
     "text": [
      "pc_nonsparse_0.999:   1%|          | 223/20000 [00:36<43:34,  7.56it/s]s] "
     ]
    },
    {
     "name": "stdout",
     "output_type": "stream",
     "text": [
      "Loaded cached matrix from matrix_cache/duplication_matrix_hh_N=10.npz\n"
     ]
    },
    {
     "name": "stderr",
     "output_type": "stream",
     "text": [
      "pc_nonsparse_0.999: 100%|██████████| 20000/20000 [02:00<00:00, 165.30it/s]\n",
      "pc_nonsparse_0.999:   2%|▏         | 403/20000 [00:37<34:45,  9.40it/s]s]"
     ]
    },
    {
     "name": "stdout",
     "output_type": "stream",
     "text": [
      "Loaded cached matrix from matrix_cache/elimination_matrix_hh_N=10.npz\n",
      "Loaded cached matrix from matrix_cache/duplication_matrix_hh_N=10.npz\n",
      "Loaded cached matrix from matrix_cache/elimination_matrix_hh_N=10.npz\n",
      "Loaded cached matrix from matrix_cache/duplication_matrix_hh_N=10.npz\n",
      "Loaded cached matrix from matrix_cache/duplication_matrix_hh_N=10.npz\n",
      "Loaded cached matrix from matrix_cache/elimination_matrix_hh_N=10.npz\n",
      "Loaded cached matrix from matrix_cache/duplication_matrix_hh_N=10.npz\n",
      "Loaded cached matrix from matrix_cache/elimination_matrix_hh_N=10.npz\n",
      "Loaded cached matrix from matrix_cache/duplication_matrix_hh_N=10.npz\n",
      "Loaded cached matrix from matrix_cache/duplication_matrix_hh_N=10.npz\n",
      "Loaded cached matrix from matrix_cache/duplication_matrix_hh_N=10.npz\n",
      "Loaded cached matrix from matrix_cache/elimination_matrix_hh_N=10.npz\n"
     ]
    },
    {
     "name": "stderr",
     "output_type": "stream",
     "text": [
      "pc_nonsparse_0.999:   0%|          | 1/20000 [00:01<5:49:23,  1.05s/it]s]"
     ]
    },
    {
     "name": "stdout",
     "output_type": "stream",
     "text": [
      "Loaded cached matrix from matrix_cache/elimination_matrix_hh_N=10.npz\n",
      "Loaded cached matrix from matrix_cache/elimination_matrix_hh_N=10.npz\n",
      "Loaded cached matrix from matrix_cache/duplication_matrix_hh_N=10.npz\n",
      "Loaded cached matrix from matrix_cache/duplication_matrix_hh_N=10.npz\n",
      "Loaded cached matrix from matrix_cache/duplication_matrix_hh_N=10.npz\n",
      "Loaded cached matrix from matrix_cache/elimination_matrix_hh_N=10.npz\n",
      "Loaded cached matrix from matrix_cache/duplication_matrix_hh_N=10.npz\n",
      "Loaded cached matrix from matrix_cache/elimination_matrix_hh_N=10.npz\n",
      "Loaded cached matrix from matrix_cache/elimination_matrix_hh_N=10.npz\n",
      "Loaded cached matrix from matrix_cache/elimination_matrix_hh_N=10.npz\n",
      "Loaded cached matrix from matrix_cache/duplication_matrix_hh_N=10.npz\n"
     ]
    },
    {
     "name": "stderr",
     "output_type": "stream",
     "text": [
      "pc_nonsparse_0.999:   2%|▏         | 341/20000 [00:20<22:48, 14.37it/s]]]]"
     ]
    },
    {
     "name": "stdout",
     "output_type": "stream",
     "text": [
      "Loaded cached matrix from matrix_cache/duplication_matrix_hh_N=10.npz\n",
      "Loaded cached matrix from matrix_cache/duplication_matrix_hh_N=10.npz\n",
      "Loaded cached matrix from matrix_cache/elimination_matrix_hh_N=10.npz\n",
      "Loaded cached matrix from matrix_cache/duplication_matrix_hh_N=10.npz\n",
      "Loaded cached matrix from matrix_cache/elimination_matrix_hh_N=10.npz\n",
      "Loaded cached matrix from matrix_cache/elimination_matrix_hh_N=10.npz\n",
      "Loaded cached matrix from matrix_cache/duplication_matrix_hh_N=10.npz\n",
      "Loaded cached matrix from matrix_cache/duplication_matrix_hh_N=10.npz\n",
      "Loaded cached matrix from matrix_cache/duplication_matrix_hh_N=10.npz\n",
      "Loaded cached matrix from matrix_cache/duplication_matrix_hh_N=10.npz\n",
      "Loaded cached matrix from matrix_cache/elimination_matrix_hh_N=10.npz\n"
     ]
    },
    {
     "name": "stderr",
     "output_type": "stream",
     "text": [
      "pc_nonsparse_0.999:   1%|▏         | 263/20000 [00:48<46:30,  7.07it/s]s]"
     ]
    },
    {
     "name": "stdout",
     "output_type": "stream",
     "text": [
      "Loaded cached matrix from matrix_cache/elimination_matrix_hh_N=10.npz\n",
      "Loaded cached matrix from matrix_cache/duplication_matrix_hh_N=10.npz\n",
      "Loaded cached matrix from matrix_cache/elimination_matrix_hh_N=10.npz\n",
      "Loaded cached matrix from matrix_cache/elimination_matrix_hh_N=10.npz\n"
     ]
    },
    {
     "name": "stderr",
     "output_type": "stream",
     "text": [
      "pc_nonsparse_0.999:   2%|▏         | 424/20000 [00:42<1:02:22,  5.23it/s]"
     ]
    },
    {
     "name": "stdout",
     "output_type": "stream",
     "text": [
      "Loaded cached matrix from matrix_cache/duplication_matrix_hh_N=10.npz\n",
      "Loaded cached matrix from matrix_cache/elimination_matrix_hh_N=10.npz\n",
      "Loaded cached matrix from matrix_cache/elimination_matrix_hh_N=10.npz\n",
      "Loaded cached matrix from matrix_cache/elimination_matrix_hh_N=10.npz\n",
      "Loaded cached matrix from matrix_cache/elimination_matrix_hh_N=10.npz\n",
      "Loaded cached matrix from matrix_cache/duplication_matrix_hh_N=10.npz\n",
      "Loaded cached matrix from matrix_cache/duplication_matrix_hh_N=10.npz\n",
      "Loaded cached matrix from matrix_cache/duplication_matrix_hh_N=10.npz\n",
      "Loaded cached matrix from matrix_cache/elimination_matrix_hh_N=10.npz\n"
     ]
    },
    {
     "name": "stderr",
     "output_type": "stream",
     "text": [
      "pc_nonsparse_0.999:   0%|          | 26/20000 [00:07<1:20:43,  4.12it/s]] "
     ]
    },
    {
     "name": "stdout",
     "output_type": "stream",
     "text": [
      "Loaded cached matrix from matrix_cache/elimination_matrix_hh_N=10.npz\n",
      "Loaded cached matrix from matrix_cache/elimination_matrix_hh_N=10.npz\n",
      "Loaded cached matrix from matrix_cache/duplication_matrix_hh_N=10.npz\n",
      "Loaded cached matrix from matrix_cache/elimination_matrix_hh_N=10.npz\n",
      "Loaded cached matrix from matrix_cache/duplication_matrix_hh_N=10.npz\n",
      "Loaded cached matrix from matrix_cache/elimination_matrix_hh_N=10.npz\n"
     ]
    },
    {
     "name": "stderr",
     "output_type": "stream",
     "text": [
      "pc_nonsparse_0.999:   0%|          | 20/20000 [00:02<36:19,  9.17it/s]]] "
     ]
    },
    {
     "name": "stdout",
     "output_type": "stream",
     "text": [
      "Loaded cached matrix from matrix_cache/duplication_matrix_hh_N=10.npz\n",
      "Loaded cached matrix from matrix_cache/duplication_matrix_hh_N=10.npz\n",
      "Loaded cached matrix from matrix_cache/elimination_matrix_hh_N=10.npz\n",
      "Loaded cached matrix from matrix_cache/elimination_matrix_hh_N=10.npz\n",
      "Loaded cached matrix from matrix_cache/duplication_matrix_hh_N=10.npz\n",
      "Loaded cached matrix from matrix_cache/elimination_matrix_hh_N=10.npz\n"
     ]
    },
    {
     "name": "stderr",
     "output_type": "stream",
     "text": [
      "pc_nonsparse_0.999:   1%|          | 202/20000 [00:22<12:22, 26.65it/s]]]"
     ]
    },
    {
     "name": "stdout",
     "output_type": "stream",
     "text": [
      "Loaded cached matrix from matrix_cache/duplication_matrix_hh_N=10.npz\n",
      "Loaded cached matrix from matrix_cache/elimination_matrix_hh_N=10.npz\n",
      "Loaded cached matrix from matrix_cache/duplication_matrix_hh_N=10.npz\n",
      "Loaded cached matrix from matrix_cache/elimination_matrix_hh_N=10.npz\n",
      "Loaded cached matrix from matrix_cache/duplication_matrix_hh_N=10.npz\n",
      "Loaded cached matrix from matrix_cache/elimination_matrix_hh_N=10.npz\n"
     ]
    },
    {
     "name": "stderr",
     "output_type": "stream",
     "text": [
      "pc_nonsparse_0.999:   3%|▎         | 621/20000 [00:37<05:04, 63.74it/s]]]"
     ]
    },
    {
     "name": "stdout",
     "output_type": "stream",
     "text": [
      "Loaded cached matrix from matrix_cache/duplication_matrix_hh_N=10.npz\n"
     ]
    },
    {
     "name": "stderr",
     "output_type": "stream",
     "text": [
      "pc_nonsparse_0.999:   1%|▏         | 276/20000 [00:33<29:47, 11.04it/s]s]"
     ]
    },
    {
     "name": "stdout",
     "output_type": "stream",
     "text": [
      "Loaded cached matrix from matrix_cache/elimination_matrix_hh_N=10.npz\n",
      "Loaded cached matrix from matrix_cache/duplication_matrix_hh_N=10.npz\n",
      "Loaded cached matrix from matrix_cache/elimination_matrix_hh_N=10.npz\n"
     ]
    },
    {
     "name": "stderr",
     "output_type": "stream",
     "text": [
      "pc_nonsparse_0.999:   0%|          | 53/20000 [00:02<07:29, 44.38it/s]]]]"
     ]
    },
    {
     "name": "stdout",
     "output_type": "stream",
     "text": [
      "Loaded cached matrix from matrix_cache/duplication_matrix_hh_N=10.npz\n",
      "Loaded cached matrix from matrix_cache/duplication_matrix_hh_N=10.npz\n"
     ]
    },
    {
     "name": "stderr",
     "output_type": "stream",
     "text": [
      "pc_nonsparse_0.999:   0%|          | 68/20000 [00:03<10:15, 32.36it/s]]] "
     ]
    },
    {
     "name": "stdout",
     "output_type": "stream",
     "text": [
      "Loaded cached matrix from matrix_cache/elimination_matrix_hh_N=10.npz\n",
      "Loaded cached matrix from matrix_cache/elimination_matrix_hh_N=10.npz\n"
     ]
    },
    {
     "name": "stderr",
     "output_type": "stream",
     "text": [
      "pc_nonsparse_0.999:   2%|▏         | 339/20000 [00:10<06:41, 48.97it/s]]]"
     ]
    },
    {
     "name": "stdout",
     "output_type": "stream",
     "text": [
      "Loaded cached matrix from matrix_cache/duplication_matrix_hh_N=10.npz\n",
      "Loaded cached matrix from matrix_cache/elimination_matrix_hh_N=10.npz\n",
      "Loaded cached matrix from matrix_cache/duplication_matrix_hh_N=10.npz\n",
      "Loaded cached matrix from matrix_cache/elimination_matrix_hh_N=10.npz\n"
     ]
    },
    {
     "name": "stderr",
     "output_type": "stream",
     "text": [
      "pc_nonsparse_0.999:  59%|█████▊    | 11718/20000 [01:52<04:42, 29.28it/s]"
     ]
    },
    {
     "name": "stdout",
     "output_type": "stream",
     "text": [
      "Loaded cached matrix from matrix_cache/duplication_matrix_hh_N=10.npz\n",
      "Loaded cached matrix from matrix_cache/duplication_matrix_hh_N=10.npz\n"
     ]
    },
    {
     "name": "stderr",
     "output_type": "stream",
     "text": [
      "pc_nonsparse_0.999:  60%|█████▉    | 11955/20000 [01:53<00:54, 147.51it/s]"
     ]
    },
    {
     "name": "stdout",
     "output_type": "stream",
     "text": [
      "Loaded cached matrix from matrix_cache/elimination_matrix_hh_N=10.npz\n",
      "Loaded cached matrix from matrix_cache/duplication_matrix_hh_N=10.npz\n",
      "Loaded cached matrix from matrix_cache/elimination_matrix_hh_N=10.npz\n",
      "Loaded cached matrix from matrix_cache/duplication_matrix_hh_N=10.npz\n"
     ]
    },
    {
     "name": "stderr",
     "output_type": "stream",
     "text": [
      "pc_nonsparse_0.999:   3%|▎         | 688/20000 [00:20<06:20, 50.76it/s]]] "
     ]
    },
    {
     "name": "stdout",
     "output_type": "stream",
     "text": [
      "Loaded cached matrix from matrix_cache/elimination_matrix_hh_N=10.npz\n",
      "Loaded cached matrix from matrix_cache/duplication_matrix_hh_N=10.npz\n",
      "Loaded cached matrix from matrix_cache/elimination_matrix_hh_N=10.npz\n",
      "Loaded cached matrix from matrix_cache/duplication_matrix_hh_N=10.npz\n",
      "Loaded cached matrix from matrix_cache/duplication_matrix_hh_N=10.npz\n",
      "Loaded cached matrix from matrix_cache/elimination_matrix_hh_N=10.npz\n",
      "Loaded cached matrix from matrix_cache/elimination_matrix_hh_N=10.npz\n",
      "Loaded cached matrix from matrix_cache/duplication_matrix_hh_N=10.npz\n",
      "Loaded cached matrix from matrix_cache/elimination_matrix_hh_N=10.npz\n",
      "Loaded cached matrix from matrix_cache/duplication_matrix_hh_N=10.npz\n",
      "Loaded cached matrix from matrix_cache/elimination_matrix_hh_N=10.npz\n",
      "Loaded cached matrix from matrix_cache/elimination_matrix_hh_N=10.npz\n",
      "Loaded cached matrix from matrix_cache/duplication_matrix_hh_N=10.npz\n",
      "Loaded cached matrix from matrix_cache/duplication_matrix_hh_N=10.npz\n",
      "Loaded cached matrix from matrix_cache/duplication_matrix_hh_N=10.npz\n",
      "Loaded cached matrix from matrix_cache/duplication_matrix_hh_N=10.npz\n",
      "Loaded cached matrix from matrix_cache/elimination_matrix_hh_N=10.npz\n",
      "Loaded cached matrix from matrix_cache/duplication_matrix_hh_N=10.npz\n",
      "Loaded cached matrix from matrix_cache/duplication_matrix_hh_N=10.npz\n",
      "Loaded cached matrix from matrix_cache/elimination_matrix_hh_N=10.npz\n",
      "Loaded cached matrix from matrix_cache/duplication_matrix_hh_N=10.npz\n",
      "Loaded cached matrix from matrix_cache/elimination_matrix_hh_N=10.npz\n",
      "Loaded cached matrix from matrix_cache/duplication_matrix_hh_N=10.npz\n",
      "Loaded cached matrix from matrix_cache/elimination_matrix_hh_N=10.npz\n",
      "Loaded cached matrix from matrix_cache/duplication_matrix_hh_N=10.npz\n",
      "Loaded cached matrix from matrix_cache/elimination_matrix_hh_N=10.npz\n",
      "Loaded cached matrix from matrix_cache/elimination_matrix_hh_N=10.npz\n",
      "Loaded cached matrix from matrix_cache/elimination_matrix_hh_N=10.npz\n",
      "Loaded cached matrix from matrix_cache/duplication_matrix_hh_N=10.npz\n",
      "Loaded cached matrix from matrix_cache/duplication_matrix_hh_N=10.npz\n",
      "Loaded cached matrix from matrix_cache/elimination_matrix_hh_N=10.npz\n",
      "Loaded cached matrix from matrix_cache/duplication_matrix_hh_N=10.npz\n",
      "Loaded cached matrix from matrix_cache/elimination_matrix_hh_N=10.npz\n",
      "Loaded cached matrix from matrix_cache/duplication_matrix_hh_N=10.npz\n",
      "Loaded cached matrix from matrix_cache/elimination_matrix_hh_N=10.npz\n",
      "Loaded cached matrix from matrix_cache/elimination_matrix_hh_N=10.npz\n",
      "Loaded cached matrix from matrix_cache/duplication_matrix_hh_N=10.npz\n",
      "Loaded cached matrix from matrix_cache/duplication_matrix_hh_N=10.npz\n",
      "Loaded cached matrix from matrix_cache/duplication_matrix_hh_N=10.npz\n",
      "Loaded cached matrix from matrix_cache/elimination_matrix_hh_N=10.npz\n",
      "Loaded cached matrix from matrix_cache/elimination_matrix_hh_N=10.npz\n",
      "Loaded cached matrix from matrix_cache/duplication_matrix_hh_N=10.npz\n",
      "Loaded cached matrix from matrix_cache/elimination_matrix_hh_N=10.npz\n",
      "Loaded cached matrix from matrix_cache/duplication_matrix_hh_N=10.npz\n",
      "Loaded cached matrix from matrix_cache/elimination_matrix_hh_N=10.npz\n",
      "Loaded cached matrix from matrix_cache/duplication_matrix_hh_N=10.npz\n",
      "Loaded cached matrix from matrix_cache/elimination_matrix_hh_N=10.npz\n",
      "Loaded cached matrix from matrix_cache/duplication_matrix_hh_N=10.npz\n",
      "Loaded cached matrix from matrix_cache/duplication_matrix_hh_N=10.npz\n",
      "Loaded cached matrix from matrix_cache/duplication_matrix_hh_N=10.npz\n",
      "Loaded cached matrix from matrix_cache/elimination_matrix_hh_N=10.npz\n",
      "Loaded cached matrix from matrix_cache/duplication_matrix_hh_N=10.npz\n",
      "Loaded cached matrix from matrix_cache/duplication_matrix_hh_N=10.npz\n"
     ]
    },
    {
     "name": "stderr",
     "output_type": "stream",
     "text": [
      "pc_nonsparse_0.999:   2%|▏         | 375/20000 [00:24<12:26, 26.30it/s]s]"
     ]
    },
    {
     "name": "stdout",
     "output_type": "stream",
     "text": [
      "Loaded cached matrix from matrix_cache/duplication_matrix_hh_N=10.npz\n",
      "Loaded cached matrix from matrix_cache/elimination_matrix_hh_N=10.npz\n",
      "Loaded cached matrix from matrix_cache/elimination_matrix_hh_N=10.npz\n",
      "Loaded cached matrix from matrix_cache/duplication_matrix_hh_N=10.npz\n",
      "Loaded cached matrix from matrix_cache/elimination_matrix_hh_N=10.npz\n",
      "Loaded cached matrix from matrix_cache/duplication_matrix_hh_N=10.npz\n",
      "Loaded cached matrix from matrix_cache/duplication_matrix_hh_N=10.npz\n",
      "Loaded cached matrix from matrix_cache/elimination_matrix_hh_N=10.npz\n",
      "Loaded cached matrix from matrix_cache/elimination_matrix_hh_N=10.npz\n",
      "Loaded cached matrix from matrix_cache/duplication_matrix_hh_N=10.npz\n",
      "Loaded cached matrix from matrix_cache/elimination_matrix_hh_N=10.npz\n",
      "Loaded cached matrix from matrix_cache/elimination_matrix_hh_N=10.npz\n",
      "Loaded cached matrix from matrix_cache/elimination_matrix_hh_N=10.npz\n",
      "Loaded cached matrix from matrix_cache/duplication_matrix_hh_N=10.npz\n",
      "Loaded cached matrix from matrix_cache/elimination_matrix_hh_N=10.npz\n",
      "Loaded cached matrix from matrix_cache/elimination_matrix_hh_N=10.npz\n",
      "Loaded cached matrix from matrix_cache/elimination_matrix_hh_N=10.npz\n",
      "Loaded cached matrix from matrix_cache/duplication_matrix_hh_N=10.npz\n",
      "Loaded cached matrix from matrix_cache/duplication_matrix_hh_N=10.npz\n",
      "Loaded cached matrix from matrix_cache/elimination_matrix_hh_N=10.npz\n",
      "Loaded cached matrix from matrix_cache/duplication_matrix_hh_N=10.npz\n",
      "Loaded cached matrix from matrix_cache/duplication_matrix_hh_N=10.npz\n",
      "Loaded cached matrix from matrix_cache/duplication_matrix_hh_N=10.npz\n",
      "Loaded cached matrix from matrix_cache/elimination_matrix_hh_N=10.npz\n",
      "Loaded cached matrix from matrix_cache/elimination_matrix_hh_N=10.npz\n",
      "Loaded cached matrix from matrix_cache/duplication_matrix_hh_N=10.npz\n",
      "Loaded cached matrix from matrix_cache/elimination_matrix_hh_N=10.npz\n",
      "Loaded cached matrix from matrix_cache/duplication_matrix_hh_N=10.npz\n",
      "Loaded cached matrix from matrix_cache/duplication_matrix_hh_N=10.npz\n",
      "Loaded cached matrix from matrix_cache/elimination_matrix_hh_N=10.npz\n",
      "Loaded cached matrix from matrix_cache/elimination_matrix_hh_N=10.npz\n",
      "Loaded cached matrix from matrix_cache/duplication_matrix_hh_N=10.npz\n",
      "Loaded cached matrix from matrix_cache/elimination_matrix_hh_N=10.npz\n",
      "Loaded cached matrix from matrix_cache/duplication_matrix_hh_N=10.npz\n",
      "Loaded cached matrix from matrix_cache/duplication_matrix_hh_N=10.npz\n",
      "Loaded cached matrix from matrix_cache/elimination_matrix_hh_N=10.npz\n",
      "Loaded cached matrix from matrix_cache/duplication_matrix_hh_N=10.npz\n",
      "Loaded cached matrix from matrix_cache/elimination_matrix_hh_N=10.npz\n",
      "Loaded cached matrix from matrix_cache/elimination_matrix_hh_N=10.npz\n",
      "Loaded cached matrix from matrix_cache/elimination_matrix_hh_N=10.npz\n",
      "Loaded cached matrix from matrix_cache/duplication_matrix_hh_N=10.npz\n",
      "Loaded cached matrix from matrix_cache/duplication_matrix_hh_N=10.npz\n",
      "Loaded cached matrix from matrix_cache/elimination_matrix_hh_N=10.npz\n",
      "Loaded cached matrix from matrix_cache/duplication_matrix_hh_N=10.npz\n",
      "Loaded cached matrix from matrix_cache/elimination_matrix_hh_N=10.npz\n",
      "Loaded cached matrix from matrix_cache/duplication_matrix_hh_N=10.npz\n",
      "Loaded cached matrix from matrix_cache/duplication_matrix_hh_N=10.npz\n",
      "Loaded cached matrix from matrix_cache/elimination_matrix_hh_N=10.npz\n",
      "Loaded cached matrix from matrix_cache/duplication_matrix_hh_N=10.npz\n",
      "Loaded cached matrix from matrix_cache/elimination_matrix_hh_N=10.npz\n",
      "Loaded cached matrix from matrix_cache/elimination_matrix_hh_N=10.npz\n",
      "Loaded cached matrix from matrix_cache/elimination_matrix_hh_N=10.npz\n",
      "Loaded cached matrix from matrix_cache/duplication_matrix_hh_N=10.npz\n",
      "Loaded cached matrix from matrix_cache/elimination_matrix_hh_N=10.npz\n",
      "Loaded cached matrix from matrix_cache/duplication_matrix_hh_N=10.npz\n",
      "Loaded cached matrix from matrix_cache/duplication_matrix_hh_N=10.npz\n",
      "Loaded cached matrix from matrix_cache/elimination_matrix_hh_N=10.npz\n",
      "Loaded cached matrix from matrix_cache/duplication_matrix_hh_N=10.npz\n",
      "Loaded cached matrix from matrix_cache/elimination_matrix_hh_N=10.npz\n",
      "Loaded cached matrix from matrix_cache/duplication_matrix_hh_N=10.npz\n",
      "Loaded cached matrix from matrix_cache/duplication_matrix_hh_N=10.npz\n",
      "Loaded cached matrix from matrix_cache/elimination_matrix_hh_N=10.npz\n",
      "Loaded cached matrix from matrix_cache/elimination_matrix_hh_N=10.npz\n",
      "Loaded cached matrix from matrix_cache/duplication_matrix_hh_N=10.npz\n",
      "Loaded cached matrix from matrix_cache/duplication_matrix_hh_N=10.npz\n",
      "Loaded cached matrix from matrix_cache/elimination_matrix_hh_N=10.npz\n",
      "Loaded cached matrix from matrix_cache/elimination_matrix_hh_N=10.npz\n",
      "Loaded cached matrix from matrix_cache/elimination_matrix_hh_N=10.npz\n",
      "Loaded cached matrix from matrix_cache/duplication_matrix_hh_N=10.npz\n",
      "Loaded cached matrix from matrix_cache/elimination_matrix_hh_N=10.npz\n"
     ]
    },
    {
     "name": "stderr",
     "output_type": "stream",
     "text": [
      "pc_nonsparse_0.999:   0%|          | 3/20000 [00:02<3:53:04,  1.43it/s]] "
     ]
    },
    {
     "name": "stdout",
     "output_type": "stream",
     "text": [
      "Loaded cached matrix from matrix_cache/duplication_matrix_hh_N=10.npz\n",
      "Loaded cached matrix from matrix_cache/duplication_matrix_hh_N=10.npz\n",
      "Loaded cached matrix from matrix_cache/duplication_matrix_hh_N=10.npz\n",
      "Loaded cached matrix from matrix_cache/duplication_matrix_hh_N=10.npz\n",
      "Loaded cached matrix from matrix_cache/elimination_matrix_hh_N=10.npz\n",
      "Loaded cached matrix from matrix_cache/duplication_matrix_hh_N=10.npz\n",
      "Loaded cached matrix from matrix_cache/duplication_matrix_hh_N=10.npz\n",
      "Loaded cached matrix from matrix_cache/elimination_matrix_hh_N=10.npz\n",
      "Loaded cached matrix from matrix_cache/duplication_matrix_hh_N=10.npz\n",
      "Loaded cached matrix from matrix_cache/duplication_matrix_hh_N=10.npz\n",
      "Loaded cached matrix from matrix_cache/elimination_matrix_hh_N=10.npz\n",
      "Loaded cached matrix from matrix_cache/duplication_matrix_hh_N=10.npz\n",
      "Loaded cached matrix from matrix_cache/elimination_matrix_hh_N=10.npz\n",
      "Loaded cached matrix from matrix_cache/elimination_matrix_hh_N=10.npz\n",
      "Loaded cached matrix from matrix_cache/duplication_matrix_hh_N=10.npz\n",
      "Loaded cached matrix from matrix_cache/elimination_matrix_hh_N=10.npz\n",
      "Loaded cached matrix from matrix_cache/elimination_matrix_hh_N=10.npz\n",
      "Loaded cached matrix from matrix_cache/elimination_matrix_hh_N=10.npz\n",
      "Loaded cached matrix from matrix_cache/elimination_matrix_hh_N=10.npz\n",
      "Loaded cached matrix from matrix_cache/elimination_matrix_hh_N=10.npz\n",
      "Loaded cached matrix from matrix_cache/elimination_matrix_hh_N=10.npz\n",
      "Loaded cached matrix from matrix_cache/duplication_matrix_hh_N=10.npz\n",
      "Loaded cached matrix from matrix_cache/duplication_matrix_hh_N=10.npz\n",
      "Loaded cached matrix from matrix_cache/duplication_matrix_hh_N=10.npz\n",
      "Loaded cached matrix from matrix_cache/elimination_matrix_hh_N=10.npz\n",
      "Loaded cached matrix from matrix_cache/elimination_matrix_hh_N=10.npz\n",
      "Loaded cached matrix from matrix_cache/elimination_matrix_hh_N=10.npz\n",
      "Loaded cached matrix from matrix_cache/elimination_matrix_hh_N=10.npz\n",
      "Loaded cached matrix from matrix_cache/duplication_matrix_hh_N=10.npz\n",
      "Loaded cached matrix from matrix_cache/duplication_matrix_hh_N=10.npz\n",
      "Loaded cached matrix from matrix_cache/elimination_matrix_hh_N=10.npz\n",
      "Loaded cached matrix from matrix_cache/elimination_matrix_hh_N=10.npz\n",
      "Loaded cached matrix from matrix_cache/duplication_matrix_hh_N=10.npz\n",
      "Loaded cached matrix from matrix_cache/elimination_matrix_hh_N=10.npz\n",
      "Loaded cached matrix from matrix_cache/duplication_matrix_hh_N=10.npz\n",
      "Loaded cached matrix from matrix_cache/duplication_matrix_hh_N=10.npz\n",
      "Loaded cached matrix from matrix_cache/duplication_matrix_hh_N=10.npz\n",
      "Loaded cached matrix from matrix_cache/elimination_matrix_hh_N=10.npz\n",
      "Loaded cached matrix from matrix_cache/elimination_matrix_hh_N=10.npz\n",
      "Loaded cached matrix from matrix_cache/duplication_matrix_hh_N=10.npz\n",
      "Loaded cached matrix from matrix_cache/duplication_matrix_hh_N=10.npz\n",
      "Loaded cached matrix from matrix_cache/elimination_matrix_hh_N=10.npz\n",
      "Loaded cached matrix from matrix_cache/elimination_matrix_hh_N=10.npz\n",
      "Loaded cached matrix from matrix_cache/elimination_matrix_hh_N=10.npz\n",
      "Loaded cached matrix from matrix_cache/duplication_matrix_hh_N=10.npz\n",
      "Loaded cached matrix from matrix_cache/elimination_matrix_hh_N=10.npz\n",
      "Loaded cached matrix from matrix_cache/duplication_matrix_hh_N=10.npz\n",
      "Loaded cached matrix from matrix_cache/elimination_matrix_hh_N=10.npz\n",
      "Loaded cached matrix from matrix_cache/duplication_matrix_hh_N=10.npz\n",
      "Loaded cached matrix from matrix_cache/duplication_matrix_hh_N=10.npz\n",
      "Loaded cached matrix from matrix_cache/elimination_matrix_hh_N=10.npz\n",
      "Loaded cached matrix from matrix_cache/elimination_matrix_hh_N=10.npz\n",
      "Loaded cached matrix from matrix_cache/duplication_matrix_hh_N=10.npz\n",
      "Loaded cached matrix from matrix_cache/elimination_matrix_hh_N=10.npz\n",
      "Loaded cached matrix from matrix_cache/duplication_matrix_hh_N=10.npz\n",
      "Loaded cached matrix from matrix_cache/elimination_matrix_hh_N=10.npz\n"
     ]
    },
    {
     "name": "stderr",
     "output_type": "stream",
     "text": [
      "pc_nonsparse_0.999:   1%|          | 203/20000 [00:09<06:19, 52.18it/s]]]"
     ]
    },
    {
     "name": "stdout",
     "output_type": "stream",
     "text": [
      "Loaded cached matrix from matrix_cache/duplication_matrix_hh_N=10.npz\n",
      "Loaded cached matrix from matrix_cache/elimination_matrix_hh_N=10.npz\n",
      "Loaded cached matrix from matrix_cache/duplication_matrix_hh_N=10.npz\n"
     ]
    },
    {
     "name": "stderr",
     "output_type": "stream",
     "text": [
      "pc_nonsparse_0.999:   0%|          | 46/2000 [00:01<2:47:48,  1.99it/s]]]"
     ]
    },
    {
     "name": "stdout",
     "output_type": "stream",
     "text": [
      "Loaded cached matrix from matrix_cache/elimination_matrix_hh_N=10.npz\n",
      "Loaded cached matrix from matrix_cache/duplication_matrix_hh_N=10.npz\n",
      "Loaded cached matrix from matrix_cache/elimination_matrix_hh_N=10.npz\n",
      "Loaded cached matrix from matrix_cache/duplication_matrix_hh_N=10.npz\n",
      "Loaded cached matrix from matrix_cache/elimination_matrix_hh_N=10.npz\n",
      "Loaded cached matrix from matrix_cache/elimination_matrix_hh_N=10.npz\n",
      "Loaded cached matrix from matrix_cache/duplication_matrix_hh_N=10.npz\n",
      "Loaded cached matrix from matrix_cache/elimination_matrix_hh_N=10.npz\n",
      "Loaded cached matrix from matrix_cache/duplication_matrix_hh_N=10.npz\n",
      "Loaded cached matrix from matrix_cache/elimination_matrix_hh_N=10.npz\n",
      "Loaded cached matrix from matrix_cache/duplication_matrix_hh_N=10.npz\n",
      "Loaded cached matrix from matrix_cache/elimination_matrix_hh_N=10.npz\n",
      "Loaded cached matrix from matrix_cache/duplication_matrix_hh_N=10.npz\n",
      "Loaded cached matrix from matrix_cache/elimination_matrix_hh_N=10.npz\n"
     ]
    },
    {
     "name": "stderr",
     "output_type": "stream",
     "text": [
      "pc_nonsparse_0.999:   0%|          | 43/20000 [00:06<36:00,  9.24it/s]]] "
     ]
    },
    {
     "name": "stdout",
     "output_type": "stream",
     "text": [
      "Loaded cached matrix from matrix_cache/duplication_matrix_hh_N=10.npz\n",
      "Loaded cached matrix from matrix_cache/duplication_matrix_hh_N=10.npz\n",
      "Loaded cached matrix from matrix_cache/duplication_matrix_hh_N=10.npz\n",
      "Loaded cached matrix from matrix_cache/elimination_matrix_hh_N=10.npz\n",
      "Loaded cached matrix from matrix_cache/duplication_matrix_hh_N=10.npz\n",
      "Loaded cached matrix from matrix_cache/elimination_matrix_hh_N=10.npz\n",
      "Loaded cached matrix from matrix_cache/duplication_matrix_hh_N=10.npz\n",
      "Loaded cached matrix from matrix_cache/duplication_matrix_hh_N=10.npz\n",
      "Loaded cached matrix from matrix_cache/duplication_matrix_hh_N=10.npz\n",
      "Loaded cached matrix from matrix_cache/duplication_matrix_hh_N=10.npz\n",
      "Loaded cached matrix from matrix_cache/duplication_matrix_hh_N=10.npz\n",
      "Loaded cached matrix from matrix_cache/elimination_matrix_hh_N=10.npz\n",
      "Loaded cached matrix from matrix_cache/duplication_matrix_hh_N=10.npz\n",
      "Loaded cached matrix from matrix_cache/duplication_matrix_hh_N=10.npz\n",
      "Loaded cached matrix from matrix_cache/duplication_matrix_hh_N=10.npz\n",
      "Loaded cached matrix from matrix_cache/elimination_matrix_hh_N=10.npz\n",
      "Loaded cached matrix from matrix_cache/elimination_matrix_hh_N=10.npz\n",
      "Loaded cached matrix from matrix_cache/duplication_matrix_hh_N=10.npz\n",
      "Loaded cached matrix from matrix_cache/duplication_matrix_hh_N=10.npz\n",
      "Loaded cached matrix from matrix_cache/elimination_matrix_hh_N=10.npz\n",
      "Loaded cached matrix from matrix_cache/elimination_matrix_hh_N=10.npz\n",
      "Loaded cached matrix from matrix_cache/elimination_matrix_hh_N=10.npz\n",
      "Loaded cached matrix from matrix_cache/duplication_matrix_hh_N=10.npz\n",
      "Loaded cached matrix from matrix_cache/elimination_matrix_hh_N=10.npz\n",
      "Loaded cached matrix from matrix_cache/duplication_matrix_hh_N=10.npz\n",
      "Loaded cached matrix from matrix_cache/elimination_matrix_hh_N=10.npz\n",
      "Loaded cached matrix from matrix_cache/elimination_matrix_hh_N=10.npz\n",
      "Loaded cached matrix from matrix_cache/elimination_matrix_hh_N=10.npz\n",
      "Loaded cached matrix from matrix_cache/duplication_matrix_hh_N=10.npz\n",
      "Loaded cached matrix from matrix_cache/elimination_matrix_hh_N=10.npz\n",
      "Loaded cached matrix from matrix_cache/duplication_matrix_hh_N=10.npz\n",
      "Loaded cached matrix from matrix_cache/elimination_matrix_hh_N=10.npz\n",
      "Loaded cached matrix from matrix_cache/elimination_matrix_hh_N=10.npz\n",
      "Loaded cached matrix from matrix_cache/elimination_matrix_hh_N=10.npz\n",
      "Loaded cached matrix from matrix_cache/duplication_matrix_hh_N=10.npz\n",
      "Loaded cached matrix from matrix_cache/elimination_matrix_hh_N=10.npz\n",
      "Loaded cached matrix from matrix_cache/elimination_matrix_hh_N=10.npz\n",
      "Loaded cached matrix from matrix_cache/duplication_matrix_hh_N=10.npz\n",
      "Loaded cached matrix from matrix_cache/duplication_matrix_hh_N=10.npz\n",
      "Loaded cached matrix from matrix_cache/elimination_matrix_hh_N=10.npz\n",
      "Loaded cached matrix from matrix_cache/duplication_matrix_hh_N=10.npz\n",
      "Loaded cached matrix from matrix_cache/duplication_matrix_hh_N=10.npz\n",
      "Loaded cached matrix from matrix_cache/elimination_matrix_hh_N=10.npz\n",
      "Loaded cached matrix from matrix_cache/elimination_matrix_hh_N=10.npz\n",
      "Loaded cached matrix from matrix_cache/duplication_matrix_hh_N=10.npz\n",
      "Loaded cached matrix from matrix_cache/duplication_matrix_hh_N=10.npz\n",
      "Loaded cached matrix from matrix_cache/duplication_matrix_hh_N=10.npz\n",
      "Loaded cached matrix from matrix_cache/duplication_matrix_hh_N=10.npz\n",
      "Loaded cached matrix from matrix_cache/elimination_matrix_hh_N=10.npz\n",
      "Loaded cached matrix from matrix_cache/elimination_matrix_hh_N=10.npz\n",
      "Loaded cached matrix from matrix_cache/duplication_matrix_hh_N=10.npz\n",
      "Loaded cached matrix from matrix_cache/duplication_matrix_hh_N=10.npz\n",
      "Loaded cached matrix from matrix_cache/elimination_matrix_hh_N=10.npz\n",
      "Loaded cached matrix from matrix_cache/elimination_matrix_hh_N=10.npz\n",
      "Loaded cached matrix from matrix_cache/duplication_matrix_hh_N=10.npz\n",
      "Loaded cached matrix from matrix_cache/elimination_matrix_hh_N=10.npz\n",
      "Loaded cached matrix from matrix_cache/elimination_matrix_hh_N=10.npz\n",
      "Loaded cached matrix from matrix_cache/duplication_matrix_hh_N=10.npz\n",
      "Loaded cached matrix from matrix_cache/duplication_matrix_hh_N=10.npz\n",
      "Loaded cached matrix from matrix_cache/elimination_matrix_hh_N=10.npz\n",
      "Loaded cached matrix from matrix_cache/elimination_matrix_hh_N=10.npz\n",
      "Loaded cached matrix from matrix_cache/elimination_matrix_hh_N=10.npz\n",
      "Loaded cached matrix from matrix_cache/duplication_matrix_hh_N=10.npz\n"
     ]
    },
    {
     "name": "stderr",
     "output_type": "stream",
     "text": [
      "pc_nonsparse_0.999:   1%|          | 126/20000 [00:10<38:14,  8.66itt/s]]]"
     ]
    },
    {
     "name": "stdout",
     "output_type": "stream",
     "text": [
      "Loaded cached matrix from matrix_cache/elimination_matrix_hh_N=10.npz\n",
      "Loaded cached matrix from matrix_cache/duplication_matrix_hh_N=10.npz\n",
      "Loaded cached matrix from matrix_cache/elimination_matrix_hh_N=10.npz\n",
      "Loaded cached matrix from matrix_cache/duplication_matrix_hh_N=10.npz\n",
      "Loaded cached matrix from matrix_cache/elimination_matrix_hh_N=10.npz\n",
      "Loaded cached matrix from matrix_cache/duplication_matrix_hh_N=10.npz\n",
      "Loaded cached matrix from matrix_cache/elimination_matrix_hh_N=10.npz\n",
      "Loaded cached matrix from matrix_cache/elimination_matrix_hh_N=10.npz\n",
      "Loaded cached matrix from matrix_cache/elimination_matrix_hh_N=10.npz\n",
      "Loaded cached matrix from matrix_cache/duplication_matrix_hh_N=10.npz\n",
      "Loaded cached matrix from matrix_cache/elimination_matrix_hh_N=10.npz\n",
      "Loaded cached matrix from matrix_cache/duplication_matrix_hh_N=10.npz\n",
      "Loaded cached matrix from matrix_cache/elimination_matrix_hh_N=10.npz\n",
      "Loaded cached matrix from matrix_cache/duplication_matrix_hh_N=10.npz\n",
      "Loaded cached matrix from matrix_cache/elimination_matrix_hh_N=10.npz\n",
      "Loaded cached matrix from matrix_cache/duplication_matrix_hh_N=10.npz\n",
      "Loaded cached matrix from matrix_cache/elimination_matrix_hh_N=10.npz\n",
      "Loaded cached matrix from matrix_cache/duplication_matrix_hh_N=10.npz\n",
      "Loaded cached matrix from matrix_cache/elimination_matrix_hh_N=10.npz\n",
      "Loaded cached matrix from matrix_cache/duplication_matrix_hh_N=10.npz\n",
      "Loaded cached matrix from matrix_cache/elimination_matrix_hh_N=10.npz\n",
      "Loaded cached matrix from matrix_cache/duplication_matrix_hh_N=10.npz\n",
      "Loaded cached matrix from matrix_cache/elimination_matrix_hh_N=10.npz\n",
      "Loaded cached matrix from matrix_cache/duplication_matrix_hh_N=10.npz\n",
      "Loaded cached matrix from matrix_cache/elimination_matrix_hh_N=10.npz\n",
      "Loaded cached matrix from matrix_cache/duplication_matrix_hh_N=10.npz\n",
      "Loaded cached matrix from matrix_cache/elimination_matrix_hh_N=10.npz\n",
      "Loaded cached matrix from matrix_cache/duplication_matrix_hh_N=10.npz\n",
      "Loaded cached matrix from matrix_cache/elimination_matrix_hh_N=10.npz\n"
     ]
    },
    {
     "name": "stderr",
     "output_type": "stream",
     "text": [
      "pc_nonsparse_0.999:   0%|          | 70/20000 [00:15<19:41, 16.87it/s]]]] 999:   0%|          | 26/20000 [00:10<1:50:29,  3.01it/s]     | 340/20000 [00:36<47:22,  6.92it/s]"
     ]
    },
    {
     "name": "stdout",
     "output_type": "stream",
     "text": [
      "Loaded cached matrix from matrix_cache/duplication_matrix_hh_N=10.npz\n"
     ]
    },
    {
     "name": "stderr",
     "output_type": "stream",
     "text": [
      "pc_nonsparse_0.999:   1%|▏         | 255/20000 [00:30<10:05, 32.60it/s]]]"
     ]
    },
    {
     "name": "stdout",
     "output_type": "stream",
     "text": [
      "Loaded cached matrix from matrix_cache/duplication_matrix_hh_N=10.npz\n"
     ]
    },
    {
     "name": "stderr",
     "output_type": "stream",
     "text": [
      "pc_nonsparse_0.999:   2%|▏         | 417/20000 [00:18<12:50, 25.43it/s]]]"
     ]
    },
    {
     "name": "stdout",
     "output_type": "stream",
     "text": [
      "Loaded cached matrix from matrix_cache/elimination_matrix_hh_N=10.npz\n",
      "Loaded cached matrix from matrix_cache/elimination_matrix_hh_N=10.npz\n",
      "Loaded cached matrix from matrix_cache/duplication_matrix_hh_N=10.npz\n",
      "Loaded cached matrix from matrix_cache/duplication_matrix_hh_N=10.npz\n",
      "Loaded cached matrix from matrix_cache/duplication_matrix_hh_N=10.npz\n",
      "Loaded cached matrix from matrix_cache/elimination_matrix_hh_N=10.npz\n",
      "Loaded cached matrix from matrix_cache/elimination_matrix_hh_N=10.npz\n"
     ]
    },
    {
     "name": "stderr",
     "output_type": "stream",
     "text": [
      "pc_nonsparse_0.999:   1%|          | 105/20000 [00:09<25:04, 13.23it/s]  ]"
     ]
    },
    {
     "name": "stdout",
     "output_type": "stream",
     "text": [
      "Loaded cached matrix from matrix_cache/duplication_matrix_hh_N=10.npz\n"
     ]
    },
    {
     "name": "stderr",
     "output_type": "stream",
     "text": [
      "pc_nonsparse_0.999:   8%|▊         | 1552/20000 [01:13<04:34, 67.25it/s] ]"
     ]
    },
    {
     "name": "stdout",
     "output_type": "stream",
     "text": [
      "Loaded cached matrix from matrix_cache/elimination_matrix_hh_N=10.npz\n",
      "Loaded cached matrix from matrix_cache/duplication_matrix_hh_N=10.npz\n",
      "Loaded cached matrix from matrix_cache/duplication_matrix_hh_N=10.npz\n",
      "Loaded cached matrix from matrix_cache/duplication_matrix_hh_N=10.npz\n",
      "Loaded cached matrix from matrix_cache/duplication_matrix_hh_N=10.npz\n",
      "Loaded cached matrix from matrix_cache/elimination_matrix_hh_N=10.npz\n",
      "Loaded cached matrix from matrix_cache/elimination_matrix_hh_N=10.npz\n",
      "Loaded cached matrix from matrix_cache/elimination_matrix_hh_N=10.npz\n",
      "Loaded cached matrix from matrix_cache/elimination_matrix_hh_N=10.npz\n",
      "Loaded cached matrix from matrix_cache/elimination_matrix_hh_N=10.npz\n",
      "Loaded cached matrix from matrix_cache/duplication_matrix_hh_N=10.npz\n",
      "Loaded cached matrix from matrix_cache/elimination_matrix_hh_N=10.npz\n",
      "Loaded cached matrix from matrix_cache/duplication_matrix_hh_N=10.npz\n"
     ]
    },
    {
     "name": "stderr",
     "output_type": "stream",
     "text": [
      "pc_nonsparse_0.999:   2%|▏         | 350/20000 [00:38<43:04,  7.60it/s]]]] "
     ]
    },
    {
     "name": "stdout",
     "output_type": "stream",
     "text": [
      "Loaded cached matrix from matrix_cache/duplication_matrix_hh_N=10.npz\n",
      "Loaded cached matrix from matrix_cache/duplication_matrix_hh_N=10.npz\n",
      "Loaded cached matrix from matrix_cache/duplication_matrix_hh_N=10.npz\n",
      "Loaded cached matrix from matrix_cache/elimination_matrix_hh_N=10.npz\n"
     ]
    },
    {
     "name": "stderr",
     "output_type": "stream",
     "text": [
      "pc_nonsparse_0.999:   3%|▎         | 531/20000 [00:49<2:10:53,  2.48it/s]]"
     ]
    },
    {
     "name": "stdout",
     "output_type": "stream",
     "text": [
      "Loaded cached matrix from matrix_cache/duplication_matrix_hh_N=10.npz\n",
      "Loaded cached matrix from matrix_cache/elimination_matrix_hh_N=10.npz\n",
      "Loaded cached matrix from matrix_cache/duplication_matrix_hh_N=10.npz\n",
      "Loaded cached matrix from matrix_cache/elimination_matrix_hh_N=10.npz\n",
      "Loaded cached matrix from matrix_cache/elimination_matrix_hh_N=10.npz\n",
      "Loaded cached matrix from matrix_cache/duplication_matrix_hh_N=10.npz\n",
      "Loaded cached matrix from matrix_cache/elimination_matrix_hh_N=10.npz\n",
      "Loaded cached matrix from matrix_cache/duplication_matrix_hh_N=10.npz\n",
      "Loaded cached matrix from matrix_cache/elimination_matrix_hh_N=10.npz\n",
      "Loaded cached matrix from matrix_cache/duplication_matrix_hh_N=10.npz\n",
      "Loaded cached matrix from matrix_cache/elimination_matrix_hh_N=10.npz\n"
     ]
    },
    {
     "name": "stderr",
     "output_type": "stream",
     "text": [
      "pc_nonsparse_0.999:  10%|▉         | 1996/20000 [01:37<10:24, 28.82it/s]]]"
     ]
    },
    {
     "name": "stdout",
     "output_type": "stream",
     "text": [
      "Loaded cached matrix from matrix_cache/duplication_matrix_hh_N=10.npz\n",
      "Loaded cached matrix from matrix_cache/elimination_matrix_hh_N=10.npz\n",
      "Loaded cached matrix from matrix_cache/duplication_matrix_hh_N=10.npz\n",
      "Loaded cached matrix from matrix_cache/elimination_matrix_hh_N=10.npzLoaded cached matrix from matrix_cache/duplication_matrix_hh_N=10.npz\n",
      "\n",
      "Loaded cached matrix from matrix_cache/elimination_matrix_hh_N=10.npz\n",
      "Loaded cached matrix from matrix_cache/elimination_matrix_hh_N=10.npz\n",
      "Loaded cached matrix from matrix_cache/duplication_matrix_hh_N=10.npz\n",
      "Loaded cached matrix from matrix_cache/elimination_matrix_hh_N=10.npz\n",
      "Loaded cached matrix from matrix_cache/duplication_matrix_hh_N=10.npz\n",
      "Loaded cached matrix from matrix_cache/elimination_matrix_hh_N=10.npz\n",
      "Loaded cached matrix from matrix_cache/elimination_matrix_hh_N=10.npz\n",
      "Loaded cached matrix from matrix_cache/duplication_matrix_hh_N=10.npz\n",
      "Loaded cached matrix from matrix_cache/duplication_matrix_hh_N=10.npz\n",
      "Loaded cached matrix from matrix_cache/elimination_matrix_hh_N=10.npz\n",
      "Loaded cached matrix from matrix_cache/elimination_matrix_hh_N=10.npz\n"
     ]
    },
    {
     "name": "stderr",
     "output_type": "stream",
     "text": [
      "pc_nonsparse_0.999:   1%|▏         | 252/20000 [00:47<1:19:02,  4.16it/s] "
     ]
    },
    {
     "name": "stdout",
     "output_type": "stream",
     "text": [
      "Loaded cached matrix from matrix_cache/duplication_matrix_hh_N=10.npz\n",
      "Loaded cached matrix from matrix_cache/duplication_matrix_hh_N=10.npz\n",
      "Loaded cached matrix from matrix_cache/elimination_matrix_hh_N=10.npz\n",
      "Loaded cached matrix from matrix_cache/elimination_matrix_hh_N=10.npz\n",
      "Loaded cached matrix from matrix_cache/duplication_matrix_hh_N=10.npz\n"
     ]
    },
    {
     "name": "stderr",
     "output_type": "stream",
     "text": [
      "pc_nonsparse_0.999:  10%|▉         | 1923/20000 [01:49<37:01,  8.14it/s]]  7311/20000 [02:26<08:26, 25.08it/s]"
     ]
    },
    {
     "name": "stdout",
     "output_type": "stream",
     "text": [
      "Loaded cached matrix from matrix_cache/elimination_matrix_hh_N=10.npz\n",
      "Loaded cached matrix from matrix_cache/duplication_matrix_hh_N=10.npz\n",
      "Loaded cached matrix from matrix_cache/elimination_matrix_hh_N=10.npz\n",
      "Loaded cached matrix from matrix_cache/duplication_matrix_hh_N=10.npz\n",
      "Loaded cached matrix from matrix_cache/duplication_matrix_hh_N=10.npz\n",
      "Loaded cached matrix from matrix_cache/elimination_matrix_hh_N=10.npz\n",
      "Loaded cached matrix from matrix_cache/duplication_matrix_hh_N=10.npz\n"
     ]
    },
    {
     "name": "stderr",
     "output_type": "stream",
     "text": [
      "pc_nonsparse_0.999:   1%|          | 119/20000 [00:07<05:16, 62.86it/s]]]"
     ]
    },
    {
     "name": "stdout",
     "output_type": "stream",
     "text": [
      "Loaded cached matrix from matrix_cache/duplication_matrix_hh_N=10.npz\n",
      "Loaded cached matrix from matrix_cache/elimination_matrix_hh_N=10.npz\n",
      "Loaded cached matrix from matrix_cache/elimination_matrix_hh_N=10.npz\n"
     ]
    },
    {
     "name": "stderr",
     "output_type": "stream",
     "text": [
      "pc_nonsparse_0.999:   2%|▏         | 369/20000 [00:50<05:03, 64.73it/s]] "
     ]
    },
    {
     "name": "stdout",
     "output_type": "stream",
     "text": [
      "Loaded cached matrix from matrix_cache/elimination_matrix_hh_N=10.npz\n"
     ]
    },
    {
     "name": "stderr",
     "output_type": "stream",
     "text": [
      "pc_nonsparse_0.999:   1%|          | 559/20000 [00:49<11:27, 28.27it/s]]"
     ]
    },
    {
     "name": "stdout",
     "output_type": "stream",
     "text": [
      "Loaded cached matrix from matrix_cache/duplication_matrix_hh_N=10.npz\n",
      "Loaded cached matrix from matrix_cache/elimination_matrix_hh_N=10.npz\n",
      "Loaded cached matrix from matrix_cache/duplication_matrix_hh_N=10.npz\n",
      "Loaded cached matrix from matrix_cache/duplication_matrix_hh_N=10.npz\n",
      "Loaded cached matrix from matrix_cache/elimination_matrix_hh_N=10.npz\n",
      "Loaded cached matrix from matrix_cache/duplication_matrix_hh_N=10.npz\n",
      "Loaded cached matrix from matrix_cache/elimination_matrix_hh_N=10.npz\n",
      "Loaded cached matrix from matrix_cache/elimination_matrix_hh_N=10.npz\n",
      "Loaded cached matrix from matrix_cache/duplication_matrix_hh_N=10.npz\n",
      "Loaded cached matrix from matrix_cache/elimination_matrix_hh_N=10.npz\n",
      "Loaded cached matrix from matrix_cache/duplication_matrix_hh_N=10.npz\n"
     ]
    },
    {
     "name": "stderr",
     "output_type": "stream",
     "text": [
      "pc_nonsparse_0.999:   0%|          | 0/20000 [00:00<?, ?it/s] 149.81it/s] "
     ]
    },
    {
     "name": "stdout",
     "output_type": "stream",
     "text": [
      "Loaded cached matrix from matrix_cache/elimination_matrix_hh_N=10.npz\n",
      "Loaded cached matrix from matrix_cache/duplication_matrix_hh_N=10.npz\n",
      "Loaded cached matrix from matrix_cache/elimination_matrix_hh_N=10.npz\n",
      "Loaded cached matrix from matrix_cache/duplication_matrix_hh_N=10.npz\n"
     ]
    },
    {
     "name": "stderr",
     "output_type": "stream",
     "text": [
      "pc_nonsparse_0.999:   1%|          | 239/20000 [00:14<1:00:24,  5.45it/s]]"
     ]
    },
    {
     "name": "stdout",
     "output_type": "stream",
     "text": [
      "Loaded cached matrix from matrix_cache/duplication_matrix_hh_N=10.npz\n",
      "Loaded cached matrix from matrix_cache/duplication_matrix_hh_N=10.npz\n",
      "Loaded cached matrix from matrix_cache/elimination_matrix_hh_N=10.npz\n"
     ]
    },
    {
     "name": "stderr",
     "output_type": "stream",
     "text": [
      "pc_nonsparse_0.999:   5%|▍         | 952/20000 [01:01<17:59, 17.64it/s]]]"
     ]
    },
    {
     "name": "stdout",
     "output_type": "stream",
     "text": [
      "Loaded cached matrix from matrix_cache/elimination_matrix_hh_N=10.npz\n",
      "Loaded cached matrix from matrix_cache/duplication_matrix_hh_N=10.npz\n",
      "Loaded cached matrix from matrix_cache/duplication_matrix_hh_N=10.npz\n",
      "Loaded cached matrix from matrix_cache/elimination_matrix_hh_N=10.npz\n",
      "Loaded cached matrix from matrix_cache/duplication_matrix_hh_N=10.npz\n",
      "Loaded cached matrix from matrix_cache/elimination_matrix_hh_N=10.npz\n",
      "Loaded cached matrix from matrix_cache/duplication_matrix_hh_N=10.npz\n"
     ]
    },
    {
     "name": "stderr",
     "output_type": "stream",
     "text": [
      "pc_nonsparse_0.999:   1%|          | 142/20000 [00:16<45:55,  7.21it/s]s]]"
     ]
    },
    {
     "name": "stdout",
     "output_type": "stream",
     "text": [
      "Loaded cached matrix from matrix_cache/elimination_matrix_hh_N=10.npz\n",
      "Loaded cached matrix from matrix_cache/elimination_matrix_hh_N=10.npz\n",
      "Loaded cached matrix from matrix_cache/duplication_matrix_hh_N=10.npz\n",
      "Loaded cached matrix from matrix_cache/elimination_matrix_hh_N=10.npz\n",
      "Loaded cached matrix from matrix_cache/duplication_matrix_hh_N=10.npz\n",
      "Loaded cached matrix from matrix_cache/duplication_matrix_hh_N=10.npz\n",
      "Loaded cached matrix from matrix_cache/duplication_matrix_hh_N=10.npz\n",
      "Loaded cached matrix from matrix_cache/duplication_matrix_hh_N=10.npz\n",
      "Loaded cached matrix from matrix_cache/duplication_matrix_hh_N=10.npz\n",
      "Loaded cached matrix from matrix_cache/duplication_matrix_hh_N=10.npz\n",
      "Loaded cached matrix from matrix_cache/elimination_matrix_hh_N=10.npz\n",
      "Loaded cached matrix from matrix_cache/duplication_matrix_hh_N=10.npz\n",
      "Loaded cached matrix from matrix_cache/elimination_matrix_hh_N=10.npz\n",
      "Loaded cached matrix from matrix_cache/elimination_matrix_hh_N=10.npz\n",
      "Loaded cached matrix from matrix_cache/elimination_matrix_hh_N=10.npz\n"
     ]
    },
    {
     "name": "stderr",
     "output_type": "stream",
     "text": [
      "pc_nonsparse_0.999:   1%|          | 119/20000 [00:09<1:11:29,  4.63it/s]]"
     ]
    },
    {
     "name": "stdout",
     "output_type": "stream",
     "text": [
      "Loaded cached matrix from matrix_cache/elimination_matrix_hh_N=10.npz\n",
      "Loaded cached matrix from matrix_cache/duplication_matrix_hh_N=10.npz\n",
      "Loaded cached matrix from matrix_cache/duplication_matrix_hh_N=10.npz\n",
      "Loaded cached matrix from matrix_cache/elimination_matrix_hh_N=10.npz\n",
      "Loaded cached matrix from matrix_cache/elimination_matrix_hh_N=10.npz\n",
      "Loaded cached matrix from matrix_cache/elimination_matrix_hh_N=10.npz\n",
      "Loaded cached matrix from matrix_cache/elimination_matrix_hh_N=10.npz\n",
      "Loaded cached matrix from matrix_cache/duplication_matrix_hh_N=10.npz\n",
      "Loaded cached matrix from matrix_cache/elimination_matrix_hh_N=10.npz\n",
      "Loaded cached matrix from matrix_cache/duplication_matrix_hh_N=10.npz\n"
     ]
    },
    {
     "name": "stderr",
     "output_type": "stream",
     "text": [
      "pc_nonsparse_0.999:   5%|▌         | 1073/20000 [01:14<19:00, 16.60it/s]] "
     ]
    },
    {
     "name": "stdout",
     "output_type": "stream",
     "text": [
      "Loaded cached matrix from matrix_cache/elimination_matrix_hh_N=10.npz\n",
      "Loaded cached matrix from matrix_cache/elimination_matrix_hh_N=10.npz\n",
      "Loaded cached matrix from matrix_cache/duplication_matrix_hh_N=10.npz\n",
      "Loaded cached matrix from matrix_cache/duplication_matrix_hh_N=10.npz\n",
      "Loaded cached matrix from matrix_cache/duplication_matrix_hh_N=10.npz\n",
      "Loaded cached matrix from matrix_cache/elimination_matrix_hh_N=10.npz\n",
      "Loaded cached matrix from matrix_cache/duplication_matrix_hh_N=10.npz\n",
      "Loaded cached matrix from matrix_cache/elimination_matrix_hh_N=10.npz\n",
      "Loaded cached matrix from matrix_cache/duplication_matrix_hh_N=10.npz\n",
      "Loaded cached matrix from matrix_cache/elimination_matrix_hh_N=10.npz\n"
     ]
    },
    {
     "name": "stderr",
     "output_type": "stream",
     "text": [
      "pc_nonsparse_0.999:   5%|▍         | 948/20000 [01:18<33:25,  9.50it/s]]] "
     ]
    },
    {
     "name": "stdout",
     "output_type": "stream",
     "text": [
      "Loaded cached matrix from matrix_cache/duplication_matrix_hh_N=10.npz\n",
      "Loaded cached matrix from matrix_cache/elimination_matrix_hh_N=10.npz\n",
      "Loaded cached matrix from matrix_cache/elimination_matrix_hh_N=10.npz\n",
      "Loaded cached matrix from matrix_cache/duplication_matrix_hh_N=10.npz\n",
      "Loaded cached matrix from matrix_cache/duplication_matrix_hh_N=10.npz\n",
      "Loaded cached matrix from matrix_cache/elimination_matrix_hh_N=10.npz\n",
      "Loaded cached matrix from matrix_cache/duplication_matrix_hh_N=10.npz\n",
      "Loaded cached matrix from matrix_cache/elimination_matrix_hh_N=10.npz\n",
      "Loaded cached matrix from matrix_cache/elimination_matrix_hh_N=10.npz\n",
      "Loaded cached matrix from matrix_cache/duplication_matrix_hh_N=10.npz\n"
     ]
    },
    {
     "name": "stderr",
     "output_type": "stream",
     "text": [
      "pc_nonsparse_0.999:   3%|▎         | 534/20000 [00:24<04:03, 80.09it/s]]  "
     ]
    },
    {
     "name": "stdout",
     "output_type": "stream",
     "text": [
      "Loaded cached matrix from matrix_cache/elimination_matrix_hh_N=10.npz\n",
      "Loaded cached matrix from matrix_cache/duplication_matrix_hh_N=10.npz\n",
      "Loaded cached matrix from matrix_cache/elimination_matrix_hh_N=10.npz\n",
      "Loaded cached matrix from matrix_cache/elimination_matrix_hh_N=10.npz\n",
      "Loaded cached matrix from matrix_cache/duplication_matrix_hh_N=10.npz\n",
      "Loaded cached matrix from matrix_cache/duplication_matrix_hh_N=10.npz\n"
     ]
    },
    {
     "name": "stderr",
     "output_type": "stream",
     "text": [
      "pc_nonsparse_0.999:   1%|▏         | 270/20000 [00:26<45:51,  7.17it/s]  "
     ]
    },
    {
     "name": "stdout",
     "output_type": "stream",
     "text": [
      "Loaded cached matrix from matrix_cache/duplication_matrix_hh_N=10.npz\n",
      "Loaded cached matrix from matrix_cache/elimination_matrix_hh_N=10.npz\n",
      "Loaded cached matrix from matrix_cache/elimination_matrix_hh_N=10.npz\n",
      "Loaded cached matrix from matrix_cache/duplication_matrix_hh_N=10.npz\n",
      "Loaded cached matrix from matrix_cache/elimination_matrix_hh_N=10.npz\n",
      "Loaded cached matrix from matrix_cache/elimination_matrix_hh_N=10.npz\n"
     ]
    },
    {
     "name": "stderr",
     "output_type": "stream",
     "text": [
      "pc_nonsparse_0.999:  11%|█         | 2183/20000 [02:00<14:46, 20.10it/s]]"
     ]
    },
    {
     "name": "stdout",
     "output_type": "stream",
     "text": [
      "Loaded cached matrix from matrix_cache/duplication_matrix_hh_N=10.npz\n",
      "Loaded cached matrix from matrix_cache/elimination_matrix_hh_N=10.npz\n",
      "Loaded cached matrix from matrix_cache/duplication_matrix_hh_N=10.npz\n",
      "Loaded cached matrix from matrix_cache/elimination_matrix_hh_N=10.npz\n"
     ]
    },
    {
     "name": "stderr",
     "output_type": "stream",
     "text": [
      "pc_nonsparse_0.999:   7%|▋         | 1308/20000 [01:28<04:37, 67.47it/s]s]"
     ]
    },
    {
     "name": "stdout",
     "output_type": "stream",
     "text": [
      "Loaded cached matrix from matrix_cache/duplication_matrix_hh_N=10.npz\n",
      "Loaded cached matrix from matrix_cache/duplication_matrix_hh_N=10.npz\n",
      "Loaded cached matrix from matrix_cache/elimination_matrix_hh_N=10.npz\n",
      "Loaded cached matrix from matrix_cache/duplication_matrix_hh_N=10.npz\n",
      "Loaded cached matrix from matrix_cache/elimination_matrix_hh_N=10.npz\n",
      "Loaded cached matrix from matrix_cache/duplication_matrix_hh_N=10.npz\n",
      "Loaded cached matrix from matrix_cache/elimination_matrix_hh_N=10.npz\n",
      "Loaded cached matrix from matrix_cache/elimination_matrix_hh_N=10.npz\n"
     ]
    },
    {
     "name": "stderr",
     "output_type": "stream",
     "text": [
      "pc_nonsparse_0.999:   4%|▍         | 855/20000 [01:24<16:42, 19.10it/s]]]]"
     ]
    },
    {
     "name": "stdout",
     "output_type": "stream",
     "text": [
      "Loaded cached matrix from matrix_cache/duplication_matrix_hh_N=10.npz\n"
     ]
    },
    {
     "name": "stderr",
     "output_type": "stream",
     "text": [
      "pc_nonsparse_0.999:   6%|▌         | 1161/20000 [01:27<22:04, 14.22it/s]] "
     ]
    },
    {
     "name": "stdout",
     "output_type": "stream",
     "text": [
      "Loaded cached matrix from matrix_cache/duplication_matrix_hh_N=10.npz\n",
      "Loaded cached matrix from matrix_cache/elimination_matrix_hh_N=10.npz\n"
     ]
    },
    {
     "name": "stderr",
     "output_type": "stream",
     "text": [
      "pc_nonsparse_0.999:   9%|▉         | 1868/20000 [01:30<51:17,  5.89it/s]s]"
     ]
    },
    {
     "name": "stdout",
     "output_type": "stream",
     "text": [
      "Loaded cached matrix from matrix_cache/elimination_matrix_hh_N=10.npz\n",
      "Loaded cached matrix from matrix_cache/duplication_matrix_hh_N=10.npz\n",
      "Loaded cached matrix from matrix_cache/elimination_matrix_hh_N=10.npz\n",
      "Loaded cached matrix from matrix_cache/duplication_matrix_hh_N=10.npz\n",
      "Loaded cached matrix from matrix_cache/elimination_matrix_hh_N=10.npz\n"
     ]
    },
    {
     "name": "stderr",
     "output_type": "stream",
     "text": [
      "pc_nonsparse_0.999:   4%|▍         | 780/20000 [01:21<2:01:16,  2.64it/s]]"
     ]
    },
    {
     "name": "stdout",
     "output_type": "stream",
     "text": [
      "Loaded cached matrix from matrix_cache/duplication_matrix_hh_N=10.npz\n",
      "Loaded cached matrix from matrix_cache/duplication_matrix_hh_N=10.npz\n"
     ]
    },
    {
     "name": "stderr",
     "output_type": "stream",
     "text": [
      "pc_nonsparse_0.999:   1%|          | 155/20000 [00:24<4:54:18,  1.12it/s]]"
     ]
    },
    {
     "name": "stdout",
     "output_type": "stream",
     "text": [
      "Loaded cached matrix from matrix_cache/elimination_matrix_hh_N=10.npz\n",
      "Loaded cached matrix from matrix_cache/elimination_matrix_hh_N=10.npz\n",
      "Loaded cached matrix from matrix_cache/duplication_matrix_hh_N=10.npz\n",
      "Loaded cached matrix from matrix_cache/elimination_matrix_hh_N=10.npz\n"
     ]
    },
    {
     "name": "stderr",
     "output_type": "stream",
     "text": [
      "pc_nonsparse_0.999:   0%|          | 74/20000 [00:27<2:09:38,  2.56it/s]]  3.93it/s]"
     ]
    },
    {
     "name": "stdout",
     "output_type": "stream",
     "text": [
      "Loaded cached matrix from matrix_cache/duplication_matrix_hh_N=10.npz\n",
      "Loaded cached matrix from matrix_cache/duplication_matrix_hh_N=10.npz\n",
      "Loaded cached matrix from matrix_cache/elimination_matrix_hh_N=10.npz\n",
      "Loaded cached matrix from matrix_cache/elimination_matrix_hh_N=10.npz\n"
     ]
    },
    {
     "name": "stderr",
     "output_type": "stream",
     "text": [
      "pc_nonsparse_0.999:   0%|          | 2/20000 [00:03<8:29:02,  1.53s/it] /Users/fmjp/Desktop/lab/simu/tvgti/venv/lib/python3.12/site-packages/joblib/externals/loky/process_executor.py:752: UserWarning: A worker stopped while some jobs were given to the executor. This can be caused by a too short worker timeout or by a memory leak.\n",
      "  warnings.warn(\n",
      "pc_nonsparse_0.999:  13%|█▎        | 2591/20000 [02:11<11:52, 26.56it/s]s]"
     ]
    },
    {
     "name": "stdout",
     "output_type": "stream",
     "text": [
      "Loaded cached matrix from matrix_cache/duplication_matrix_hh_N=10.npz\n",
      "Loaded cached matrix from matrix_cache/elimination_matrix_hh_N=10.npz\n",
      "Loaded cached matrix from matrix_cache/duplication_matrix_hh_N=10.npz\n",
      "Loaded cached matrix from matrix_cache/elimination_matrix_hh_N=10.npz\n",
      "Loaded cached matrix from matrix_cache/duplication_matrix_hh_N=10.npz\n",
      "Loaded cached matrix from matrix_cache/duplication_matrix_hh_N=10.npz\n",
      "Loaded cached matrix from matrix_cache/elimination_matrix_hh_N=10.npz\n",
      "Loaded cached matrix from matrix_cache/elimination_matrix_hh_N=10.npz\n"
     ]
    },
    {
     "name": "stderr",
     "output_type": "stream",
     "text": [
      "pc_nonsparse_0.999:  13%|█▎        | 2549/20000 [02:20<26:34, 10.94it/s]]]]"
     ]
    },
    {
     "name": "stdout",
     "output_type": "stream",
     "text": [
      "Loaded cached matrix from matrix_cache/duplication_matrix_hh_N=10.npz\n",
      "Loaded cached matrix from matrix_cache/duplication_matrix_hh_N=10.npz\n",
      "Loaded cached matrix from matrix_cache/elimination_matrix_hh_N=10.npz\n",
      "Loaded cached matrix from matrix_cache/duplication_matrix_hh_N=10.npz\n",
      "Loaded cached matrix from matrix_cache/duplication_matrix_hh_N=10.npz\n",
      "Loaded cached matrix from matrix_cache/duplication_matrix_hh_N=10.npz\n",
      "Loaded cached matrix from matrix_cache/elimination_matrix_hh_N=10.npz\n",
      "Loaded cached matrix from matrix_cache/elimination_matrix_hh_N=10.npz\n",
      "Loaded cached matrix from matrix_cache/elimination_matrix_hh_N=10.npz\n",
      "Loaded cached matrix from matrix_cache/duplication_matrix_hh_N=10.npz\n",
      "Loaded cached matrix from matrix_cache/elimination_matrix_hh_N=10.npz\n",
      "Loaded cached matrix from matrix_cache/duplication_matrix_hh_N=10.npz\n",
      "Loaded cached matrix from matrix_cache/duplication_matrix_hh_N=10.npz\n",
      "Loaded cached matrix from matrix_cache/elimination_matrix_hh_N=10.npz\n",
      "Loaded cached matrix from matrix_cache/elimination_matrix_hh_N=10.npz\n",
      "Loaded cached matrix from matrix_cache/elimination_matrix_hh_N=10.npz\n",
      "Loaded cached matrix from matrix_cache/duplication_matrix_hh_N=10.npz\n",
      "Loaded cached matrix from matrix_cache/elimination_matrix_hh_N=10.npz\n",
      "Loaded cached matrix from matrix_cache/duplication_matrix_hh_N=10.npz\n",
      "Loaded cached matrix from matrix_cache/elimination_matrix_hh_N=10.npz\n"
     ]
    },
    {
     "name": "stderr",
     "output_type": "stream",
     "text": [
      "pc_nonsparse_0.999:   5%|▌         | 1078/20000 [01:38<3:57:42,  1.33it/s]Python(62455) MallocStackLogging: can't turn off malloc stack logging because it was not enabled.\n",
      "pc_nonsparse_0.999:   5%|▌         | 1469/20000 [02:08<6:55:06,  1.34s/it]] "
     ]
    },
    {
     "name": "stdout",
     "output_type": "stream",
     "text": [
      "Loaded cached matrix from matrix_cache/duplication_matrix_hh_N=10.npz\n",
      "Loaded cached matrix from matrix_cache/duplication_matrix_hh_N=10.npz\n",
      "Loaded cached matrix from matrix_cache/elimination_matrix_hh_N=10.npz\n",
      "Loaded cached matrix from matrix_cache/elimination_matrix_hh_N=10.npz\n",
      "Loaded cached matrix from matrix_cache/duplication_matrix_hh_N=10.npz\n",
      "Loaded cached matrix from matrix_cache/elimination_matrix_hh_N=10.npz\n",
      "Loaded cached matrix from matrix_cache/duplication_matrix_hh_N=10.npz\n",
      "Loaded cached matrix from matrix_cache/duplication_matrix_hh_N=10.npz\n",
      "Loaded cached matrix from matrix_cache/duplication_matrix_hh_N=10.npz\n",
      "Loaded cached matrix from matrix_cache/duplication_matrix_hh_N=10.npz\n",
      "Loaded cached matrix from matrix_cache/elimination_matrix_hh_N=10.npz\n",
      "Loaded cached matrix from matrix_cache/duplication_matrix_hh_N=10.npz\n",
      "Loaded cached matrix from matrix_cache/elimination_matrix_hh_N=10.npz\n",
      "Loaded cached matrix from matrix_cache/elimination_matrix_hh_N=10.npz\n",
      "Loaded cached matrix from matrix_cache/duplication_matrix_hh_N=10.npz\n",
      "Loaded cached matrix from matrix_cache/duplication_matrix_hh_N=10.npz\n",
      "Loaded cached matrix from matrix_cache/elimination_matrix_hh_N=10.npz\n",
      "Loaded cached matrix from matrix_cache/elimination_matrix_hh_N=10.npz\n",
      "Loaded cached matrix from matrix_cache/duplication_matrix_hh_N=10.npz\n",
      "Loaded cached matrix from matrix_cache/duplication_matrix_hh_N=10.npz\n",
      "Loaded cached matrix from matrix_cache/elimination_matrix_hh_N=10.npz\n",
      "Loaded cached matrix from matrix_cache/duplication_matrix_hh_N=10.npz\n",
      "Loaded cached matrix from matrix_cache/duplication_matrix_hh_N=10.npz\n",
      "Loaded cached matrix from matrix_cache/elimination_matrix_hh_N=10.npz\n",
      "Loaded cached matrix from matrix_cache/duplication_matrix_hh_N=10.npz\n",
      "Loaded cached matrix from matrix_cache/elimination_matrix_hh_N=10.npz\n",
      "Loaded cached matrix from matrix_cache/elimination_matrix_hh_N=10.npz\n",
      "Loaded cached matrix from matrix_cache/elimination_matrix_hh_N=10.npz\n",
      "Loaded cached matrix from matrix_cache/elimination_matrix_hh_N=10.npz\n",
      "Loaded cached matrix from matrix_cache/elimination_matrix_hh_N=10.npz\n",
      "Loaded cached matrix from matrix_cache/duplication_matrix_hh_N=10.npz\n",
      "Loaded cached matrix from matrix_cache/duplication_matrix_hh_N=10.npz\n",
      "Loaded cached matrix from matrix_cache/elimination_matrix_hh_N=10.npz\n",
      "Loaded cached matrix from matrix_cache/duplication_matrix_hh_N=10.npz\n",
      "Loaded cached matrix from matrix_cache/elimination_matrix_hh_N=10.npz\n",
      "Loaded cached matrix from matrix_cache/duplication_matrix_hh_N=10.npz\n",
      "Loaded cached matrix from matrix_cache/elimination_matrix_hh_N=10.npz\n",
      "Loaded cached matrix from matrix_cache/duplication_matrix_hh_N=10.npz\n",
      "Loaded cached matrix from matrix_cache/elimination_matrix_hh_N=10.npz\n",
      "Loaded cached matrix from matrix_cache/elimination_matrix_hh_N=10.npz\n",
      "Loaded cached matrix from matrix_cache/duplication_matrix_hh_N=10.npz\n",
      "Loaded cached matrix from matrix_cache/elimination_matrix_hh_N=10.npz\n",
      "Loaded cached matrix from matrix_cache/duplication_matrix_hh_N=10.npz\n",
      "Loaded cached matrix from matrix_cache/elimination_matrix_hh_N=10.npz\n",
      "Loaded cached matrix from matrix_cache/duplication_matrix_hh_N=10.npz\n",
      "Loaded cached matrix from matrix_cache/elimination_matrix_hh_N=10.npz\n",
      "Loaded cached matrix from matrix_cache/duplication_matrix_hh_N=10.npz\n",
      "Loaded cached matrix from matrix_cache/duplication_matrix_hh_N=10.npz\n",
      "Loaded cached matrix from matrix_cache/duplication_matrix_hh_N=10.npz\n",
      "Loaded cached matrix from matrix_cache/elimination_matrix_hh_N=10.npz\n",
      "Loaded cached matrix from matrix_cache/elimination_matrix_hh_N=10.npz\n",
      "Loaded cached matrix from matrix_cache/elimination_matrix_hh_N=10.npz\n",
      "Loaded cached matrix from matrix_cache/duplication_matrix_hh_N=10.npz\n",
      "Loaded cached matrix from matrix_cache/elimination_matrix_hh_N=10.npz\n",
      "Loaded cached matrix from matrix_cache/duplication_matrix_hh_N=10.npz\n",
      "Loaded cached matrix from matrix_cache/elimination_matrix_hh_N=10.npz\n",
      "Loaded cached matrix from matrix_cache/duplication_matrix_hh_N=10.npz\n",
      "Loaded cached matrix from matrix_cache/elimination_matrix_hh_N=10.npz\n",
      "Loaded cached matrix from matrix_cache/duplication_matrix_hh_N=10.npz\n",
      "Loaded cached matrix from matrix_cache/elimination_matrix_hh_N=10.npz\n",
      "Loaded cached matrix from matrix_cache/duplication_matrix_hh_N=10.npz\n",
      "Loaded cached matrix from matrix_cache/elimination_matrix_hh_N=10.npz\n",
      "Loaded cached matrix from matrix_cache/duplication_matrix_hh_N=10.npz\n",
      "Loaded cached matrix from matrix_cache/elimination_matrix_hh_N=10.npz\n",
      "Loaded cached matrix from matrix_cache/duplication_matrix_hh_N=10.npz\n",
      "Loaded cached matrix from matrix_cache/duplication_matrix_hh_N=10.npz\n",
      "Loaded cached matrix from matrix_cache/elimination_matrix_hh_N=10.npz\n",
      "Loaded cached matrix from matrix_cache/elimination_matrix_hh_N=10.npz\n",
      "Loaded cached matrix from matrix_cache/duplication_matrix_hh_N=10.npz\n",
      "Loaded cached matrix from matrix_cache/elimination_matrix_hh_N=10.npz\n",
      "Loaded cached matrix from matrix_cache/duplication_matrix_hh_N=10.npz\n",
      "Loaded cached matrix from matrix_cache/duplication_matrix_hh_N=10.npz\n",
      "Loaded cached matrix from matrix_cache/elimination_matrix_hh_N=10.npz\n",
      "Loaded cached matrix from matrix_cache/elimination_matrix_hh_N=10.npz\n",
      "Loaded cached matrix from matrix_cache/duplication_matrix_hh_N=10.npz\n",
      "Loaded cached matrix from matrix_cache/duplication_matrix_hh_N=10.npz\n",
      "Loaded cached matrix from matrix_cache/elimination_matrix_hh_N=10.npz\n",
      "Loaded cached matrix from matrix_cache/duplication_matrix_hh_N=10.npz\n",
      "Loaded cached matrix from matrix_cache/elimination_matrix_hh_N=10.npz\n",
      "Loaded cached matrix from matrix_cache/elimination_matrix_hh_N=10.npz\n",
      "Loaded cached matrix from matrix_cache/duplication_matrix_hh_N=10.npz\n",
      "Loaded cached matrix from matrix_cache/duplication_matrix_hh_N=10.npz\n",
      "Loaded cached matrix from matrix_cache/elimination_matrix_hh_N=10.npz\n",
      "Loaded cached matrix from matrix_cache/duplication_matrix_hh_N=10.npz\n",
      "Loaded cached matrix from matrix_cache/elimination_matrix_hh_N=10.npz\n",
      "Loaded cached matrix from matrix_cache/elimination_matrix_hh_N=10.npz\n",
      "Loaded cached matrix from matrix_cache/duplication_matrix_hh_N=10.npz\n",
      "Loaded cached matrix from matrix_cache/elimination_matrix_hh_N=10.npz\n",
      "Loaded cached matrix from matrix_cache/duplication_matrix_hh_N=10.npz\n",
      "Loaded cached matrix from matrix_cache/elimination_matrix_hh_N=10.npz\n",
      "Loaded cached matrix from matrix_cache/duplication_matrix_hh_N=10.npz\n",
      "Loaded cached matrix from matrix_cache/duplication_matrix_hh_N=10.npz\n",
      "Loaded cached matrix from matrix_cache/elimination_matrix_hh_N=10.npz\n",
      "Loaded cached matrix from matrix_cache/duplication_matrix_hh_N=10.npz\n",
      "Loaded cached matrix from matrix_cache/duplication_matrix_hh_N=10.npz\n",
      "Loaded cached matrix from matrix_cache/elimination_matrix_hh_N=10.npz\n",
      "Loaded cached matrix from matrix_cache/elimination_matrix_hh_N=10.npz\n",
      "Loaded cached matrix from matrix_cache/duplication_matrix_hh_N=10.npz\n",
      "Loaded cached matrix from matrix_cache/elimination_matrix_hh_N=10.npz\n",
      "Loaded cached matrix from matrix_cache/elimination_matrix_hh_N=10.npz\n",
      "Loaded cached matrix from matrix_cache/duplication_matrix_hh_N=10.npz\n",
      "Loaded cached matrix from matrix_cache/elimination_matrix_hh_N=10.npz\n",
      "Loaded cached matrix from matrix_cache/duplication_matrix_hh_N=10.npz\n",
      "Loaded cached matrix from matrix_cache/elimination_matrix_hh_N=10.npz\n",
      "Loaded cached matrix from matrix_cache/duplication_matrix_hh_N=10.npz\n",
      "Loaded cached matrix from matrix_cache/elimination_matrix_hh_N=10.npz\n",
      "Loaded cached matrix from matrix_cache/duplication_matrix_hh_N=10.npz\n",
      "Loaded cached matrix from matrix_cache/elimination_matrix_hh_N=10.npz\n",
      "Loaded cached matrix from matrix_cache/duplication_matrix_hh_N=10.npz\n",
      "Loaded cached matrix from matrix_cache/duplication_matrix_hh_N=10.npz\n",
      "Loaded cached matrix from matrix_cache/duplication_matrix_hh_N=10.npz\n",
      "Loaded cached matrix from matrix_cache/elimination_matrix_hh_N=10.npz\n",
      "Loaded cached matrix from matrix_cache/duplication_matrix_hh_N=10.npz\n",
      "Loaded cached matrix from matrix_cache/elimination_matrix_hh_N=10.npz\n",
      "Loaded cached matrix from matrix_cache/duplication_matrix_hh_N=10.npz\n",
      "Loaded cached matrix from matrix_cache/duplication_matrix_hh_N=10.npz\n",
      "Loaded cached matrix from matrix_cache/duplication_matrix_hh_N=10.npz\n",
      "Loaded cached matrix from matrix_cache/elimination_matrix_hh_N=10.npz\n",
      "Loaded cached matrix from matrix_cache/elimination_matrix_hh_N=10.npz\n",
      "Loaded cached matrix from matrix_cache/duplication_matrix_hh_N=10.npz\n",
      "Loaded cached matrix from matrix_cache/elimination_matrix_hh_N=10.npz\n"
     ]
    },
    {
     "name": "stderr",
     "output_type": "stream",
     "text": [
      "pc_nonsparse_0.999:   4%|▎         | 726/20000 [01:04<2:01:06,  2.68it/s]] "
     ]
    },
    {
     "name": "stdout",
     "output_type": "stream",
     "text": [
      "Loaded cached matrix from matrix_cache/elimination_matrix_hh_N=10.npz\n",
      "Loaded cached matrix from matrix_cache/elimination_matrix_hh_N=10.npz\n",
      "Loaded cached matrix from matrix_cache/duplication_matrix_hh_N=10.npz\n",
      "Loaded cached matrix from matrix_cache/elimination_matrix_hh_N=10.npz\n",
      "Loaded cached matrix from matrix_cache/duplication_matrix_hh_N=10.npz\n",
      "Loaded cached matrix from matrix_cache/duplication_matrix_hh_N=10.npz\n",
      "Loaded cached matrix from matrix_cache/elimination_matrix_hh_N=10.npz\n",
      "Loaded cached matrix from matrix_cache/duplication_matrix_hh_N=10.npz\n",
      "Loaded cached matrix from matrix_cache/elimination_matrix_hh_N=10.npz\n",
      "Loaded cached matrix from matrix_cache/duplication_matrix_hh_N=10.npz\n",
      "Loaded cached matrix from matrix_cache/elimination_matrix_hh_N=10.npz\n",
      "Loaded cached matrix from matrix_cache/duplication_matrix_hh_N=10.npz\n",
      "Loaded cached matrix from matrix_cache/elimination_matrix_hh_N=10.npz\n",
      "Loaded cached matrix from matrix_cache/elimination_matrix_hh_N=10.npz\n",
      "Loaded cached matrix from matrix_cache/duplication_matrix_hh_N=10.npz\n",
      "Loaded cached matrix from matrix_cache/duplication_matrix_hh_N=10.npz\n",
      "Loaded cached matrix from matrix_cache/elimination_matrix_hh_N=10.npz\n",
      "Loaded cached matrix from matrix_cache/elimination_matrix_hh_N=10.npz\n",
      "Loaded cached matrix from matrix_cache/duplication_matrix_hh_N=10.npz\n",
      "Loaded cached matrix from matrix_cache/elimination_matrix_hh_N=10.npz\n",
      "Loaded cached matrix from matrix_cache/duplication_matrix_hh_N=10.npz\n",
      "Loaded cached matrix from matrix_cache/elimination_matrix_hh_N=10.npz\n",
      "Loaded cached matrix from matrix_cache/duplication_matrix_hh_N=10.npz\n",
      "Loaded cached matrix from matrix_cache/elimination_matrix_hh_N=10.npz\n",
      "Loaded cached matrix from matrix_cache/elimination_matrix_hh_N=10.npz\n",
      "Loaded cached matrix from matrix_cache/duplication_matrix_hh_N=10.npz\n",
      "Loaded cached matrix from matrix_cache/elimination_matrix_hh_N=10.npz\n",
      "Loaded cached matrix from matrix_cache/duplication_matrix_hh_N=10.npz\n",
      "Loaded cached matrix from matrix_cache/elimination_matrix_hh_N=10.npz\n",
      "Loaded cached matrix from matrix_cache/duplication_matrix_hh_N=10.npz\n",
      "Loaded cached matrix from matrix_cache/duplication_matrix_hh_N=10.npz\n",
      "Loaded cached matrix from matrix_cache/elimination_matrix_hh_N=10.npz\n",
      "Loaded cached matrix from matrix_cache/duplication_matrix_hh_N=10.npz\n",
      "Loaded cached matrix from matrix_cache/elimination_matrix_hh_N=10.npz\n",
      "Loaded cached matrix from matrix_cache/duplication_matrix_hh_N=10.npz\n",
      "Loaded cached matrix from matrix_cache/elimination_matrix_hh_N=10.npz\n",
      "Loaded cached matrix from matrix_cache/elimination_matrix_hh_N=10.npz\n",
      "Loaded cached matrix from matrix_cache/duplication_matrix_hh_N=10.npz\n",
      "Loaded cached matrix from matrix_cache/duplication_matrix_hh_N=10.npz\n",
      "Loaded cached matrix from matrix_cache/elimination_matrix_hh_N=10.npz\n",
      "Loaded cached matrix from matrix_cache/duplication_matrix_hh_N=10.npz\n",
      "Loaded cached matrix from matrix_cache/elimination_matrix_hh_N=10.npz\n",
      "Loaded cached matrix from matrix_cache/elimination_matrix_hh_N=10.npz\n",
      "Loaded cached matrix from matrix_cache/duplication_matrix_hh_N=10.npz\n",
      "Loaded cached matrix from matrix_cache/elimination_matrix_hh_N=10.npz\n",
      "Loaded cached matrix from matrix_cache/duplication_matrix_hh_N=10.npz\n",
      "Loaded cached matrix from matrix_cache/elimination_matrix_hh_N=10.npz\n",
      "Loaded cached matrix from matrix_cache/duplication_matrix_hh_N=10.npz\n",
      "Loaded cached matrix from matrix_cache/duplication_matrix_hh_N=10.npz\n",
      "Loaded cached matrix from matrix_cache/duplication_matrix_hh_N=10.npz\n",
      "Loaded cached matrix from matrix_cache/elimination_matrix_hh_N=10.npz\n",
      "Loaded cached matrix from matrix_cache/duplication_matrix_hh_N=10.npz\n",
      "Loaded cached matrix from matrix_cache/duplication_matrix_hh_N=10.npz\n",
      "Loaded cached matrix from matrix_cache/duplication_matrix_hh_N=10.npz\n",
      "Loaded cached matrix from matrix_cache/elimination_matrix_hh_N=10.npz\n",
      "Loaded cached matrix from matrix_cache/duplication_matrix_hh_N=10.npz\n",
      "Loaded cached matrix from matrix_cache/elimination_matrix_hh_N=10.npz\n",
      "Loaded cached matrix from matrix_cache/elimination_matrix_hh_N=10.npz\n",
      "Loaded cached matrix from matrix_cache/elimination_matrix_hh_N=10.npz\n",
      "Loaded cached matrix from matrix_cache/duplication_matrix_hh_N=10.npz\n",
      "Loaded cached matrix from matrix_cache/elimination_matrix_hh_N=10.npz\n",
      "Loaded cached matrix from matrix_cache/duplication_matrix_hh_N=10.npz\n",
      "Loaded cached matrix from matrix_cache/duplication_matrix_hh_N=10.npz\n",
      "Loaded cached matrix from matrix_cache/elimination_matrix_hh_N=10.npz\n",
      "Loaded cached matrix from matrix_cache/duplication_matrix_hh_N=10.npz\n",
      "Loaded cached matrix from matrix_cache/elimination_matrix_hh_N=10.npz\n",
      "Loaded cached matrix from matrix_cache/elimination_matrix_hh_N=10.npz\n",
      "Loaded cached matrix from matrix_cache/duplication_matrix_hh_N=10.npz\n",
      "Loaded cached matrix from matrix_cache/elimination_matrix_hh_N=10.npz\n",
      "Loaded cached matrix from matrix_cache/elimination_matrix_hh_N=10.npz\n",
      "Loaded cached matrix from matrix_cache/duplication_matrix_hh_N=10.npz\n",
      "Loaded cached matrix from matrix_cache/elimination_matrix_hh_N=10.npz\n",
      "Loaded cached matrix from matrix_cache/duplication_matrix_hh_N=10.npz\n",
      "Loaded cached matrix from matrix_cache/duplication_matrix_hh_N=10.npz\n",
      "Loaded cached matrix from matrix_cache/duplication_matrix_hh_N=10.npz\n",
      "Loaded cached matrix from matrix_cache/elimination_matrix_hh_N=10.npz\n",
      "Loaded cached matrix from matrix_cache/duplication_matrix_hh_N=10.npz\n",
      "Loaded cached matrix from matrix_cache/elimination_matrix_hh_N=10.npz\n",
      "Loaded cached matrix from matrix_cache/elimination_matrix_hh_N=10.npz\n",
      "Loaded cached matrix from matrix_cache/duplication_matrix_hh_N=10.npz\n",
      "Loaded cached matrix from matrix_cache/elimination_matrix_hh_N=10.npz\n",
      "Loaded cached matrix from matrix_cache/duplication_matrix_hh_N=10.npz\n",
      "Loaded cached matrix from matrix_cache/elimination_matrix_hh_N=10.npz\n",
      "Loaded cached matrix from matrix_cache/duplication_matrix_hh_N=10.npz\n",
      "Loaded cached matrix from matrix_cache/elimination_matrix_hh_N=10.npz\n",
      "Loaded cached matrix from matrix_cache/elimination_matrix_hh_N=10.npz\n",
      "Loaded cached matrix from matrix_cache/duplication_matrix_hh_N=10.npz\n",
      "Loaded cached matrix from matrix_cache/elimination_matrix_hh_N=10.npz\n",
      "Loaded cached matrix from matrix_cache/duplication_matrix_hh_N=10.npz\n",
      "Loaded cached matrix from matrix_cache/elimination_matrix_hh_N=10.npz\n",
      "Loaded cached matrix from matrix_cache/duplication_matrix_hh_N=10.npz\n",
      "Loaded cached matrix from matrix_cache/elimination_matrix_hh_N=10.npz\n",
      "Loaded cached matrix from matrix_cache/duplication_matrix_hh_N=10.npz\n",
      "Loaded cached matrix from matrix_cache/elimination_matrix_hh_N=10.npz\n",
      "Loaded cached matrix from matrix_cache/elimination_matrix_hh_N=10.npz\n",
      "Loaded cached matrix from matrix_cache/duplication_matrix_hh_N=10.npz\n",
      "Loaded cached matrix from matrix_cache/duplication_matrix_hh_N=10.npz\n",
      "Loaded cached matrix from matrix_cache/duplication_matrix_hh_N=10.npz\n",
      "Loaded cached matrix from matrix_cache/elimination_matrix_hh_N=10.npz\n",
      "Loaded cached matrix from matrix_cache/elimination_matrix_hh_N=10.npz\n",
      "Loaded cached matrix from matrix_cache/duplication_matrix_hh_N=10.npz\n",
      "Loaded cached matrix from matrix_cache/elimination_matrix_hh_N=10.npz\n",
      "Loaded cached matrix from matrix_cache/duplication_matrix_hh_N=10.npz\n",
      "Loaded cached matrix from matrix_cache/elimination_matrix_hh_N=10.npz\n",
      "Loaded cached matrix from matrix_cache/duplication_matrix_hh_N=10.npz\n",
      "Loaded cached matrix from matrix_cache/elimination_matrix_hh_N=10.npz\n",
      "Loaded cached matrix from matrix_cache/duplication_matrix_hh_N=10.npz\n",
      "Loaded cached matrix from matrix_cache/duplication_matrix_hh_N=10.npz\n",
      "Loaded cached matrix from matrix_cache/elimination_matrix_hh_N=10.npz\n",
      "Loaded cached matrix from matrix_cache/duplication_matrix_hh_N=10.npz\n",
      "Loaded cached matrix from matrix_cache/elimination_matrix_hh_N=10.npz\n",
      "Loaded cached matrix from matrix_cache/duplication_matrix_hh_N=10.npz\n",
      "Loaded cached matrix from matrix_cache/elimination_matrix_hh_N=10.npz\n",
      "Loaded cached matrix from matrix_cache/elimination_matrix_hh_N=10.npz\n",
      "Loaded cached matrix from matrix_cache/duplication_matrix_hh_N=10.npz\n",
      "Loaded cached matrix from matrix_cache/elimination_matrix_hh_N=10.npz\n",
      "Loaded cached matrix from matrix_cache/elimination_matrix_hh_N=10.npz\n",
      "Loaded cached matrix from matrix_cache/duplication_matrix_hh_N=10.npz\n",
      "Loaded cached matrix from matrix_cache/duplication_matrix_hh_N=10.npz\n",
      "Loaded cached matrix from matrix_cache/elimination_matrix_hh_N=10.npz\n",
      "Loaded cached matrix from matrix_cache/duplication_matrix_hh_N=10.npz\n",
      "Loaded cached matrix from matrix_cache/duplication_matrix_hh_N=10.npz\n",
      "Loaded cached matrix from matrix_cache/elimination_matrix_hh_N=10.npz\n",
      "Loaded cached matrix from matrix_cache/duplication_matrix_hh_N=10.npz\n",
      "Loaded cached matrix from matrix_cache/elimination_matrix_hh_N=10.npz\n",
      "Loaded cached matrix from matrix_cache/elimination_matrix_hh_N=10.npz\n",
      "Loaded cached matrix from matrix_cache/elimination_matrix_hh_N=10.npz\n",
      "Loaded cached matrix from matrix_cache/duplication_matrix_hh_N=10.npz\n",
      "Loaded cached matrix from matrix_cache/elimination_matrix_hh_N=10.npz\n",
      "Loaded cached matrix from matrix_cache/duplication_matrix_hh_N=10.npz\n",
      "Loaded cached matrix from matrix_cache/duplication_matrix_hh_N=10.npz\n",
      "Loaded cached matrix from matrix_cache/elimination_matrix_hh_N=10.npz\n",
      "Loaded cached matrix from matrix_cache/duplication_matrix_hh_N=10.npz\n",
      "Loaded cached matrix from matrix_cache/elimination_matrix_hh_N=10.npz\n",
      "Loaded cached matrix from matrix_cache/duplication_matrix_hh_N=10.npz\n",
      "Loaded cached matrix from matrix_cache/elimination_matrix_hh_N=10.npz\n",
      "Loaded cached matrix from matrix_cache/duplication_matrix_hh_N=10.npz\n",
      "Loaded cached matrix from matrix_cache/elimination_matrix_hh_N=10.npz\n",
      "Loaded cached matrix from matrix_cache/elimination_matrix_hh_N=10.npz\n",
      "Loaded cached matrix from matrix_cache/duplication_matrix_hh_N=10.npz\n",
      "Loaded cached matrix from matrix_cache/elimination_matrix_hh_N=10.npz\n",
      "Loaded cached matrix from matrix_cache/duplication_matrix_hh_N=10.npz\n",
      "Loaded cached matrix from matrix_cache/elimination_matrix_hh_N=10.npz\n",
      "Loaded cached matrix from matrix_cache/duplication_matrix_hh_N=10.npz\n",
      "Loaded cached matrix from matrix_cache/elimination_matrix_hh_N=10.npz\n",
      "Loaded cached matrix from matrix_cache/duplication_matrix_hh_N=10.npz\n",
      "Loaded cached matrix from matrix_cache/elimination_matrix_hh_N=10.npz\n",
      "Loaded cached matrix from matrix_cache/duplication_matrix_hh_N=10.npz\n",
      "Loaded cached matrix from matrix_cache/elimination_matrix_hh_N=10.npz\n",
      "Loaded cached matrix from matrix_cache/duplication_matrix_hh_N=10.npz\n",
      "Loaded cached matrix from matrix_cache/elimination_matrix_hh_N=10.npz\n",
      "Loaded cached matrix from matrix_cache/duplication_matrix_hh_N=10.npz\n",
      "Loaded cached matrix from matrix_cache/elimination_matrix_hh_N=10.npz\n",
      "Loaded cached matrix from matrix_cache/duplication_matrix_hh_N=10.npz\n",
      "Loaded cached matrix from matrix_cache/elimination_matrix_hh_N=10.npz\n",
      "Loaded cached matrix from matrix_cache/duplication_matrix_hh_N=10.npz\n",
      "Loaded cached matrix from matrix_cache/duplication_matrix_hh_N=10.npz\n",
      "Loaded cached matrix from matrix_cache/elimination_matrix_hh_N=10.npz\n",
      "Loaded cached matrix from matrix_cache/duplication_matrix_hh_N=10.npz\n",
      "Loaded cached matrix from matrix_cache/elimination_matrix_hh_N=10.npz\n",
      "Loaded cached matrix from matrix_cache/elimination_matrix_hh_N=10.npz\n",
      "Loaded cached matrix from matrix_cache/duplication_matrix_hh_N=10.npz\n",
      "Loaded cached matrix from matrix_cache/duplication_matrix_hh_N=10.npz\n",
      "Loaded cached matrix from matrix_cache/elimination_matrix_hh_N=10.npz\n",
      "Loaded cached matrix from matrix_cache/elimination_matrix_hh_N=10.npz\n",
      "Loaded cached matrix from matrix_cache/duplication_matrix_hh_N=10.npz\n",
      "Loaded cached matrix from matrix_cache/elimination_matrix_hh_N=10.npz\n",
      "Loaded cached matrix from matrix_cache/duplication_matrix_hh_N=10.npz\n",
      "Loaded cached matrix from matrix_cache/elimination_matrix_hh_N=10.npz\n",
      "Loaded cached matrix from matrix_cache/duplication_matrix_hh_N=10.npz\n",
      "Loaded cached matrix from matrix_cache/elimination_matrix_hh_N=10.npz\n",
      "Loaded cached matrix from matrix_cache/duplication_matrix_hh_N=10.npz\n",
      "Loaded cached matrix from matrix_cache/elimination_matrix_hh_N=10.npz\n",
      "Loaded cached matrix from matrix_cache/duplication_matrix_hh_N=10.npz\n"
     ]
    },
    {
     "name": "stderr",
     "output_type": "stream",
     "text": [
      "pc_nonsparse_0.999:  25%|██▍       | 4951/20000 [03:19<3:50:43,  1.09it/s]Python(62568) MallocStackLogging: can't turn off malloc stack logging because it was not enabled.\n",
      "Python(62569) MallocStackLogging: can't turn off malloc stack logging because it was not enabled.\n",
      "Python(62570) MallocStackLogging: can't turn off malloc stack logging because it was not enabled.\n",
      "Python(62571) MallocStackLogging: can't turn off malloc stack logging because it was not enabled.\n",
      "Python(62572) MallocStackLogging: can't turn off malloc stack logging because it was not enabled.\n",
      "Python(62530) MallocStackLogging: can't turn off malloc stack logging because it was not enabled.\n",
      "Python(62614) MallocStackLogging: can't turn off malloc stack logging because it was not enabled.\n",
      "pc_nonsparse_0.999:   0%|          | 0/20000 [00:00<?, ?it/s]Python(62611) MallocStackLogging: can't turn off malloc stack logging because it was not enabled.\n",
      "pc_nonsparse_0.999:  13%|█▎        | 2572/20000 [02:46<1:10:19,  4.13it/s]Python(62481) MallocStackLogging: can't turn off malloc stack logging because it was not enabled.\n",
      "Python(62477) MallocStackLogging: can't turn off malloc stack logging because it was not enabled.\n",
      "pc_nonsparse_0.999:   0%|          | 1/20000 [00:00<35:32,  9.38it/s]Python(62504) MallocStackLogging: can't turn off malloc stack logging because it was not enabled.\n",
      "Python(62512) MallocStackLogging: can't turn off malloc stack logging because it was not enabled.\n",
      "Python(62612) MallocStackLogging: can't turn off malloc stack logging because it was not enabled.\n",
      "pc_nonsparse_0.999:   4%|▍         | 875/20000 [01:42<10:46:23,  2.03s/it]Python(62581) MallocStackLogging: can't turn off malloc stack logging because it was not enabled.\n",
      "pc_nonsparse_0.999:   9%|▊         | 1721/20000 [02:41<3:40:30,  1.38it/s]Python(62527) MallocStackLogging: can't turn off malloc stack logging because it was not enabled.\n",
      "pc_nonsparse_0.999:   5%|▍         | 905/20000 [01:58<2:54:02,  1.83it/s]Python(62607) MallocStackLogging: can't turn off malloc stack logging because it was not enabled.\n",
      "pc_nonsparse_0.999:   7%|▋         | 1453/20000 [02:26<2:15:40,  2.28it/s]Python(62503) MallocStackLogging: can't turn off malloc stack logging because it was not enabled.\n",
      "pc_nonsparse_0.999:   7%|▋         | 1409/20000 [02:24<3:04:22,  1.68it/s]Python(62605) MallocStackLogging: can't turn off malloc stack logging because it was not enabled.\n",
      "pc_nonsparse_0.999:   0%|          | 6/20000 [00:00<12:45, 26.12it/s]Python(62600) MallocStackLogging: can't turn off malloc stack logging because it was not enabled.\n",
      "Python(62559) MallocStackLogging: can't turn off malloc stack logging because it was not enabled.\n",
      "pc_nonsparse_0.999:  15%|█▌        | 3052/20000 [03:00<2:17:24,  2.06it/s]Python(62587) MallocStackLogging: can't turn off malloc stack logging because it was not enabled.\n",
      "Python(62556) MallocStackLogging: can't turn off malloc stack logging because it was not enabled.\n",
      "pc_nonsparse_0.999:   0%|          | 3/20000 [00:00<14:52, 22.40it/s]Python(62534) MallocStackLogging: can't turn off malloc stack logging because it was not enabled.\n",
      "Python(62576) MallocStackLogging: can't turn off malloc stack logging because it was not enabled.\n",
      "Python(62592) MallocStackLogging: can't turn off malloc stack logging because it was not enabled.\n",
      "pc_nonsparse_0.999:   1%|          | 227/20000 [00:59<4:13:02,  1.30it/s]Python(62529) MallocStackLogging: can't turn off malloc stack logging because it was not enabled.\n",
      "pc_nonsparse_0.999:   8%|▊         | 1514/20000 [02:08<37:10,  8.29it/s]Python(62602) MallocStackLogging: can't turn off malloc stack logging because it was not enabled.\n",
      "pc_nonsparse_0.999:   3%|▎         | 624/20000 [01:44<9:37:02,  1.79s/it]Python(62551) MallocStackLogging: can't turn off malloc stack logging because it was not enabled.\n",
      "Python(62558) MallocStackLogging: can't turn off malloc stack logging because it was not enabled.\n",
      "pc_nonsparse_0.999:   0%|          | 1/20000 [00:00<57:31,  5.79it/s]Python(62543) MallocStackLogging: can't turn off malloc stack logging because it was not enabled.\n",
      "Python(62555) MallocStackLogging: can't turn off malloc stack logging because it was not enabled.\n",
      "pc_nonsparse_0.999:  13%|█▎        | 2633/20000 [02:22<2:48:17,  1.72it/s]Python(62588) MallocStackLogging: can't turn off malloc stack logging because it was not enabled.\n",
      "Python(62507) MallocStackLogging: can't turn off malloc stack logging because it was not enabled.\n",
      "Python(62520) MallocStackLogging: can't turn off malloc stack logging because it was not enabled.\n",
      "pc_nonsparse_0.999:  11%|█         | 2189/20000 [02:24<1:16:00,  3.91it/s]Python(62562) MallocStackLogging: can't turn off malloc stack logging because it was not enabled.\n",
      "pc_nonsparse_0.999:  10%|▉         | 1975/20000 [02:30<4:24:02,  1.14it/s]Python(62608) MallocStackLogging: can't turn off malloc stack logging because it was not enabled.\n",
      "pc_nonsparse_0.999:   0%|          | 19/20000 [00:17<4:27:34,  1.24it/s]Python(62544) MallocStackLogging: can't turn off malloc stack logging because it was not enabled.\n",
      "Python(62593) MallocStackLogging: can't turn off malloc stack logging because it was not enabled.\n",
      "Python(62601) MallocStackLogging: can't turn off malloc stack logging because it was not enabled.\n",
      "pc_nonsparse_0.999:   0%|          | 1/20000 [00:00<51:36,  6.46it/s]Python(62549) MallocStackLogging: can't turn off malloc stack logging because it was not enabled.\n",
      "pc_nonsparse_0.999:   6%|▌         | 1151/20000 [02:09<7:36:36,  1.45s/it]Python(62563) MallocStackLogging: can't turn off malloc stack logging because it was not enabled.\n",
      "pc_nonsparse_0.999:   8%|▊         | 1549/20000 [02:09<1:57:14,  2.62it/s]Python(62575) MallocStackLogging: can't turn off malloc stack logging because it was not enabled.\n",
      "Python(62583) MallocStackLogging: can't turn off malloc stack logging because it was not enabled.\n",
      "Python(62596) MallocStackLogging: can't turn off malloc stack logging because it was not enabled.\n",
      "Python(62545) MallocStackLogging: can't turn off malloc stack logging because it was not enabled.\n",
      "Python(62540) MallocStackLogging: can't turn off malloc stack logging because it was not enabled.\n",
      "Python(62525) MallocStackLogging: can't turn off malloc stack logging because it was not enabled.\n",
      "pc_nonsparse_0.999:   5%|▌         | 1055/20000 [02:05<6:28:18,  1.23s/it]Python(62538) MallocStackLogging: can't turn off malloc stack logging because it was not enabled.\n",
      "Python(62610) MallocStackLogging: can't turn off malloc stack logging because it was not enabled.\n",
      "Python(62550) MallocStackLogging: can't turn off malloc stack logging because it was not enabled.\n",
      "pc_nonsparse_0.999:   4%|▍         | 834/20000 [02:07<2:09:18,  2.47it/s]Python(62594) MallocStackLogging: can't turn off malloc stack logging because it was not enabled.\n",
      "pc_nonsparse_0.999:  13%|█▎        | 2686/20000 [02:54<2:41:08,  1.79it/s]Python(62518) MallocStackLogging: can't turn off malloc stack logging because it was not enabled.\n",
      "Python(62580) MallocStackLogging: can't turn off malloc stack logging because it was not enabled.\n",
      "pc_nonsparse_0.999:   0%|          | 1/20000 [00:00<1:50:54,  3.01it/s]Python(62509) MallocStackLogging: can't turn off malloc stack logging because it was not enabled.\n",
      "Python(62531) MallocStackLogging: can't turn off malloc stack logging because it was not enabled.\n",
      "pc_nonsparse_0.999:   5%|▌         | 1035/20000 [02:26<3:29:40,  1.51it/s]Python(62565) MallocStackLogging: can't turn off malloc stack logging because it was not enabled.\n",
      "pc_nonsparse_0.999:   5%|▌         | 1017/20000 [01:30<1:40:32,  3.15it/s]Python(62536) MallocStackLogging: can't turn off malloc stack logging because it was not enabled.\n",
      "pc_nonsparse_0.999:   0%|          | 4/20000 [00:00<18:56, 17.59it/s]Python(62595) MallocStackLogging: can't turn off malloc stack logging because it was not enabled.\n",
      "Python(62615) MallocStackLogging: can't turn off malloc stack logging because it was not enabled.\n",
      "pc_nonsparse_0.999:  16%|█▌        | 3234/20000 [03:15<26:11, 10.67it/s]Python(62513) MallocStackLogging: can't turn off malloc stack logging because it was not enabled.\n",
      "pc_nonsparse_0.999:  15%|█▌        | 3011/20000 [02:54<2:13:10,  2.13it/s]Python(62599) MallocStackLogging: can't turn off malloc stack logging because it was not enabled.\n",
      "Python(62499) MallocStackLogging: can't turn off malloc stack logging because it was not enabled.\n",
      "pc_nonsparse_0.999:   8%|▊         | 1612/20000 [02:10<8:32:46,  1.67s/it]Python(62547) MallocStackLogging: can't turn off malloc stack logging because it was not enabled.\n",
      "Python(62616) MallocStackLogging: can't turn off malloc stack logging because it was not enabled.\n",
      "pc_nonsparse_0.999:  11%|█         | 2224/20000 [02:28<5:49:51,  1.18s/it]Python(62604) MallocStackLogging: can't turn off malloc stack logging because it was not enabled.\n",
      "pc_nonsparse_0.999:   0%|          | 3/20000 [00:00<1:00:58,  5.47it/s]Python(62514) MallocStackLogging: can't turn off malloc stack logging because it was not enabled.\n",
      "pc_nonsparse_0.999:   0%|          | 1/20000 [00:01<5:58:54,  1.08s/it]Python(62564) MallocStackLogging: can't turn off malloc stack logging because it was not enabled.\n",
      "pc_nonsparse_0.999:   0%|          | 0/20000 [00:00<?, ?it/s]Python(62567) MallocStackLogging: can't turn off malloc stack logging because it was not enabled.\n",
      "Python(62554) MallocStackLogging: can't turn off malloc stack logging because it was not enabled.\n",
      "pc_nonsparse_0.999:   2%|▏         | 357/20000 [01:18<9:21:21,  1.71s/it]Python(62522) MallocStackLogging: can't turn off malloc stack logging because it was not enabled.\n",
      "pc_nonsparse_0.999:  14%|█▎        | 2725/20000 [02:47<2:12:02,  2.18it/s]Python(62579) MallocStackLogging: can't turn off malloc stack logging because it was not enabled.\n",
      "pc_nonsparse_0.999:  11%|█▏        | 2273/20000 [02:58<2:23:29,  2.06it/s]Python(62526) MallocStackLogging: can't turn off malloc stack logging because it was not enabled.\n",
      "pc_nonsparse_0.999:   3%|▎         | 516/20000 [01:30<2:00:24,  2.70it/s]Python(62560) MallocStackLogging: can't turn off malloc stack logging because it was not enabled.\n",
      "pc_nonsparse_0.999:   4%|▎         | 702/20000 [01:46<2:06:33,  2.54it/s]Python(62552) MallocStackLogging: can't turn off malloc stack logging because it was not enabled.\n",
      "pc_nonsparse_0.999:  18%|█▊        | 3589/20000 [04:16<2:46:02,  1.65it/s]Python(62573) MallocStackLogging: can't turn off malloc stack logging because it was not enabled.\n",
      "pc_nonsparse_0.999:   8%|▊         | 1514/20000 [02:39<37:10,  8.29it/s]Python(62578) MallocStackLogging: can't turn off malloc stack logging because it was not enabled.\n",
      "pc_nonsparse_0.999:   0%|          | 1/20000 [00:00<5:25:41,  1.02it/s]Python(62598) MallocStackLogging: can't turn off malloc stack logging because it was not enabled.\n",
      "Python(62553) MallocStackLogging: can't turn off malloc stack logging because it was not enabled.\n",
      "Python(62542) MallocStackLogging: can't turn off malloc stack logging because it was not enabled.\n",
      "Python(62585) MallocStackLogging: can't turn off malloc stack logging because it was not enabled.\n",
      "pc_nonsparse_0.999:  45%|████▍     | 8997/20000 [04:03<1:12:33,  2.53it/s]Python(62537) MallocStackLogging: can't turn off malloc stack logging because it was not enabled.\n",
      "pc_nonsparse_0.999:  15%|█▌        | 3009/20000 [02:53<1:47:15,  2.64it/s]Python(62603) MallocStackLogging: can't turn off malloc stack logging because it was not enabled.\n",
      "pc_nonsparse_0.999:   0%|          | 0/20000 [00:00<?, ?it/s]Python(62517) MallocStackLogging: can't turn off malloc stack logging because it was not enabled.\n",
      "Python(62510) MallocStackLogging: can't turn off malloc stack logging because it was not enabled.\n",
      "pc_nonsparse_0.999:   0%|          | 30/20000 [00:32<6:57:07,  1.25s/it]Python(62524) MallocStackLogging: can't turn off malloc stack logging because it was not enabled.\n",
      "pc_nonsparse_0.999:   0%|          | 0/20000 [00:00<?, ?it/s]Python(62574) MallocStackLogging: can't turn off malloc stack logging because it was not enabled.\n",
      "Python(62521) MallocStackLogging: can't turn off malloc stack logging because it was not enabled.\n",
      "pc_nonsparse_0.999:   7%|▋         | 1424/20000 [02:22<2:49:58,  1.82it/s]Python(62541) MallocStackLogging: can't turn off malloc stack logging because it was not enabled.\n",
      "pc_nonsparse_0.999:  15%|█▌        | 3011/20000 [03:23<2:13:10,  2.13it/s]Python(62532) MallocStackLogging: can't turn off malloc stack logging because it was not enabled.\n",
      "pc_nonsparse_0.999:   2%|▏         | 322/20000 [01:14<2:25:43,  2.25it/s]Python(62535) MallocStackLogging: can't turn off malloc stack logging because it was not enabled.\n",
      "Python(62506) MallocStackLogging: can't turn off malloc stack logging because it was not enabled.\n",
      "pc_nonsparse_0.999:   5%|▍         | 974/20000 [02:11<2:47:35,  1.89it/s]Python(62609) MallocStackLogging: can't turn off malloc stack logging because it was not enabled.\n",
      "pc_nonsparse_0.999:  16%|█▋        | 3277/20000 [03:03<5:30:34,  1.19s/it]Python(62508) MallocStackLogging: can't turn off malloc stack logging because it was not enabled.\n",
      "pc_nonsparse_0.999:   0%|          | 14/20000 [00:00<05:12, 63.93it/s]Python(62539) MallocStackLogging: can't turn off malloc stack logging because it was not enabled.\n",
      "Python(62511) MallocStackLogging: can't turn off malloc stack logging because it was not enabled.\n",
      "pc_nonsparse_0.999:   0%|          | 0/20000 [00:00<?, ?it/s]Python(62523) MallocStackLogging: can't turn off malloc stack logging because it was not enabled.\n",
      "pc_nonsparse_0.999:   6%|▌         | 1134/20000 [02:24<1:29:02,  3.53it/s]Python(62487) MallocStackLogging: can't turn off malloc stack logging because it was not enabled.\n",
      "pc_nonsparse_0.999:   0%|          | 0/20000 [00:00<?, ?it/s]Python(62502) MallocStackLogging: can't turn off malloc stack logging because it was not enabled.\n",
      "pc_nonsparse_0.999:   0%|          | 2/20000 [00:00<1:23:07,  4.01it/s]Python(62519) MallocStackLogging: can't turn off malloc stack logging because it was not enabled.\n",
      "pc_nonsparse_0.999:  16%|█▌        | 3234/20000 [03:43<26:11, 10.67it/s]Python(62533) MallocStackLogging: can't turn off malloc stack logging because it was not enabled.\n",
      "pc_nonsparse_0.999:   4%|▎         | 732/20000 [01:39<8:38:00,  1.61s/it]Python(62528) MallocStackLogging: can't turn off malloc stack logging because it was not enabled.\n",
      "pc_nonsparse_0.999:  14%|█▍        | 2779/20000 [02:54<59:05,  4.86it/s]Python(62515) MallocStackLogging: can't turn off malloc stack logging because it was not enabled.\n",
      "pc_nonsparse_0.999:   3%|▎         | 516/20000 [02:03<2:00:24,  2.70it/s]Python(62557) MallocStackLogging: can't turn off malloc stack logging because it was not enabled.\n",
      "pc_nonsparse_0.999:   3%|▎         | 625/20000 [02:18<55:23:29, 10.29s/it]Python(62561) MallocStackLogging: can't turn off malloc stack logging because it was not enabled.\n",
      "pc_nonsparse_0.999:  15%|█▌        | 3053/20000 [03:34<8:08:33,  1.73s/it]Python(62582) MallocStackLogging: can't turn off malloc stack logging because it was not enabled.\n",
      "pc_nonsparse_0.999:  10%|█         | 2055/20000 [02:28<6:19:33,  1.27s/it]Python(62548) MallocStackLogging: can't turn off malloc stack logging because it was not enabled.\n",
      "pc_nonsparse_0.999:   0%|          | 3/20000 [00:00<21:51, 15.25it/s]Python(62613) MallocStackLogging: can't turn off malloc stack logging because it was not enabled.\n",
      "pc_nonsparse_0.999:  12%|█▏        | 2358/20000 [02:59<39:42:23,  8.10s/it]Python(62586) MallocStackLogging: can't turn off malloc stack logging because it was not enabled.\n",
      "pc_nonsparse_0.999:   0%|          | 2/20000 [00:05<17:03:06,  3.07s/it]Python(62589) MallocStackLogging: can't turn off malloc stack logging because it was not enabled.\n",
      "pc_nonsparse_0.999:  18%|█▊        | 3590/20000 [04:21<12:15:26,  2.69s/it]Python(62591) MallocStackLogging: can't turn off malloc stack logging because it was not enabled.\n",
      "pc_nonsparse_0.999:   8%|▊         | 1658/20000 [02:45<1:20:49,  3.78it/s]Python(62606) MallocStackLogging: can't turn off malloc stack logging because it was not enabled.\n",
      "pc_nonsparse_0.999:   5%|▍         | 912/20000 [02:12<2:07:25,  2.50it/s]Python(62546) MallocStackLogging: can't turn off malloc stack logging because it was not enabled.\n",
      "pc_nonsparse_0.999:   0%|          | 2/20000 [00:06<20:48:37,  3.75s/it]Python(62584) MallocStackLogging: can't turn off malloc stack logging because it was not enabled.\n",
      "pc_nonsparse_0.999:   4%|▍         | 834/20000 [02:38<2:09:18,  2.47it/s]Python(62577) MallocStackLogging: can't turn off malloc stack logging because it was not enabled.\n",
      "Python(62597) MallocStackLogging: can't turn off malloc stack logging because it was not enabled.\n",
      "pc_nonsparse_0.999:   0%|          | 14/20000 [00:36<10:00:49,  1.80s/it]]]]"
     ]
    },
    {
     "name": "stdout",
     "output_type": "stream",
     "text": [
      "Loaded cached matrix from matrix_cache/elimination_matrix_hh_N=10.npz\n",
      "Loaded cached matrix from matrix_cache/duplication_matrix_hh_N=10.npz\n",
      "Loaded cached matrix from matrix_cache/elimination_matrix_hh_N=10.npz\n",
      "Loaded cached matrix from matrix_cache/duplication_matrix_hh_N=10.npz\n",
      "Loaded cached matrix from matrix_cache/elimination_matrix_hh_N=10.npz\n"
     ]
    },
    {
     "name": "stderr",
     "output_type": "stream",
     "text": [
      "pc_nonsparse_0.999:   0%|          | 1434/20000 [03:45<4:53:39,  1.05it/s] ] "
     ]
    },
    {
     "name": "stdout",
     "output_type": "stream",
     "text": [
      "Loaded cached matrix from matrix_cache/duplication_matrix_hh_N=10.npz\n",
      "Loaded cached matrix from matrix_cache/duplication_matrix_hh_N=10.npz\n",
      "Loaded cached matrix from matrix_cache/elimination_matrix_hh_N=10.npz\n",
      "Loaded cached matrix from matrix_cache/elimination_matrix_hh_N=10.npz\n",
      "Loaded cached matrix from matrix_cache/duplication_matrix_hh_N=10.npz\n",
      "Loaded cached matrix from matrix_cache/duplication_matrix_hh_N=10.npz\n",
      "Loaded cached matrix from matrix_cache/duplication_matrix_hh_N=10.npz\n",
      "Loaded cached matrix from matrix_cache/elimination_matrix_hh_N=10.npz\n",
      "Loaded cached matrix from matrix_cache/duplication_matrix_hh_N=10.npz\n",
      "Loaded cached matrix from matrix_cache/elimination_matrix_hh_N=10.npz\n",
      "Loaded cached matrix from matrix_cache/duplication_matrix_hh_N=10.npz\n",
      "Loaded cached matrix from matrix_cache/duplication_matrix_hh_N=10.npz\n",
      "Loaded cached matrix from matrix_cache/elimination_matrix_hh_N=10.npz\n",
      "Loaded cached matrix from matrix_cache/duplication_matrix_hh_N=10.npz\n",
      "Loaded cached matrix from matrix_cache/elimination_matrix_hh_N=10.npz\n",
      "Loaded cached matrix from matrix_cache/elimination_matrix_hh_N=10.npz\n",
      "Loaded cached matrix from matrix_cache/duplication_matrix_hh_N=10.npz\n",
      "Loaded cached matrix from matrix_cache/duplication_matrix_hh_N=10.npz\n",
      "Loaded cached matrix from matrix_cache/elimination_matrix_hh_N=10.npz\n",
      "Loaded cached matrix from matrix_cache/elimination_matrix_hh_N=10.npz\n",
      "Loaded cached matrix from matrix_cache/duplication_matrix_hh_N=10.npz\n",
      "Loaded cached matrix from matrix_cache/elimination_matrix_hh_N=10.npz\n",
      "Loaded cached matrix from matrix_cache/duplication_matrix_hh_N=10.npz\n",
      "Loaded cached matrix from matrix_cache/elimination_matrix_hh_N=10.npz\n",
      "Loaded cached matrix from matrix_cache/duplication_matrix_hh_N=10.npz\n",
      "Loaded cached matrix from matrix_cache/elimination_matrix_hh_N=10.npz\n",
      "Loaded cached matrix from matrix_cache/elimination_matrix_hh_N=10.npz\n",
      "Loaded cached matrix from matrix_cache/duplication_matrix_hh_N=10.npz\n",
      "Loaded cached matrix from matrix_cache/elimination_matrix_hh_N=10.npz\n",
      "Loaded cached matrix from matrix_cache/elimination_matrix_hh_N=10.npz\n",
      "Loaded cached matrix from matrix_cache/duplication_matrix_hh_N=10.npz\n",
      "Loaded cached matrix from matrix_cache/duplication_matrix_hh_N=10.npz\n",
      "Loaded cached matrix from matrix_cache/duplication_matrix_hh_N=10.npz\n",
      "Loaded cached matrix from matrix_cache/duplication_matrix_hh_N=10.npz\n",
      "Loaded cached matrix from matrix_cache/elimination_matrix_hh_N=10.npz\n",
      "Loaded cached matrix from matrix_cache/duplication_matrix_hh_N=10.npz\n",
      "Loaded cached matrix from matrix_cache/duplication_matrix_hh_N=10.npz\n",
      "Loaded cached matrix from matrix_cache/elimination_matrix_hh_N=10.npz\n",
      "Loaded cached matrix from matrix_cache/duplication_matrix_hh_N=10.npz\n",
      "Loaded cached matrix from matrix_cache/duplication_matrix_hh_N=10.npz\n",
      "Loaded cached matrix from matrix_cache/elimination_matrix_hh_N=10.npz\n",
      "Loaded cached matrix from matrix_cache/elimination_matrix_hh_N=10.npz\n",
      "Loaded cached matrix from matrix_cache/elimination_matrix_hh_N=10.npz\n",
      "Loaded cached matrix from matrix_cache/elimination_matrix_hh_N=10.npz\n",
      "Loaded cached matrix from matrix_cache/duplication_matrix_hh_N=10.npz\n",
      "Loaded cached matrix from matrix_cache/elimination_matrix_hh_N=10.npz\n",
      "Loaded cached matrix from matrix_cache/elimination_matrix_hh_N=10.npz\n",
      "Loaded cached matrix from matrix_cache/elimination_matrix_hh_N=10.npz\n",
      "Loaded cached matrix from matrix_cache/duplication_matrix_hh_N=10.npz\n",
      "Loaded cached matrix from matrix_cache/duplication_matrix_hh_N=10.npz\n",
      "Loaded cached matrix from matrix_cache/elimination_matrix_hh_N=10.npz\n",
      "Loaded cached matrix from matrix_cache/duplication_matrix_hh_N=10.npz\n",
      "Loaded cached matrix from matrix_cache/elimination_matrix_hh_N=10.npz\n",
      "Loaded cached matrix from matrix_cache/duplication_matrix_hh_N=10.npz\n",
      "Loaded cached matrix from matrix_cache/elimination_matrix_hh_N=10.npz\n",
      "Loaded cached matrix from matrix_cache/duplication_matrix_hh_N=10.npz\n",
      "Loaded cached matrix from matrix_cache/elimination_matrix_hh_N=10.npz\n",
      "Loaded cached matrix from matrix_cache/duplication_matrix_hh_N=10.npz\n",
      "Loaded cached matrix from matrix_cache/duplication_matrix_hh_N=10.npz\n",
      "Loaded cached matrix from matrix_cache/duplication_matrix_hh_N=10.npz\n",
      "Loaded cached matrix from matrix_cache/elimination_matrix_hh_N=10.npz\n",
      "Loaded cached matrix from matrix_cache/elimination_matrix_hh_N=10.npz\n",
      "Loaded cached matrix from matrix_cache/duplication_matrix_hh_N=10.npz\n",
      "Loaded cached matrix from matrix_cache/elimination_matrix_hh_N=10.npz\n",
      "Loaded cached matrix from matrix_cache/duplication_matrix_hh_N=10.npz\n",
      "Loaded cached matrix from matrix_cache/elimination_matrix_hh_N=10.npz\n",
      "Loaded cached matrix from matrix_cache/duplication_matrix_hh_N=10.npz\n",
      "Loaded cached matrix from matrix_cache/elimination_matrix_hh_N=10.npz\n",
      "Loaded cached matrix from matrix_cache/elimination_matrix_hh_N=10.npz\n",
      "Loaded cached matrix from matrix_cache/duplication_matrix_hh_N=10.npz\n",
      "Loaded cached matrix from matrix_cache/duplication_matrix_hh_N=10.npz\n",
      "Loaded cached matrix from matrix_cache/elimination_matrix_hh_N=10.npz\n",
      "Loaded cached matrix from matrix_cache/duplication_matrix_hh_N=10.npz\n",
      "Loaded cached matrix from matrix_cache/elimination_matrix_hh_N=10.npz\n",
      "Loaded cached matrix from matrix_cache/elimination_matrix_hh_N=10.npz\n",
      "Loaded cached matrix from matrix_cache/duplication_matrix_hh_N=10.npz\n",
      "Loaded cached matrix from matrix_cache/elimination_matrix_hh_N=10.npz\n",
      "Loaded cached matrix from matrix_cache/duplication_matrix_hh_N=10.npz\n",
      "Loaded cached matrix from matrix_cache/elimination_matrix_hh_N=10.npz\n",
      "Loaded cached matrix from matrix_cache/duplication_matrix_hh_N=10.npz\n",
      "Loaded cached matrix from matrix_cache/elimination_matrix_hh_N=10.npz\n",
      "Loaded cached matrix from matrix_cache/elimination_matrix_hh_N=10.npz\n",
      "Loaded cached matrix from matrix_cache/duplication_matrix_hh_N=10.npz\n",
      "Loaded cached matrix from matrix_cache/elimination_matrix_hh_N=10.npz\n",
      "Loaded cached matrix from matrix_cache/duplication_matrix_hh_N=10.npz\n",
      "Loaded cached matrix from matrix_cache/elimination_matrix_hh_N=10.npz\n",
      "Loaded cached matrix from matrix_cache/duplication_matrix_hh_N=10.npz\n",
      "Loaded cached matrix from matrix_cache/elimination_matrix_hh_N=10.npz\n",
      "Loaded cached matrix from matrix_cache/duplication_matrix_hh_N=10.npz\n",
      "Loaded cached matrix from matrix_cache/elimination_matrix_hh_N=10.npz\n",
      "Loaded cached matrix from matrix_cache/duplication_matrix_hh_N=10.npz\n",
      "Loaded cached matrix from matrix_cache/elimination_matrix_hh_N=10.npz\n",
      "Loaded cached matrix from matrix_cache/duplication_matrix_hh_N=10.npz\n",
      "Loaded cached matrix from matrix_cache/elimination_matrix_hh_N=10.npz\n",
      "Loaded cached matrix from matrix_cache/duplication_matrix_hh_N=10.npz\n",
      "Loaded cached matrix from matrix_cache/elimination_matrix_hh_N=10.npz\n"
     ]
    },
    {
     "name": "stderr",
     "output_type": "stream",
     "text": [
      "pc_nonsparse_0.999:  13%|█▎        | 2505/20000 [06:59<20:10, 13.82it/s]]]]]]]it/s]  4.30it/s]%|▉         | 1893/20000 [04:02<2:47:52,  1.80it/s]e_0.999:   5%|▍         | 970/20000 [03:36<1:56:28,  2.72it/s]| 1217/20000 [04:13<30:55, 10.12it/s]e_0.999:   6%|▋         | 1285/20000 [04:38<12:36:40,  2.43s/it]:   7%|▋         | 1431/20000 [03:58<10:27:18,  2.03s/it] | 82/20000 [02:08<9:38:50,  1.74s/it]20000 [04:02<11:24:36,  2.11s/it].999:   4%|▍         | 760/20000 [04:55<7:57:03,  1.49s/it]4<9:07:42,  1.73s/it]  2.93s/it]20.01it/s]  | 1556/20000 [06:03<21:56, 14.01it/s]se_0.999:   3%|▎         | 509/20000 [03:39<39:13,  8.28it/s]  | 747/20000 [03:48<1:04:56,  4.94it/s]<11:35, 25.87it/s]         | 998/20000 [04:00<20:58, 15.10it/s]"
     ]
    },
    {
     "name": "stdout",
     "output_type": "stream",
     "text": [
      "Loaded cached matrix from matrix_cache/duplication_matrix_hh_N=10.npz\n",
      "Loaded cached matrix from matrix_cache/duplication_matrix_hh_N=10.npz\n",
      "Loaded cached matrix from matrix_cache/duplication_matrix_hh_N=10.npz\n",
      "Loaded cached matrix from matrix_cache/elimination_matrix_hh_N=10.npz\n",
      "Loaded cached matrix from matrix_cache/elimination_matrix_hh_N=10.npz\n",
      "Loaded cached matrix from matrix_cache/elimination_matrix_hh_N=10.npz\n",
      "Loaded cached matrix from matrix_cache/duplication_matrix_hh_N=10.npz\n",
      "Loaded cached matrix from matrix_cache/elimination_matrix_hh_N=10.npz\n",
      "Loaded cached matrix from matrix_cache/duplication_matrix_hh_N=10.npz\n",
      "Loaded cached matrix from matrix_cache/elimination_matrix_hh_N=10.npz\n",
      "Loaded cached matrix from matrix_cache/duplication_matrix_hh_N=10.npz\n",
      "Loaded cached matrix from matrix_cache/elimination_matrix_hh_N=10.npz\n",
      "Loaded cached matrix from matrix_cache/duplication_matrix_hh_N=10.npz\n",
      "Loaded cached matrix from matrix_cache/elimination_matrix_hh_N=10.npz\n",
      "Loaded cached matrix from matrix_cache/duplication_matrix_hh_N=10.npz\n",
      "Loaded cached matrix from matrix_cache/elimination_matrix_hh_N=10.npz\n",
      "Loaded cached matrix from matrix_cache/duplication_matrix_hh_N=10.npz\n",
      "Loaded cached matrix from matrix_cache/elimination_matrix_hh_N=10.npz\n",
      "Loaded cached matrix from matrix_cache/duplication_matrix_hh_N=10.npz\n",
      "Loaded cached matrix from matrix_cache/elimination_matrix_hh_N=10.npz\n",
      "Loaded cached matrix from matrix_cache/duplication_matrix_hh_N=10.npz\n",
      "Loaded cached matrix from matrix_cache/elimination_matrix_hh_N=10.npz\n",
      "Loaded cached matrix from matrix_cache/duplication_matrix_hh_N=10.npz\n",
      "Loaded cached matrix from matrix_cache/elimination_matrix_hh_N=10.npz\n",
      "Loaded cached matrix from matrix_cache/duplication_matrix_hh_N=10.npz\n",
      "Loaded cached matrix from matrix_cache/elimination_matrix_hh_N=10.npz\n",
      "Loaded cached matrix from matrix_cache/duplication_matrix_hh_N=10.npz\n",
      "Loaded cached matrix from matrix_cache/elimination_matrix_hh_N=10.npz\n",
      "Loaded cached matrix from matrix_cache/duplication_matrix_hh_N=10.npz\n",
      "Loaded cached matrix from matrix_cache/elimination_matrix_hh_N=10.npz\n",
      "Loaded cached matrix from matrix_cache/duplication_matrix_hh_N=10.npz\n",
      "Loaded cached matrix from matrix_cache/elimination_matrix_hh_N=10.npz\n",
      "Loaded cached matrix from matrix_cache/duplication_matrix_hh_N=10.npz\n",
      "Loaded cached matrix from matrix_cache/elimination_matrix_hh_N=10.npz\n",
      "Loaded cached matrix from matrix_cache/duplication_matrix_hh_N=10.npz\n",
      "Loaded cached matrix from matrix_cache/elimination_matrix_hh_N=10.npz\n",
      "Loaded cached matrix from matrix_cache/duplication_matrix_hh_N=10.npz\n",
      "Loaded cached matrix from matrix_cache/elimination_matrix_hh_N=10.npz\n",
      "Loaded cached matrix from matrix_cache/duplication_matrix_hh_N=10.npz\n",
      "Loaded cached matrix from matrix_cache/elimination_matrix_hh_N=10.npz\n",
      "Loaded cached matrix from matrix_cache/duplication_matrix_hh_N=10.npz\n",
      "Loaded cached matrix from matrix_cache/elimination_matrix_hh_N=10.npz\n",
      "Loaded cached matrix from matrix_cache/duplication_matrix_hh_N=10.npz\n",
      "Loaded cached matrix from matrix_cache/elimination_matrix_hh_N=10.npz\n",
      "Loaded cached matrix from matrix_cache/duplication_matrix_hh_N=10.npz\n",
      "Loaded cached matrix from matrix_cache/elimination_matrix_hh_N=10.npz\n",
      "Loaded cached matrix from matrix_cache/duplication_matrix_hh_N=10.npz\n",
      "Loaded cached matrix from matrix_cache/elimination_matrix_hh_N=10.npz\n",
      "Loaded cached matrix from matrix_cache/duplication_matrix_hh_N=10.npz\n",
      "Loaded cached matrix from matrix_cache/elimination_matrix_hh_N=10.npz\n",
      "Loaded cached matrix from matrix_cache/duplication_matrix_hh_N=10.npz\n",
      "Loaded cached matrix from matrix_cache/elimination_matrix_hh_N=10.npz\n",
      "Loaded cached matrix from matrix_cache/duplication_matrix_hh_N=10.npz\n",
      "Loaded cached matrix from matrix_cache/elimination_matrix_hh_N=10.npz\n",
      "Loaded cached matrix from matrix_cache/duplication_matrix_hh_N=10.npz\n",
      "Loaded cached matrix from matrix_cache/elimination_matrix_hh_N=10.npz\n",
      "Loaded cached matrix from matrix_cache/duplication_matrix_hh_N=10.npz\n",
      "Loaded cached matrix from matrix_cache/duplication_matrix_hh_N=10.npz\n",
      "Loaded cached matrix from matrix_cache/elimination_matrix_hh_N=10.npz\n",
      "Loaded cached matrix from matrix_cache/elimination_matrix_hh_N=10.npz\n",
      "Loaded cached matrix from matrix_cache/duplication_matrix_hh_N=10.npz\n",
      "Loaded cached matrix from matrix_cache/duplication_matrix_hh_N=10.npz\n",
      "Loaded cached matrix from matrix_cache/elimination_matrix_hh_N=10.npz\n",
      "Loaded cached matrix from matrix_cache/elimination_matrix_hh_N=10.npz\n",
      "Loaded cached matrix from matrix_cache/duplication_matrix_hh_N=10.npz\n",
      "Loaded cached matrix from matrix_cache/elimination_matrix_hh_N=10.npz\n",
      "Loaded cached matrix from matrix_cache/duplication_matrix_hh_N=10.npz\n",
      "Loaded cached matrix from matrix_cache/elimination_matrix_hh_N=10.npz\n",
      "Loaded cached matrix from matrix_cache/duplication_matrix_hh_N=10.npz\n",
      "Loaded cached matrix from matrix_cache/elimination_matrix_hh_N=10.npz\n",
      "Loaded cached matrix from matrix_cache/duplication_matrix_hh_N=10.npz\n",
      "Loaded cached matrix from matrix_cache/elimination_matrix_hh_N=10.npz\n",
      "Loaded cached matrix from matrix_cache/duplication_matrix_hh_N=10.npz\n",
      "Loaded cached matrix from matrix_cache/elimination_matrix_hh_N=10.npz\n",
      "Loaded cached matrix from matrix_cache/duplication_matrix_hh_N=10.npz\n",
      "Loaded cached matrix from matrix_cache/elimination_matrix_hh_N=10.npz\n",
      "Loaded cached matrix from matrix_cache/duplication_matrix_hh_N=10.npz\n",
      "Loaded cached matrix from matrix_cache/elimination_matrix_hh_N=10.npz\n"
     ]
    },
    {
     "name": "stderr",
     "output_type": "stream",
     "text": [
      "pc_nonsparse_0.999:   5%|▍         | 960/20000 [04:05<29:13, 10.86it/s]Python(62909) MallocStackLogging: can't turn off malloc stack logging because it was not enabled.\n",
      "pc_nonsparse_0.999:  12%|█▏        | 2465/20000 [06:06<14:14, 20.53it/s]Python(62903) MallocStackLogging: can't turn off malloc stack logging because it was not enabled.\n",
      "pc_nonsparse_0.999:  12%|█▏        | 2463/20000 [07:35<26:14, 11.14it/s]s] ] 14%|█▎        | 2744/20000 [07:23<1:05:51,  4.37it/s].999:   0%|          | 33/20000 [00:18<1:21:59,  4.06it/s]19%|█▉        | 3800/20000 [07:28<1:52:34,  2.40it/s]▊         | 1677/20000 [06:34<40:54,  7.47it/s]10:13,  2.55it/s]█▎       | 4586/20000 [07:28<1:14:35,  3.44it/s]:23:46,  3.64it/s]/s]parse_0.999:  20%|██        | 4001/20000 [09:35<26:59,  9.88it/s]  9/20000 [01:33<2:21:55,  2.29it/s]0%|██▉       | 5961/20000 [10:16<2:09:06,  1.81it/s]]"
     ]
    },
    {
     "name": "stdout",
     "output_type": "stream",
     "text": [
      "Loaded cached matrix from matrix_cache/duplication_matrix_hh_N=10.npz\n",
      "Loaded cached matrix from matrix_cache/duplication_matrix_hh_N=10.npz\n",
      "Loaded cached matrix from matrix_cache/duplication_matrix_hh_N=10.npz\n",
      "Loaded cached matrix from matrix_cache/elimination_matrix_hh_N=10.npz\n"
     ]
    },
    {
     "name": "stderr",
     "output_type": "stream",
     "text": [
      "pc_nonsparse_0.999:  85%|████████▌ | 17001/20000 [11:36<08:26,  5.93it/s]]]"
     ]
    },
    {
     "name": "stdout",
     "output_type": "stream",
     "text": [
      "Loaded cached matrix from matrix_cache/elimination_matrix_hh_N=10.npz\n",
      "Loaded cached matrix from matrix_cache/elimination_matrix_hh_N=10.npz\n",
      "Loaded cached matrix from matrix_cache/duplication_matrix_hh_N=10.npz\n",
      "Loaded cached matrix from matrix_cache/duplication_matrix_hh_N=10.npz\n",
      "Loaded cached matrix from matrix_cache/elimination_matrix_hh_N=10.npz\n",
      "Loaded cached matrix from matrix_cache/duplication_matrix_hh_N=10.npz\n",
      "Loaded cached matrix from matrix_cache/duplication_matrix_hh_N=10.npz\n",
      "Loaded cached matrix from matrix_cache/duplication_matrix_hh_N=10.npz\n",
      "Loaded cached matrix from matrix_cache/elimination_matrix_hh_N=10.npz\n",
      "Loaded cached matrix from matrix_cache/duplication_matrix_hh_N=10.npz\n",
      "Loaded cached matrix from matrix_cache/duplication_matrix_hh_N=10.npz\n",
      "Loaded cached matrix from matrix_cache/elimination_matrix_hh_N=10.npz\n",
      "Loaded cached matrix from matrix_cache/elimination_matrix_hh_N=10.npz\n",
      "Loaded cached matrix from matrix_cache/elimination_matrix_hh_N=10.npz\n",
      "Loaded cached matrix from matrix_cache/elimination_matrix_hh_N=10.npz\n",
      "Loaded cached matrix from matrix_cache/elimination_matrix_hh_N=10.npz\n",
      "Loaded cached matrix from matrix_cache/duplication_matrix_hh_N=10.npz\n"
     ]
    },
    {
     "name": "stderr",
     "output_type": "stream",
     "text": [
      "pc_nonsparse_0.999:  11%|█▏        | 2267/20000 [06:39<35:12,  8.39it/s]s]s]"
     ]
    },
    {
     "name": "stdout",
     "output_type": "stream",
     "text": [
      "Loaded cached matrix from matrix_cache/duplication_matrix_hh_N=10.npz\n",
      "Loaded cached matrix from matrix_cache/elimination_matrix_hh_N=10.npz\n",
      "Loaded cached matrix from matrix_cache/duplication_matrix_hh_N=10.npz\n",
      "Loaded cached matrix from matrix_cache/elimination_matrix_hh_N=10.npz\n",
      "Loaded cached matrix from matrix_cache/duplication_matrix_hh_N=10.npz\n",
      "Loaded cached matrix from matrix_cache/elimination_matrix_hh_N=10.npz\n",
      "Loaded cached matrix from matrix_cache/duplication_matrix_hh_N=10.npz\n",
      "Loaded cached matrix from matrix_cache/elimination_matrix_hh_N=10.npz\n",
      "Loaded cached matrix from matrix_cache/elimination_matrix_hh_N=10.npz\n",
      "Loaded cached matrix from matrix_cache/duplication_matrix_hh_N=10.npz\n"
     ]
    },
    {
     "name": "stderr",
     "output_type": "stream",
     "text": [
      "pc_nonsparse_0.999:  15%|█▌        | 3067/20000 [05:46<33:41,  8.38it/s]s]"
     ]
    },
    {
     "name": "stdout",
     "output_type": "stream",
     "text": [
      "Loaded cached matrix from matrix_cache/duplication_matrix_hh_N=10.npz\n",
      "Loaded cached matrix from matrix_cache/elimination_matrix_hh_N=10.npz\n",
      "Loaded cached matrix from matrix_cache/elimination_matrix_hh_N=10.npz\n",
      "Loaded cached matrix from matrix_cache/duplication_matrix_hh_N=10.npz\n",
      "Loaded cached matrix from matrix_cache/elimination_matrix_hh_N=10.npz\n"
     ]
    },
    {
     "name": "stderr",
     "output_type": "stream",
     "text": [
      "pc_nonsparse_0.999:  22%|██        | 2673/20000 [08:29<52:24,  5.51it/s]  ]]1:45:01,  2.49it/s]08:53,  4.04it/s]]"
     ]
    },
    {
     "name": "stdout",
     "output_type": "stream",
     "text": [
      "Loaded cached matrix from matrix_cache/duplication_matrix_hh_N=10.npz\n",
      "Loaded cached matrix from matrix_cache/duplication_matrix_hh_N=10.npz\n",
      "Loaded cached matrix from matrix_cache/duplication_matrix_hh_N=10.npz\n",
      "Loaded cached matrix from matrix_cache/duplication_matrix_hh_N=10.npz\n",
      "Loaded cached matrix from matrix_cache/elimination_matrix_hh_N=10.npz\n",
      "Loaded cached matrix from matrix_cache/duplication_matrix_hh_N=10.npz\n",
      "Loaded cached matrix from matrix_cache/duplication_matrix_hh_N=10.npz\n",
      "Loaded cached matrix from matrix_cache/duplication_matrix_hh_N=10.npz\n",
      "Loaded cached matrix from matrix_cache/elimination_matrix_hh_N=10.npz\n",
      "Loaded cached matrix from matrix_cache/elimination_matrix_hh_N=10.npz\n",
      "Loaded cached matrix from matrix_cache/elimination_matrix_hh_N=10.npz\n",
      "Loaded cached matrix from matrix_cache/duplication_matrix_hh_N=10.npz\n",
      "Loaded cached matrix from matrix_cache/elimination_matrix_hh_N=10.npz\n",
      "Loaded cached matrix from matrix_cache/duplication_matrix_hh_N=10.npz\n",
      "Loaded cached matrix from matrix_cache/elimination_matrix_hh_N=10.npz\n",
      "Loaded cached matrix from matrix_cache/duplication_matrix_hh_N=10.npz\n",
      "Loaded cached matrix from matrix_cache/duplication_matrix_hh_N=10.npz\n",
      "Loaded cached matrix from matrix_cache/elimination_matrix_hh_N=10.npz\n",
      "Loaded cached matrix from matrix_cache/elimination_matrix_hh_N=10.npz\n",
      "Loaded cached matrix from matrix_cache/duplication_matrix_hh_N=10.npz\n",
      "Loaded cached matrix from matrix_cache/elimination_matrix_hh_N=10.npz\n",
      "Loaded cached matrix from matrix_cache/elimination_matrix_hh_N=10.npz\n",
      "Loaded cached matrix from matrix_cache/elimination_matrix_hh_N=10.npz\n",
      "Loaded cached matrix from matrix_cache/elimination_matrix_hh_N=10.npz\n",
      "Loaded cached matrix from matrix_cache/duplication_matrix_hh_N=10.npz\n",
      "Loaded cached matrix from matrix_cache/elimination_matrix_hh_N=10.npz\n",
      "Loaded cached matrix from matrix_cache/duplication_matrix_hh_N=10.npz\n",
      "Loaded cached matrix from matrix_cache/duplication_matrix_hh_N=10.npz\n",
      "Loaded cached matrix from matrix_cache/duplication_matrix_hh_N=10.npz\n",
      "Loaded cached matrix from matrix_cache/elimination_matrix_hh_N=10.npz\n",
      "Loaded cached matrix from matrix_cache/elimination_matrix_hh_N=10.npz\n",
      "Loaded cached matrix from matrix_cache/duplication_matrix_hh_N=10.npz\n",
      "Loaded cached matrix from matrix_cache/elimination_matrix_hh_N=10.npz\n",
      "Loaded cached matrix from matrix_cache/duplication_matrix_hh_N=10.npz\n",
      "Loaded cached matrix from matrix_cache/duplication_matrix_hh_N=10.npz\n",
      "Loaded cached matrix from matrix_cache/elimination_matrix_hh_N=10.npz\n",
      "Loaded cached matrix from matrix_cache/elimination_matrix_hh_N=10.npz\n",
      "Loaded cached matrix from matrix_cache/elimination_matrix_hh_N=10.npz\n",
      "Loaded cached matrix from matrix_cache/duplication_matrix_hh_N=10.npz\n",
      "Loaded cached matrix from matrix_cache/elimination_matrix_hh_N=10.npz\n",
      "Loaded cached matrix from matrix_cache/duplication_matrix_hh_N=10.npz\n",
      "Loaded cached matrix from matrix_cache/elimination_matrix_hh_N=10.npz\n",
      "Loaded cached matrix from matrix_cache/duplication_matrix_hh_N=10.npz\n",
      "Loaded cached matrix from matrix_cache/duplication_matrix_hh_N=10.npz\n",
      "Loaded cached matrix from matrix_cache/elimination_matrix_hh_N=10.npz\n",
      "Loaded cached matrix from matrix_cache/duplication_matrix_hh_N=10.npz\n",
      "Loaded cached matrix from matrix_cache/elimination_matrix_hh_N=10.npz\n",
      "Loaded cached matrix from matrix_cache/duplication_matrix_hh_N=10.npz\n",
      "Loaded cached matrix from matrix_cache/elimination_matrix_hh_N=10.npz\n",
      "Loaded cached matrix from matrix_cache/duplication_matrix_hh_N=10.npz\n",
      "Loaded cached matrix from matrix_cache/duplication_matrix_hh_N=10.npz\n",
      "Loaded cached matrix from matrix_cache/elimination_matrix_hh_N=10.npz\n",
      "Loaded cached matrix from matrix_cache/elimination_matrix_hh_N=10.npz\n",
      "Loaded cached matrix from matrix_cache/duplication_matrix_hh_N=10.npz\n",
      "Loaded cached matrix from matrix_cache/elimination_matrix_hh_N=10.npz\n",
      "Loaded cached matrix from matrix_cache/elimination_matrix_hh_N=10.npz\n",
      "Loaded cached matrix from matrix_cache/duplication_matrix_hh_N=10.npz\n",
      "Loaded cached matrix from matrix_cache/elimination_matrix_hh_N=10.npz\n",
      "Loaded cached matrix from matrix_cache/duplication_matrix_hh_N=10.npz\n",
      "Loaded cached matrix from matrix_cache/elimination_matrix_hh_N=10.npz\n",
      "Loaded cached matrix from matrix_cache/duplication_matrix_hh_N=10.npz\n",
      "Loaded cached matrix from matrix_cache/elimination_matrix_hh_N=10.npz\n",
      "Loaded cached matrix from matrix_cache/duplication_matrix_hh_N=10.npz\n",
      "Loaded cached matrix from matrix_cache/elimination_matrix_hh_N=10.npz\n",
      "Loaded cached matrix from matrix_cache/duplication_matrix_hh_N=10.npz\n",
      "Loaded cached matrix from matrix_cache/elimination_matrix_hh_N=10.npz\n"
     ]
    },
    {
     "name": "stderr",
     "output_type": "stream",
     "text": [
      "pc_nonsparse_0.999:  29%|██▉       | 5889/20000 [12:15<08:24, 27.98it/s]Python(63248) MallocStackLogging: can't turn off malloc stack logging because it was not enabled.000 [12:28<1:36:22,  2.16it/s]██▎       | 4582/20000 [10:56<18:02, 14.25it/s]\n",
      "pc_nonsparse_0.999:  17%|█▋        | 3371/20000 [09:14<5:45:37,  1.25s/it]Python(63319) MallocStackLogging: can't turn off malloc stack logging because it was not enabled.1.69s/it]se_0.999:  35%|███▌      | 7064/20000 [12:36<4:42:54,  1.31s/it]\n",
      "Python(63288) MallocStackLogging: can't turn off malloc stack logging because it was not enabled.\n",
      "Python(63327) MallocStackLogging: can't turn off malloc stack logging because it was not enabled.\n",
      "Python(63333) MallocStackLogging: can't turn off malloc stack logging because it was not enabled.\n",
      "Python(63334) MallocStackLogging: can't turn off malloc stack logging because it was not enabled.\n",
      "Python(63298) MallocStackLogging: can't turn off malloc stack logging because it was not enabled.\n",
      "Python(63281) MallocStackLogging: can't turn off malloc stack logging because it was not enabled.\n",
      "pc_nonsparse_0.999:  21%|██        | 4200/20000 [11:15<14:25, 18.25it/s]Python(63330) MallocStackLogging: can't turn off malloc stack logging because it was not enabled.\n",
      "pc_nonsparse_0.999:  21%|██        | 4209/20000 [12:18<1:41:48,  2.59it/s]Python(63329) MallocStackLogging: can't turn off malloc stack logging because it was not enabled.\n",
      "pc_nonsparse_0.999:  20%|██        | 4032/20000 [10:49<4:48:58,  1.09s/it]Python(63307) MallocStackLogging: can't turn off malloc stack logging because it was not enabled.\n",
      "pc_nonsparse_0.999:  15%|█▍        | 2984/20000 [08:34<3:09:49,  1.49it/s]Python(63326) MallocStackLogging: can't turn off malloc stack logging because it was not enabled.\n",
      "Python(63325) MallocStackLogging: can't turn off malloc stack logging because it was not enabled.\n",
      "pc_nonsparse_0.999:  15%|█▌        | 3086/20000 [09:15<4:09:15,  1.13it/s]Python(63308) MallocStackLogging: can't turn off malloc stack logging because it was not enabled.\n",
      "Python(63302) MallocStackLogging: can't turn off malloc stack logging because it was not enabled.\n",
      "pc_nonsparse_0.999:  20%|██        | 4094/20000 [11:35<16:38:20,  3.77s/it]Python(63331) MallocStackLogging: can't turn off malloc stack logging because it was not enabled.\n",
      "pc_nonsparse_0.999:   4%|▍         | 783/20000 [01:51<6:51:44,  1.29s/it]Python(63304) MallocStackLogging: can't turn off malloc stack logging because it was not enabled.\n",
      "pc_nonsparse_0.999:  92%|█████████▏| 18438/20000 [14:20<24:58,  1.04it/s]Python(63301) MallocStackLogging: can't turn off malloc stack logging because it was not enabled.\n",
      "Python(63300) MallocStackLogging: can't turn off malloc stack logging because it was not enabled.\n",
      "Python(63317) MallocStackLogging: can't turn off malloc stack logging because it was not enabled.\n",
      "Python(63316) MallocStackLogging: can't turn off malloc stack logging because it was not enabled.\n",
      "Python(63314) MallocStackLogging: can't turn off malloc stack logging because it was not enabled.\n",
      "pc_nonsparse_0.999:  21%|██        | 4131/20000 [11:19<1:28:40,  2.98it/s]Python(63328) MallocStackLogging: can't turn off malloc stack logging because it was not enabled.\n",
      "pc_nonsparse_0.999:  17%|█▋        | 3424/20000 [09:16<3:26:55,  1.34it/s]Python(63332) MallocStackLogging: can't turn off malloc stack logging because it was not enabled.\n",
      "Python(63297) MallocStackLogging: can't turn off malloc stack logging because it was not enabled.\n",
      "pc_nonsparse_0.999:  27%|██▋       | 5304/20000 [09:14<1:41:43,  2.41it/s]Python(63299) MallocStackLogging: can't turn off malloc stack logging because it was not enabled.\n",
      "pc_nonsparse_0.999:  17%|█▋        | 3490/20000 [10:26<2:48:27,  1.63it/s]Python(63285) MallocStackLogging: can't turn off malloc stack logging because it was not enabled.\n",
      "pc_nonsparse_0.999:  15%|█▍        | 2913/20000 [08:24<7:09:39,  1.51s/it]Python(63283) MallocStackLogging: can't turn off malloc stack logging because it was not enabled.\n",
      "pc_nonsparse_0.999:  26%|██▌       | 5176/20000 [09:18<34:12,  7.22it/s]Python(63292) MallocStackLogging: can't turn off malloc stack logging because it was not enabled.\n",
      "Python(63293) MallocStackLogging: can't turn off malloc stack logging because it was not enabled.\n",
      "Python(63291) MallocStackLogging: can't turn off malloc stack logging because it was not enabled.\n",
      "pc_nonsparse_0.999:   4%|▎         | 715/20000 [01:51<2:13:10,  2.41it/s]Python(63321) MallocStackLogging: can't turn off malloc stack logging because it was not enabled.\n",
      "Python(63295) MallocStackLogging: can't turn off malloc stack logging because it was not enabled.\n",
      "Python(63290) MallocStackLogging: can't turn off malloc stack logging because it was not enabled.\n",
      "pc_nonsparse_0.999:  16%|█▌        | 3185/20000 [09:19<5:44:34,  1.23s/it]Python(63287) MallocStackLogging: can't turn off malloc stack logging because it was not enabled.\n",
      "Python(63303) MallocStackLogging: can't turn off malloc stack logging because it was not enabled.\n",
      "pc_nonsparse_0.999:  24%|██▍       | 4859/20000 [12:16<1:52:19,  2.25it/s]Python(63315) MallocStackLogging: can't turn off malloc stack logging because it was not enabled.\n",
      "pc_nonsparse_0.999:  13%|█▎        | 2638/20000 [05:07<7:01:49,  1.46s/it]Python(63294) MallocStackLogging: can't turn off malloc stack logging because it was not enabled.\n",
      "Python(63305) MallocStackLogging: can't turn off malloc stack logging because it was not enabled.\n",
      "pc_nonsparse_0.999:  18%|█▊        | 3665/20000 [10:28<15:08:41,  3.34s/it]Python(63306) MallocStackLogging: can't turn off malloc stack logging because it was not enabled.\n",
      "pc_nonsparse_0.999:   8%|▊         | 1677/20000 [05:06<1:44:44,  2.92it/s]Python(63284) MallocStackLogging: can't turn off malloc stack logging because it was not enabled.\n",
      "pc_nonsparse_0.999:  25%|██▌       | 5089/20000 [12:16<1:44:11,  2.39it/s]Python(63322) MallocStackLogging: can't turn off malloc stack logging because it was not enabled.\n",
      "pc_nonsparse_0.999:  19%|█▊        | 3729/20000 [09:18<4:44:10,  1.05s/it]Python(63309) MallocStackLogging: can't turn off malloc stack logging because it was not enabled.\n",
      "pc_nonsparse_0.999:  25%|██▌       | 5035/20000 [12:11<1:54:59,  2.17it/s]Python(63324) MallocStackLogging: can't turn off malloc stack logging because it was not enabled.\n",
      "pc_nonsparse_0.999:  16%|█▋        | 3273/20000 [09:24<4:02:27,  1.15it/s]Python(63310) MallocStackLogging: can't turn off malloc stack logging because it was not enabled.\n",
      "Python(63323) MallocStackLogging: can't turn off malloc stack logging because it was not enabled.\n",
      "Python(63313) MallocStackLogging: can't turn off malloc stack logging because it was not enabled.\n",
      "Python(63320) MallocStackLogging: can't turn off malloc stack logging because it was not enabled.\n",
      "pc_nonsparse_0.999:  30%|██▉       | 5954/20000 [12:48<57:18,  4.08it/s]  Python(63296) MallocStackLogging: can't turn off malloc stack logging because it was not enabled.\n",
      "Python(63289) MallocStackLogging: can't turn off malloc stack logging because it was not enabled.\n",
      "Python(63318) MallocStackLogging: can't turn off malloc stack logging because it was not enabled.\n",
      "Python(63280) MallocStackLogging: can't turn off malloc stack logging because it was not enabled.\n",
      "pc_nonsparse_0.999:  21%|██▏       | 4254/20000 [10:40<6:22:43,  1.46s/it]Python(63282) MallocStackLogging: can't turn off malloc stack logging because it was not enabled.\n",
      "pc_nonsparse_0.999:  18%|█▊        | 3591/20000 [09:10<8:14:02,  1.81s/it]Python(63312) MallocStackLogging: can't turn off malloc stack logging because it was not enabled.\n",
      "Python(63311) MallocStackLogging: can't turn off malloc stack logging because it was not enabled.\n",
      "pc_nonsparse_0.999:  18%|█▊        | 3590/20000 [09:19<1:28:51,  3.08it/s]Python(63286) MallocStackLogging: can't turn off malloc stack logging because it was not enabled.\n",
      "pc_nonsparse_0.999:  19%|█▉        | 3870/20000 [08:45<3:13:37,  1.39it/s]Python(63342) MallocStackLogging: can't turn off malloc stack logging because it was not enabled.\n",
      "pc_nonsparse_0.999:  11%|█         | 2134/20000 [05:43<49:13,  6.05it/s]  Python(63360) MallocStackLogging: can't turn off malloc stack logging because it was not enabled.1.22it/s]\n",
      "pc_nonsparse_0.999:  28%|██▊       | 5620/20000 [12:56<3:58:45,  1.00it/s]Python(63369) MallocStackLogging: can't turn off malloc stack logging because it was not enabled.\n",
      "pc_nonsparse_0.999:  32%|███▏      | 6366/20000 [13:18<2:15:30,  1.68it/s]Python(63394) MallocStackLogging: can't turn off malloc stack logging because it was not enabled.\n",
      "Python(63374) MallocStackLogging: can't turn off malloc stack logging because it was not enabled.\n",
      "Python(63397) MallocStackLogging: can't turn off malloc stack logging because it was not enabled.\n",
      "pc_nonsparse_0.999:  19%|█▉        | 3817/20000 [10:01<40:45,  6.62it/s]  Python(63393) MallocStackLogging: can't turn off malloc stack logging because it was not enabled.\n",
      "pc_nonsparse_0.999:  15%|█▍        | 2952/20000 [09:06<3:00:30,  1.57it/s]Python(63396) MallocStackLogging: can't turn off malloc stack logging because it was not enabled.\n",
      "pc_nonsparse_0.999:  12%|█▏        | 2335/20000 [05:49<3:53:34,  1.26it/s]Python(63371) MallocStackLogging: can't turn off malloc stack logging because it was not enabled.\n",
      "pc_nonsparse_0.999:  25%|██▌       | 5030/20000 [10:01<2:48:33,  1.48it/s]Python(63389) MallocStackLogging: can't turn off malloc stack logging because it was not enabled.\n",
      "Python(63375) MallocStackLogging: can't turn off malloc stack logging because it was not enabled.\n",
      "Python(63392) MallocStackLogging: can't turn off malloc stack logging because it was not enabled.\n",
      "pc_nonsparse_0.999:  19%|█▉        | 3799/20000 [09:06<2:33:38,  1.76it/s]Python(63385) MallocStackLogging: can't turn off malloc stack logging because it was not enabled.\n",
      "Python(63372) MallocStackLogging: can't turn off malloc stack logging because it was not enabled.\n",
      "pc_nonsparse_0.999:  23%|██▎       | 4517/20000 [12:43<1:38:49,  2.61it/s]Python(63391) MallocStackLogging: can't turn off malloc stack logging because it was not enabled.\n",
      "Python(63373) MallocStackLogging: can't turn off malloc stack logging because it was not enabled.\n",
      "pc_nonsparse_0.999:  31%|███▏      | 6266/20000 [13:43<4:06:48,  1.08s/it]Python(63370) MallocStackLogging: can't turn off malloc stack logging because it was not enabled.\n",
      "pc_nonsparse_0.999:  20%|█▉        | 3991/20000 [10:01<1:08:58,  3.87it/s]Python(63376) MallocStackLogging: can't turn off malloc stack logging because it was not enabled.\n",
      "pc_nonsparse_0.999:  19%|█▉        | 3831/20000 [10:01<3:20:55,  1.34it/s]Python(63378) MallocStackLogging: can't turn off malloc stack logging because it was not enabled.\n",
      "pc_nonsparse_0.999:  15%|█▍        | 2968/20000 [09:11<2:48:53,  1.68it/s]Python(63380) MallocStackLogging: can't turn off malloc stack logging because it was not enabled.\n",
      "pc_nonsparse_0.999:  35%|███▍      | 6949/20000 [14:11<1:04:53,  3.35it/s]Python(63377) MallocStackLogging: can't turn off malloc stack logging because it was not enabled.\n",
      "pc_nonsparse_0.999:  24%|██▍       | 4767/20000 [13:03<1:48:35,  2.34it/s]Python(63412) MallocStackLogging: can't turn off malloc stack logging because it was not enabled.8<6:51:16,  1.57s/it].22s/it]34:59,  1.65s/it]     | 4332/20000 [13:09<6:12:57,  1.43s/it]       | 5169/20000 [13:13<3:10:03,  1.30it/s]\n",
      "Python(63416) MallocStackLogging: can't turn off malloc stack logging because it was not enabled.\n",
      "pc_nonsparse_0.999:  22%|██▏       | 4403/20000 [12:49<2:51:50,  1.51it/s]Python(63417) MallocStackLogging: can't turn off malloc stack logging because it was not enabled.\n",
      "Python(63420) MallocStackLogging: can't turn off malloc stack logging because it was not enabled.\n",
      "pc_nonsparse_0.999:  11%|█         | 2211/20000 [05:59<4:23:13,  1.13it/s]Python(63421) MallocStackLogging: can't turn off malloc stack logging because it was not enabled.\n",
      "pc_nonsparse_0.999:  19%|█▉        | 3888/20000 [10:57<3:31:54,  1.27it/s]Python(63422) MallocStackLogging: can't turn off malloc stack logging because it was not enabled.\n",
      "pc_nonsparse_0.999:  21%|██▏       | 4264/20000 [10:17<13:21:35,  3.06s/it]Python(63430) MallocStackLogging: can't turn off malloc stack logging because it was not enabled.\n",
      "pc_nonsparse_0.999:  17%|█▋        | 3463/20000 [11:05<1:16:50,  3.59it/s]Python(63428) MallocStackLogging: can't turn off malloc stack logging because it was not enabled.\n",
      "pc_nonsparse_0.999:  16%|█▋        | 3300/20000 [10:22<15:42:07,  3.38s/it]Python(63429) MallocStackLogging: can't turn off malloc stack logging because it was not enabled.\n",
      "pc_nonsparse_0.999:  26%|██▌       | 5181/20000 [13:27<6:19:22,  1.54s/it]Python(63431) MallocStackLogging: can't turn off malloc stack logging because it was not enabled.\n",
      "pc_nonsparse_0.999:   2%|▏         | 479/20000 [02:57<15:26:12,  2.85s/it]Python(63433) MallocStackLogging: can't turn off malloc stack logging because it was not enabled.\n",
      "pc_nonsparse_0.999:  20%|██        | 4083/20000 [10:24<2:18:00,  1.92it/s]Python(63432) MallocStackLogging: can't turn off malloc stack logging because it was not enabled.\n",
      "pc_nonsparse_0.999:  36%|███▌      | 7147/20000 [15:39<3:06:08,  1.54s/it]]  [13:35<6:46:47,  1.64s/it]c_nonsparse_0.999:  18%|█▊        | 3681/20000 [10:58<1:26:10,  3.16it/s]0 [14:14<2:03:46,  2.08it/s]   | 2749/20000 [11:44<1:58:11,  2.43it/s]2:37:23,  1.73it/s]  1.34s/it]"
     ]
    },
    {
     "name": "stdout",
     "output_type": "stream",
     "text": [
      "Loaded cached matrix from matrix_cache/duplication_matrix_hh_N=10.npz\n",
      "Loaded cached matrix from matrix_cache/elimination_matrix_hh_N=10.npz\n",
      "Loaded cached matrix from matrix_cache/duplication_matrix_hh_N=10.npz\n",
      "Loaded cached matrix from matrix_cache/elimination_matrix_hh_N=10.npz\n",
      "Loaded cached matrix from matrix_cache/duplication_matrix_hh_N=10.npz\n",
      "Loaded cached matrix from matrix_cache/elimination_matrix_hh_N=10.npz\n",
      "Loaded cached matrix from matrix_cache/duplication_matrix_hh_N=10.npz\n",
      "Loaded cached matrix from matrix_cache/elimination_matrix_hh_N=10.npz\n",
      "Loaded cached matrix from matrix_cache/duplication_matrix_hh_N=10.npz\n",
      "Loaded cached matrix from matrix_cache/elimination_matrix_hh_N=10.npz\n",
      "Loaded cached matrix from matrix_cache/duplication_matrix_hh_N=10.npz\n",
      "Loaded cached matrix from matrix_cache/elimination_matrix_hh_N=10.npz\n",
      "Loaded cached matrix from matrix_cache/duplication_matrix_hh_N=10.npz\n",
      "Loaded cached matrix from matrix_cache/elimination_matrix_hh_N=10.npz\n",
      "Loaded cached matrix from matrix_cache/duplication_matrix_hh_N=10.npz\n",
      "Loaded cached matrix from matrix_cache/elimination_matrix_hh_N=10.npz\n",
      "Loaded cached matrix from matrix_cache/duplication_matrix_hh_N=10.npz\n",
      "Loaded cached matrix from matrix_cache/elimination_matrix_hh_N=10.npz\n"
     ]
    },
    {
     "name": "stderr",
     "output_type": "stream",
     "text": [
      "pc_nonsparse_0.999:  25%|█�█▉      | 7804/20000 [18:42<2:40:51,  1.26it/s]s]]     | 1280/20000 [05:23<2:48:57,  1.85it/s]00 [13:54<7:58:24,  1.79s/it]      | 12/20000 [00:07<2:10:11,  2.56it/s]008/20000 [15:57<4:00:04,  1.03s/it]| 7613/20000 [17:40<1:43:50,  1.99it/s]3it/s]358/20000 [06:57<1:29:06,  3.30it/s]]        | 5659/20000 [15:20<2:22:05,  1.68it/s]/s]"
     ]
    },
    {
     "name": "stdout",
     "output_type": "stream",
     "text": [
      "Loaded cached matrix from matrix_cache/duplication_matrix_hh_N=10.npz\n",
      "Loaded cached matrix from matrix_cache/duplication_matrix_hh_N=10.npz\n",
      "Loaded cached matrix from matrix_cache/duplication_matrix_hh_N=10.npz\n",
      "Loaded cached matrix from matrix_cache/duplication_matrix_hh_N=10.npz\n",
      "Loaded cached matrix from matrix_cache/elimination_matrix_hh_N=10.npz\n",
      "Loaded cached matrix from matrix_cache/elimination_matrix_hh_N=10.npz\n",
      "Loaded cached matrix from matrix_cache/elimination_matrix_hh_N=10.npz\n",
      "Loaded cached matrix from matrix_cache/duplication_matrix_hh_N=10.npz\n",
      "Loaded cached matrix from matrix_cache/duplication_matrix_hh_N=10.npz\n",
      "Loaded cached matrix from matrix_cache/elimination_matrix_hh_N=10.npz\n",
      "Loaded cached matrix from matrix_cache/elimination_matrix_hh_N=10.npz\n",
      "Loaded cached matrix from matrix_cache/duplication_matrix_hh_N=10.npz\n",
      "Loaded cached matrix from matrix_cache/duplication_matrix_hh_N=10.npz\n",
      "Loaded cached matrix from matrix_cache/duplication_matrix_hh_N=10.npz\n",
      "Loaded cached matrix from matrix_cache/elimination_matrix_hh_N=10.npz\n",
      "Loaded cached matrix from matrix_cache/duplication_matrix_hh_N=10.npz\n",
      "Loaded cached matrix from matrix_cache/duplication_matrix_hh_N=10.npz\n",
      "Loaded cached matrix from matrix_cache/duplication_matrix_hh_N=10.npz\n",
      "Loaded cached matrix from matrix_cache/elimination_matrix_hh_N=10.npz\n",
      "Loaded cached matrix from matrix_cache/duplication_matrix_hh_N=10.npz\n",
      "Loaded cached matrix from matrix_cache/elimination_matrix_hh_N=10.npz\n",
      "Loaded cached matrix from matrix_cache/duplication_matrix_hh_N=10.npz\n",
      "Loaded cached matrix from matrix_cache/elimination_matrix_hh_N=10.npz\n",
      "Loaded cached matrix from matrix_cache/elimination_matrix_hh_N=10.npz\n",
      "Loaded cached matrix from matrix_cache/duplication_matrix_hh_N=10.npz\n",
      "Loaded cached matrix from matrix_cache/duplication_matrix_hh_N=10.npz\n",
      "Loaded cached matrix from matrix_cache/duplication_matrix_hh_N=10.npz\n",
      "Loaded cached matrix from matrix_cache/elimination_matrix_hh_N=10.npz\n",
      "Loaded cached matrix from matrix_cache/duplication_matrix_hh_N=10.npz\n",
      "Loaded cached matrix from matrix_cache/elimination_matrix_hh_N=10.npz\n",
      "Loaded cached matrix from matrix_cache/elimination_matrix_hh_N=10.npz\n",
      "Loaded cached matrix from matrix_cache/duplication_matrix_hh_N=10.npz\n",
      "Loaded cached matrix from matrix_cache/duplication_matrix_hh_N=10.npz\n",
      "Loaded cached matrix from matrix_cache/elimination_matrix_hh_N=10.npz\n",
      "Loaded cached matrix from matrix_cache/duplication_matrix_hh_N=10.npz\n",
      "Loaded cached matrix from matrix_cache/duplication_matrix_hh_N=10.npz\n",
      "Loaded cached matrix from matrix_cache/elimination_matrix_hh_N=10.npz\n",
      "Loaded cached matrix from matrix_cache/elimination_matrix_hh_N=10.npz\n",
      "Loaded cached matrix from matrix_cache/elimination_matrix_hh_N=10.npz\n",
      "Loaded cached matrix from matrix_cache/duplication_matrix_hh_N=10.npz\n",
      "Loaded cached matrix from matrix_cache/elimination_matrix_hh_N=10.npz\n",
      "Loaded cached matrix from matrix_cache/duplication_matrix_hh_N=10.npz\n",
      "Loaded cached matrix from matrix_cache/elimination_matrix_hh_N=10.npz\n",
      "Loaded cached matrix from matrix_cache/duplication_matrix_hh_N=10.npz\n",
      "Loaded cached matrix from matrix_cache/elimination_matrix_hh_N=10.npz\n",
      "Loaded cached matrix from matrix_cache/elimination_matrix_hh_N=10.npz\n",
      "Loaded cached matrix from matrix_cache/duplication_matrix_hh_N=10.npz\n",
      "Loaded cached matrix from matrix_cache/duplication_matrix_hh_N=10.npz\n",
      "Loaded cached matrix from matrix_cache/elimination_matrix_hh_N=10.npz\n",
      "Loaded cached matrix from matrix_cache/elimination_matrix_hh_N=10.npz\n",
      "Loaded cached matrix from matrix_cache/elimination_matrix_hh_N=10.npz\n",
      "Loaded cached matrix from matrix_cache/duplication_matrix_hh_N=10.npz\n",
      "Loaded cached matrix from matrix_cache/duplication_matrix_hh_N=10.npz\n",
      "Loaded cached matrix from matrix_cache/elimination_matrix_hh_N=10.npz\n",
      "Loaded cached matrix from matrix_cache/duplication_matrix_hh_N=10.npz\n",
      "Loaded cached matrix from matrix_cache/elimination_matrix_hh_N=10.npz\n",
      "Loaded cached matrix from matrix_cache/duplication_matrix_hh_N=10.npz\n",
      "Loaded cached matrix from matrix_cache/elimination_matrix_hh_N=10.npz\n",
      "Loaded cached matrix from matrix_cache/elimination_matrix_hh_N=10.npz\n",
      "Loaded cached matrix from matrix_cache/duplication_matrix_hh_N=10.npz\n",
      "Loaded cached matrix from matrix_cache/duplication_matrix_hh_N=10.npz\n",
      "Loaded cached matrix from matrix_cache/elimination_matrix_hh_N=10.npz\n",
      "Loaded cached matrix from matrix_cache/elimination_matrix_hh_N=10.npz\n",
      "Loaded cached matrix from matrix_cache/duplication_matrix_hh_N=10.npz\n",
      "Loaded cached matrix from matrix_cache/elimination_matrix_hh_N=10.npz\n",
      "Loaded cached matrix from matrix_cache/elimination_matrix_hh_N=10.npz\n",
      "Loaded cached matrix from matrix_cache/duplication_matrix_hh_N=10.npz\n",
      "Loaded cached matrix from matrix_cache/elimination_matrix_hh_N=10.npz\n",
      "Loaded cached matrix from matrix_cache/duplication_matrix_hh_N=10.npz\n",
      "Loaded cached matrix from matrix_cache/elimination_matrix_hh_N=10.npz\n",
      "Loaded cached matrix from matrix_cache/duplication_matrix_hh_N=10.npz\n",
      "Loaded cached matrix from matrix_cache/elimination_matrix_hh_N=10.npz\n",
      "Loaded cached matrix from matrix_cache/duplication_matrix_hh_N=10.npz\n",
      "Loaded cached matrix from matrix_cache/elimination_matrix_hh_N=10.npz\n",
      "Loaded cached matrix from matrix_cache/elimination_matrix_hh_N=10.npz\n",
      "Loaded cached matrix from matrix_cache/duplication_matrix_hh_N=10.npz\n",
      "Loaded cached matrix from matrix_cache/duplication_matrix_hh_N=10.npz\n",
      "Loaded cached matrix from matrix_cache/duplication_matrix_hh_N=10.npz\n",
      "Loaded cached matrix from matrix_cache/elimination_matrix_hh_N=10.npz\n",
      "Loaded cached matrix from matrix_cache/duplication_matrix_hh_N=10.npz\n",
      "Loaded cached matrix from matrix_cache/elimination_matrix_hh_N=10.npz\n",
      "Loaded cached matrix from matrix_cache/elimination_matrix_hh_N=10.npz\n",
      "Loaded cached matrix from matrix_cache/elimination_matrix_hh_N=10.npz\n",
      "Loaded cached matrix from matrix_cache/duplication_matrix_hh_N=10.npz\n",
      "Loaded cached matrix from matrix_cache/duplication_matrix_hh_N=10.npz\n",
      "Loaded cached matrix from matrix_cache/duplication_matrix_hh_N=10.npz\n",
      "Loaded cached matrix from matrix_cache/elimination_matrix_hh_N=10.npz\n",
      "Loaded cached matrix from matrix_cache/elimination_matrix_hh_N=10.npz\n",
      "Loaded cached matrix from matrix_cache/duplication_matrix_hh_N=10.npz\n",
      "Loaded cached matrix from matrix_cache/duplication_matrix_hh_N=10.npz\n",
      "Loaded cached matrix from matrix_cache/elimination_matrix_hh_N=10.npz\n",
      "Loaded cached matrix from matrix_cache/elimination_matrix_hh_N=10.npz\n",
      "Loaded cached matrix from matrix_cache/duplication_matrix_hh_N=10.npz\n",
      "Loaded cached matrix from matrix_cache/duplication_matrix_hh_N=10.npz\n",
      "Loaded cached matrix from matrix_cache/elimination_matrix_hh_N=10.npz\n",
      "Loaded cached matrix from matrix_cache/duplication_matrix_hh_N=10.npz\n",
      "Loaded cached matrix from matrix_cache/elimination_matrix_hh_N=10.npz\n",
      "Loaded cached matrix from matrix_cache/elimination_matrix_hh_N=10.npz\n",
      "Loaded cached matrix from matrix_cache/elimination_matrix_hh_N=10.npz\n",
      "Loaded cached matrix from matrix_cache/duplication_matrix_hh_N=10.npz\n",
      "Loaded cached matrix from matrix_cache/elimination_matrix_hh_N=10.npz\n",
      "Loaded cached matrix from matrix_cache/duplication_matrix_hh_N=10.npz\n",
      "Loaded cached matrix from matrix_cache/elimination_matrix_hh_N=10.npz\n",
      "Loaded cached matrix from matrix_cache/elimination_matrix_hh_N=10.npz\n",
      "Loaded cached matrix from matrix_cache/duplication_matrix_hh_N=10.npz\n",
      "Loaded cached matrix from matrix_cache/elimination_matrix_hh_N=10.npz\n",
      "Loaded cached matrix from matrix_cache/duplication_matrix_hh_N=10.npz\n",
      "Loaded cached matrix from matrix_cache/elimination_matrix_hh_N=10.npz\n"
     ]
    },
    {
     "name": "stderr",
     "output_type": "stream",
     "text": [
      "pc_nonsparse_0.999:   3%|▎         | 549/20000 [01:48<1:51:50,  2.90it/s]Python(63992) MallocStackLogging: can't turn off malloc stack logging because it was not enabled..999:  26%|██▌       | 5149/20000 [16:18<4:31:01,  1.09s/it]��█▎       | 4557/20000 [16:28<1:00:42,  4.24it/s]| 5586/20000 [17:59<2:54:40,  1.38it/s]9:  34%|███▍      | 6794/20000 [20:03<44:00,  5.00it/s]5:55<1:24:37,  2.95it/s]7:14<1:52:48,  2.20it/s]00 [16:19<3:12:21,  1.30it/s]19%|█▉        | 3805/20000 [13:07<1:35:41,  2.82it/s]\n",
      "pc_nonsparse_0.999:  27%|██▋       | 5389/20000 [18:19<5:58:14,  1.47s/it]Python(64079) MallocStackLogging: can't turn off malloc stack logging because it was not enabled.it/s]parse_0.999:  23%|██▎       | 4546/20000 [17:54<3:23:23,  1.27it/s]20000 [02:35<6:30:18,  1.19s/it]:00<5:45:00,  1.37s/it]8153/20000 [21:11<4:34:25,  1.39s/it]\n",
      "pc_nonsparse_0.999:  28%|██▊       | 5611/20000 [18:17<3:29:34,  1.14it/s]Python(64081) MallocStackLogging: can't turn off malloc stack logging because it was not enabled.\n",
      "pc_nonsparse_0.999:  28%|██▊       | 5520/20000 [20:25<11:42, 20.62it/s]Python(64082) MallocStackLogging: can't turn off malloc stack logging because it was not enabled.\n",
      "Python(64083) MallocStackLogging: can't turn off malloc stack logging because it was not enabled.\n",
      "Python(64084) MallocStackLogging: can't turn off malloc stack logging because it was not enabled.\n",
      "Python(64085) MallocStackLogging: can't turn off malloc stack logging because it was not enabled.\n",
      "Python(64086) MallocStackLogging: can't turn off malloc stack logging because it was not enabled.\n",
      "pc_nonsparse_0.999:  17%|█▋        | 3363/20000 [14:09<2:38:07,  1.75it/s]Python(64087) MallocStackLogging: can't turn off malloc stack logging because it was not enabled.\n",
      "Python(64070) MallocStackLogging: can't turn off malloc stack logging because it was not enabled.\n",
      "pc_nonsparse_0.999:  39%|███▊      | 7714/20000 [21:13<5:14:00,  1.53s/it]Python(64069) MallocStackLogging: can't turn off malloc stack logging because it was not enabled.\n",
      "Python(64068) MallocStackLogging: can't turn off malloc stack logging because it was not enabled.\n",
      "pc_nonsparse_0.999:  24%|██▍       | 4760/20000 [14:08<7:11:10,  1.70s/it]Python(64066) MallocStackLogging: can't turn off malloc stack logging because it was not enabled.\n",
      "pc_nonsparse_0.999:  44%|████▍     | 8881/20000 [21:49<2:39:40,  1.16it/s]Python(64074) MallocStackLogging: can't turn off malloc stack logging because it was not enabled.\n",
      "pc_nonsparse_0.999:  46%|████▋     | 9273/20000 [22:10<3:36:49,  1.21s/it]Python(64080) MallocStackLogging: can't turn off malloc stack logging because it was not enabled.\n",
      "pc_nonsparse_0.999:  24%|██▍       | 4772/20000 [18:18<29:56,  8.48it/s]  Python(64067) MallocStackLogging: can't turn off malloc stack logging because it was not enabled.\n",
      "pc_nonsparse_0.999:  35%|███▍      | 6913/20000 [21:50<59:59,  3.64it/s]  Python(64076) MallocStackLogging: can't turn off malloc stack logging because it was not enabled.\n",
      "Python(64075) MallocStackLogging: can't turn off malloc stack logging because it was not enabled.\n",
      "pc_nonsparse_0.999:  36%|███▌      | 7169/20000 [21:17<1:28:00,  2.43it/s]Python(64071) MallocStackLogging: can't turn off malloc stack logging because it was not enabled.\n",
      "Python(64072) MallocStackLogging: can't turn off malloc stack logging because it was not enabled.\n",
      "pc_nonsparse_0.999:  28%|██▊       | 5599/20000 [20:29<6:39:14,  1.66s/it]Python(64077) MallocStackLogging: can't turn off malloc stack logging because it was not enabled.\n",
      "Python(64078) MallocStackLogging: can't turn off malloc stack logging because it was not enabled.\n",
      "pc_nonsparse_0.999:  22%|██▏       | 4372/20000 [18:15<27:00,  9.65it/s]  Python(64073) MallocStackLogging: can't turn off malloc stack logging because it was not enabled.\n",
      "pc_nonsparse_0.999:  29%|██▉       | 5819/20000 [18:36<3:43:11,  1.06it/s]Python(64107) MallocStackLogging: can't turn off malloc stack logging because it was not enabled.\n",
      "pc_nonsparse_0.999:  28%|██▊       | 5683/20000 [18:47<4:33:06,  1.14s/it]Python(64133) MallocStackLogging: can't turn off malloc stack logging because it was not enabled.\n",
      "pc_nonsparse_0.999:  32%|███▏      | 6337/20000 [21:23<1:07:23,  3.38it/s]Python(64151) MallocStackLogging: can't turn off malloc stack logging because it was not enabled.\n",
      "pc_nonsparse_0.999: 100%|██████████| 20000/20000 [24:13<00:00, 13.76it/s] ]�█▍       | 4953/20000 [19:06<1:04:38,  3.88it/s]08:12, 23.40it/s]\n",
      "pc_nonsparse_0.999:  29%|██▉       | 5783/20000 [18:23<2:59:00,  1.32it/s]Python(64158) MallocStackLogging: can't turn off malloc stack logging because it was not enabled.\n",
      "Python(64157) MallocStackLogging: can't turn off malloc stack logging because it was not enabled.\n",
      "pc_nonsparse_0.999:   0%|          | 2/20000 [00:02<5:52:38,  1.06s/it]Python(64167) MallocStackLogging: can't turn off malloc stack logging because it was not enabled.\n",
      "Python(64166) MallocStackLogging: can't turn off malloc stack logging because it was not enabled.\n",
      "pc_nonsparse_0.999:  37%|███▋      | 7437/20000 [22:11<03:58, 52.66it/s]Python(64169) MallocStackLogging: can't turn off malloc stack logging because it was not enabled.\n",
      "pc_nonsparse_0.999:  32%|███▏      | 6419/20000 [21:26<11:16, 20.07it/s]Python(64164) MallocStackLogging: can't turn off malloc stack logging because it was not enabled.\n",
      "pc_nonsparse_0.999:  27%|██▋       | 5431/20000 [19:13<2:06:38,  1.92it/s]Python(64168) MallocStackLogging: can't turn off malloc stack logging because it was not enabled.\n",
      "pc_nonsparse_0.999:  29%|██▊       | 5740/20000 [18:18<20:30, 11.59it/s]Python(64162) MallocStackLogging: can't turn off malloc stack logging because it was not enabled.\n",
      "pc_nonsparse_0.999:  25%|██▌       | 5045/20000 [19:11<09:53, 25.19it/s]Python(64161) MallocStackLogging: can't turn off malloc stack logging because it was not enabled.\n",
      "pc_nonsparse_0.999:  34%|███▍      | 6786/20000 [22:06<15:37, 14.09it/s]Python(64163) MallocStackLogging: can't turn off malloc stack logging because it was not enabled.\n",
      "pc_nonsparse_0.999:  39%|███▉      | 7801/20000 [22:27<28:01,  7.25it/s]Python(64160) MallocStackLogging: can't turn off malloc stack logging because it was not enabled.\n",
      "pc_nonsparse_0.999:  16%|█▌        | 3123/20000 [12:25<1:41:48,  2.76it/s]Python(64159) MallocStackLogging: can't turn off malloc stack logging because it was not enabled.\n",
      "pc_nonsparse_0.999:  37%|███▋      | 7392/20000 [22:08<3:25:21,  1.02it/s]Python(64156) MallocStackLogging: can't turn off malloc stack logging because it was not enabled.\n",
      "pc_nonsparse_0.999:  44%|████▍     | 8852/20000 [22:48<4:21:26,  1.41s/it]Python(64155) MallocStackLogging: can't turn off malloc stack logging because it was not enabled.\n",
      "pc_nonsparse_0.999:  28%|██▊       | 5639/20000 [21:33<1:29:23,  2.68it/s]Python(64177) MallocStackLogging: can't turn off malloc stack logging because it was not enabled.77it/s]  \n",
      "pc_nonsparse_0.999:  26%|██▋       | 5276/20000 [21:11<4:57:21,  1.21s/it]Python(64191) MallocStackLogging: can't turn off malloc stack logging because it was not enabled.\n",
      "pc_nonsparse_0.999:  28%|██▊       | 5641/20000 [21:34<1:35:42,  2.50it/s]Python(64192) MallocStackLogging: can't turn off malloc stack logging because it was not enabled.\n",
      "pc_nonsparse_0.999:  28%|██▊       | 5546/20000 [19:25<2:31:26,  1.59it/s]Python(64181) MallocStackLogging: can't turn off malloc stack logging because it was not enabled.\n",
      "pc_nonsparse_0.999:  44%|████▍     | 8861/20000 [22:58<3:28:02,  1.12s/it]Python(64189) MallocStackLogging: can't turn off malloc stack logging because it was not enabled.\n",
      "pc_nonsparse_0.999:  28%|██▊       | 5594/20000 [18:29<4:02:12,  1.01s/it]Python(64179) MallocStackLogging: can't turn off malloc stack logging because it was not enabled.\n",
      "pc_nonsparse_0.999:  37%|███▋      | 7381/20000 [19:25<1:51:04,  1.89it/s]Python(64197) MallocStackLogging: can't turn off malloc stack logging because it was not enabled.\n",
      "pc_nonsparse_0.999:  34%|███▍      | 6755/20000 [22:17<21:17, 10.37it/s]Python(64180) MallocStackLogging: can't turn off malloc stack logging because it was not enabled.\n",
      "pc_nonsparse_0.999:  42%|████▏     | 8347/20000 [22:47<3:58:25,  1.23s/it]Python(64196) MallocStackLogging: can't turn off malloc stack logging because it was not enabled.\n",
      "pc_nonsparse_0.999:  33%|███▎      | 6633/20000 [18:29<1:41:32,  2.19it/s]Python(64185) MallocStackLogging: can't turn off malloc stack logging because it was not enabled.\n",
      "Python(64186) MallocStackLogging: can't turn off malloc stack logging because it was not enabled.\n",
      "pc_nonsparse_0.999:  24%|██▍       | 4784/20000 [19:16<11:30, 22.02it/s]Python(64198) MallocStackLogging: can't turn off malloc stack logging because it was not enabled.\n",
      "pc_nonsparse_0.999:  45%|████▌     | 9056/20000 [23:17<3:33:41,  1.17s/it]Python(64190) MallocStackLogging: can't turn off malloc stack logging because it was not enabled.\n",
      "pc_nonsparse_0.999:  24%|██▍       | 4836/20000 [19:23<7:28:56,  1.78s/it]Python(64194) MallocStackLogging: can't turn off malloc stack logging because it was not enabled.\n",
      "Python(64195) MallocStackLogging: can't turn off malloc stack logging because it was not enabled.\n",
      "pc_nonsparse_0.999:  25%|██▌       | 5020/20000 [20:40<6:29:29,  1.56s/it]Python(64182) MallocStackLogging: can't turn off malloc stack logging because it was not enabled.\n",
      "pc_nonsparse_0.999:  43%|████▎     | 8675/20000 [22:17<3:10:33,  1.01s/it]Python(64188) MallocStackLogging: can't turn off malloc stack logging because it was not enabled.\n",
      "pc_nonsparse_0.999:  40%|███▉      | 7946/20000 [22:18<19:40, 10.21it/s]Python(64187) MallocStackLogging: can't turn off malloc stack logging because it was not enabled.\n",
      "Python(64193) MallocStackLogging: can't turn off malloc stack logging because it was not enabled.\n",
      "pc_nonsparse_0.999:  50%|████▉     | 9957/20000 [23:40<3:27:45,  1.24s/it]Python(64184) MallocStackLogging: can't turn off malloc stack logging because it was not enabled.\n",
      "pc_nonsparse_0.999:  39%|██▊       | 5512/20000 [22:59<3:43:02,  1.08it/s]]]]999:  29%|██▊       | 5730/20000 [22:05<1:53:02,  2.10it/s]       | 5851/20000 [16:01<4:35:25,  1.17s/it]s/it]] [23:03<7:57:47,  2.23s/it]"
     ]
    },
    {
     "name": "stdout",
     "output_type": "stream",
     "text": [
      "Loaded cached matrix from matrix_cache/duplication_matrix_hh_N=10.npz\n",
      "Loaded cached matrix from matrix_cache/elimination_matrix_hh_N=10.npz\n",
      "Loaded cached matrix from matrix_cache/duplication_matrix_hh_N=10.npz\n",
      "Loaded cached matrix from matrix_cache/elimination_matrix_hh_N=10.npz\n",
      "Loaded cached matrix from matrix_cache/duplication_matrix_hh_N=10.npz\n",
      "Loaded cached matrix from matrix_cache/elimination_matrix_hh_N=10.npz\n",
      "Loaded cached matrix from matrix_cache/duplication_matrix_hh_N=10.npz\n",
      "Loaded cached matrix from matrix_cache/elimination_matrix_hh_N=10.npz\n",
      "Loaded cached matrix from matrix_cache/duplication_matrix_hh_N=10.npz\n",
      "Loaded cached matrix from matrix_cache/elimination_matrix_hh_N=10.npz\n",
      "Loaded cached matrix from matrix_cache/duplication_matrix_hh_N=10.npz\n",
      "Loaded cached matrix from matrix_cache/elimination_matrix_hh_N=10.npz\n"
     ]
    },
    {
     "name": "stderr",
     "output_type": "stream",
     "text": [
      "pc_nonsparse_0.999:  28%|██▊       | 5562/20000 [20:42<4:27:28,  1.11s/it]]t]"
     ]
    },
    {
     "name": "stdout",
     "output_type": "stream",
     "text": [
      "Loaded cached matrix from matrix_cache/duplication_matrix_hh_N=10.npz\n",
      "Loaded cached matrix from matrix_cache/duplication_matrix_hh_N=10.npz\n",
      "Loaded cached matrix from matrix_cache/elimination_matrix_hh_N=10.npz\n",
      "Loaded cached matrix from matrix_cache/duplication_matrix_hh_N=10.npz\n",
      "Loaded cached matrix from matrix_cache/elimination_matrix_hh_N=10.npz\n",
      "Loaded cached matrix from matrix_cache/duplication_matrix_hh_N=10.npz\n",
      "Loaded cached matrix from matrix_cache/elimination_matrix_hh_N=10.npz\n",
      "Loaded cached matrix from matrix_cache/elimination_matrix_hh_N=10.npz\n",
      "Loaded cached matrix from matrix_cache/duplication_matrix_hh_N=10.npz\n"
     ]
    },
    {
     "name": "stderr",
     "output_type": "stream",
     "text": [
      "pc_nonsparse_0.999:  31%|███       | 6182/20000 [22:40<3:33:44,  1.08it/s]]]"
     ]
    },
    {
     "name": "stdout",
     "output_type": "stream",
     "text": [
      "Loaded cached matrix from matrix_cache/elimination_matrix_hh_N=10.npz\n",
      "Loaded cached matrix from matrix_cache/duplication_matrix_hh_N=10.npz\n",
      "Loaded cached matrix from matrix_cache/duplication_matrix_hh_N=10.npz\n",
      "Loaded cached matrix from matrix_cache/duplication_matrix_hh_N=10.npz\n",
      "Loaded cached matrix from matrix_cache/elimination_matrix_hh_N=10.npz\n",
      "Loaded cached matrix from matrix_cache/elimination_matrix_hh_N=10.npz\n",
      "Loaded cached matrix from matrix_cache/elimination_matrix_hh_N=10.npz\n",
      "Loaded cached matrix from matrix_cache/duplication_matrix_hh_N=10.npz\n"
     ]
    },
    {
     "name": "stderr",
     "output_type": "stream",
     "text": [
      "pc_nonsparse_0.999:  29%|██▉       | 5892/20000 [20:19<2:35:27,  1.20it/s]]"
     ]
    },
    {
     "name": "stdout",
     "output_type": "stream",
     "text": [
      "Loaded cached matrix from matrix_cache/elimination_matrix_hh_N=10.npz\n"
     ]
    },
    {
     "name": "stderr",
     "output_type": "stream",
     "text": [
      "pc_nonsparse_0.999:  24%|██�       | 671/20000 [05:33<2:47:06,  1.93it/s]]] "
     ]
    },
    {
     "name": "stdout",
     "output_type": "stream",
     "text": [
      "Loaded cached matrix from matrix_cache/duplication_matrix_hh_N=10.npz\n",
      "Loaded cached matrix from matrix_cache/elimination_matrix_hh_N=10.npz\n",
      "Loaded cached matrix from matrix_cache/duplication_matrix_hh_N=10.npz\n",
      "Loaded cached matrix from matrix_cache/elimination_matrix_hh_N=10.npz\n",
      "Loaded cached matrix from matrix_cache/duplication_matrix_hh_N=10.npz\n",
      "Loaded cached matrix from matrix_cache/elimination_matrix_hh_N=10.npz\n",
      "Loaded cached matrix from matrix_cache/duplication_matrix_hh_N=10.npz\n",
      "Loaded cached matrix from matrix_cache/elimination_matrix_hh_N=10.npz\n",
      "Loaded cached matrix from matrix_cache/duplication_matrix_hh_N=10.npz\n",
      "Loaded cached matrix from matrix_cache/elimination_matrix_hh_N=10.npz\n",
      "Loaded cached matrix from matrix_cache/duplication_matrix_hh_N=10.npz\n",
      "Loaded cached matrix from matrix_cache/elimination_matrix_hh_N=10.npz\n",
      "Loaded cached matrix from matrix_cache/duplication_matrix_hh_N=10.npz\n",
      "Loaded cached matrix from matrix_cache/duplication_matrix_hh_N=10.npz\n",
      "Loaded cached matrix from matrix_cache/elimination_matrix_hh_N=10.npz\n",
      "Loaded cached matrix from matrix_cache/duplication_matrix_hh_N=10.npz\n",
      "Loaded cached matrix from matrix_cache/duplication_matrix_hh_N=10.npz\n",
      "Loaded cached matrix from matrix_cache/elimination_matrix_hh_N=10.npz\n",
      "Loaded cached matrix from matrix_cache/elimination_matrix_hh_N=10.npz\n",
      "Loaded cached matrix from matrix_cache/duplication_matrix_hh_N=10.npz\n",
      "Loaded cached matrix from matrix_cache/elimination_matrix_hh_N=10.npz\n",
      "Loaded cached matrix from matrix_cache/elimination_matrix_hh_N=10.npz\n",
      "Loaded cached matrix from matrix_cache/duplication_matrix_hh_N=10.npz\n",
      "Loaded cached matrix from matrix_cache/elimination_matrix_hh_N=10.npz\n",
      "Loaded cached matrix from matrix_cache/duplication_matrix_hh_N=10.npz\n",
      "Loaded cached matrix from matrix_cache/elimination_matrix_hh_N=10.npz\n",
      "Loaded cached matrix from matrix_cache/duplication_matrix_hh_N=10.npz\n",
      "Loaded cached matrix from matrix_cache/elimination_matrix_hh_N=10.npz\n",
      "Loaded cached matrix from matrix_cache/duplication_matrix_hh_N=10.npz\n",
      "Loaded cached matrix from matrix_cache/elimination_matrix_hh_N=10.npz\n"
     ]
    },
    {
     "name": "stderr",
     "output_type": "stream",
     "text": [
      "pc_nonsparse_0.999:   0%|          | 41/20000 [00:26<2:2:07:37,  1.37s/it]]"
     ]
    },
    {
     "name": "stdout",
     "output_type": "stream",
     "text": [
      "Loaded cached matrix from matrix_cache/duplication_matrix_hh_N=10.npz\n"
     ]
    },
    {
     "name": "stderr",
     "output_type": "stream",
     "text": [
      "pc_nonsparse_0.999:  33%|███▎      | 6536/20000 [23:31<1:37:22,  2.30it/s]]]5:34<3:23:26,  1.58it/s]"
     ]
    },
    {
     "name": "stdout",
     "output_type": "stream",
     "text": [
      "Loaded cached matrix from matrix_cache/elimination_matrix_hh_N=10.npz\n",
      "Loaded cached matrix from matrix_cache/duplication_matrix_hh_N=10.npz\n",
      "Loaded cached matrix from matrix_cache/elimination_matrix_hh_N=10.npz\n"
     ]
    },
    {
     "name": "stderr",
     "output_type": "stream",
     "text": [
      "pc_nonsparse_0.999:  23%|██▎       | 4516/20000 [30:56<131:09:41, 31.81s/it]  ]"
     ]
    },
    {
     "name": "stdout",
     "output_type": "stream",
     "text": [
      "Loaded cached matrix from matrix_cache/duplication_matrix_hh_N=10.npz\n",
      "Loaded cached matrix from matrix_cache/elimination_matrix_hh_N=10.npz\n"
     ]
    },
    {
     "name": "stderr",
     "output_type": "stream",
     "text": [
      "pc_nonsparse_0.999:  29%|██▉       | 5845/20000 [31:02<21:57:11, 1.67s/it]]   "
     ]
    },
    {
     "name": "stdout",
     "output_type": "stream",
     "text": [
      "Loaded cached matrix from matrix_cache/duplication_matrix_hh_N=10.npz\n",
      "Loaded cached matrix from matrix_cache/elimination_matrix_hh_N=10.npz\n",
      "Loaded cached matrix from matrix_cache/duplication_matrix_hh_N=10.npz\n",
      "Loaded cached matrix from matrix_cache/duplication_matrix_hh_N=10.npz\n",
      "Loaded cached matrix from matrix_cache/elimination_matrix_hh_N=10.npz\n",
      "Loaded cached matrix from matrix_cache/elimination_matrix_hh_N=10.npz\n",
      "Loaded cached matrix from matrix_cache/duplication_matrix_hh_N=10.npz\n",
      "Loaded cached matrix from matrix_cache/elimination_matrix_hh_N=10.npz\n",
      "Loaded cached matrix from matrix_cache/duplication_matrix_hh_N=10.npz\n",
      "Loaded cached matrix from matrix_cache/elimination_matrix_hh_N=10.npz\n",
      "Loaded cached matrix from matrix_cache/duplication_matrix_hh_N=10.npz\n",
      "Loaded cached matrix from matrix_cache/elimination_matrix_hh_N=10.npz\n",
      "Loaded cached matrix from matrix_cache/duplication_matrix_hh_N=10.npz\n",
      "Loaded cached matrix from matrix_cache/elimination_matrix_hh_N=10.npz\n",
      "Loaded cached matrix from matrix_cache/duplication_matrix_hh_N=10.npz\n",
      "Loaded cached matrix from matrix_cache/elimination_matrix_hh_N=10.npz\n",
      "Loaded cached matrix from matrix_cache/duplication_matrix_hh_N=10.npz\n",
      "Loaded cached matrix from matrix_cache/duplication_matrix_hh_N=10.npz\n",
      "Loaded cached matrix from matrix_cache/elimination_matrix_hh_N=10.npz\n",
      "Loaded cached matrix from matrix_cache/duplication_matrix_hh_N=10.npz\n",
      "Loaded cached matrix from matrix_cache/elimination_matrix_hh_N=10.npz\n",
      "Loaded cached matrix from matrix_cache/elimination_matrix_hh_N=10.npz\n",
      "Loaded cached matrix from matrix_cache/duplication_matrix_hh_N=10.npz\n",
      "Loaded cached matrix from matrix_cache/elimination_matrix_hh_N=10.npz\n",
      "Loaded cached matrix from matrix_cache/duplication_matrix_hh_N=10.npz\n",
      "Loaded cached matrix from matrix_cache/duplication_matrix_hh_N=10.npz\n",
      "Loaded cached matrix from matrix_cache/elimination_matrix_hh_N=10.npz\n",
      "Loaded cached matrix from matrix_cache/duplication_matrix_hh_N=10.npz\n",
      "Loaded cached matrix from matrix_cache/elimination_matrix_hh_N=10.npz\n",
      "Loaded cached matrix from matrix_cache/duplication_matrix_hh_N=10.npz\n",
      "Loaded cached matrix from matrix_cache/elimination_matrix_hh_N=10.npz\n",
      "Loaded cached matrix from matrix_cache/duplication_matrix_hh_N=10.npz\n",
      "Loaded cached matrix from matrix_cache/duplication_matrix_hh_N=10.npz\n",
      "Loaded cached matrix from matrix_cache/elimination_matrix_hh_N=10.npz\n",
      "Loaded cached matrix from matrix_cache/duplication_matrix_hh_N=10.npz\n",
      "Loaded cached matrix from matrix_cache/duplication_matrix_hh_N=10.npz\n",
      "Loaded cached matrix from matrix_cache/elimination_matrix_hh_N=10.npz\n",
      "Loaded cached matrix from matrix_cache/elimination_matrix_hh_N=10.npz\n",
      "Loaded cached matrix from matrix_cache/elimination_matrix_hh_N=10.npz\n",
      "Loaded cached matrix from matrix_cache/duplication_matrix_hh_N=10.npz\n",
      "Loaded cached matrix from matrix_cache/elimination_matrix_hh_N=10.npz\n",
      "Loaded cached matrix from matrix_cache/duplication_matrix_hh_N=10.npz\n",
      "Loaded cached matrix from matrix_cache/elimination_matrix_hh_N=10.npz\n",
      "Loaded cached matrix from matrix_cache/duplication_matrix_hh_N=10.npz\n",
      "Loaded cached matrix from matrix_cache/duplication_matrix_hh_N=10.npz\n",
      "Loaded cached matrix from matrix_cache/elimination_matrix_hh_N=10.npz\n",
      "Loaded cached matrix from matrix_cache/elimination_matrix_hh_N=10.npz\n",
      "Loaded cached matrix from matrix_cache/elimination_matrix_hh_N=10.npz\n",
      "Loaded cached matrix from matrix_cache/duplication_matrix_hh_N=10.npz\n",
      "Loaded cached matrix from matrix_cache/elimination_matrix_hh_N=10.npz\n",
      "Loaded cached matrix from matrix_cache/duplication_matrix_hh_N=10.npz\n",
      "Loaded cached matrix from matrix_cache/elimination_matrix_hh_N=10.npz\n",
      "Loaded cached matrix from matrix_cache/duplication_matrix_hh_N=10.npz\n",
      "Loaded cached matrix from matrix_cache/elimination_matrix_hh_N=10.npz\n",
      "Loaded cached matrix from matrix_cache/duplication_matrix_hh_N=10.npz\n",
      "Loaded cached matrix from matrix_cache/elimination_matrix_hh_N=10.npz\n",
      "Loaded cached matrix from matrix_cache/duplication_matrix_hh_N=10.npz\n",
      "Loaded cached matrix from matrix_cache/elimination_matrix_hh_N=10.npz\n",
      "Loaded cached matrix from matrix_cache/duplication_matrix_hh_N=10.npz\n",
      "Loaded cached matrix from matrix_cache/elimination_matrix_hh_N=10.npz\n",
      "Loaded cached matrix from matrix_cache/duplication_matrix_hh_N=10.npz\n",
      "Loaded cached matrix from matrix_cache/elimination_matrix_hh_N=10.npz\n",
      "Loaded cached matrix from matrix_cache/duplication_matrix_hh_N=10.npz\n",
      "Loaded cached matrix from matrix_cache/duplication_matrix_hh_N=10.npz\n",
      "Loaded cached matrix from matrix_cache/elimination_matrix_hh_N=10.npz\n",
      "Loaded cached matrix from matrix_cache/duplication_matrix_hh_N=10.npz\n",
      "Loaded cached matrix from matrix_cache/elimination_matrix_hh_N=10.npz\n",
      "Loaded cached matrix from matrix_cache/duplication_matrix_hh_N=10.npz\n",
      "Loaded cached matrix from matrix_cache/elimination_matrix_hh_N=10.npz\n",
      "Loaded cached matrix from matrix_cache/duplication_matrix_hh_N=10.npz\n",
      "Loaded cached matrix from matrix_cache/elimination_matrix_hh_N=10.npz\n",
      "Loaded cached matrix from matrix_cache/duplication_matrix_hh_N=10.npz\n",
      "Loaded cached matrix from matrix_cache/elimination_matrix_hh_N=10.npz\n",
      "Loaded cached matrix from matrix_cache/elimination_matrix_hh_N=10.npz\n",
      "Loaded cached matrix from matrix_cache/duplication_matrix_hh_N=10.npz\n",
      "Loaded cached matrix from matrix_cache/elimination_matrix_hh_N=10.npz\n",
      "Loaded cached matrix from matrix_cache/duplication_matrix_hh_N=10.npz\n",
      "Loaded cached matrix from matrix_cache/elimination_matrix_hh_N=10.npz\n",
      "Loaded cached matrix from matrix_cache/duplication_matrix_hh_N=10.npz\n",
      "Loaded cached matrix from matrix_cache/elimination_matrix_hh_N=10.npz\n",
      "Loaded cached matrix from matrix_cache/duplication_matrix_hh_N=10.npz\n",
      "Loaded cached matrix from matrix_cache/elimination_matrix_hh_N=10.npz\n",
      "Loaded cached matrix from matrix_cache/duplication_matrix_hh_N=10.npz\n",
      "Loaded cached matrix from matrix_cache/elimination_matrix_hh_N=10.npz\n",
      "Loaded cached matrix from matrix_cache/duplication_matrix_hh_N=10.npz\n",
      "Loaded cached matrix from matrix_cache/elimination_matrix_hh_N=10.npz\n",
      "Loaded cached matrix from matrix_cache/duplication_matrix_hh_N=10.npz\n",
      "Loaded cached matrix from matrix_cache/elimination_matrix_hh_N=10.npz\n",
      "Loaded cached matrix from matrix_cache/duplication_matrix_hh_N=10.npz\n",
      "Loaded cached matrix from matrix_cache/elimination_matrix_hh_N=10.npz\n",
      "Loaded cached matrix from matrix_cache/duplication_matrix_hh_N=10.npz\n",
      "Loaded cached matrix from matrix_cache/elimination_matrix_hh_N=10.npz\n",
      "Loaded cached matrix from matrix_cache/duplication_matrix_hh_N=10.npz\n",
      "Loaded cached matrix from matrix_cache/elimination_matrix_hh_N=10.npz\n",
      "Loaded cached matrix from matrix_cache/duplication_matrix_hh_N=10.npz\n",
      "Loaded cached matrix from matrix_cache/elimination_matrix_hh_N=10.npz\n",
      "Loaded cached matrix from matrix_cache/duplication_matrix_hh_N=10.npz\n",
      "Loaded cached matrix from matrix_cache/elimination_matrix_hh_N=10.npz\n",
      "Loaded cached matrix from matrix_cache/duplication_matrix_hh_N=10.npz\n",
      "Loaded cached matrix from matrix_cache/elimination_matrix_hh_N=10.npz\n",
      "Loaded cached matrix from matrix_cache/duplication_matrix_hh_N=10.npz\n",
      "Loaded cached matrix from matrix_cache/elimination_matrix_hh_N=10.npz\n",
      "Loaded cached matrix from matrix_cache/duplication_matrix_hh_N=10.npz\n",
      "Loaded cached matrix from matrix_cache/elimination_matrix_hh_N=10.npz\n",
      "Loaded cached matrix from matrix_cache/duplication_matrix_hh_N=10.npz\n",
      "Loaded cached matrix from matrix_cache/elimination_matrix_hh_N=10.npz\n",
      "Loaded cached matrix from matrix_cache/duplication_matrix_hh_N=10.npz\n",
      "Loaded cached matrix from matrix_cache/elimination_matrix_hh_N=10.npz\n",
      "Loaded cached matrix from matrix_cache/duplication_matrix_hh_N=10.npz\n",
      "Loaded cached matrix from matrix_cache/elimination_matrix_hh_N=10.npz\n",
      "Loaded cached matrix from matrix_cache/duplication_matrix_hh_N=10.npz\n",
      "Loaded cached matrix from matrix_cache/elimination_matrix_hh_N=10.npz\n",
      "Loaded cached matrix from matrix_cache/duplication_matrix_hh_N=10.npz\n",
      "Loaded cached matrix from matrix_cache/duplication_matrix_hh_N=10.npz\n",
      "Loaded cached matrix from matrix_cache/elimination_matrix_hh_N=10.npz\n",
      "Loaded cached matrix from matrix_cache/elimination_matrix_hh_N=10.npz\n",
      "Loaded cached matrix from matrix_cache/duplication_matrix_hh_N=10.npz\n",
      "Loaded cached matrix from matrix_cache/duplication_matrix_hh_N=10.npz\n",
      "Loaded cached matrix from matrix_cache/elimination_matrix_hh_N=10.npz\n",
      "Loaded cached matrix from matrix_cache/duplication_matrix_hh_N=10.npz\n",
      "Loaded cached matrix from matrix_cache/elimination_matrix_hh_N=10.npz\n",
      "Loaded cached matrix from matrix_cache/elimination_matrix_hh_N=10.npz\n",
      "Loaded cached matrix from matrix_cache/duplication_matrix_hh_N=10.npz\n",
      "Loaded cached matrix from matrix_cache/elimination_matrix_hh_N=10.npz\n",
      "Loaded cached matrix from matrix_cache/duplication_matrix_hh_N=10.npz\n",
      "Loaded cached matrix"
     ]
    },
    {
     "name": "stderr",
     "output_type": "stream",
     "text": [
      "pc_nonsparse_0.999:  19%|█▊        | 3703/20000 [31:03<16:06:59,  4.04s/it] "
     ]
    },
    {
     "name": "stdout",
     "output_type": "stream",
     "text": [
      " from matrix_cache/elimination_matrix_hh_N=10.npz\n",
      "Loaded cached matrix from matrix_cache/duplication_matrix_hh_N=10.npz\n",
      "Loaded cached matrix from matrix_cache/elimination_matrix_hh_N=10.npz\n",
      "Loaded cached matrix from matrix_cache/duplication_matrix_hh_N=10.npz\n",
      "Loaded cached matrix from matrix_cache/elimination_matrix_hh_N=10.npz\n",
      "Loaded cached matrix from matrix_cache/duplication_matrix_hh_N=10.npz\n",
      "Loaded cached matrix from matrix_cache/elimination_matrix_hh_N=10.npz\n",
      "Loaded cached matrix from matrix_cache/duplication_matrix_hh_N=10.npz\n",
      "Loaded cached matrix from matrix_cache/elimination_matrix_hh_N=10.npz\n",
      "Loaded cached matrix from matrix_cache/duplication_matrix_hh_N=10.npz\n",
      "Loaded cached matrix from matrix_cache/elimination_matrix_hh_N=10.npz\n",
      "Loaded cached matrix from matrix_cache/duplication_matrix_hh_N=10.npz\n",
      "Loaded cached matrix from matrix_cache/elimination_matrix_hh_N=10.npz\n",
      "Loaded cached matrix from matrix_cache/duplication_matrix_hh_N=10.npz\n",
      "Loaded cached matrix from matrix_cache/elimination_matrix_hh_N=10.npz\n",
      "Loaded cached matrix from matrix_cache/duplication_matrix_hh_N=10.npz\n",
      "Loaded cached matrix from matrix_cache/elimination_matrix_hh_N=10.npz\n",
      "Loaded cached matrix from matrix_cache/duplication_matrix_hh_N=10.npz\n",
      "Loaded cached matrix from matrix_cache/elimination_matrix_hh_N=10.npz\n",
      "Loaded cached matrix from matrix_cache/duplication_matrix_hh_N=10.npz\n",
      "Loaded cached matrix from matrix_cache/elimination_matrix_hh_N=10.npz\n",
      "Loaded cached matrix from matrix_cache/duplication_matrix_hh_N=10.npz\n",
      "Loaded cached matrix from matrix_cache/elimination_matrix_hh_N=10.npz\n",
      "Loaded cached matrix from matrix_cache/duplication_matrix_hh_N=10.npz\n",
      "Loaded cached matrix from matrix_cache/duplication_matrix_hh_N=10.npz\n",
      "Loaded cached matrix from matrix_cache/duplication_matrix_hh_N=10.npz\n",
      "Loaded cached matrix from matrix_cache/elimination_matrix_hh_N=10.npz\n",
      "Loaded cached matrix from matrix_cache/elimination_matrix_hh_N=10.npz\n",
      "Loaded cached matrix from matrix_cache/duplication_matrix_hh_N=10.npz\n",
      "Loaded cached matrix from matrix_cache/elimination_matrix_hh_N=10.npz\n",
      "Loaded cached matrix from matrix_cache/duplication_matrix_hh_N=10.npz\n",
      "Loaded cached matrix from matrix_cache/elimination_matrix_hh_N=10.npz\n",
      "Loaded cached matrix from matrix_cache/duplication_matrix_hh_N=10.npz\n",
      "Loaded cached matrix from matrix_cache/elimination_matrix_hh_N=10.npz\n",
      "Loaded cached matrix from matrix_cache/duplication_matrix_hh_N=10.npz\n",
      "Loaded cached matrix from matrix_cache/elimination_matrix_hh_N=10.npz\n",
      "Loaded cached matrix from matrix_cache/duplication_matrix_hh_N=10.npz\n",
      "Loaded cached matrix from matrix_cache/elimination_matrix_hh_N=10.npz\n",
      "Loaded cached matrix from matrix_cache/elimination_matrix_hh_N=10.npz\n",
      "Loaded cached matrix from matrix_cache/duplication_matrix_hh_N=10.npz\n",
      "Loaded cached matrix from matrix_cache/elimination_matrix_hh_N=10.npz\n",
      "Loaded cached matrix from matrix_cache/duplication_matrix_hh_N=10.npz\n",
      "Loaded cached matrix from matrix_cache/elimination_matrix_hh_N=10.npz\n",
      "Loaded cached matrix from matrix_cache/duplication_matrix_hh_N=10.npz\n",
      "Loaded cached matrix from matrix_cache/elimination_matrix_hh_N=10.npz\n",
      "Loaded cached matrix from matrix_cache/duplication_matrix_hh_N=10.npz\n",
      "Loaded cached matrix from matrix_cache/duplication_matrix_hh_N=10.npz\n",
      "Loaded cached matrix from matrix_cache/elimination_matrix_hh_N=10.npz\n",
      "Loaded cached matrix from matrix_cache/elimination_matrix_hh_N=10.npz\n",
      "Loaded cached matrix from matrix_cache/duplication_matrix_hh_N=10.npz\n",
      "Loaded cached matrix from matrix_cache/duplication_matrix_hh_N=10.npz\n",
      "Loaded cached matrix from matrix_cache/elimination_matrix_hh_N=10.npz\n",
      "Loaded cached matrix from matrix_cache/elimination_matrix_hh_N=10.npz\n",
      "Loaded cached matrix from matrix_cache/duplication_matrix_hh_N=10.npz\n",
      "Loaded cached matrix from matrix_cache/elimination_matrix_hh_N=10.npz\n",
      "Loaded cached matrix from matrix_cache/duplication_matrix_hh_N=10.npz\n",
      "Loaded cached matrix from matrix_cache/elimination_matrix_hh_N=10.npz\n",
      "Loaded cached matrix from matrix_cache/duplication_matrix_hh_N=10.npz\n",
      "Loaded cached matrix from matrix_cache/duplication_matrix_hh_N=10.npz\n",
      "Loaded cached matrix from matrix_cache/duplication_matrix_hh_N=10.npz\n",
      "Loaded cached matrix from matrix_cache/elimination_matrix_hh_N=10.npz\n",
      "Loaded cached matrix from matrix_cache/elimination_matrix_hh_N=10.npz\n",
      "Loaded cached matrix from matrix_cache/elimination_matrix_hh_N=10.npz\n",
      "Loaded cached matrix from matrix_cache/duplication_matrix_hh_N=10.npz\n",
      "Loaded cached matrix from matrix_cache/duplication_matrix_hh_N=10.npz\n",
      "Loaded cached matrix from matrix_cache/duplication_matrix_hh_N=10.npz\n",
      "Loaded cached matrix from matrix_cache/elimination_matrix_hh_N=10.npz\n",
      "Loaded cached matrix from matrix_cache/elimination_matrix_hh_N=10.npz\n",
      "Loaded cached matrix from matrix_cache/elimination_matrix_hh_N=10.npz\n",
      "Loaded cached matrix from matrix_cache/duplication_matrix_hh_N=10.npz\n",
      "Loaded cached matrix from matrix_cache/duplication_matrix_hh_N=10.npz\n",
      "Loaded cached matrix from matrix_cache/duplication_matrix_hh_N=10.npz\n",
      "Loaded cached matrix from matrix_cache/elimination_matrix_hh_N=10.npz\n",
      "Loaded cached matrix from matrix_cache/elimination_matrix_hh_N=10.npz\n",
      "Loaded cached matrix from matrix_cache/elimination_matrix_hh_N=10.npz\n",
      "Loaded cached matrix from matrix_cache/duplication_matrix_hh_N=10.npz\n",
      "Loaded cached matrix from matrix_cache/elimination_matrix_hh_N=10.npz\n",
      "Loaded cached matrix from matrix_cache/duplication_matrix_hh_N=10.npz\n",
      "Loaded cached matrix from matrix_cache/elimination_matrix_hh_N=10.npz\n",
      "Loaded cached matrix from matrix_cache/duplication_matrix_hh_N=10.npz\n",
      "Loaded cached matrix from matrix_cache/elimination_matrix_hh_N=10.npz\n",
      "Loaded cached matrix from matrix_cache/duplication_matrix_hh_N=10.npz\n",
      "Loaded cached matrix from matrix_cache/elimination_matrix_hh_N=10.npz\n",
      "Loaded cached matrix from matrix_cache/duplication_matrix_hh_N=10.npz\n",
      "Loaded cached matrix from matrix_cache/elimination_matrix_hh_N=10.npz\n",
      "Loaded cached matrix from matrix_cache/duplication_matrix_hh_N=10.npz\n",
      "Loaded cached matrix from matrix_cache/elimination_matrix_hh_N=10.npz\n",
      "Loaded cached matrix from matrix_cache/duplication_matrix_hh_N=10.npz\n",
      "Loaded cached matrix from matrix_cache/elimination_matrix_hh_N=10.npz\n",
      "Loaded cached matrix from matrix_cache/duplication_matrix_hh_N=10.npz\n",
      "Loaded cached matrix from matrix_cache/elimination_matrix_hh_N=10.npz\n"
     ]
    },
    {
     "name": "stderr",
     "output_type": "stream",
     "text": [
      "pc_nonsparse_0.999:   0%|          | 0/20000 [00:00<?, ?it/s]Python(64436) MallocStackLogging: can't turn off malloc stack logging because it was not enabled.\n",
      "pc_nonsparse_0.999:  36%|███▌      | 7140/20000 [34:39<13:52:17,  3.88s/it]Python(64433) MallocStackLogging: can't turn off malloc stack logging because it was not enabled.\n",
      "pc_nonsparse_0.999:  36%|███▋      | 7283/20000 [34:07<3:03:03,  1.16it/s]Python(64424) MallocStackLogging: can't turn off malloc stack logging because it was not enabled.\n",
      "pc_nonsparse_0.999:   0%|          | 0/20000 [00:00<?, ?it/s]Python(64420) MallocStackLogging: can't turn off malloc stack logging because it was not enabled.\n",
      "Python(64435) MallocStackLogging: can't turn off malloc stack logging because it was not enabled.\n",
      "pc_nonsparse_0.999:  29%|██▊       | 5734/20000 [32:10<28:35:21,  7.21s/it]Python(64421) MallocStackLogging: can't turn off malloc stack logging because it was not enabled.\n",
      "pc_nonsparse_0.999:   0%|          | 23/20000 [09:54<17:01:21,  3.07s/it]Python(64434) MallocStackLogging: can't turn off malloc stack logging because it was not enabled.\n",
      "pc_nonsparse_0.999:   7%|▋         | 1433/20000 [15:37<1:35:31,  3.24it/s]Python(64427) MallocStackLogging: can't turn off malloc stack logging because it was not enabled.\n",
      "pc_nonsparse_0.999:  25%|██▌       | 5031/20000 [31:06<11:28:49,  2.76s/it]Python(64395) MallocStackLogging: can't turn off malloc stack logging because it was not enabled.\n",
      "pc_nonsparse_0.999:   0%|          | 0/20000 [00:00<?, ?it/s]Python(64423) MallocStackLogging: can't turn off malloc stack logging because it was not enabled.\n",
      "pc_nonsparse_0.999:  30%|███       | 6009/20000 [32:51<8:47:18,  2.26s/it]Python(64430) MallocStackLogging: can't turn off malloc stack logging because it was not enabled.\n",
      "pc_nonsparse_0.999:   4%|▍         | 822/20000 [15:53<35:29:17,  6.66s/it]Python(64400) MallocStackLogging: can't turn off malloc stack logging because it was not enabled.\n",
      "pc_nonsparse_0.999:  15%|█▌        | 3087/20000 [23:41<4:11:45,  1.12it/s]Python(64419) MallocStackLogging: can't turn off malloc stack logging because it was not enabled.\n",
      "pc_nonsparse_0.999:   0%|          | 0/20000 [00:00<?, ?it/s]Python(64426) MallocStackLogging: can't turn off malloc stack logging because it was not enabled.\n",
      "pc_nonsparse_0.999:   0%|          | 1/20000 [00:00<3:00:20,  1.85it/s]Python(64432) MallocStackLogging: can't turn off malloc stack logging because it was not enabled.\n",
      "pc_nonsparse_0.999:   0%|          | 0/20000 [00:00<?, ?it/s]Python(64428) MallocStackLogging: can't turn off malloc stack logging because it was not enabled.\n",
      "pc_nonsparse_0.999:  13%|█▎        | 2502/20000 [23:58<25:30:11,  5.25s/it]Python(64422) MallocStackLogging: can't turn off malloc stack logging because it was not enabled.\n",
      "pc_nonsparse_0.999:   0%|          | 0/20000 [00:00<?, ?it/s]Python(64425) MallocStackLogging: can't turn off malloc stack logging because it was not enabled.\n",
      "pc_nonsparse_0.999:   1%|          | 119/20000 [00:00<00:16, 1187.98it/s]Python(64398) MallocStackLogging: can't turn off malloc stack logging because it was not enabled.\n",
      "pc_nonsparse_0.999:  35%|███▌      | 7011/20000 [31:06<10:20:11,  2.86s/it]Python(64431) MallocStackLogging: can't turn off malloc stack logging because it was not enabled.\n",
      "pc_nonsparse_0.999:  30%|███       | 6014/20000 [31:25<21:51:47,  5.63s/it]Python(64429) MallocStackLogging: can't turn off malloc stack logging because it was not enabled.\n",
      "pc_nonsparse_0.999:  27%|██▋       | 5320/20000 [28:38<2:53:08,  1.41iit]]s]        | 12/20000 [00:21<8:38:27,  1.56s/it]       | 19/20000 [00:21<5:02:16,  1.10it/s]00 [35:11<5:52:27,  1.84s/it]it]e_0.999:  44%|████▍     | 8805/20000 [31:59<8:15:24,  2.66s/it]0 [00:43<11:54:40,  2.15s/it]5948/20000 [32:09<7:31:06,  1.93s/it].999:  35%|███▍      | 6987/20000 [32:11<3:44:17,  1.03s/it]parse_0.999:  24%|██▍       | 4892/20000 [28:00<5:58:29,  1.42s/it]999:  59%|█████▊    | 11726/20000 [36:25<2:55:02,  1.27s/it]          | 54/20000 [00:52<56:32,  5.88it/s]  000 [37:00<4:43:32,  1.65s/it]"
     ]
    },
    {
     "name": "stdout",
     "output_type": "stream",
     "text": [
      "Loaded cached matrix from matrix_cache/duplication_matrix_hh_N=10.npz\n",
      "Loaded cached matrix from matrix_cache/duplication_matrix_hh_N=10.npz\n",
      "Loaded cached matrix from matrix_cache/duplication_matrix_hh_N=10.npz\n",
      "Loaded cached matrix from matrix_cache/duplication_matrix_hh_N=10.npz\n",
      "Loaded cached matrix from matrix_cache/duplication_matrix_hh_N=10.npz\n",
      "Loaded cached matrix from matrix_cache/duplication_matrix_hh_N=10.npz\n",
      "Loaded cached matrix from matrix_cache/duplication_matrix_hh_N=10.npz\n",
      "Loaded cached matrix from matrix_cache/elimination_matrix_hh_N=10.npz\n",
      "Loaded cached matrix from matrix_cache/elimination_matrix_hh_N=10.npz\n",
      "Loaded cached matrix from matrix_cache/elimination_matrix_hh_N=10.npz\n",
      "Loaded cached matrix from matrix_cache/duplication_matrix_hh_N=10.npz\n",
      "Loaded cached matrix from matrix_cache/elimination_matrix_hh_N=10.npz\n",
      "Loaded cached matrix from matrix_cache/duplication_matrix_hh_N=10.npz\n",
      "Loaded cached matrix from matrix_cache/elimination_matrix_hh_N=10.npz\n",
      "Loaded cached matrix from matrix_cache/elimination_matrix_hh_N=10.npz\n",
      "Loaded cached matrix from matrix_cache/duplication_matrix_hh_N=10.npz\n",
      "Loaded cached matrix from matrix_cache/elimination_matrix_hh_N=10.npz\n",
      "Loaded cached matrix from matrix_cache/duplication_matrix_hh_N=10.npz\n",
      "Loaded cached matrix from matrix_cache/elimination_matrix_hh_N=10.npz\n",
      "Loaded cached matrix from matrix_cache/duplication_matrix_hh_N=10.npz\n",
      "Loaded cached matrix from matrix_cache/elimination_matrix_hh_N=10.npz\n",
      "Loaded cached matrix from matrix_cache/duplication_matrix_hh_N=10.npz\n",
      "Loaded cached matrix from matrix_cache/elimination_matrix_hh_N=10.npz\n",
      "Loaded cached matrix from matrix_cache/elimination_matrix_hh_N=10.npz\n",
      "Loaded cached matrix from matrix_cache/duplication_matrix_hh_N=10.npz\n",
      "Loaded cached matrix from matrix_cache/elimination_matrix_hh_N=10.npz\n",
      "Loaded cached matrix from matrix_cache/duplication_matrix_hh_N=10.npz\n",
      "Loaded cached matrix from matrix_cache/elimination_matrix_hh_N=10.npz\n",
      "Loaded cached matrix from matrix_cache/duplication_matrix_hh_N=10.npz\n",
      "Loaded cached matrix from matrix_cache/elimination_matrix_hh_N=10.npz\n",
      "Loaded cached matrix from matrix_cache/elimination_matrix_hh_N=10.npz\n",
      "Loaded cached matrix from matrix_cache/duplication_matrix_hh_N=10.npz\n",
      "Loaded cached matrix from matrix_cache/duplication_matrix_hh_N=10.npz\n",
      "Loaded cached matrix from matrix_cache/elimination_matrix_hh_N=10.npz\n",
      "Loaded cached matrix from matrix_cache/elimination_matrix_hh_N=10.npz\n",
      "Loaded cached matrix from matrix_cache/duplication_matrix_hh_N=10.npz\n",
      "Loaded cached matrix from matrix_cache/elimination_matrix_hh_N=10.npz\n",
      "Loaded cached matrix from matrix_cache/duplication_matrix_hh_N=10.npz\n",
      "Loaded cached matrix from matrix_cache/elimination_matrix_hh_N=10.npz\n",
      "Loaded cached matrix from matrix_cache/elimination_matrix_hh_N=10.npz\n",
      "Loaded cached matrix from matrix_cache/duplication_matrix_hh_N=10.npz\n",
      "Loaded cached matrix from matrix_cache/elimination_matrix_hh_N=10.npz\n"
     ]
    },
    {
     "name": "stderr",
     "output_type": "stream",
     "text": [
      "pc_nonsparse_0.999:  67%|██████▋   | 13389/20000 [51:13<1:55:44,  1.05s/it] ]|███▊      | 7577/20000 [35:45<4:50:21,  1.40s/it]49:28,  1.59s/it]58/20000 [36:46<3:56:02,  1.32s/it]█▏      | 6423/20000 [36:23<2:10:47,  1.73it/s]999:   0%|          | 17/20000 [00:29<11:37:47,  2.10s/it]0 [02:07<4:52:34,  1.13it/s]  2.18it/s]    | 3051/20000 [26:31<44:46,  6.31it/s]    | 6213/20000 [36:10<58:17,  3.94it/s]   | 2563/20000 [21:44<9:11:43,  1.90s/it]      | 7323/20000 [37:02<1:07:50,  3.11it/s]]37:02<5:47:43,  1.78s/it]0.999:  27%|██▋       | 5412/20000 [33:19<3:40:58,  1.10it/s]arse_0.999:  29%|██▉       | 5867/20000 [34:18<5:09:52,  1.32s/it]��█▍      | 6971/20000 [37:06<6:34:20,  1.82s/it]  5%|▌         | 1049/20000 [19:10<4:47:33,  1.10it/s][34:39<3:22:50,  1.19it/s]███▍      | 6971/20000 [38:28<4:35:29,  1.27s/it]3,  1.31it/s]rse_0.999:   1%|          | 226/20000 [04:20<5:53:17,  1.07s/it]0000 [04:27<5:05:27,  1.05it/s]   | 7233/20000 [38:53<3:13:03,  1.10it/s]��██▏      | 6310/20000 [32:11<1:20:42,  2.83it/s]sparse_0.999:   3%|▎         | 687/20000 [17:20<3:46:30,  1.42it/s]  | 2729/20000 [24:32<6:21:01,  1.32s/it]7<5:43:26,  1.41s/it]  1.50s/it]2%|▏         | 353/20000 [06:13<5:05:35,  1.07it/s] 7323/20000 [40:57<4:10:14,  1.18s/it]:27:20,  1.60s/it]e_0.999:  36%|███▌      | 7232/20000 [40:25<1:26:11,  2.47it/s]6s/it]t]  8%|▊         | 1578/20000 [23:49<2:50:26,  1.80it/s]%|█         | 2032/20000 [24:04<4:21:48,  1.14it/s]�▎      | 6700/20000 [41:28<4:46:40,  1.29s/it]000 [39:41<4:10:10,  1.09s/it]█▉      | 7841/20000 [43:30<2:24:08,  1.41it/s]20<4:27:13,  1.22it/s]%|██▋       | 5345/20000 [35:51<2:47:38,  1.46it/s]s]:44,  1.33s/it]93/20000 [33:12<1:57:07,  2.32it/s]�█▊      | 7670/20000 [44:17<4:23:51,  1.28s/it]|████▎     | 8691/20000 [44:40<39:39,  4.75it/s] 3%|▎         | 608/20000 [09:30<2:44:30,  1.96it/s] [40:05<2:50:41,  1.22it/s]e_0.999:  52%|█████▏    | 10483/20000 [45:28<3:00:15,  1.14s/it]37%|███▋      | 7465/20000 [44:10<2:01:36,  1.72it/s]80/20000 [26:04<15:09, 20.13it/s]8%|▊         | 1644/20000 [26:32<10:32:44,  2.07s/it] [42:00<49:51,  4.73it/s]5%|███▌      | 7077/20000 [43:50<4:55:54,  1.37s/it]:10,  1.49s/it]s]_nonsparse_0.999:   4%|▍         | 819/20000 [10:54<13:19:23,  2.50s/it]000 [21:40<7:47:54,  1.46s/it]        | 859/20000 [11:33<3:12:52,  1.65it/s]▊      | 7705/20000 [46:06<1:58:31,  1.73it/s]       | 1592/20000 [27:48<7:04:07,  1.38s/it]nsparse_0.999:   4%|▍         | 805/20000 [12:09<2:08:55,  2.48it/s][43:36<2:32:16,  1.49it/s]0,  1.42s/it]_0.999:  35%|███▌      | 7087/20000 [44:04<1:39:42,  2.16it/s]arse_0.999:  34%|███▎      | 6744/20000 [44:24<2:17:10,  1.61it/s]0000 [47:41<3:27:27,  1.09s/it]957/20000 [44:56<2:54:29,  1.25it/s]:  39%|███▉      | 7846/20000 [44:12<4:54:21,  1.45s/it]0.999:  33%|███▎      | 6616/20000 [45:18<3:45:26,  1.01s/it]24:35,  1.30s/it]��█▍      | 6844/20000 [41:16<2:34:00,  1.42it/s]00 [29:57<5:55:28,  1.19s/it]██▏      | 6344/20000 [45:23<6:18:43,  1.66s/it]119/20000 [49:01<4:20:53,  1.44s/it] 34%|███▍      | 6879/20000 [44:58<1:42:10,  2.14it/s]  | 2309/20000 [30:32<3:53:36,  1.26it/s]�     | 9212/20000 [49:30<2:06:23,  1.42it/s]�█▊       | 5594/20000 [42:16<4:06:01,  1.02s/it]it/s]"
     ]
    }
   ],
   "source": [
    "# 試行回数の設定\n",
    "num_trials = 300\n",
    "\n",
    "# パラメータの設定\n",
    "N = 10\n",
    "T = 20000\n",
    "sparsity = 100\n",
    "max_weight = 0.5\n",
    "variance_e = 0.005\n",
    "std_e = np.sqrt(variance_e)\n",
    "K = 4\n",
    "S_is_symmetric = True\n",
    "\n",
    "seed = 42  # 基本のシード\n",
    "\n",
    "# TV-SEMパラメータ\n",
    "P = 1\n",
    "C = 1\n",
    "gamma = 0.999\n",
    "alpha = 0.015\n",
    "beta_pc = 0.015\n",
    "beta_co = 0.02\n",
    "beta_sgd = 0.02\n",
    "\n",
    "# その他のパラメータ\n",
    "r = 4  # window size\n",
    "q = 20  # number of processors\n",
    "rho = 0.15\n",
    "\n",
    "# 試行ごとの処理を行う関数を定義\n",
    "def run_trial(trial_seed):\n",
    "    np.random.seed(trial_seed)  # シードを試行ごとに設定\n",
    "\n",
    "    # データの生成\n",
    "    S_series, X = generate_piecewise_X_K(N, T, S_is_symmetric, sparsity, max_weight, std_e, K)\n",
    "\n",
    "    # 初期値の設定\n",
    "    if S_is_symmetric:\n",
    "        S_0 = generate_random_S(N, sparsity, max_weight)\n",
    "    else:\n",
    "        S_0 = generate_random_S_with_off_diagonal(N, sparsity, max_weight)\n",
    "    S_0 = S_0 / norm(S_0)\n",
    "\n",
    "    # モデルのインスタンス化（並列処理を無効化）\n",
    "    tv_sem_pc = TimeVaryingSEM_PC_NONSPARSE(N, S_0, alpha, beta_pc, gamma, P, C)\n",
    "    tv_sem_co = TimeVaryingSEM_PC_NONSPARSE(N, S_0, alpha, beta_co, gamma, 0, C)\n",
    "    tv_sem_sgd = TimeVaryingSEM_PC_NONSPARSE(N, S_0, alpha, beta_sgd, 0, 0, C)\n",
    "    tv_sem_pp = TimeVaryingSEM_PP_NONSPARSE_UNDIRECTED(N, S_0, r, q, rho)\n",
    "\n",
    "    # 並列処理を無効化するために、直接関数を呼び出す\n",
    "    estimates_pc, cost_values_pc = tv_sem_pc.run(X)\n",
    "    estimates_co, cost_values_co = tv_sem_co.run(X)\n",
    "    estimates_sgd, cost_values_sgd = tv_sem_sgd.run(X)\n",
    "    estimates_pp = tv_sem_pp.run(X)\n",
    "\n",
    "    # エラーの計算\n",
    "    error_pc = []\n",
    "    error_co = []\n",
    "    error_sgd = []\n",
    "    error_pp = []\n",
    "\n",
    "    for i in range(T):\n",
    "        error_pc.append(norm(estimates_pc[i] - S_series[i]) ** 2 / (norm(S_0 - S_series[i]) ** 2))\n",
    "        error_co.append(norm(estimates_co[i] - S_series[i]) ** 2 / (norm(S_0 - S_series[i]) ** 2))\n",
    "        error_sgd.append(norm(estimates_sgd[i] - S_series[i]) ** 2 / (norm(S_0 - S_series[i]) ** 2))\n",
    "        error_pp.append(norm(estimates_pp[i] - S_series[i]) ** 2 / (norm(S_0 - S_series[i]) ** 2))\n",
    "\n",
    "    return error_pc, error_co, error_sgd, error_pp\n",
    "\n",
    "# 試行ごとのシードを作成\n",
    "trial_seeds = [seed + i for i in range(num_trials)]\n",
    "\n",
    "# 並列処理の実行\n",
    "results = Parallel(n_jobs=num_trials)(\n",
    "    delayed(run_trial)(trial_seed) for trial_seed in trial_seeds\n",
    ")\n",
    "\n",
    "# 結果の集計\n",
    "error_pc_total = np.zeros(T)\n",
    "error_co_total = np.zeros(T)\n",
    "error_sgd_total = np.zeros(T)\n",
    "error_pp_total = np.zeros(T)\n",
    "\n",
    "for error_pc, error_co, error_sgd, error_pp in results:\n",
    "    error_pc_total += np.array(error_pc)\n",
    "    error_co_total += np.array(error_co)\n",
    "    error_sgd_total += np.array(error_sgd)\n",
    "    error_pp_total += np.array(error_pp)\n",
    "\n",
    "# 平均の計算\n",
    "error_pc_mean = error_pc_total / num_trials\n",
    "error_co_mean = error_co_total / num_trials\n",
    "error_sgd_mean = error_sgd_total / num_trials\n",
    "error_pp_mean = error_pp_total / num_trials\n",
    "\n",
    "# 結果のプロット\n",
    "plt.figure(figsize=(10,6))\n",
    "plt.plot(error_co_mean, color='blue', label='Correction Only')\n",
    "plt.plot(error_pc_mean, color='limegreen', label='Prediction Correction')\n",
    "plt.plot(error_sgd_mean, color='cyan', label='SGD')\n",
    "plt.plot(error_pp_mean, color='red', label='Proposed')\n",
    "plt.yscale('log')\n",
    "plt.xlim(left=0, right=T)\n",
    "plt.xlabel('t')\n",
    "plt.ylabel('Average NSE')\n",
    "plt.grid(True, 'both')\n",
    "plt.legend()\n",
    "\n",
    "timestamp = datetime.datetime.now().strftime('%Y%m%d_%H%M%S')\n",
    "\n",
    "filename = (\n",
    "    f'result_N{N}_'\n",
    "    f'num_trials{num_trials}_'\n",
    "    f'T{T}_'\n",
    "    f'maxweight{max_weight}_'\n",
    "    f'variancee{variance_e}_'\n",
    "    f'K{K}_'\n",
    "    f'Sissymmetric{S_is_symmetric}_'\n",
    "    f'seed{seed}_'\n",
    "    f'P{P}_'\n",
    "    f'C{C}_'\n",
    "    f'gammma{gamma}_'\n",
    "    f'alpha{alpha}_'\n",
    "    f'betapc{beta_pc}_'\n",
    "    f'betaco{beta_co}_'\n",
    "    f'betasgd{beta_sgd}_'\n",
    "    f'r{r}_'\n",
    "    f'q{q}_'\n",
    "    f'rho{rho}_'\n",
    "    f'timestamp{timestamp}_.png'\n",
    ")\n",
    "\n",
    "print(filename)\n",
    "today_str = datetime.datetime.now().strftime('%y%m%d')\n",
    "save_path = f'./result/{today_str}/images'\n",
    "os.makedirs(save_path, exist_ok=True)  # ディレクトリが無い場合は作成\n",
    "plt.savefig(os.path.join(save_path, filename))\n",
    "plt.show()\n",
    "\n",
    "notebook_filename = \"sandbox_mean.ipynb\"  # ★使用中のNotebook名を入力\n",
    "copy_ipynb_path = os.path.join(save_path, f\"notebook_backup_{timestamp}.ipynb\")\n",
    "\n",
    "shutil.copy(notebook_filename, copy_ipynb_path)\n",
    "print(f\"Notebook file copied to: {copy_ipynb_path}\")\n"
   ]
  }
 ],
 "metadata": {
  "kernelspec": {
   "display_name": "venv",
   "language": "python",
   "name": "python3"
  },
  "language_info": {
   "codemirror_mode": {
    "name": "ipython",
    "version": 3
   },
   "file_extension": ".py",
   "mimetype": "text/x-python",
   "name": "python",
   "nbconvert_exporter": "python",
   "pygments_lexer": "ipython3",
   "version": "3.12.8"
  }
 },
 "nbformat": 4,
 "nbformat_minor": 2
}
