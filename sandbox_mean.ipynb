{
 "cells": [
  {
   "cell_type": "code",
   "execution_count": 1,
   "metadata": {},
   "outputs": [],
   "source": [
    "import shutil\n",
    "import os\n",
    "import datetime\n",
    "\n",
    "import numpy as np\n",
    "from scipy.linalg import inv, eigvals, norm\n",
    "import matplotlib.pyplot as plt\n",
    "import cvxpy as cp\n",
    "from tqdm import tqdm\n",
    "from joblib import Parallel, delayed\n",
    "from multiprocessing import Manager\n",
    "\n",
    "from utils import *\n",
    "from models.tvgti_pc_nonsparse import TimeVaryingSEM as TimeVaryingSEM_PC_NONSPARSE\n",
    "from models.tvgti_pp_nonsparse_undirected import TimeVaryingSEM as TimeVaryingSEM_PP_NONSPARSE_UNDIRECTED"
   ]
  },
  {
   "cell_type": "code",
   "execution_count": 2,
   "metadata": {},
   "outputs": [],
   "source": [
    "def generate_random_S(N, sparsity, max_weight):\n",
    "    S = np.zeros((N, N))\n",
    "    \n",
    "    for i in range(N):\n",
    "        for j in range(i + 1, N):\n",
    "            if np.random.rand() < sparsity:\n",
    "                weight = np.random.uniform(-max_weight, max_weight)\n",
    "                # weight = np.random.uniform(0, max_weight)\n",
    "                S[i, j] = weight\n",
    "                S[j, i] = weight\n",
    "    \n",
    "    # Ensure spectral radius < 1\n",
    "    spectral_radius = max(abs(eigvals(S)))\n",
    "    if spectral_radius >= 1:\n",
    "        S = S / (spectral_radius + 0.1)\n",
    "\n",
    "    S = S / norm(S)\n",
    "    return S\n",
    "\n",
    "def generate_random_S_with_off_diagonal(N, sparsity, max_weight):\n",
    "    S = np.zeros((N, N))\n",
    "    \n",
    "    for i in range(N):\n",
    "        for j in range(N):\n",
    "            if i != j and np.random.rand() < sparsity:\n",
    "                weight = np.random.uniform(-max_weight, max_weight)\n",
    "                # weight = np.random.uniform(0, max_weight)\n",
    "                S[i, j] = weight\n",
    "    \n",
    "    # Ensure spectral radius < 1\n",
    "    spectral_radius = max(abs(eigvals(S)))\n",
    "    if spectral_radius >= 1:\n",
    "        S = S / (spectral_radius + 0.1)\n",
    "\n",
    "    S = S / norm(S)\n",
    "    return S\n",
    "\n",
    "def modify_S(S, edge_indices, factor=2.0):\n",
    "    S_modified = S.copy()\n",
    "    for (i, j) in edge_indices:\n",
    "        if i != j:\n",
    "            S_modified[i, j] *= factor\n",
    "            S_modified[j, i] *= factor\n",
    "    return S_modified\n",
    "\n",
    "def generate_stationary_X(N, T, S_is_symmetric, sparsity, max_weight, std_e):\n",
    "    if S_is_symmetric:\n",
    "        S = generate_random_S(N, sparsity=sparsity, max_weight=max_weight)\n",
    "    else:\n",
    "        S = generate_random_S_with_off_diagonal(N, sparsity=sparsity, max_weight=max_weight)\n",
    "    S_series = [S for _ in range(T)]\n",
    "    e_t_series = np.random.normal(0, std_e, size=(N, T))\n",
    "\n",
    "    I = np.eye(N)\n",
    "    try:\n",
    "        inv_I_S = inv(I - S)\n",
    "    except np.linalg.LinAlgError:\n",
    "        raise ValueError(\"The matrix (I - S) is non-invertible. Please adjust S to ensure invertibility.\")\n",
    "\n",
    "    X = inv_I_S @ e_t_series\n",
    "\n",
    "    return S_series, X, e_t_series\n",
    "\n",
    "def generate_stationary_X_from_S(S, N, T, std_e):\n",
    "    S = S\n",
    "    S_series = [S for _ in range(T)]\n",
    "    e_t_series = np.random.normal(0, std_e, size=(N, T))\n",
    "\n",
    "    I = np.eye(N)\n",
    "    try:\n",
    "        inv_I_S = inv(I - S)\n",
    "    except np.linalg.LinAlgError:\n",
    "        raise ValueError(\"The matrix (I - S) is non-invertible. Please adjust S to ensure invertibility.\")\n",
    "\n",
    "    X = inv_I_S @ e_t_series\n",
    "\n",
    "    return S_series, X\n",
    "\n",
    "def generate_piecewise_X(N, T, S_is_symmetric, sparsity, max_weight, std_e):\n",
    "    max_weight_0 = max_weight\n",
    "    max_weight_1 = max_weight\n",
    "    if S_is_symmetric:\n",
    "        S0 = generate_random_S(N, sparsity=sparsity, max_weight=max_weight)\n",
    "    else:\n",
    "        S0 = generate_random_S_with_off_diagonal(N, sparsity=sparsity, max_weight=max_weight)\n",
    "    # S1 = generate_random_S(N, sparsity=sparsity, max_weight=max_weight_1)\n",
    "    S1 = S0*2\n",
    "    S_series = [S0 for _ in range(T // 2)] + [S1 for _ in range(T - T // 2)]\n",
    "    e_t_series = np.random.normal(0, std_e, size=(N, T))\n",
    "\n",
    "    I = np.eye(N)\n",
    "    try:\n",
    "        inv_I_S0 = inv(I - S0)\n",
    "        inv_I_S1 = inv(I - S1)\n",
    "    except np.linalg.LinAlgError:\n",
    "        raise ValueError(\"The matrix (I - S) is non-invertible. Please adjust S to ensure invertibility.\")\n",
    "\n",
    "    X0 = inv_I_S0 @ e_t_series[:, :T // 2]\n",
    "    X1 = inv_I_S1 @ e_t_series[:, T // 2:]\n",
    "    X = np.concatenate([X0, X1], axis=1)\n",
    "\n",
    "    return S_series, X\n",
    "\n",
    "def generate_piecewise_X_K(N, T, S_is_symmetric, sparsity, max_weight, std_e, K):\n",
    "    S_list = []\n",
    "    inv_I_S_list = []\n",
    "    I = np.eye(N)\n",
    "\n",
    "    for i in range(K):\n",
    "        if S_is_symmetric:\n",
    "            S = generate_random_S(N, sparsity=sparsity, max_weight=max_weight)\n",
    "        else:\n",
    "            S = generate_random_S_with_off_diagonal(N, sparsity=sparsity, max_weight=max_weight)\n",
    "        S_list.append(S)\n",
    "        try:\n",
    "            inv_I_S = inv(I - S)\n",
    "            inv_I_S_list.append(inv_I_S)\n",
    "        except np.linalg.LinAlgError:\n",
    "            raise ValueError(\"The matrix (I - S) is non-invertible. Please adjust S to ensure invertibility.\")\n",
    "\n",
    "    # Divide T into K segments\n",
    "    segment_lengths = [T // K] * K\n",
    "    segment_lengths[i-1] += T % K\n",
    "\n",
    "    # Create S_series\n",
    "    S_series = []\n",
    "    for i, length in enumerate(segment_lengths):\n",
    "        S_series.extend([S_list[i]] * length)\n",
    "\n",
    "    # Generate error terms\n",
    "    e_t_series = np.random.normal(0, std_e, size=(N, T))\n",
    "\n",
    "    # Compute X\n",
    "    X_list = []\n",
    "    start = 0\n",
    "    for i, length in enumerate(segment_lengths):\n",
    "        end = start + length\n",
    "        X_i = inv_I_S_list[i] @ e_t_series[:, start:end]\n",
    "        X_list.append(X_i)\n",
    "        start = end\n",
    "\n",
    "    X = np.concatenate(X_list, axis=1)\n",
    "\n",
    "    return S_series, X\n",
    "\n",
    "\n",
    "def solve_offline_sem(X_up_to_t, lambda_reg):\n",
    "    N, t = X_up_to_t.shape\n",
    "    S = cp.Variable((N, N), symmetric=True)\n",
    "    \n",
    "    # objective = (1/(2*t)) * cp.norm(X_up_to_t - S @ X_up_to_t, 'fro') + lambda_reg * cp.norm1(S)\n",
    "    objective = (1/(2*t)) * cp.norm(X_up_to_t - S @ X_up_to_t, 'fro')\n",
    "    \n",
    "    constraints = [cp.diag(S) == 0]\n",
    "    \n",
    "    prob = cp.Problem(cp.Minimize(objective), constraints)\n",
    "    \n",
    "    prob.solve(solver=cp.SCS, verbose=False)\n",
    "    \n",
    "    if prob.status not in [\"optimal\", \"optimal_inaccurate\"]:\n",
    "        raise ValueError(\"CVXPY did not find an optimal solution.\")\n",
    "    \n",
    "    S_opt = S.value\n",
    "    return S_opt\n"
   ]
  },
  {
   "cell_type": "code",
   "execution_count": 3,
   "metadata": {},
   "outputs": [],
   "source": [
    "plt.rc('text',usetex=True)\n",
    "plt.rc('font',family=\"serif\")\n",
    "plt.rcParams[\"font.family\"] = \"Times New Roman\"      #全体のフォントを設定\n",
    "plt.rcParams[\"xtick.direction\"] = \"in\"               #x軸の目盛線が内向き('in')か外向き('out')か双方向か('inout')\n",
    "plt.rcParams[\"ytick.direction\"] = \"in\"               #y軸の目盛線が内向き('in')か外向き('out')か双方向か('inout')\n",
    "plt.rcParams[\"xtick.minor.visible\"] = True          #x軸補助目盛りの追加\n",
    "plt.rcParams[\"ytick.minor.visible\"] = True          #y軸補助目盛りの追加\n",
    "plt.rcParams[\"xtick.major.width\"] = 1.5              #x軸主目盛り線の線幅\n",
    "plt.rcParams[\"ytick.major.width\"] = 1.5              #y軸主目盛り線の線幅\n",
    "plt.rcParams[\"xtick.minor.width\"] = 1.0              #x軸補助目盛り線の線幅\n",
    "plt.rcParams[\"ytick.minor.width\"] = 1.0              #y軸補助目盛り線の線幅\n",
    "plt.rcParams[\"xtick.major.size\"] = 10                #x軸主目盛り線の長さ\n",
    "plt.rcParams[\"ytick.major.size\"] = 10                #y軸主目盛り線の長さ\n",
    "plt.rcParams[\"xtick.minor.size\"] = 5                #x軸補助目盛り線の長さ\n",
    "plt.rcParams[\"ytick.minor.size\"] = 5                #y軸補助目盛り線の長さ\n",
    "plt.rcParams[\"font.size\"] = 15                       #フォントの大きさ"
   ]
  },
  {
   "cell_type": "code",
   "execution_count": 4,
   "metadata": {},
   "outputs": [
    {
     "name": "stdout",
     "output_type": "stream",
     "text": [
      "Loaded cached matrix from matrix_cache/duplication_matrix_hh_N=10.npz\n",
      "Loaded cached matrix from matrix_cache/elimination_matrix_hh_N=10.npz\n",
      "Loaded cached matrix from matrix_cache/duplication_matrix_hh_N=10.npz\n",
      "Loaded cached matrix from matrix_cache/elimination_matrix_hh_N=10.npz\n",
      "Loaded cached matrix from matrix_cache/duplication_matrix_hh_N=10.npz\n",
      "Loaded cached matrix from matrix_cache/elimination_matrix_hh_N=10.npz\n"
     ]
    },
    {
     "name": "stderr",
     "output_type": "stream",
     "text": [
      "pc_nonsparse_0.999:  18%|█▊        | 901/5000 [00:02<00:11, 368.06it/s]"
     ]
    },
    {
     "name": "stdout",
     "output_type": "stream",
     "text": [
      "Loaded cached matrix from matrix_cache/duplication_matrix_hh_N=10.npz\n",
      "Loaded cached matrix from matrix_cache/duplication_matrix_hh_N=10.npz\n",
      "Loaded cached matrix from matrix_cache/elimination_matrix_hh_N=10.npz\n",
      "Loaded cached matrix from matrix_cache/duplication_matrix_hh_N=10.npz\n",
      "Loaded cached matrix from matrix_cache/elimination_matrix_hh_N=10.npz\n",
      "Loaded cached matrix from matrix_cache/duplication_matrix_hh_N=10.npz\n",
      "Loaded cached matrix from matrix_cache/elimination_matrix_hh_N=10.npz\n"
     ]
    },
    {
     "name": "stderr",
     "output_type": "stream",
     "text": [
      "pc_nonsparse_0.999:  23%|██▎       | 1168/5000 [00:02<00:06, 549.11it/s]"
     ]
    },
    {
     "name": "stdout",
     "output_type": "stream",
     "text": [
      "Loaded cached matrix from matrix_cache/elimination_matrix_hh_N=10.npz\n",
      "Loaded cached matrix from matrix_cache/duplication_matrix_hh_N=10.npz\n",
      "Loaded cached matrix from matrix_cache/elimination_matrix_hh_N=10.npz\n",
      "Loaded cached matrix from matrix_cache/duplication_matrix_hh_N=10.npz\n",
      "Loaded cached matrix from matrix_cache/elimination_matrix_hh_N=10.npz\n",
      "Loaded cached matrix from matrix_cache/duplication_matrix_hh_N=10.npz\n",
      "Loaded cached matrix from matrix_cache/elimination_matrix_hh_N=10.npz\n",
      "Loaded cached matrix from matrix_cache/duplication_matrix_hh_N=10.npz\n",
      "Loaded cached matrix from matrix_cache/elimination_matrix_hh_N=10.npz\n",
      "Loaded cached matrix from matrix_cache/duplication_matrix_hh_N=10.npz\n",
      "Loaded cached matrix from matrix_cache/elimination_matrix_hh_N=10.npz\n",
      "Loaded cached matrix from matrix_cache/duplication_matrix_hh_N=10.npz\n",
      "Loaded cached matrix from matrix_cache/elimination_matrix_hh_N=10.npz\n",
      "Loaded cached matrix from matrix_cache/duplication_matrix_hh_N=10.npz\n",
      "Loaded cached matrix from matrix_cache/elimination_matrix_hh_N=10.npz\n",
      "Loaded cached matrix from matrix_cache/duplication_matrix_hh_N=10.npz\n",
      "Loaded cached matrix from matrix_cache/elimination_matrix_hh_N=10.npz\n",
      "Loaded cached matrix from matrix_cache/duplication_matrix_hh_N=10.npz\n",
      "Loaded cached matrix from matrix_cache/duplication_matrix_hh_N=10.npz\n",
      "Loaded cached matrix from matrix_cache/elimination_matrix_hh_N=10.npz\n",
      "Loaded cached matrix from matrix_cache/duplication_matrix_hh_N=10.npz\n",
      "Loaded cached matrix from matrix_cache/elimination_matrix_hh_N=10.npz\n",
      "Loaded cached matrix from matrix_cache/duplication_matrix_hh_N=10.npz\n",
      "Loaded cached matrix from matrix_cache/elimination_matrix_hh_N=10.npz\n",
      "Loaded cached matrix from matrix_cache/duplication_matrix_hh_N=10.npz\n",
      "Loaded cached matrix from matrix_cache/elimination_matrix_hh_N=10.npz\n",
      "Loaded cached matrix from matrix_cache/elimination_matrix_hh_N=10.npz\n",
      "Loaded cached matrix from matrix_cache/duplication_matrix_hh_N=10.npz\n",
      "Loaded cached matrix from matrix_cache/elimination_matrix_hh_N=10.npz\n",
      "Loaded cached matrix from matrix_cache/duplication_matrix_hh_N=10.npz\n",
      "Loaded cached matrix from matrix_cache/elimination_matrix_hh_N=10.npz\n",
      "Loaded cached matrix from matrix_cache/duplication_matrix_hh_N=10.npz\n",
      "Loaded cached matrix from matrix_cache/elimination_matrix_hh_N=10.npz\n",
      "Loaded cached matrix from matrix_cache/duplication_matrix_hh_N=10.npz\n",
      "Loaded cached matrix from matrix_cache/elimination_matrix_hh_N=10.npz\n"
     ]
    },
    {
     "name": "stderr",
     "output_type": "stream",
     "text": [
      "pc_nonsparse_0.999:   4%|▎         | 186/5000 [00:00<00:08, 581.19it/s]]"
     ]
    },
    {
     "name": "stdout",
     "output_type": "stream",
     "text": [
      "Loaded cached matrix from matrix_cache/duplication_matrix_hh_N=10.npz\n",
      "Loaded cached matrix from matrix_cache/elimination_matrix_hh_N=10.npz\n",
      "Loaded cached matrix from matrix_cache/duplication_matrix_hh_N=10.npz\n",
      "Loaded cached matrix from matrix_cache/elimination_matrix_hh_N=10.npz\n",
      "Loaded cached matrix from matrix_cache/duplication_matrix_hh_N=10.npz\n",
      "Loaded cached matrix from matrix_cache/elimination_matrix_hh_N=10.npz\n",
      "Loaded cached matrix from matrix_cache/duplication_matrix_hh_N=10.npz\n",
      "Loaded cached matrix from matrix_cache/elimination_matrix_hh_N=10.npz\n",
      "Loaded cached matrix from matrix_cache/duplication_matrix_hh_N=10.npz\n",
      "Loaded cached matrix from matrix_cache/elimination_matrix_hh_N=10.npz\n",
      "Loaded cached matrix from matrix_cache/duplication_matrix_hh_N=10.npz\n",
      "Loaded cached matrix from matrix_cache/elimination_matrix_hh_N=10.npz\n",
      "Loaded cached matrix from matrix_cache/duplication_matrix_hh_N=10.npz\n",
      "Loaded cached matrix from matrix_cache/elimination_matrix_hh_N=10.npz\n",
      "Loaded cached matrix from matrix_cache/duplication_matrix_hh_N=10.npz\n",
      "Loaded cached matrix from matrix_cache/elimination_matrix_hh_N=10.npz\n",
      "Loaded cached matrix from matrix_cache/duplication_matrix_hh_N=10.npz\n",
      "Loaded cached matrix from matrix_cache/duplication_matrix_hh_N=10.npz\n",
      "Loaded cached matrix from matrix_cache/elimination_matrix_hh_N=10.npz\n",
      "Loaded cached matrix from matrix_cache/elimination_matrix_hh_N=10.npz\n",
      "Loaded cached matrix from matrix_cache/duplication_matrix_hh_N=10.npz\n",
      "Loaded cached matrix from matrix_cache/elimination_matrix_hh_N=10.npz\n",
      "Loaded cached matrix from matrix_cache/duplication_matrix_hh_N=10.npz\n",
      "Loaded cached matrix from matrix_cache/elimination_matrix_hh_N=10.npz\n",
      "Loaded cached matrix from matrix_cache/duplication_matrix_hh_N=10.npz\n",
      "Loaded cached matrix from matrix_cache/elimination_matrix_hh_N=10.npz\n",
      "Loaded cached matrix from matrix_cache/duplication_matrix_hh_N=10.npz\n",
      "Loaded cached matrix from matrix_cache/elimination_matrix_hh_N=10.npz\n",
      "Loaded cached matrix from matrix_cache/duplication_matrix_hh_N=10.npz\n",
      "Loaded cached matrix from matrix_cache/elimination_matrix_hh_N=10.npz\n"
     ]
    },
    {
     "name": "stderr",
     "output_type": "stream",
     "text": [
      "pc_nonsparse_0.999:  32%|███▏      | 1620/5000 [00:03<00:05, 617.73it/s]"
     ]
    },
    {
     "name": "stdout",
     "output_type": "stream",
     "text": [
      "Loaded cached matrix from matrix_cache/duplication_matrix_hh_N=10.npz\n",
      "Loaded cached matrix from matrix_cache/elimination_matrix_hh_N=10.npz\n",
      "Loaded cached matrix from matrix_cache/duplication_matrix_hh_N=10.npz\n",
      "Loaded cached matrix from matrix_cache/elimination_matrix_hh_N=10.npz\n",
      "Loaded cached matrix from matrix_cache/duplication_matrix_hh_N=10.npz\n",
      "Loaded cached matrix from matrix_cache/elimination_matrix_hh_N=10.npz\n",
      "Loaded cached matrix from matrix_cache/duplication_matrix_hh_N=10.npz\n",
      "Loaded cached matrix from matrix_cache/elimination_matrix_hh_N=10.npz\n",
      "Loaded cached matrix from matrix_cache/duplication_matrix_hh_N=10.npz\n",
      "Loaded cached matrix from matrix_cache/elimination_matrix_hh_N=10.npz\n",
      "Loaded cached matrix from matrix_cache/duplication_matrix_hh_N=10.npz\n",
      "Loaded cached matrix from matrix_cache/elimination_matrix_hh_N=10.npz\n"
     ]
    },
    {
     "name": "stderr",
     "output_type": "stream",
     "text": [
      "pc_nonsparse_0.999:  37%|███▋      | 1853/5000 [00:03<00:03, 814.99it/s]"
     ]
    },
    {
     "name": "stdout",
     "output_type": "stream",
     "text": [
      "Loaded cached matrix from matrix_cache/duplication_matrix_hh_N=10.npz\n",
      "Loaded cached matrix from matrix_cache/duplication_matrix_hh_N=10.npz\n",
      "Loaded cached matrix from matrix_cache/elimination_matrix_hh_N=10.npz\n",
      "Loaded cached matrix from matrix_cache/duplication_matrix_hh_N=10.npz\n",
      "Loaded cached matrix from matrix_cache/elimination_matrix_hh_N=10.npz\n",
      "Loaded cached matrix from matrix_cache/elimination_matrix_hh_N=10.npz\n",
      "Loaded cached matrix from matrix_cache/duplication_matrix_hh_N=10.npz\n",
      "Loaded cached matrix from matrix_cache/duplication_matrix_hh_N=10.npz\n",
      "Loaded cached matrix from matrix_cache/elimination_matrix_hh_N=10.npz\n",
      "Loaded cached matrix from matrix_cache/elimination_matrix_hh_N=10.npz\n",
      "Loaded cached matrix from matrix_cache/duplication_matrix_hh_N=10.npz\n",
      "Loaded cached matrix from matrix_cache/elimination_matrix_hh_N=10.npz\n"
     ]
    },
    {
     "name": "stderr",
     "output_type": "stream",
     "text": [
      "pc_nonsparse_0.999: 100%|██████████| 5000/5000 [00:05<00:00, 852.15it/s] \n",
      "pc_nonsparse_0.999: 100%|██████████| 5000/5000 [00:03<00:00, 1421.80it/s]\n",
      "pc_nonsparse_0.999: 100%|██████████| 5000/5000 [00:03<00:00, 1298.71it/s]\n",
      "pc_nonsparse_0.999: 100%|██████████| 5000/5000 [00:03<00:00, 1313.87it/s]\n",
      "pc_nonsparse_0.999: 100%|██████████| 5000/5000 [00:03<00:00, 1476.22it/s]\n",
      "pc_nonsparse_0.999: 100%|██████████| 5000/5000 [00:03<00:00, 1449.07it/s]\n",
      "pc_nonsparse_0.999: 100%|██████████| 5000/5000 [00:03<00:00, 1379.07it/s]\n",
      "pc_nonsparse_0.999: 100%|██████████| 5000/5000 [00:03<00:00, 1517.15it/s]\n",
      "pc_nonsparse_0.999: 100%|██████████| 5000/5000 [00:03<00:00, 1456.75it/s]\n",
      "pc_nonsparse_0.999: 100%|██████████| 5000/5000 [00:03<00:00, 1364.24it/s]\n",
      "pc_nonsparse_0.999: 100%|██████████| 5000/5000 [00:03<00:00, 1504.82it/s]\n",
      "pc_nonsparse_0.999: 100%|██████████| 5000/5000 [00:03<00:00, 1377.85it/s]\n",
      "pc_nonsparse_0.999: 100%|██████████| 5000/5000 [00:03<00:00, 1296.53it/s]\n",
      "pc_nonsparse_0.999: 100%|██████████| 5000/5000 [00:02<00:00, 1702.49it/s]\n",
      "pc_nonsparse_0.999: 100%|██████████| 5000/5000 [00:03<00:00, 1310.69it/s]\n",
      "pc_nonsparse_0.999: 100%|██████████| 5000/5000 [00:03<00:00, 1432.53it/s]\n",
      "pc_nonsparse_0.999: 100%|██████████| 5000/5000 [00:03<00:00, 1583.78it/s]\n",
      "pc_nonsparse_0.999: 100%|██████████| 5000/5000 [00:01<00:00, 2886.07it/s]\n",
      "pc_nonsparse_0.999: 100%|██████████| 5000/5000 [00:01<00:00, 3197.90it/s]\n",
      "pc_nonsparse_0.999: 100%|██████████| 5000/5000 [00:01<00:00, 3275.65it/s]\n",
      "pc_nonsparse_0.999: 100%|██████████| 5000/5000 [00:01<00:00, 3289.24it/s]\n",
      "pc_nonsparse_0.999: 100%|██████████| 5000/5000 [00:01<00:00, 3157.52it/s]\n",
      "pc_nonsparse_0.999: 100%|██████████| 5000/5000 [00:01<00:00, 3064.36it/s]\n",
      "pc_nonsparse_0.999: 100%|██████████| 5000/5000 [00:01<00:00, 2905.18it/s]\n",
      "pc_nonsparse_0.999: 100%|██████████| 5000/5000 [00:01<00:00, 2943.26it/s]\n",
      "pc_nonsparse_0.999: 100%|██████████| 5000/5000 [00:01<00:00, 2874.95it/s]\n",
      "pc_nonsparse_0.999: 100%|██████████| 5000/5000 [00:01<00:00, 2934.34it/s]\n",
      "pc_nonsparse_0.999: 100%|██████████| 5000/5000 [00:01<00:00, 2800.76it/s]\n",
      "pc_nonsparse_0.999: 100%|██████████| 5000/5000 [00:01<00:00, 2850.27it/s]\n",
      "pc_nonsparse_0.999: 100%|██████████| 5000/5000 [00:01<00:00, 2641.64it/s]\n",
      "pc_nonsparse_0.999: 100%|██████████| 5000/5000 [00:01<00:00, 2639.76it/s]\n",
      "pc_nonsparse_0.999: 100%|██████████| 5000/5000 [00:01<00:00, 2841.40it/s]\n",
      "pc_nonsparse_0.999: 100%|██████████| 5000/5000 [00:01<00:00, 2620.28it/s]\n",
      "pc_nonsparse_0.999: 100%|██████████| 5000/5000 [00:01<00:00, 2803.63it/s]\n",
      "pc_nonsparse_0: 100%|██████████| 5000/5000 [00:01<00:00, 2799.99it/s]\n",
      "pc_nonsparse_0: 100%|██████████| 5000/5000 [00:01<00:00, 2972.27it/s]\n",
      "pc_nonsparse_0: 100%|██████████| 5000/5000 [00:01<00:00, 3030.09it/s]\n",
      "pc_nonsparse_0: 100%|██████████| 5000/5000 [00:01<00:00, 2919.50it/s]\n",
      "pc_nonsparse_0: 100%|██████████| 5000/5000 [00:01<00:00, 3027.23it/s]\n",
      "pc_nonsparse_0: 100%|██████████| 5000/5000 [00:01<00:00, 2937.06it/s]\n",
      "pc_nonsparse_0: 100%|██████████| 5000/5000 [00:01<00:00, 3304.12it/s]\n",
      "pc_nonsparse_0: 100%|██████████| 5000/5000 [00:01<00:00, 3248.72it/s]\n",
      "pc_nonsparse_0: 100%|██████████| 5000/5000 [00:01<00:00, 3115.39it/s]\n",
      "pc_nonsparse_0: 100%|██████████| 5000/5000 [00:01<00:00, 2950.95it/s]\n",
      "pc_nonsparse_0: 100%|██████████| 5000/5000 [00:01<00:00, 3120.64it/s]\n",
      "pc_nonsparse_0: 100%|██████████| 5000/5000 [00:01<00:00, 3249.89it/s]\n",
      "pc_nonsparse_0: 100%|██████████| 5000/5000 [00:01<00:00, 3095.71it/s]\n",
      "pc_nonsparse_0: 100%|██████████| 5000/5000 [00:01<00:00, 3227.68it/s]\n",
      "pc_nonsparse_0: 100%|██████████| 5000/5000 [00:01<00:00, 3035.00it/s]\n",
      "pc_nonsparse_0: 100%|██████████| 5000/5000 [00:01<00:00, 3050.77it/s]\n",
      "pc_nonsparse_0: 100%|██████████| 5000/5000 [00:01<00:00, 2984.96it/s]\n",
      "pp_nonsparse: 100%|██████████| 5000/5000 [00:04<00:00, 1083.58it/s]\n",
      "pp_nonsparse: 100%|██████████| 5000/5000 [00:04<00:00, 1045.54it/s]\n",
      "pp_nonsparse: 100%|██████████| 5000/5000 [00:04<00:00, 1075.51it/s]\n",
      "pp_nonsparse: 100%|██████████| 5000/5000 [00:04<00:00, 1058.78it/s]\n",
      "pp_nonsparse: 100%|██████████| 5000/5000 [00:04<00:00, 1046.44it/s]\n",
      "pp_nonsparse: 100%|██████████| 5000/5000 [00:04<00:00, 1045.09it/s]\n",
      "pp_nonsparse: 100%|██████████| 5000/5000 [00:04<00:00, 1043.78it/s]\n",
      "pp_nonsparse: 100%|██████████| 5000/5000 [00:04<00:00, 1052.82it/s]\n",
      "pp_nonsparse: 100%|██████████| 5000/5000 [00:04<00:00, 1052.16it/s]\n",
      "pp_nonsparse: 100%|██████████| 5000/5000 [00:04<00:00, 1047.10it/s]\n",
      "pp_nonsparse: 100%|██████████| 5000/5000 [00:04<00:00, 1009.89it/s]\n",
      "pp_nonsparse: 100%|██████████| 5000/5000 [00:04<00:00, 1052.33it/s]\n",
      "pp_nonsparse: 100%|██████████| 5000/5000 [00:04<00:00, 1049.68it/s]\n",
      "pp_nonsparse: 100%|██████████| 5000/5000 [00:04<00:00, 1006.48it/s]\n",
      "pp_nonsparse: 100%|██████████| 5000/5000 [00:04<00:00, 1047.91it/s]\n",
      "pc_nonsparse_0.999:   0%|          | 0/5000 [00:00<?, ?it/s]3it/s] "
     ]
    },
    {
     "name": "stdout",
     "output_type": "stream",
     "text": [
      "Loaded cached matrix from matrix_cache/duplication_matrix_hh_N=10.npz\n",
      "Loaded cached matrix from matrix_cache/elimination_matrix_hh_N=10.npz\n",
      "Loaded cached matrix from matrix_cache/duplication_matrix_hh_N=10.npz\n",
      "Loaded cached matrix from matrix_cache/elimination_matrix_hh_N=10.npz\n",
      "Loaded cached matrix from matrix_cache/duplication_matrix_hh_N=10.npz\n",
      "Loaded cached matrix from matrix_cache/elimination_matrix_hh_N=10.npz\n"
     ]
    },
    {
     "name": "stderr",
     "output_type": "stream",
     "text": [
      "pp_nonsparse: 100%|██████████| 5000/5000 [00:05<00:00, 939.99it/s]it/s]\n",
      "pp_nonsparse:  98%|█████████▊| 4892/5000 [00:05<00:00, 292.61it/s]it/s]"
     ]
    },
    {
     "name": "stdout",
     "output_type": "stream",
     "text": [
      "Loaded cached matrix from matrix_cache/duplication_matrix_hh_N=10.npz\n",
      "Loaded cached matrix from matrix_cache/duplication_matrix_hh_N=10.npz\n",
      "Loaded cached matrix from matrix_cache/elimination_matrix_hh_N=10.npz\n",
      "Loaded cached matrix from matrix_cache/elimination_matrix_hh_N=10.npz\n",
      "Loaded cached matrix from matrix_cache/duplication_matrix_hh_N=10.npz\n",
      "Loaded cached matrix from matrix_cache/duplication_matrix_hh_N=10.npz\n",
      "Loaded cached matrix from matrix_cache/elimination_matrix_hh_N=10.npz\n",
      "Loaded cached matrix from matrix_cache/elimination_matrix_hh_N=10.npz\n",
      "Loaded cached matrix from matrix_cache/duplication_matrix_hh_N=10.npz\n",
      "Loaded cached matrix from matrix_cache/duplication_matrix_hh_N=10.npz\n",
      "Loaded cached matrix from matrix_cache/elimination_matrix_hh_N=10.npz\n",
      "Loaded cached matrix from matrix_cache/elimination_matrix_hh_N=10.npz\n",
      "Loaded cached matrix from matrix_cache/duplication_matrix_hh_N=10.npz\n",
      "Loaded cached matrix from matrix_cache/elimination_matrix_hh_N=10.npz\n",
      "Loaded cached matrix from matrix_cache/duplication_matrix_hh_N=10.npz\n",
      "Loaded cached matrix from matrix_cache/elimination_matrix_hh_N=10.npz\n",
      "Loaded cached matrix from matrix_cache/duplication_matrix_hh_N=10.npz\n",
      "Loaded cached matrix from matrix_cache/elimination_matrix_hh_N=10.npz\n"
     ]
    },
    {
     "name": "stderr",
     "output_type": "stream",
     "text": [
      "pp_nonsparse: 100%|██████████| 5000/5000 [00:06<00:00, 803.36it/s]it/s]]\n",
      "pc_nonsparse_0.999:  17%|█▋        | 852/5000 [00:01<00:06, 598.28it/s] "
     ]
    },
    {
     "name": "stdout",
     "output_type": "stream",
     "text": [
      "Loaded cached matrix from matrix_cache/duplication_matrix_hh_N=10.npz\n",
      "Loaded cached matrix from matrix_cache/elimination_matrix_hh_N=10.npz\n",
      "Loaded cached matrix from matrix_cache/duplication_matrix_hh_N=10.npz\n",
      "Loaded cached matrix from matrix_cache/elimination_matrix_hh_N=10.npz\n",
      "Loaded cached matrix from matrix_cache/duplication_matrix_hh_N=10.npz\n",
      "Loaded cached matrix from matrix_cache/elimination_matrix_hh_N=10.npz\n"
     ]
    },
    {
     "name": "stderr",
     "output_type": "stream",
     "text": [
      "pc_nonsparse_0.999:  35%|███▍      | 1726/5000 [00:09<00:30, 107.04it/s]"
     ]
    },
    {
     "name": "stdout",
     "output_type": "stream",
     "text": [
      "Loaded cached matrix from matrix_cache/duplication_matrix_hh_N=10.npz\n",
      "Loaded cached matrix from matrix_cache/elimination_matrix_hh_N=10.npz\n",
      "Loaded cached matrix from matrix_cache/duplication_matrix_hh_N=10.npz\n",
      "Loaded cached matrix from matrix_cache/elimination_matrix_hh_N=10.npz\n",
      "Loaded cached matrix from matrix_cache/duplication_matrix_hh_N=10.npz\n",
      "Loaded cached matrix from matrix_cache/elimination_matrix_hh_N=10.npz\n"
     ]
    },
    {
     "name": "stderr",
     "output_type": "stream",
     "text": [
      "pc_nonsparse_0.999:  41%|████      | 2049/5000 [00:11<00:15, 184.65it/s]"
     ]
    },
    {
     "name": "stdout",
     "output_type": "stream",
     "text": [
      "Loaded cached matrix from matrix_cache/duplication_matrix_hh_N=10.npz\n",
      "Loaded cached matrix from matrix_cache/elimination_matrix_hh_N=10.npz\n",
      "Loaded cached matrix from matrix_cache/duplication_matrix_hh_N=10.npz\n",
      "Loaded cached matrix from matrix_cache/elimination_matrix_hh_N=10.npz\n",
      "Loaded cached matrix from matrix_cache/duplication_matrix_hh_N=10.npz\n",
      "Loaded cached matrix from matrix_cache/elimination_matrix_hh_N=10.npz\n"
     ]
    },
    {
     "name": "stderr",
     "output_type": "stream",
     "text": [
      "pc_nonsparse_0.999:   8%|▊         | 393/5000 [00:02<00:31, 144.10it/s]]"
     ]
    },
    {
     "name": "stdout",
     "output_type": "stream",
     "text": [
      "Loaded cached matrix from matrix_cache/duplication_matrix_hh_N=10.npz\n",
      "Loaded cached matrix from matrix_cache/elimination_matrix_hh_N=10.npz\n"
     ]
    },
    {
     "name": "stderr",
     "output_type": "stream",
     "text": [
      "pc_nonsparse_0.999:  62%|██████▏   | 3077/5000 [00:16<00:08, 235.75it/s]"
     ]
    },
    {
     "name": "stdout",
     "output_type": "stream",
     "text": [
      "Loaded cached matrix from matrix_cache/duplication_matrix_hh_N=10.npz\n",
      "Loaded cached matrix from matrix_cache/elimination_matrix_hh_N=10.npz\n",
      "Loaded cached matrix from matrix_cache/duplication_matrix_hh_N=10.npz\n",
      "Loaded cached matrix from matrix_cache/elimination_matrix_hh_N=10.npz\n"
     ]
    },
    {
     "name": "stderr",
     "output_type": "stream",
     "text": [
      "pc_nonsparse_0.999:  50%|█████     | 2515/5000 [00:15<00:15, 163.37it/s]"
     ]
    },
    {
     "name": "stdout",
     "output_type": "stream",
     "text": [
      "Loaded cached matrix from matrix_cache/duplication_matrix_hh_N=10.npz\n",
      "Loaded cached matrix from matrix_cache/elimination_matrix_hh_N=10.npz\n",
      "Loaded cached matrix from matrix_cache/duplication_matrix_hh_N=10.npz\n",
      "Loaded cached matrix from matrix_cache/elimination_matrix_hh_N=10.npz\n",
      "Loaded cached matrix from matrix_cache/duplication_matrix_hh_N=10.npz\n",
      "Loaded cached matrix from matrix_cache/elimination_matrix_hh_N=10.npz\n"
     ]
    },
    {
     "name": "stderr",
     "output_type": "stream",
     "text": [
      "pc_nonsparse_0.999:  60%|██████    | 3022/5000 [00:16<00:14, 133.06it/s]"
     ]
    },
    {
     "name": "stdout",
     "output_type": "stream",
     "text": [
      "Loaded cached matrix from matrix_cache/duplication_matrix_hh_N=10.npz\n",
      "Loaded cached matrix from matrix_cache/elimination_matrix_hh_N=10.npz\n",
      "Loaded cached matrix from matrix_cache/duplication_matrix_hh_N=10.npz\n",
      "Loaded cached matrix from matrix_cache/elimination_matrix_hh_N=10.npz\n",
      "Loaded cached matrix from matrix_cache/duplication_matrix_hh_N=10.npz\n",
      "Loaded cached matrix from matrix_cache/elimination_matrix_hh_N=10.npz\n"
     ]
    },
    {
     "name": "stderr",
     "output_type": "stream",
     "text": [
      "pc_nonsparse_0.999:   2%|▏         | 99/5000 [00:01<01:02, 78.17it/s]/s]"
     ]
    },
    {
     "name": "stdout",
     "output_type": "stream",
     "text": [
      "Loaded cached matrix from matrix_cache/duplication_matrix_hh_N=10.npz\n",
      "Loaded cached matrix from matrix_cache/elimination_matrix_hh_N=10.npz\n"
     ]
    },
    {
     "name": "stderr",
     "output_type": "stream",
     "text": [
      "pc_nonsparse_0.999:   5%|▌         | 262/5000 [00:02<00:48, 98.35it/s] ]"
     ]
    },
    {
     "name": "stdout",
     "output_type": "stream",
     "text": [
      "Loaded cached matrix from matrix_cache/duplication_matrix_hh_N=10.npz\n",
      "Loaded cached matrix from matrix_cache/elimination_matrix_hh_N=10.npz\n",
      "Loaded cached matrix from matrix_cache/duplication_matrix_hh_N=10.npz\n",
      "Loaded cached matrix from matrix_cache/elimination_matrix_hh_N=10.npz\n",
      "Loaded cached matrix from matrix_cache/duplication_matrix_hh_N=10.npz\n",
      "Loaded cached matrix from matrix_cache/elimination_matrix_hh_N=10.npz\n",
      "Loaded cached matrix from matrix_cache/duplication_matrix_hh_N=10.npz\n",
      "Loaded cached matrix from matrix_cache/elimination_matrix_hh_N=10.npz\n",
      "Loaded cached matrix from matrix_cache/duplication_matrix_hh_N=10.npz\n",
      "Loaded cached matrix from matrix_cache/elimination_matrix_hh_N=10.npz\n"
     ]
    },
    {
     "name": "stderr",
     "output_type": "stream",
     "text": [
      "pc_nonsparse_0.999:   4%|▍         | 207/5000 [00:03<00:55, 86.55it/s]s]"
     ]
    },
    {
     "name": "stdout",
     "output_type": "stream",
     "text": [
      "Loaded cached matrix from matrix_cache/duplication_matrix_hh_N=10.npz\n",
      "Loaded cached matrix from matrix_cache/elimination_matrix_hh_N=10.npz\n",
      "Loaded cached matrix from matrix_cache/duplication_matrix_hh_N=10.npz\n",
      "Loaded cached matrix from matrix_cache/elimination_matrix_hh_N=10.npz\n",
      "Loaded cached matrix from matrix_cache/duplication_matrix_hh_N=10.npz\n",
      "Loaded cached matrix from matrix_cache/duplication_matrix_hh_N=10.npz\n",
      "Loaded cached matrix from matrix_cache/elimination_matrix_hh_N=10.npz\n",
      "Loaded cached matrix from matrix_cache/duplication_matrix_hh_N=10.npz\n",
      "Loaded cached matrix from matrix_cache/elimination_matrix_hh_N=10.npz\n",
      "Loaded cached matrix from matrix_cache/elimination_matrix_hh_N=10.npz\n"
     ]
    },
    {
     "name": "stderr",
     "output_type": "stream",
     "text": [
      "pc_nonsparse_0.999:  28%|██▊       | 1415/5000 [00:10<00:18, 193.16it/s]"
     ]
    },
    {
     "name": "stdout",
     "output_type": "stream",
     "text": [
      "Loaded cached matrix from matrix_cache/duplication_matrix_hh_N=10.npz\n",
      "Loaded cached matrix from matrix_cache/elimination_matrix_hh_N=10.npz\n",
      "Loaded cached matrix from matrix_cache/duplication_matrix_hh_N=10.npz\n",
      "Loaded cached matrix from matrix_cache/elimination_matrix_hh_N=10.npz\n",
      "Loaded cached matrix from matrix_cache/duplication_matrix_hh_N=10.npz\n",
      "Loaded cached matrix from matrix_cache/elimination_matrix_hh_N=10.npz\n",
      "Loaded cached matrix from matrix_cache/duplication_matrix_hh_N=10.npz\n",
      "Loaded cached matrix from matrix_cache/elimination_matrix_hh_N=10.npz\n",
      "Loaded cached matrix from matrix_cache/duplication_matrix_hh_N=10.npz\n",
      "Loaded cached matrix from matrix_cache/elimination_matrix_hh_N=10.npz\n",
      "Loaded cached matrix from matrix_cache/duplication_matrix_hh_N=10.npz\n",
      "Loaded cached matrix from matrix_cache/elimination_matrix_hh_N=10.npz\n",
      "Loaded cached matrix from matrix_cache/duplication_matrix_hh_N=10.npz\n",
      "Loaded cached matrix from matrix_cache/elimination_matrix_hh_N=10.npz\n"
     ]
    },
    {
     "name": "stderr",
     "output_type": "stream",
     "text": [
      "pc_nonsparse_0.999:   6%|▌         | 282/5000 [00:02<00:37, 124.32it/s]]"
     ]
    },
    {
     "name": "stdout",
     "output_type": "stream",
     "text": [
      "Loaded cached matrix from matrix_cache/duplication_matrix_hh_N=10.npz\n"
     ]
    },
    {
     "name": "stderr",
     "output_type": "stream",
     "text": [
      "pc_nonsparse_0.999:  15%|█▌        | 752/5000 [00:05<00:14, 294.28it/s]]"
     ]
    },
    {
     "name": "stdout",
     "output_type": "stream",
     "text": [
      "Loaded cached matrix from matrix_cache/duplication_matrix_hh_N=10.npz\n",
      "Loaded cached matrix from matrix_cache/duplication_matrix_hh_N=10.npz\n",
      "Loaded cached matrix from matrix_cache/elimination_matrix_hh_N=10.npz\n",
      "Loaded cached matrix from matrix_cache/duplication_matrix_hh_N=10.npz\n",
      "Loaded cached matrix from matrix_cache/elimination_matrix_hh_N=10.npz\n",
      "Loaded cached matrix from matrix_cache/elimination_matrix_hh_N=10.npz\n",
      "Loaded cached matrix from matrix_cache/duplication_matrix_hh_N=10.npz\n",
      "Loaded cached matrix from matrix_cache/duplication_matrix_hh_N=10.npz\n",
      "Loaded cached matrix from matrix_cache/elimination_matrix_hh_N=10.npz\n",
      "Loaded cached matrix from matrix_cache/elimination_matrix_hh_N=10.npz\n",
      "Loaded cached matrix from matrix_cache/elimination_matrix_hh_N=10.npz\n",
      "Loaded cached matrix from matrix_cache/duplication_matrix_hh_N=10.npz\n",
      "Loaded cached matrix from matrix_cache/elimination_matrix_hh_N=10.npz\n",
      "Loaded cached matrix from matrix_cache/duplication_matrix_hh_N=10.npz\n",
      "Loaded cached matrix from matrix_cache/elimination_matrix_hh_N=10.npz\n",
      "Loaded cached matrix from matrix_cache/duplication_matrix_hh_N=10.npz\n",
      "Loaded cached matrix from matrix_cache/elimination_matrix_hh_N=10.npz\n"
     ]
    },
    {
     "name": "stderr",
     "output_type": "stream",
     "text": [
      "pc_nonsparse_0.999:  11%|█         | 561/5000 [00:05<00:21, 206.91it/s]]"
     ]
    },
    {
     "name": "stdout",
     "output_type": "stream",
     "text": [
      "Loaded cached matrix from matrix_cache/duplication_matrix_hh_N=10.npz\n",
      "Loaded cached matrix from matrix_cache/elimination_matrix_hh_N=10.npz\n",
      "Loaded cached matrix from matrix_cache/duplication_matrix_hh_N=10.npz\n",
      "Loaded cached matrix from matrix_cache/elimination_matrix_hh_N=10.npz\n",
      "Loaded cached matrix from matrix_cache/duplication_matrix_hh_N=10.npz\n",
      "Loaded cached matrix from matrix_cache/elimination_matrix_hh_N=10.npz\n"
     ]
    },
    {
     "name": "stderr",
     "output_type": "stream",
     "text": [
      "pc_nonsparse_0.999:  32%|███▏      | 1612/5000 [00:13<00:30, 111.93it/s]"
     ]
    },
    {
     "name": "stdout",
     "output_type": "stream",
     "text": [
      "Loaded cached matrix from matrix_cache/duplication_matrix_hh_N=10.npz\n",
      "Loaded cached matrix from matrix_cache/elimination_matrix_hh_N=10.npz\n",
      "Loaded cached matrix from matrix_cache/duplication_matrix_hh_N=10.npz\n",
      "Loaded cached matrix from matrix_cache/elimination_matrix_hh_N=10.npz\n",
      "Loaded cached matrix from matrix_cache/duplication_matrix_hh_N=10.npz\n",
      "Loaded cached matrix from matrix_cache/duplication_matrix_hh_N=10.npz\n",
      "Loaded cached matrix from matrix_cache/elimination_matrix_hh_N=10.npz\n",
      "Loaded cached matrix from matrix_cache/duplication_matrix_hh_N=10.npz\n"
     ]
    },
    {
     "name": "stderr",
     "output_type": "stream",
     "text": [
      "pc_nonsparse_0.999:   1%|          | 54/5000 [00:00<01:31, 54.11it/s]]]]"
     ]
    },
    {
     "name": "stdout",
     "output_type": "stream",
     "text": [
      "Loaded cached matrix from matrix_cache/elimination_matrix_hh_N=10.npz\n",
      "Loaded cached matrix from matrix_cache/duplication_matrix_hh_N=10.npz\n",
      "Loaded cached matrix from matrix_cache/elimination_matrix_hh_N=10.npz\n",
      "Loaded cached matrix from matrix_cache/duplication_matrix_hh_N=10.npz\n"
     ]
    },
    {
     "name": "stderr",
     "output_type": "stream",
     "text": [
      "pc_nonsparse_0.999:  85%|████████▍ | 4232/5000 [00:24<00:05, 144.37it/s]"
     ]
    },
    {
     "name": "stdout",
     "output_type": "stream",
     "text": [
      "Loaded cached matrix from matrix_cache/elimination_matrix_hh_N=10.npz\n",
      "Loaded cached matrix from matrix_cache/duplication_matrix_hh_N=10.npz\n",
      "Loaded cached matrix from matrix_cache/elimination_matrix_hh_N=10.npz\n",
      "Loaded cached matrix from matrix_cache/duplication_matrix_hh_N=10.npz\n",
      "Loaded cached matrix from matrix_cache/elimination_matrix_hh_N=10.npz\n",
      "Loaded cached matrix from matrix_cache/duplication_matrix_hh_N=10.npz\n"
     ]
    },
    {
     "name": "stderr",
     "output_type": "stream",
     "text": [
      "pc_nonsparse_0.999:  15%|█▍        | 739/5000 [00:06<00:46, 91.01it/s] ]"
     ]
    },
    {
     "name": "stdout",
     "output_type": "stream",
     "text": [
      "Loaded cached matrix from matrix_cache/elimination_matrix_hh_N=10.npz\n",
      "Loaded cached matrix from matrix_cache/elimination_matrix_hh_N=10.npz\n"
     ]
    },
    {
     "name": "stderr",
     "output_type": "stream",
     "text": [
      "pc_nonsparse_0.999:  78%|███████▊  | 3892/5000 [00:24<00:13, 79.66it/s] "
     ]
    },
    {
     "name": "stdout",
     "output_type": "stream",
     "text": [
      "Loaded cached matrix from matrix_cache/duplication_matrix_hh_N=10.npz\n",
      "Loaded cached matrix from matrix_cache/duplication_matrix_hh_N=10.npz\n"
     ]
    },
    {
     "name": "stderr",
     "output_type": "stream",
     "text": [
      "pc_nonsparse_0.999:  15%|█▌        | 769/5000 [00:07<01:09, 60.92it/s]  "
     ]
    },
    {
     "name": "stdout",
     "output_type": "stream",
     "text": [
      "Loaded cached matrix from matrix_cache/elimination_matrix_hh_N=10.npz\n",
      "Loaded cached matrix from matrix_cache/duplication_matrix_hh_N=10.npz\n",
      "Loaded cached matrix from matrix_cache/duplication_matrix_hh_N=10.npz\n",
      "Loaded cached matrix from matrix_cache/elimination_matrix_hh_N=10.npz\n",
      "Loaded cached matrix from matrix_cache/duplication_matrix_hh_N=10.npz\n",
      "Loaded cached matrix from matrix_cache/elimination_matrix_hh_N=10.npz\n",
      "Loaded cached matrix from matrix_cache/elimination_matrix_hh_N=10.npz\n",
      "Loaded cached matrix from matrix_cache/duplication_matrix_hh_N=10.npz\n",
      "Loaded cached matrix from matrix_cache/elimination_matrix_hh_N=10.npz\n",
      "Loaded cached matrix from matrix_cache/elimination_matrix_hh_N=10.npz\n",
      "Loaded cached matrix from matrix_cache/duplication_matrix_hh_N=10.npz\n",
      "Loaded cached matrix from matrix_cache/elimination_matrix_hh_N=10.npz\n"
     ]
    },
    {
     "name": "stderr",
     "output_type": "stream",
     "text": [
      "pc_nonsparse_0.999:  10%|█         | 510/5000 [00:05<00:30, 145.12it/s] "
     ]
    },
    {
     "name": "stdout",
     "output_type": "stream",
     "text": [
      "Loaded cached matrix from matrix_cache/duplication_matrix_hh_N=10.npz\n",
      "Loaded cached matrix from matrix_cache/elimination_matrix_hh_N=10.npz\n"
     ]
    },
    {
     "name": "stderr",
     "output_type": "stream",
     "text": [
      "pc_nonsparse_0.999:  12%|█▏        | 584/5000 [00:05<00:23, 184.27it/s]]"
     ]
    },
    {
     "name": "stdout",
     "output_type": "stream",
     "text": [
      "Loaded cached matrix from matrix_cache/duplication_matrix_hh_N=10.npz\n",
      "Loaded cached matrix from matrix_cache/elimination_matrix_hh_N=10.npz\n",
      "Loaded cached matrix from matrix_cache/duplication_matrix_hh_N=10.npz\n",
      "Loaded cached matrix from matrix_cache/elimination_matrix_hh_N=10.npz\n",
      "Loaded cached matrix from matrix_cache/duplication_matrix_hh_N=10.npz\n",
      "Loaded cached matrix from matrix_cache/elimination_matrix_hh_N=10.npz\n"
     ]
    },
    {
     "name": "stderr",
     "output_type": "stream",
     "text": [
      "pc_nonsparse_0.999:   0%|          | 1/5000 [00:00<10:09,  8.20it/s]/s]]"
     ]
    },
    {
     "name": "stdout",
     "output_type": "stream",
     "text": [
      "Loaded cached matrix from matrix_cache/duplication_matrix_hh_N=10.npz\n",
      "Loaded cached matrix from matrix_cache/elimination_matrix_hh_N=10.npz\n",
      "Loaded cached matrix from matrix_cache/duplication_matrix_hh_N=10.npz\n",
      "Loaded cached matrix from matrix_cache/elimination_matrix_hh_N=10.npz\n",
      "Loaded cached matrix from matrix_cache/duplication_matrix_hh_N=10.npz\n",
      "Loaded cached matrix from matrix_cache/elimination_matrix_hh_N=10.npz\n",
      "Loaded cached matrix from matrix_cache/duplication_matrix_hh_N=10.npz\n"
     ]
    },
    {
     "name": "stderr",
     "output_type": "stream",
     "text": [
      "pc_nonsparse_0.999:   3%|▎         | 170/5000 [00:01<00:47, 100.97it/s]]"
     ]
    },
    {
     "name": "stdout",
     "output_type": "stream",
     "text": [
      "Loaded cached matrix from matrix_cache/elimination_matrix_hh_N=10.npz\n",
      "Loaded cached matrix from matrix_cache/duplication_matrix_hh_N=10.npz\n",
      "Loaded cached matrix from matrix_cache/elimination_matrix_hh_N=10.npz\n",
      "Loaded cached matrix from matrix_cache/duplication_matrix_hh_N=10.npz\n",
      "Loaded cached matrix from matrix_cache/elimination_matrix_hh_N=10.npz\n"
     ]
    },
    {
     "name": "stderr",
     "output_type": "stream",
     "text": [
      "pc_nonsparse_0.999:  17%|█▋        | 863/5000 [00:07<00:25, 160.73it/s]]"
     ]
    },
    {
     "name": "stdout",
     "output_type": "stream",
     "text": [
      "Loaded cached matrix from matrix_cache/duplication_matrix_hh_N=10.npz\n",
      "Loaded cached matrix from matrix_cache/elimination_matrix_hh_N=10.npz\n",
      "Loaded cached matrix from matrix_cache/duplication_matrix_hh_N=10.npz\n",
      "Loaded cached matrix from matrix_cache/elimination_matrix_hh_N=10.npz\n",
      "Loaded cached matrix from matrix_cache/duplication_matrix_hh_N=10.npz\n",
      "Loaded cached matrix from matrix_cache/elimination_matrix_hh_N=10.npz\n",
      "Loaded cached matrix from matrix_cache/duplication_matrix_hh_N=10.npz\n",
      "Loaded cached matrix from matrix_cache/elimination_matrix_hh_N=10.npz\n",
      "Loaded cached matrix from matrix_cache/duplication_matrix_hh_N=10.npz\n",
      "Loaded cached matrix from matrix_cache/elimination_matrix_hh_N=10.npz\n",
      "Loaded cached matrix from matrix_cache/duplication_matrix_hh_N=10.npz\n",
      "Loaded cached matrix from matrix_cache/elimination_matrix_hh_N=10.npz\n"
     ]
    },
    {
     "name": "stderr",
     "output_type": "stream",
     "text": [
      "pc_nonsparse_0.999: 100%|██████████| 5000/5000 [00:27<00:00, 179.06it/s]\n",
      "pc_nonsparse_0.999:  25%|██▍       | 1249/5000 [00:11<00:19, 197.39it/s]"
     ]
    },
    {
     "name": "stdout",
     "output_type": "stream",
     "text": [
      "Loaded cached matrix from matrix_cache/duplication_matrix_hh_N=10.npz\n",
      "Loaded cached matrix from matrix_cache/elimination_matrix_hh_N=10.npz\n",
      "Loaded cached matrix from matrix_cache/duplication_matrix_hh_N=10.npz\n",
      "Loaded cached matrix from matrix_cache/duplication_matrix_hh_N=10.npz\n",
      "Loaded cached matrix from matrix_cache/elimination_matrix_hh_N=10.npz\n",
      "Loaded cached matrix from matrix_cache/duplication_matrix_hh_N=10.npz\n",
      "Loaded cached matrix from matrix_cache/elimination_matrix_hh_N=10.npz\n"
     ]
    },
    {
     "name": "stderr",
     "output_type": "stream",
     "text": [
      "pc_nonsparse_0.999:   1%|          | 43/5000 [00:00<00:22, 217.97it/s]s]"
     ]
    },
    {
     "name": "stdout",
     "output_type": "stream",
     "text": [
      "Loaded cached matrix from matrix_cache/elimination_matrix_hh_N=10.npz\n",
      "Loaded cached matrix from matrix_cache/duplication_matrix_hh_N=10.npz\n",
      "Loaded cached matrix from matrix_cache/elimination_matrix_hh_N=10.npz\n"
     ]
    },
    {
     "name": "stderr",
     "output_type": "stream",
     "text": [
      "pc_nonsparse_0.999:   5%|▍         | 228/5000 [00:00<00:12, 392.28it/s]]"
     ]
    },
    {
     "name": "stdout",
     "output_type": "stream",
     "text": [
      "Loaded cached matrix from matrix_cache/duplication_matrix_hh_N=10.npz\n",
      "Loaded cached matrix from matrix_cache/elimination_matrix_hh_N=10.npz\n",
      "Loaded cached matrix from matrix_cache/duplication_matrix_hh_N=10.npz\n",
      "Loaded cached matrix from matrix_cache/duplication_matrix_hh_N=10.npz\n",
      "Loaded cached matrix from matrix_cache/elimination_matrix_hh_N=10.npz\n",
      "Loaded cached matrix from matrix_cache/elimination_matrix_hh_N=10.npz\n",
      "Loaded cached matrix from matrix_cache/duplication_matrix_hh_N=10.npz\n",
      "Loaded cached matrix from matrix_cache/elimination_matrix_hh_N=10.npz\n",
      "Loaded cached matrix from matrix_cache/duplication_matrix_hh_N=10.npz\n",
      "Loaded cached matrix from matrix_cache/elimination_matrix_hh_N=10.npz\n",
      "Loaded cached matrix from matrix_cache/duplication_matrix_hh_N=10.npz\n",
      "Loaded cached matrix from matrix_cache/duplication_matrix_hh_N=10.npz\n",
      "Loaded cached matrix from matrix_cache/elimination_matrix_hh_N=10.npz\n",
      "Loaded cached matrix from matrix_cache/elimination_matrix_hh_N=10.npz\n"
     ]
    },
    {
     "name": "stderr",
     "output_type": "stream",
     "text": [
      "pc_nonsparse_0.999: 100%|██████████| 5000/5000 [00:29<00:00, 167.27it/s]\n",
      "pc_nonsparse_0.999:  14%|█▍        | 694/5000 [00:09<00:35, 119.80it/s]]"
     ]
    },
    {
     "name": "stdout",
     "output_type": "stream",
     "text": [
      "Loaded cached matrix from matrix_cache/duplication_matrix_hh_N=10.npz\n",
      "Loaded cached matrix from matrix_cache/elimination_matrix_hh_N=10.npz\n",
      "Loaded cached matrix from matrix_cache/duplication_matrix_hh_N=10.npz\n",
      "Loaded cached matrix from matrix_cache/duplication_matrix_hh_N=10.npz\n",
      "Loaded cached matrix from matrix_cache/elimination_matrix_hh_N=10.npz\n",
      "Loaded cached matrix from matrix_cache/duplication_matrix_hh_N=10.npz\n",
      "Loaded cached matrix from matrix_cache/elimination_matrix_hh_N=10.npz\n",
      "Loaded cached matrix from matrix_cache/elimination_matrix_hh_N=10.npz\n",
      "Loaded cached matrix from matrix_cache/duplication_matrix_hh_N=10.npz\n",
      "Loaded cached matrix from matrix_cache/elimination_matrix_hh_N=10.npz\n",
      "Loaded cached matrix from matrix_cache/duplication_matrix_hh_N=10.npz\n",
      "Loaded cached matrix from matrix_cache/elimination_matrix_hh_N=10.npz\n"
     ]
    },
    {
     "name": "stderr",
     "output_type": "stream",
     "text": [
      "pc_nonsparse_0.999:  56%|█████▌    | 2785/5000 [00:17<00:04, 519.72it/s]"
     ]
    },
    {
     "name": "stdout",
     "output_type": "stream",
     "text": [
      "Loaded cached matrix from matrix_cache/duplication_matrix_hh_N=10.npz\n",
      "Loaded cached matrix from matrix_cache/elimination_matrix_hh_N=10.npz\n",
      "Loaded cached matrix from matrix_cache/duplication_matrix_hh_N=10.npz\n",
      "Loaded cached matrix from matrix_cache/elimination_matrix_hh_N=10.npz\n",
      "Loaded cached matrix from matrix_cache/duplication_matrix_hh_N=10.npz\n",
      "Loaded cached matrix from matrix_cache/duplication_matrix_hh_N=10.npz\n",
      "Loaded cached matrix from matrix_cache/elimination_matrix_hh_N=10.npz\n",
      "Loaded cached matrix from matrix_cache/elimination_matrix_hh_N=10.npz\n",
      "Loaded cached matrix from matrix_cache/duplication_matrix_hh_N=10.npz\n",
      "Loaded cached matrix from matrix_cache/elimination_matrix_hh_N=10.npz\n",
      "Loaded cached matrix from matrix_cache/duplication_matrix_hh_N=10.npz\n",
      "Loaded cached matrix from matrix_cache/elimination_matrix_hh_N=10.npz\n",
      "Loaded cached matrix from matrix_cache/duplication_matrix_hh_N=10.npz\n",
      "Loaded cached matrix from matrix_cache/elimination_matrix_hh_N=10.npz\n"
     ]
    },
    {
     "name": "stderr",
     "output_type": "stream",
     "text": [
      "pc_nonsparse_0.999:  10%|█         | 509/5000 [00:04<00:36, 124.52it/s]]"
     ]
    },
    {
     "name": "stdout",
     "output_type": "stream",
     "text": [
      "Loaded cached matrix from matrix_cache/duplication_matrix_hh_N=10.npz\n",
      "Loaded cached matrix from matrix_cache/elimination_matrix_hh_N=10.npz\n",
      "Loaded cached matrix from matrix_cache/duplication_matrix_hh_N=10.npz\n",
      "Loaded cached matrix from matrix_cache/elimination_matrix_hh_N=10.npz\n"
     ]
    },
    {
     "name": "stderr",
     "output_type": "stream",
     "text": [
      "pc_nonsparse_0.999:  20%|█▉        | 999/5000 [00:06<00:23, 167.00it/s]]"
     ]
    },
    {
     "name": "stdout",
     "output_type": "stream",
     "text": [
      "Loaded cached matrix from matrix_cache/duplication_matrix_hh_N=10.npz\n",
      "Loaded cached matrix from matrix_cache/duplication_matrix_hh_N=10.npz\n",
      "Loaded cached matrix from matrix_cache/elimination_matrix_hh_N=10.npz\n",
      "Loaded cached matrix from matrix_cache/elimination_matrix_hh_N=10.npz\n",
      "Loaded cached matrix from matrix_cache/duplication_matrix_hh_N=10.npz\n",
      "Loaded cached matrix from matrix_cache/elimination_matrix_hh_N=10.npz\n",
      "Loaded cached matrix from matrix_cache/duplication_matrix_hh_N=10.npz\n",
      "Loaded cached matrix from matrix_cache/duplication_matrix_hh_N=10.npz\n",
      "Loaded cached matrix from matrix_cache/elimination_matrix_hh_N=10.npz\n",
      "Loaded cached matrix from matrix_cache/duplication_matrix_hh_N=10.npz\n",
      "Loaded cached matrix from matrix_cache/elimination_matrix_hh_N=10.npz\n",
      "Loaded cached matrix from matrix_cache/duplication_matrix_hh_N=10.npz\n",
      "Loaded cached matrix from matrix_cache/elimination_matrix_hh_N=10.npz\n",
      "Loaded cached matrix from matrix_cache/duplication_matrix_hh_N=10.npz\n"
     ]
    },
    {
     "name": "stderr",
     "output_type": "stream",
     "text": [
      "pc_nonsparse_0.999: 100%|██████████| 5000/5000 [00:31<00:00, 160.15it/s]\n",
      "pc_nonsparse_0.999: 100%|██████████| 5000/5000 [00:30<00:00, 162.30it/s]\n",
      "pc_nonsparse_0.999:   6%|▌         | 277/5000 [00:02<00:47, 99.01it/s] ]"
     ]
    },
    {
     "name": "stdout",
     "output_type": "stream",
     "text": [
      "Loaded cached matrix from matrix_cache/duplication_matrix_hh_N=10.npz\n",
      "Loaded cached matrix from matrix_cache/elimination_matrix_hh_N=10.npz\n",
      "Loaded cached matrix from matrix_cache/elimination_matrix_hh_N=10.npz\n",
      "Loaded cached matrix from matrix_cache/duplication_matrix_hh_N=10.npz\n",
      "Loaded cached matrix from matrix_cache/elimination_matrix_hh_N=10.npz\n",
      "Loaded cached matrix from matrix_cache/duplication_matrix_hh_N=10.npz\n",
      "Loaded cached matrix from matrix_cache/elimination_matrix_hh_N=10.npz\n",
      "Loaded cached matrix from matrix_cache/duplication_matrix_hh_N=10.npz\n",
      "Loaded cached matrix from matrix_cache/elimination_matrix_hh_N=10.npz\n",
      "Loaded cached matrix from matrix_cache/elimination_matrix_hh_N=10.npz\n"
     ]
    },
    {
     "name": "stderr",
     "output_type": "stream",
     "text": [
      "pc_nonsparse_0.999:   5%|▍         | 228/5000 [00:01<00:33, 140.62it/s]]"
     ]
    },
    {
     "name": "stdout",
     "output_type": "stream",
     "text": [
      "Loaded cached matrix from matrix_cache/duplication_matrix_hh_N=10.npz\n",
      "Loaded cached matrix from matrix_cache/elimination_matrix_hh_N=10.npz\n",
      "Loaded cached matrix from matrix_cache/duplication_matrix_hh_N=10.npz\n",
      "Loaded cached matrix from matrix_cache/elimination_matrix_hh_N=10.npz\n",
      "Loaded cached matrix from matrix_cache/duplication_matrix_hh_N=10.npz\n",
      "Loaded cached matrix from matrix_cache/elimination_matrix_hh_N=10.npz\n"
     ]
    },
    {
     "name": "stderr",
     "output_type": "stream",
     "text": [
      "pc_nonsparse_0.999:  64%|██████▍   | 3194/5000 [00:19<00:05, 324.72it/s]"
     ]
    },
    {
     "name": "stdout",
     "output_type": "stream",
     "text": [
      "Loaded cached matrix from matrix_cache/duplication_matrix_hh_N=10.npz\n",
      "Loaded cached matrix from matrix_cache/elimination_matrix_hh_N=10.npz\n",
      "Loaded cached matrix from matrix_cache/duplication_matrix_hh_N=10.npz\n",
      "Loaded cached matrix from matrix_cache/elimination_matrix_hh_N=10.npz\n",
      "Loaded cached matrix from matrix_cache/duplication_matrix_hh_N=10.npz\n",
      "Loaded cached matrix from matrix_cache/elimination_matrix_hh_N=10.npz\n",
      "Loaded cached matrix from matrix_cache/duplication_matrix_hh_N=10.npz\n",
      "Loaded cached matrix from matrix_cache/duplication_matrix_hh_N=10.npz\n"
     ]
    },
    {
     "name": "stderr",
     "output_type": "stream",
     "text": [
      "pc_nonsparse_0.999: 100%|██████████| 5000/5000 [00:32<00:00, 153.11it/s]\n",
      "pc_nonsparse_0.999:   8%|▊         | 402/5000 [00:02<00:17, 260.59it/s]]"
     ]
    },
    {
     "name": "stdout",
     "output_type": "stream",
     "text": [
      "Loaded cached matrix from matrix_cache/elimination_matrix_hh_N=10.npz\n",
      "Loaded cached matrix from matrix_cache/elimination_matrix_hh_N=10.npz\n",
      "Loaded cached matrix from matrix_cache/duplication_matrix_hh_N=10.npz\n",
      "Loaded cached matrix from matrix_cache/elimination_matrix_hh_N=10.npz\n",
      "Loaded cached matrix from matrix_cache/duplication_matrix_hh_N=10.npz\n",
      "Loaded cached matrix from matrix_cache/elimination_matrix_hh_N=10.npz\n",
      "Loaded cached matrix from matrix_cache/duplication_matrix_hh_N=10.npz\n",
      "Loaded cached matrix from matrix_cache/duplication_matrix_hh_N=10.npz\n",
      "Loaded cached matrix from matrix_cache/duplication_matrix_hh_N=10.npz\n",
      "Loaded cached matrix from matrix_cache/elimination_matrix_hh_N=10.npz\n",
      "Loaded cached matrix from matrix_cache/elimination_matrix_hh_N=10.npz\n",
      "Loaded cached matrix from matrix_cache/duplication_matrix_hh_N=10.npz\n",
      "Loaded cached matrix from matrix_cache/duplication_matrix_hh_N=10.npz\n",
      "Loaded cached matrix from matrix_cache/elimination_matrix_hh_N=10.npz\n",
      "Loaded cached matrix from matrix_cache/elimination_matrix_hh_N=10.npz\n"
     ]
    },
    {
     "name": "stderr",
     "output_type": "stream",
     "text": [
      "pc_nonsparse_0.999:   0%|          | 0/5000 [00:00<?, ?it/s] 199.18it/s]"
     ]
    },
    {
     "name": "stdout",
     "output_type": "stream",
     "text": [
      "Loaded cached matrix from matrix_cache/duplication_matrix_hh_N=10.npz\n",
      "Loaded cached matrix from matrix_cache/elimination_matrix_hh_N=10.npz\n",
      "Loaded cached matrix from matrix_cache/duplication_matrix_hh_N=10.npz\n",
      "Loaded cached matrix from matrix_cache/duplication_matrix_hh_N=10.npz\n",
      "Loaded cached matrix from matrix_cache/elimination_matrix_hh_N=10.npz\n",
      "Loaded cached matrix from matrix_cache/elimination_matrix_hh_N=10.npz\n",
      "Loaded cached matrix from matrix_cache/duplication_matrix_hh_N=10.npz\n",
      "Loaded cached matrix from matrix_cache/elimination_matrix_hh_N=10.npz\n",
      "Loaded cached matrix from matrix_cache/elimination_matrix_hh_N=10.npz\n",
      "Loaded cached matrix from matrix_cache/duplication_matrix_hh_N=10.npz\n",
      "Loaded cached matrix from matrix_cache/elimination_matrix_hh_N=10.npz\n",
      "Loaded cached matrix from matrix_cache/duplication_matrix_hh_N=10.npz\n",
      "Loaded cached matrix from matrix_cache/duplication_matrix_hh_N=10.npz\n",
      "Loaded cached matrix from matrix_cache/elimination_matrix_hh_N=10.npz\n",
      "Loaded cached matrix from matrix_cache/elimination_matrix_hh_N=10.npz\n"
     ]
    },
    {
     "name": "stderr",
     "output_type": "stream",
     "text": [
      "pc_nonsparse_0.999:   0%|          | 1/5000 [00:00<11:41,  7.13it/s]t/s]"
     ]
    },
    {
     "name": "stdout",
     "output_type": "stream",
     "text": [
      "Loaded cached matrix from matrix_cache/duplication_matrix_hh_N=10.npz\n",
      "Loaded cached matrix from matrix_cache/elimination_matrix_hh_N=10.npz\n",
      "Loaded cached matrix from matrix_cache/duplication_matrix_hh_N=10.npz\n",
      "Loaded cached matrix from matrix_cache/elimination_matrix_hh_N=10.npz\n",
      "Loaded cached matrix from matrix_cache/duplication_matrix_hh_N=10.npz\n",
      "Loaded cached matrix from matrix_cache/elimination_matrix_hh_N=10.npz\n"
     ]
    },
    {
     "name": "stderr",
     "output_type": "stream",
     "text": [
      "pc_nonsparse_0.999:   1%|          | 56/5000 [00:00<00:24, 205.42it/s]s]]"
     ]
    },
    {
     "name": "stdout",
     "output_type": "stream",
     "text": [
      "Loaded cached matrix from matrix_cache/duplication_matrix_hh_N=10.npz\n",
      "Loaded cached matrix from matrix_cache/elimination_matrix_hh_N=10.npz\n",
      "Loaded cached matrix from matrix_cache/duplication_matrix_hh_N=10.npz\n",
      "Loaded cached matrix from matrix_cache/duplication_matrix_hh_N=10.npz\n",
      "Loaded cached matrix from matrix_cache/elimination_matrix_hh_N=10.npz\n",
      "Loaded cached matrix from matrix_cache/duplication_matrix_hh_N=10.npz\n",
      "Loaded cached matrix from matrix_cache/elimination_matrix_hh_N=10.npz\n",
      "Loaded cached matrix from matrix_cache/duplication_matrix_hh_N=10.npz\n",
      "Loaded cached matrix from matrix_cache/elimination_matrix_hh_N=10.npz\n",
      "Loaded cached matrix from matrix_cache/duplication_matrix_hh_N=10.npz\n",
      "Loaded cached matrix from matrix_cache/elimination_matrix_hh_N=10.npz\n",
      "Loaded cached matrix from matrix_cache/elimination_matrix_hh_N=10.npz\n",
      "Loaded cached matrix from matrix_cache/duplication_matrix_hh_N=10.npz\n",
      "Loaded cached matrix from matrix_cache/elimination_matrix_hh_N=10.npz\n",
      "Loaded cached matrix from matrix_cache/duplication_matrix_hh_N=10.npz\n",
      "Loaded cached matrix from matrix_cache/elimination_matrix_hh_N=10.npz\n",
      "Loaded cached matrix from matrix_cache/duplication_matrix_hh_N=10.npz\n",
      "Loaded cached matrix from matrix_cache/elimination_matrix_hh_N=10.npz\n"
     ]
    },
    {
     "name": "stderr",
     "output_type": "stream",
     "text": [
      "pc_nonsparse_0.999:   1%|          | 31/5000 [00:00<00:17, 290.62it/s]s]"
     ]
    },
    {
     "name": "stdout",
     "output_type": "stream",
     "text": [
      "Loaded cached matrix from matrix_cache/duplication_matrix_hh_N=10.npz\n",
      "Loaded cached matrix from matrix_cache/elimination_matrix_hh_N=10.npz\n",
      "Loaded cached matrix from matrix_cache/duplication_matrix_hh_N=10.npz\n",
      "Loaded cached matrix from matrix_cache/elimination_matrix_hh_N=10.npz\n",
      "Loaded cached matrix from matrix_cache/duplication_matrix_hh_N=10.npz\n",
      "Loaded cached matrix from matrix_cache/elimination_matrix_hh_N=10.npz\n",
      "Loaded cached matrix from matrix_cache/duplication_matrix_hh_N=10.npz\n",
      "Loaded cached matrix from matrix_cache/elimination_matrix_hh_N=10.npz\n",
      "Loaded cached matrix from matrix_cache/duplication_matrix_hh_N=10.npz\n",
      "Loaded cached matrix from matrix_cache/elimination_matrix_hh_N=10.npz\n"
     ]
    },
    {
     "name": "stderr",
     "output_type": "stream",
     "text": [
      "pc_nonsparse_0.999:   9%|▊         | 434/5000 [00:01<00:18, 246.60it/s]]"
     ]
    },
    {
     "name": "stdout",
     "output_type": "stream",
     "text": [
      "Loaded cached matrix from matrix_cache/duplication_matrix_hh_N=10.npz\n",
      "Loaded cached matrix from matrix_cache/elimination_matrix_hh_N=10.npz\n",
      "Loaded cached matrix from matrix_cache/duplication_matrix_hh_N=10.npz\n",
      "Loaded cached matrix from matrix_cache/elimination_matrix_hh_N=10.npz\n",
      "Loaded cached matrix from matrix_cache/duplication_matrix_hh_N=10.npz\n",
      "Loaded cached matrix from matrix_cache/elimination_matrix_hh_N=10.npz\n",
      "Loaded cached matrix from matrix_cache/duplication_matrix_hh_N=10.npz\n"
     ]
    },
    {
     "name": "stderr",
     "output_type": "stream",
     "text": [
      "pc_nonsparse_0.999:  48%|████▊     | 2412/5000 [00:18<00:15, 165.52it/s]"
     ]
    },
    {
     "name": "stdout",
     "output_type": "stream",
     "text": [
      "Loaded cached matrix from matrix_cache/duplication_matrix_hh_N=10.npz\n",
      "Loaded cached matrix from matrix_cache/elimination_matrix_hh_N=10.npz\n",
      "Loaded cached matrix from matrix_cache/elimination_matrix_hh_N=10.npz\n",
      "Loaded cached matrix from matrix_cache/duplication_matrix_hh_N=10.npz\n",
      "Loaded cached matrix from matrix_cache/duplication_matrix_hh_N=10.npz\n",
      "Loaded cached matrix from matrix_cache/elimination_matrix_hh_N=10.npz\n",
      "Loaded cached matrix from matrix_cache/duplication_matrix_hh_N=10.npz\n",
      "Loaded cached matrix from matrix_cache/duplication_matrix_hh_N=10.npz\n",
      "Loaded cached matrix from matrix_cache/elimination_matrix_hh_N=10.npz\n",
      "Loaded cached matrix from matrix_cache/duplication_matrix_hh_N=10.npz\n",
      "Loaded cached matrix from matrix_cache/elimination_matrix_hh_N=10.npz\n",
      "Loaded cached matrix from matrix_cache/duplication_matrix_hh_N=10.npz\n",
      "Loaded cached matrix from matrix_cache/elimination_matrix_hh_N=10.npz\n",
      "Loaded cached matrix from matrix_cache/duplication_matrix_hh_N=10.npz\n",
      "Loaded cached matrix from matrix_cache/elimination_matrix_hh_N=10.npz\n",
      "Loaded cached matrix from matrix_cache/elimination_matrix_hh_N=10.npz\n",
      "Loaded cached matrix from matrix_cache/elimination_matrix_hh_N=10.npz\n",
      "Loaded cached matrix from matrix_cache/duplication_matrix_hh_N=10.npz\n",
      "Loaded cached matrix from matrix_cache/duplication_matrix_hh_N=10.npz\n",
      "Loaded cached matrix from matrix_cache/elimination_matrix_hh_N=10.npz\n",
      "Loaded cached matrix from matrix_cache/elimination_matrix_hh_N=10.npz\n",
      "Loaded cached matrix from matrix_cache/duplication_matrix_hh_N=10.npz\n",
      "Loaded cached matrix from matrix_cache/duplication_matrix_hh_N=10.npz\n",
      "Loaded cached matrix from matrix_cache/elimination_matrix_hh_N=10.npz\n",
      "Loaded cached matrix from matrix_cache/elimination_matrix_hh_N=10.npz\n"
     ]
    },
    {
     "name": "stderr",
     "output_type": "stream",
     "text": [
      "pc_nonsparse_0.999:  37%|███▋      | 1832/5000 [00:11<00:15, 206.79it/s]"
     ]
    },
    {
     "name": "stdout",
     "output_type": "stream",
     "text": [
      "Loaded cached matrix from matrix_cache/duplication_matrix_hh_N=10.npz\n",
      "Loaded cached matrix from matrix_cache/elimination_matrix_hh_N=10.npz\n",
      "Loaded cached matrix from matrix_cache/duplication_matrix_hh_N=10.npz\n",
      "Loaded cached matrix from matrix_cache/elimination_matrix_hh_N=10.npz\n",
      "Loaded cached matrix from matrix_cache/duplication_matrix_hh_N=10.npz\n",
      "Loaded cached matrix from matrix_cache/elimination_matrix_hh_N=10.npz\n",
      "Loaded cached matrix from matrix_cache/duplication_matrix_hh_N=10.npz\n",
      "Loaded cached matrix from matrix_cache/elimination_matrix_hh_N=10.npz\n",
      "Loaded cached matrix from matrix_cache/duplication_matrix_hh_N=10.npz\n",
      "Loaded cached matrix from matrix_cache/elimination_matrix_hh_N=10.npz\n",
      "Loaded cached matrix from matrix_cache/duplication_matrix_hh_N=10.npz\n",
      "Loaded cached matrix from matrix_cache/elimination_matrix_hh_N=10.npz\n",
      "Loaded cached matrix from matrix_cache/duplication_matrix_hh_N=10.npz\n",
      "Loaded cached matrix from matrix_cache/elimination_matrix_hh_N=10.npz\n",
      "Loaded cached matrix from matrix_cache/duplication_matrix_hh_N=10.npz\n",
      "Loaded cached matrix from matrix_cache/elimination_matrix_hh_N=10.npz\n"
     ]
    },
    {
     "name": "stderr",
     "output_type": "stream",
     "text": [
      "pc_nonsparse_0.999:  26%|██▌       | 1285/5000 [00:06<00:14, 255.78it/s]"
     ]
    },
    {
     "name": "stdout",
     "output_type": "stream",
     "text": [
      "Loaded cached matrix from matrix_cache/duplication_matrix_hh_N=10.npz\n",
      "Loaded cached matrix from matrix_cache/elimination_matrix_hh_N=10.npz\n",
      "Loaded cached matrix from matrix_cache/duplication_matrix_hh_N=10.npz\n",
      "Loaded cached matrix from matrix_cache/elimination_matrix_hh_N=10.npz\n",
      "Loaded cached matrix from matrix_cache/duplication_matrix_hh_N=10.npz\n",
      "Loaded cached matrix from matrix_cache/elimination_matrix_hh_N=10.npz\n",
      "Loaded cached matrix from matrix_cache/duplication_matrix_hh_N=10.npz\n",
      "Loaded cached matrix from matrix_cache/duplication_matrix_hh_N=10.npz\n",
      "Loaded cached matrix from matrix_cache/elimination_matrix_hh_N=10.npz\n",
      "Loaded cached matrix from matrix_cache/elimination_matrix_hh_N=10.npz\n",
      "Loaded cached matrix from matrix_cache/duplication_matrix_hh_N=10.npz\n",
      "Loaded cached matrix from matrix_cache/elimination_matrix_hh_N=10.npz\n",
      "Loaded cached matrix from matrix_cache/duplication_matrix_hh_N=10.npz\n",
      "Loaded cached matrix from matrix_cache/elimination_matrix_hh_N=10.npz\n",
      "Loaded cached matrix from matrix_cache/duplication_matrix_hh_N=10.npz\n",
      "Loaded cached matrix from matrix_cache/elimination_matrix_hh_N=10.npz\n",
      "Loaded cached matrix from matrix_cache/duplication_matrix_hh_N=10.npz\n",
      "Loaded cached matrix from matrix_cache/elimination_matrix_hh_N=10.npz\n"
     ]
    },
    {
     "name": "stderr",
     "output_type": "stream",
     "text": [
      "pc_nonsparse_0.999:  12%|█▏        | 622/5000 [00:03<00:22, 196.96it/s]]"
     ]
    },
    {
     "name": "stdout",
     "output_type": "stream",
     "text": [
      "Loaded cached matrix from matrix_cache/duplication_matrix_hh_N=10.npz\n",
      "Loaded cached matrix from matrix_cache/elimination_matrix_hh_N=10.npz\n",
      "Loaded cached matrix from matrix_cache/duplication_matrix_hh_N=10.npz\n",
      "Loaded cached matrix from matrix_cache/elimination_matrix_hh_N=10.npz\n",
      "Loaded cached matrix from matrix_cache/duplication_matrix_hh_N=10.npz\n",
      "Loaded cached matrix from matrix_cache/duplication_matrix_hh_N=10.npz\n",
      "Loaded cached matrix from matrix_cache/elimination_matrix_hh_N=10.npz\n",
      "Loaded cached matrix from matrix_cache/duplication_matrix_hh_N=10.npz\n",
      "Loaded cached matrix from matrix_cache/duplication_matrix_hh_N=10.npz\n"
     ]
    },
    {
     "name": "stderr",
     "output_type": "stream",
     "text": [
      "pc_nonsparse_0.999:  47%|████▋     | 2359/5000 [00:18<00:12, 204.61it/s]"
     ]
    },
    {
     "name": "stdout",
     "output_type": "stream",
     "text": [
      "Loaded cached matrix from matrix_cache/elimination_matrix_hh_N=10.npz\n",
      "Loaded cached matrix from matrix_cache/elimination_matrix_hh_N=10.npz\n",
      "Loaded cached matrix from matrix_cache/duplication_matrix_hh_N=10.npz\n",
      "Loaded cached matrix from matrix_cache/elimination_matrix_hh_N=10.npz\n",
      "Loaded cached matrix from matrix_cache/elimination_matrix_hh_N=10.npz\n",
      "Loaded cached matrix from matrix_cache/duplication_matrix_hh_N=10.npz\n",
      "Loaded cached matrix from matrix_cache/elimination_matrix_hh_N=10.npz\n",
      "Loaded cached matrix from matrix_cache/duplication_matrix_hh_N=10.npz\n",
      "Loaded cached matrix from matrix_cache/duplication_matrix_hh_N=10.npz\n",
      "Loaded cached matrix from matrix_cache/elimination_matrix_hh_N=10.npz\n",
      "Loaded cached matrix from matrix_cache/elimination_matrix_hh_N=10.npz\n",
      "Loaded cached matrix from matrix_cache/duplication_matrix_hh_N=10.npz\n",
      "Loaded cached matrix from matrix_cache/elimination_matrix_hh_N=10.npz\n",
      "Loaded cached matrix from matrix_cache/duplication_matrix_hh_N=10.npz\n",
      "Loaded cached matrix from matrix_cache/elimination_matrix_hh_N=10.npz\n",
      "Loaded cached matrix from matrix_cache/duplication_matrix_hh_N=10.npz\n"
     ]
    },
    {
     "name": "stderr",
     "output_type": "stream",
     "text": [
      "pc_nonsparse_0.999:   1%|          | 40/5000 [00:00<00:13, 374.86it/s]s]]"
     ]
    },
    {
     "name": "stdout",
     "output_type": "stream",
     "text": [
      "Loaded cached matrix from matrix_cache/elimination_matrix_hh_N=10.npz\n",
      "Loaded cached matrix from matrix_cache/duplication_matrix_hh_N=10.npz\n",
      "Loaded cached matrix from matrix_cache/elimination_matrix_hh_N=10.npz\n",
      "Loaded cached matrix from matrix_cache/duplication_matrix_hh_N=10.npz\n",
      "Loaded cached matrix from matrix_cache/elimination_matrix_hh_N=10.npz\n",
      "Loaded cached matrix from matrix_cache/duplication_matrix_hh_N=10.npz\n",
      "Loaded cached matrix from matrix_cache/elimination_matrix_hh_N=10.npz\n",
      "Loaded cached matrix from matrix_cache/duplication_matrix_hh_N=10.npz\n",
      "Loaded cached matrix from matrix_cache/elimination_matrix_hh_N=10.npz\n",
      "Loaded cached matrix from matrix_cache/duplication_matrix_hh_N=10.npz\n",
      "Loaded cached matrix from matrix_cache/elimination_matrix_hh_N=10.npz\n",
      "Loaded cached matrix from matrix_cache/duplication_matrix_hh_N=10.npz\n",
      "Loaded cached matrix from matrix_cache/elimination_matrix_hh_N=10.npz\n",
      "Loaded cached matrix from matrix_cache/duplication_matrix_hh_N=10.npz\n",
      "Loaded cached matrix from matrix_cache/elimination_matrix_hh_N=10.npz\n",
      "Loaded cached matrix from matrix_cache/duplication_matrix_hh_N=10.npz\n",
      "Loaded cached matrix from matrix_cache/elimination_matrix_hh_N=10.npz\n"
     ]
    },
    {
     "name": "stderr",
     "output_type": "stream",
     "text": [
      "pc_nonsparse_0.999:  41%|████      | 2033/5000 [00:11<00:17, 166.86it/s]"
     ]
    },
    {
     "name": "stdout",
     "output_type": "stream",
     "text": [
      "Loaded cached matrix from matrix_cache/duplication_matrix_hh_N=10.npz\n",
      "Loaded cached matrix from matrix_cache/elimination_matrix_hh_N=10.npz\n",
      "Loaded cached matrix from matrix_cache/duplication_matrix_hh_N=10.npz\n",
      "Loaded cached matrix from matrix_cache/elimination_matrix_hh_N=10.npz\n",
      "Loaded cached matrix from matrix_cache/duplication_matrix_hh_N=10.npz\n",
      "Loaded cached matrix from matrix_cache/elimination_matrix_hh_N=10.npz\n",
      "Loaded cached matrix from matrix_cache/duplication_matrix_hh_N=10.npz\n",
      "Loaded cached matrix from matrix_cache/elimination_matrix_hh_N=10.npz\n",
      "Loaded cached matrix from matrix_cache/duplication_matrix_hh_N=10.npz\n",
      "Loaded cached matrix from matrix_cache/elimination_matrix_hh_N=10.npz\n",
      "Loaded cached matrix from matrix_cache/duplication_matrix_hh_N=10.npz\n",
      "Loaded cached matrix from matrix_cache/duplication_matrix_hh_N=10.npz\n",
      "Loaded cached matrix from matrix_cache/elimination_matrix_hh_N=10.npz\n",
      "Loaded cached matrix from matrix_cache/elimination_matrix_hh_N=10.npz\n",
      "Loaded cached matrix from matrix_cache/duplication_matrix_hh_N=10.npz\n",
      "Loaded cached matrix from matrix_cache/elimination_matrix_hh_N=10.npz\n",
      "Loaded cached matrix from matrix_cache/duplication_matrix_hh_N=10.npz\n",
      "Loaded cached matrix from matrix_cache/elimination_matrix_hh_N=10.npz\n",
      "Loaded cached matrix from matrix_cache/duplication_matrix_hh_N=10.npz\n",
      "Loaded cached matrix from matrix_cache/elimination_matrix_hh_N=10.npz\n",
      "Loaded cached matrix from matrix_cache/duplication_matrix_hh_N=10.npz\n"
     ]
    },
    {
     "name": "stderr",
     "output_type": "stream",
     "text": [
      "pc_nonsparse_0.999:  14%|█▍        | 724/5000 [00:02<00:21, 201.85it/s]]"
     ]
    },
    {
     "name": "stdout",
     "output_type": "stream",
     "text": [
      "Loaded cached matrix from matrix_cache/duplication_matrix_hh_N=10.npz\n",
      "Loaded cached matrix from matrix_cache/elimination_matrix_hh_N=10.npz\n",
      "Loaded cached matrix from matrix_cache/duplication_matrix_hh_N=10.npz\n",
      "Loaded cached matrix from matrix_cache/elimination_matrix_hh_N=10.npz\n",
      "Loaded cached matrix from matrix_cache/duplication_matrix_hh_N=10.npz\n",
      "Loaded cached matrix from matrix_cache/elimination_matrix_hh_N=10.npz\n",
      "Loaded cached matrix from matrix_cache/duplication_matrix_hh_N=10.npz\n",
      "Loaded cached matrix from matrix_cache/elimination_matrix_hh_N=10.npz\n",
      "Loaded cached matrix from matrix_cache/duplication_matrix_hh_N=10.npz\n",
      "Loaded cached matrix from matrix_cache/elimination_matrix_hh_N=10.npz\n",
      "Loaded cached matrix from matrix_cache/duplication_matrix_hh_N=10.npz\n",
      "Loaded cached matrix from matrix_cache/elimination_matrix_hh_N=10.npz\n",
      "Loaded cached matrix from matrix_cache/duplication_matrix_hh_N=10.npz\n",
      "Loaded cached matrix from matrix_cache/elimination_matrix_hh_N=10.npz\n",
      "Loaded cached matrix from matrix_cache/elimination_matrix_hh_N=10.npz\n"
     ]
    },
    {
     "name": "stderr",
     "output_type": "stream",
     "text": [
      "pc_nonsparse_0.999:  43%|████▎     | 2170/5000 [00:09<00:11, 237.03it/s]s]"
     ]
    },
    {
     "name": "stdout",
     "output_type": "stream",
     "text": [
      "Loaded cached matrix from matrix_cache/duplication_matrix_hh_N=10.npz\n",
      "Loaded cached matrix from matrix_cache/elimination_matrix_hh_N=10.npz\n",
      "Loaded cached matrix from matrix_cache/duplication_matrix_hh_N=10.npz\n",
      "Loaded cached matrix from matrix_cache/elimination_matrix_hh_N=10.npz\n",
      "Loaded cached matrix from matrix_cache/duplication_matrix_hh_N=10.npz\n",
      "Loaded cached matrix from matrix_cache/elimination_matrix_hh_N=10.npz\n"
     ]
    },
    {
     "name": "stderr",
     "output_type": "stream",
     "text": [
      "pc_nonsparse_0.999:  29%|██▉       | 1463/5000 [00:08<00:17, 199.70it/s]"
     ]
    },
    {
     "name": "stdout",
     "output_type": "stream",
     "text": [
      "Loaded cached matrix from matrix_cache/duplication_matrix_hh_N=10.npz\n",
      "Loaded cached matrix from matrix_cache/elimination_matrix_hh_N=10.npz\n",
      "Loaded cached matrix from matrix_cache/duplication_matrix_hh_N=10.npz\n",
      "Loaded cached matrix from matrix_cache/elimination_matrix_hh_N=10.npz\n",
      "Loaded cached matrix from matrix_cache/duplication_matrix_hh_N=10.npz\n",
      "Loaded cached matrix from matrix_cache/elimination_matrix_hh_N=10.npz\n"
     ]
    },
    {
     "name": "stderr",
     "output_type": "stream",
     "text": [
      "pc_nonsparse_0.999: 100%|██████████| 5000/5000 [00:27<00:00, 181.30it/s]\n",
      "pc_nonsparse_0.999: 100%|██████████| 5000/5000 [00:25<00:00, 199.02it/s]\n",
      "pc_nonsparse_0.999: 100%|██████████| 5000/5000 [00:32<00:00, 156.24it/s]\n",
      "pc_nonsparse_0.999: 100%|██████████| 5000/5000 [00:24<00:00, 200.83it/s]\n",
      "pc_nonsparse_0.999: 100%|██████████| 5000/5000 [00:26<00:00, 188.22it/s]\n",
      "pc_nonsparse_0.999: 100%|██████████| 5000/5000 [00:22<00:00, 220.42it/s]\n",
      "pc_nonsparse_0.999: 100%|██████████| 5000/5000 [00:21<00:00, 232.21it/s]\n",
      "pc_nonsparse_0.999: 100%|██████████| 5000/5000 [00:22<00:00, 225.77it/s]\n",
      "pc_nonsparse_0.999: 100%|██████████| 5000/5000 [00:23<00:00, 214.36it/s]\n",
      "pc_nonsparse_0.999: 100%|██████████| 5000/5000 [00:25<00:00, 199.36it/s]\n",
      "pc_nonsparse_0.999: 100%|██████████| 5000/5000 [00:23<00:00, 213.58it/s]\n",
      "pc_nonsparse_0.999: 100%|██████████| 5000/5000 [00:24<00:00, 201.94it/s]\n",
      "pc_nonsparse_0.999: 100%|██████████| 5000/5000 [00:22<00:00, 224.58it/s]\n",
      "pc_nonsparse_0.999: 100%|██████████| 5000/5000 [00:20<00:00, 250.00it/s]\n",
      "pc_nonsparse_0.999: 100%|██████████| 5000/5000 [00:20<00:00, 249.74it/s]\n",
      "pc_nonsparse_0.999: 100%|██████████| 5000/5000 [00:23<00:00, 217.23it/s]\n",
      "pc_nonsparse_0.999: 100%|██████████| 5000/5000 [00:24<00:00, 205.64it/s]\n",
      "pc_nonsparse_0.999: 100%|██████████| 5000/5000 [00:16<00:00, 294.69it/s]\n",
      "pc_nonsparse_0.999: 100%|██████████| 5000/5000 [00:20<00:00, 239.18it/s]\n",
      "pc_nonsparse_0.999: 100%|██████████| 5000/5000 [00:16<00:00, 294.45it/s]\n",
      "pc_nonsparse_0.999: 100%|██████████| 5000/5000 [00:18<00:00, 263.76it/s]\n",
      "pc_nonsparse_0.999: 100%|██████████| 5000/5000 [00:20<00:00, 249.87it/s]\n",
      "pc_nonsparse_0.999: 100%|██████████| 5000/5000 [00:20<00:00, 240.73it/s]\n",
      "pc_nonsparse_0.999: 100%|██████████| 5000/5000 [00:20<00:00, 247.79it/s]\n",
      "pc_nonsparse_0.999: 100%|██████████| 5000/5000 [00:16<00:00, 304.74it/s]\n",
      "pc_nonsparse_0.999: 100%|██████████| 5000/5000 [00:13<00:00, 358.79it/s]\n",
      "pc_nonsparse_0.999: 100%|██████████| 5000/5000 [00:20<00:00, 248.44it/s]]\n",
      "pc_nonsparse_0.999: 100%|██████████| 5000/5000 [00:14<00:00, 343.73it/s]\n",
      "pc_nonsparse_0.999: 100%|██████████| 5000/5000 [00:16<00:00, 303.66it/s]\n",
      "pc_nonsparse_0.999: 100%|██████████| 5000/5000 [00:19<00:00, 260.38it/s] \n",
      "pc_nonsparse_0.999: 100%|██████████| 5000/5000 [00:16<00:00, 298.19it/s]\n",
      "pc_nonsparse_0.999: 100%|██████████| 5000/5000 [00:14<00:00, 348.16it/s]\n",
      "pc_nonsparse_0.999: 100%|██████████| 5000/5000 [00:18<00:00, 273.32it/s]\n",
      "pc_nonsparse_0.999: 100%|██████████| 5000/5000 [00:16<00:00, 308.34it/s]\n",
      "pc_nonsparse_0.999: 100%|██████████| 5000/5000 [00:15<00:00, 330.06it/s]\n",
      "pc_nonsparse_0.999: 100%|██████████| 5000/5000 [00:17<00:00, 286.67it/s]\n",
      "pc_nonsparse_0.999: 100%|██████████| 5000/5000 [00:16<00:00, 304.56it/s]\n",
      "pc_nonsparse_0.999: 100%|██████████| 5000/5000 [00:15<00:00, 318.33it/s]\n",
      "pc_nonsparse_0.999: 100%|██████████| 5000/5000 [00:14<00:00, 346.67it/s]\n",
      "pc_nonsparse_0.999: 100%|██████████| 5000/5000 [00:14<00:00, 351.03it/s]\n",
      "pc_nonsparse_0.999: 100%|██████████| 5000/5000 [00:16<00:00, 304.31it/s]\n",
      "pc_nonsparse_0.999: 100%|██████████| 5000/5000 [00:14<00:00, 355.81it/s]\n",
      "pc_nonsparse_0.999: 100%|██████████| 5000/5000 [00:18<00:00, 269.01it/s]\n",
      "pc_nonsparse_0.999: 100%|██████████| 5000/5000 [00:14<00:00, 342.24it/s]\n",
      "pc_nonsparse_0.999: 100%|██████████| 5000/5000 [00:14<00:00, 346.60it/s]\n",
      "pc_nonsparse_0.999: 100%|██████████| 5000/5000 [00:15<00:00, 317.59it/s]\n",
      "pc_nonsparse_0.999: 100%|██████████| 5000/5000 [00:14<00:00, 354.56it/s]\n",
      "pc_nonsparse_0.999: 100%|██████████| 5000/5000 [00:14<00:00, 341.76it/s]\n",
      "pc_nonsparse_0.999: 100%|██████████| 5000/5000 [00:12<00:00, 404.48it/s]\n",
      "pc_nonsparse_0.999: 100%|██████████| 5000/5000 [00:13<00:00, 362.63it/s]\n",
      "pc_nonsparse_0.999: 100%|██████████| 5000/5000 [00:14<00:00, 340.13it/s]\n",
      "pc_nonsparse_0.999: 100%|██████████| 5000/5000 [00:16<00:00, 307.28it/s]\n",
      "pc_nonsparse_0.999: 100%|██████████| 5000/5000 [00:12<00:00, 389.06it/s]\n",
      "pc_nonsparse_0.999: 100%|██████████| 5000/5000 [00:13<00:00, 364.32it/s]\n",
      "pc_nonsparse_0.999: 100%|██████████| 5000/5000 [00:14<00:00, 342.07it/s]\n",
      "pc_nonsparse_0.999: 100%|██████████| 5000/5000 [00:17<00:00, 287.02it/s]\n",
      "pc_nonsparse_0.999: 100%|██████████| 5000/5000 [00:12<00:00, 393.77it/s]\n",
      "pc_nonsparse_0.999: 100%|██████████| 5000/5000 [00:13<00:00, 361.04it/s]\n",
      "pc_nonsparse_0.999: 100%|██████████| 5000/5000 [00:12<00:00, 386.44it/s]\n",
      "pc_nonsparse_0.999: 100%|██████████| 5000/5000 [00:12<00:00, 389.58it/s]\n",
      "pc_nonsparse_0.999: 100%|██████████| 5000/5000 [00:14<00:00, 342.56it/s]\n",
      "pc_nonsparse_0.999: 100%|██████████| 5000/5000 [00:14<00:00, 349.47it/s]\n",
      "pc_nonsparse_0.999: 100%|██████████| 5000/5000 [00:12<00:00, 399.98it/s]\n",
      "pc_nonsparse_0.999: 100%|██████████| 5000/5000 [00:13<00:00, 373.24it/s]\n",
      "pc_nonsparse_0.999: 100%|██████████| 5000/5000 [00:11<00:00, 430.13it/s]\n",
      "pc_nonsparse_0.999: 100%|██████████| 5000/5000 [00:12<00:00, 390.05it/s]\n",
      "pc_nonsparse_0.999: 100%|██████████| 5000/5000 [00:12<00:00, 413.42it/s]\n",
      "pc_nonsparse_0.999: 100%|██████████| 5000/5000 [00:12<00:00, 409.79it/s]\n",
      "pc_nonsparse_0.999: 100%|██████████| 5000/5000 [00:11<00:00, 436.57it/s]\n",
      "pc_nonsparse_0.999: 100%|██████████| 5000/5000 [00:13<00:00, 362.37it/s]\n",
      "pc_nonsparse_0.999: 100%|██████████| 5000/5000 [00:13<00:00, 372.37it/s]\n",
      "pc_nonsparse_0.999: 100%|██████████| 5000/5000 [00:13<00:00, 383.88it/s]\n",
      "pc_nonsparse_0.999: 100%|██████████| 5000/5000 [00:12<00:00, 385.25it/s]\n",
      "pc_nonsparse_0.999: 100%|██████████| 5000/5000 [00:12<00:00, 402.26it/s]\n",
      "pc_nonsparse_0.999: 100%|██████████| 5000/5000 [00:11<00:00, 451.90it/s]\n",
      "pc_nonsparse_0.999: 100%|██████████| 5000/5000 [00:12<00:00, 406.99it/s]\n",
      "pc_nonsparse_0.999: 100%|██████████| 5000/5000 [00:12<00:00, 387.00it/s]\n",
      "pc_nonsparse_0.999: 100%|██████████| 5000/5000 [00:12<00:00, 406.07it/s]\n",
      "pc_nonsparse_0.999: 100%|██████████| 5000/5000 [00:12<00:00, 397.67it/s]\n",
      "pc_nonsparse_0.999: 100%|██████████| 5000/5000 [00:09<00:00, 520.42it/s]\n",
      "pc_nonsparse_0.999: 100%|██████████| 5000/5000 [00:11<00:00, 438.28it/s]\n",
      "pc_nonsparse_0.999: 100%|██████████| 5000/5000 [00:14<00:00, 342.62it/s]\n",
      "pc_nonsparse_0.999: 100%|██████████| 5000/5000 [00:12<00:00, 396.40it/s]\n",
      "pc_nonsparse_0.999: 100%|██████████| 5000/5000 [00:12<00:00, 391.15it/s]\n",
      "pc_nonsparse_0.999: 100%|██████████| 5000/5000 [00:11<00:00, 452.54it/s]\n",
      "pc_nonsparse_0.999: 100%|██████████| 5000/5000 [00:10<00:00, 491.06it/s]\n",
      "pc_nonsparse_0.999: 100%|██████████| 5000/5000 [00:10<00:00, 468.89it/s]\n",
      "pc_nonsparse_0.999: 100%|██████████| 5000/5000 [00:10<00:00, 499.04it/s]\n",
      "pc_nonsparse_0.999: 100%|██████████| 5000/5000 [00:10<00:00, 464.10it/s]\n",
      "pc_nonsparse_0.999: 100%|██████████| 5000/5000 [00:10<00:00, 497.55it/s]\n",
      "pc_nonsparse_0.999: 100%|██████████| 5000/5000 [00:10<00:00, 488.13it/s]\n",
      "pc_nonsparse_0.999: 100%|██████████| 5000/5000 [00:10<00:00, 473.33it/s]\n",
      "pc_nonsparse_0.999: 100%|██████████| 5000/5000 [00:10<00:00, 456.70it/s]\n",
      "pc_nonsparse_0.999: 100%|██████████| 5000/5000 [00:10<00:00, 483.36it/s]\n",
      "pc_nonsparse_0.999: 100%|██████████| 5000/5000 [00:10<00:00, 494.90it/s]\n",
      "pc_nonsparse_0.999: 100%|██████████| 5000/5000 [00:10<00:00, 492.53it/s]\n",
      "pc_nonsparse_0.999: 100%|██████████| 5000/5000 [00:10<00:00, 460.48it/s]\n",
      "pc_nonsparse_0.999: 100%|██████████| 5000/5000 [00:10<00:00, 498.92it/s]\n",
      "pc_nonsparse_0.999: 100%|██████████| 5000/5000 [00:10<00:00, 460.78it/s]\n",
      "pc_nonsparse_0.999: 100%|██████████| 5000/5000 [00:10<00:00, 489.22it/s]\n",
      "pc_nonsparse_0: 100%|██████████| 5000/5000 [00:10<00:00, 485.10it/s]t/s]\n",
      "pc_nonsparse_0.999: 100%|██████████| 5000/5000 [00:11<00:00, 448.74it/s]\n",
      "pc_nonsparse_0.999: 100%|██████████| 5000/5000 [00:10<00:00, 459.25it/s]\n",
      "pc_nonsparse_0: 100%|██████████| 5000/5000 [00:09<00:00, 511.01it/s]t/s]\n",
      "pc_nonsparse_0.999: 100%|██████████| 5000/5000 [00:10<00:00, 478.53it/s]\n",
      "pc_nonsparse_0.999: 100%|██████████| 5000/5000 [00:10<00:00, 475.33it/s]\n",
      "pc_nonsparse_0: 100%|██████████| 5000/5000 [00:10<00:00, 485.54it/s]t/s]\n",
      "pc_nonsparse_0: 100%|██████████| 5000/5000 [00:10<00:00, 473.92it/s]t/s]\n",
      "pc_nonsparse_0.999: 100%|██████████| 5000/5000 [00:10<00:00, 456.80it/s]\n",
      "pc_nonsparse_0.999: 100%|██████████| 5000/5000 [00:11<00:00, 452.32it/s]\n",
      "pc_nonsparse_0.999: 100%|██████████| 5000/5000 [00:10<00:00, 499.19it/s]\n",
      "pc_nonsparse_0.999: 100%|██████████| 5000/5000 [00:11<00:00, 445.59it/s]nonsparse_0.999:  97%|█████████▋| 4839/5000 [00:10<00:00, 262.42it/s]\n",
      "pc_nonsparse_0.999: 100%|██████████| 5000/5000 [00:11<00:00, 438.63it/s]\n",
      "pc_nonsparse_0.999: 100%|██████████| 5000/5000 [00:11<00:00, 449.28it/s]\n",
      "pc_nonsparse_0.999: 100%|██████████| 5000/5000 [00:11<00:00, 432.11it/s]\n",
      "pc_nonsparse_0.999: 100%|██████████| 5000/5000 [00:10<00:00, 491.05it/s]\n",
      "pc_nonsparse_0: 100%|██████████| 5000/5000 [00:10<00:00, 462.35it/s]t/s]\n",
      "pc_nonsparse_0.999: 100%|██████████| 5000/5000 [00:11<00:00, 420.74it/s]\n",
      "pc_nonsparse_0.999: 100%|██████████| 5000/5000 [00:11<00:00, 434.06it/s]\n",
      "pc_nonsparse_0.999: 100%|██████████| 5000/5000 [00:11<00:00, 447.37it/s]\n",
      "pc_nonsparse_0.999: 100%|██████████| 5000/5000 [00:11<00:00, 441.59it/s]\n",
      "pc_nonsparse_0.999: 100%|██████████| 5000/5000 [00:11<00:00, 434.83it/s]\n",
      "pc_nonsparse_0.999: 100%|██████████| 5000/5000 [00:11<00:00, 438.49it/s]\n",
      "pc_nonsparse_0.999: 100%|██████████| 5000/5000 [00:10<00:00, 455.38it/s]\n",
      "pc_nonsparse_0.999: 100%|██████████| 5000/5000 [00:10<00:00, 456.44it/s]\n",
      "pc_nonsparse_0.999: 100%|██████████| 5000/5000 [00:11<00:00, 421.90it/s]\n",
      "pc_nonsparse_0.999: 100%|██████████| 5000/5000 [00:11<00:00, 447.29it/s]\n",
      "pc_nonsparse_0.999: 100%|██████████| 5000/5000 [00:11<00:00, 450.41it/s]\n",
      "pc_nonsparse_0.999: 100%|██████████| 5000/5000 [00:11<00:00, 450.74it/s]\n",
      "pc_nonsparse_0.999: 100%|██████████| 5000/5000 [00:11<00:00, 450.33it/s]\n",
      "pc_nonsparse_0.999: 100%|██████████| 5000/5000 [00:11<00:00, 447.48it/s]\n",
      "pc_nonsparse_0.999: 100%|██████████| 5000/5000 [00:11<00:00, 419.24it/s]\n",
      "pc_nonsparse_0.999: 100%|██████████| 5000/5000 [00:12<00:00, 407.03it/s]\n",
      "pc_nonsparse_0.999: 100%|██████████| 5000/5000 [00:11<00:00, 425.63it/s]\n",
      "pc_nonsparse_0.999: 100%|██████████| 5000/5000 [00:12<00:00, 413.25it/s]\n",
      "pc_nonsparse_0.999: 100%|██████████| 5000/5000 [00:11<00:00, 436.46it/s]\n",
      "pc_nonsparse_0.999: 100%|██████████| 5000/5000 [00:11<00:00, 419.60it/s]\n",
      "pc_nonsparse_0.999: 100%|██████████| 5000/5000 [00:11<00:00, 417.85it/s]\n",
      "pc_nonsparse_0.999: 100%|██████████| 5000/5000 [00:12<00:00, 406.75it/s]\n",
      "pc_nonsparse_0.999: 100%|██████████| 5000/5000 [00:11<00:00, 418.70it/s]\n",
      "pc_nonsparse_0.999: 100%|██████████| 5000/5000 [00:12<00:00, 415.19it/s]\n",
      "pc_nonsparse_0.999: 100%|██████████| 5000/5000 [00:11<00:00, 416.91it/s]\n",
      "pc_nonsparse_0.999: 100%|██████████| 5000/5000 [00:12<00:00, 410.38it/s]\n",
      "pc_nonsparse_0.999: 100%|██████████| 5000/5000 [00:11<00:00, 443.09it/s]\n",
      "pc_nonsparse_0.999: 100%|██████████| 5000/5000 [00:12<00:00, 415.48it/s]\n",
      "pc_nonsparse_0.999: 100%|██████████| 5000/5000 [00:12<00:00, 414.65it/s]\n",
      "pc_nonsparse_0.999: 100%|██████████| 5000/5000 [00:12<00:00, 406.50it/s]\n",
      "pc_nonsparse_0.999: 100%|██████████| 5000/5000 [00:11<00:00, 429.33it/s]\n",
      "pc_nonsparse_0.999: 100%|██████████| 5000/5000 [00:11<00:00, 444.08it/s]\n",
      "pc_nonsparse_0.999: 100%|██████████| 5000/5000 [00:12<00:00, 407.59it/s]\n",
      "pc_nonsparse_0.999: 100%|██████████| 5000/5000 [00:12<00:00, 416.19it/s]\n",
      "pc_nonsparse_0.999: 100%|██████████| 5000/5000 [00:10<00:00, 456.36it/s]\n",
      "pc_nonsparse_0.999: 100%|██████████| 5000/5000 [00:11<00:00, 419.58it/s]\n",
      "pc_nonsparse_0.999: 100%|██████████| 5000/5000 [00:11<00:00, 434.88it/s]\n",
      "pc_nonsparse_0.999: 100%|██████████| 5000/5000 [00:11<00:00, 447.23it/s]\n",
      "pc_nonsparse_0.999: 100%|██████████| 5000/5000 [00:11<00:00, 424.48it/s]\n",
      "pc_nonsparse_0: 100%|██████████| 5000/5000 [00:11<00:00, 452.63it/s]t/s]\n",
      "pc_nonsparse_0: 100%|██████████| 5000/5000 [00:10<00:00, 468.88it/s]t/s]\n",
      "pc_nonsparse_0.999:  98%|█████████▊| 4886/5000 [00:10<00:00, 487.46it/s]\n",
      "pc_nonsparse_0.999: 100%|██████████| 5000/5000 [00:11<00:00, 425.97it/s]\n",
      "pc_nonsparse_0.999: 100%|██████████| 5000/5000 [00:12<00:00, 409.40it/s]\n",
      "pc_nonsparse_0.999: 100%|██████████| 5000/5000 [00:11<00:00, 431.78it/s]\n",
      "pc_nonsparse_0.999: 100%|██████████| 5000/5000 [00:11<00:00, 450.21it/s]\n",
      "pc_nonsparse_0.999: 100%|██████████| 5000/5000 [00:12<00:00, 403.67it/s]\n",
      "pc_nonsparse_0.999: 100%|██████████| 5000/5000 [00:12<00:00, 415.45it/s]\n",
      "pc_nonsparse_0.999: 100%|██████████| 5000/5000 [00:11<00:00, 429.42it/s]\n",
      "pc_nonsparse_0.999: 100%|██████████| 5000/5000 [00:11<00:00, 432.82it/s]\n",
      "pc_nonsparse_0: 100%|██████████| 5000/5000 [00:11<00:00, 448.24it/s]t/s]\n",
      "pc_nonsparse_0.999: 100%|██████████| 5000/5000 [00:12<00:00, 409.82it/s]\n",
      "pc_nonsparse_0: 100%|██████████| 5000/5000 [00:12<00:00, 413.13it/s]\n",
      "pc_nonsparse_0: 100%|██████████| 5000/5000 [00:10<00:00, 485.36it/s]\n",
      "pc_nonsparse_0:  26%|██▌       | 1290/5000 [00:03<00:08, 447.64it/s]\n",
      "pc_nonsparse_0: 100%|██████████| 5000/5000 [00:11<00:00, 446.08it/s]\n",
      "pc_nonsparse_0: 100%|██████████| 5000/5000 [00:10<00:00, 467.37it/s]\n",
      "pc_nonsparse_0: 100%|██████████| 5000/5000 [00:11<00:00, 436.51it/s]\n",
      "pc_nonsparse_0: 100%|██████████| 5000/5000 [00:11<00:00, 427.93it/s]\n",
      "pc_nonsparse_0: 100%|██████████| 5000/5000 [00:11<00:00, 433.83it/s]\n",
      "pc_nonsparse_0: 100%|██████████| 5000/5000 [00:11<00:00, 439.06it/s]\n",
      "pc_nonsparse_0: 100%|██████████| 5000/5000 [00:11<00:00, 432.40it/s]\n",
      "pc_nonsparse_0: 100%|██████████| 5000/5000 [00:12<00:00, 416.18it/s]\n",
      "pc_nonsparse_0: 100%|██████████| 5000/5000 [00:10<00:00, 461.63it/s]]\n",
      "pc_nonsparse_0: 100%|██████████| 5000/5000 [00:12<00:00, 407.29it/s]\n",
      "pc_nonsparse_0: 100%|██████████| 5000/5000 [00:11<00:00, 427.41it/s]\n",
      "pc_nonsparse_0: 100%|██████████| 5000/5000 [00:11<00:00, 430.82it/s]\n",
      "pc_nonsparse_0: 100%|██████████| 5000/5000 [00:11<00:00, 438.43it/s]\n",
      "pc_nonsparse_0: 100%|██████████| 5000/5000 [00:11<00:00, 428.75it/s]\n",
      "pc_nonsparse_0: 100%|██████████| 5000/5000 [00:11<00:00, 439.56it/s]\n",
      "pc_nonsparse_0: 100%|██████████| 5000/5000 [00:11<00:00, 437.28it/s]\n",
      "pc_nonsparse_0: 100%|██████████| 5000/5000 [00:10<00:00, 457.46it/s]\n",
      "pc_nonsparse_0: 100%|██████████| 5000/5000 [00:12<00:00, 409.06it/s]\n",
      "pc_nonsparse_0: 100%|██████████| 5000/5000 [00:10<00:00, 465.04it/s]\n",
      "pc_nonsparse_0: 100%|██████████| 5000/5000 [00:11<00:00, 419.11it/s]\n",
      "pc_nonsparse_0: 100%|██████████| 5000/5000 [00:10<00:00, 480.17it/s]\n",
      "pc_nonsparse_0: 100%|██████████| 5000/5000 [00:10<00:00, 461.10it/s]\n",
      "pc_nonsparse_0: 100%|██████████| 5000/5000 [00:10<00:00, 467.71it/s]\n",
      "pc_nonsparse_0: 100%|██████████| 5000/5000 [00:10<00:00, 461.31it/s]\n",
      "pc_nonsparse_0: 100%|██████████| 5000/5000 [00:11<00:00, 439.57it/s]\n",
      "pc_nonsparse_0: 100%|██████████| 5000/5000 [00:11<00:00, 446.68it/s]\n",
      "pc_nonsparse_0: 100%|██████████| 5000/5000 [00:11<00:00, 430.33it/s]\n",
      "pc_nonsparse_0: 100%|██████████| 5000/5000 [00:11<00:00, 433.02it/s]\n",
      "pc_nonsparse_0: 100%|██████████| 5000/5000 [00:11<00:00, 449.18it/s]\n",
      "pc_nonsparse_0: 100%|██████████| 5000/5000 [00:11<00:00, 453.98it/s]\n",
      "pc_nonsparse_0: 100%|██████████| 5000/5000 [00:10<00:00, 455.64it/s]\n",
      "pc_nonsparse_0: 100%|██████████| 5000/5000 [00:10<00:00, 476.52it/s]\n",
      "pc_nonsparse_0: 100%|██████████| 5000/5000 [00:10<00:00, 467.46it/s]\n",
      "pc_nonsparse_0: 100%|██████████| 5000/5000 [00:11<00:00, 444.53it/s]\n",
      "pc_nonsparse_0: 100%|██████████| 5000/5000 [00:09<00:00, 501.34it/s]\n",
      "pc_nonsparse_0: 100%|██████████| 5000/5000 [00:10<00:00, 470.83it/s]\n",
      "pc_nonsparse_0: 100%|██████████| 5000/5000 [00:11<00:00, 453.66it/s]\n",
      "pc_nonsparse_0: 100%|██████████| 5000/5000 [00:10<00:00, 478.75it/s]\n",
      "pc_nonsparse_0: 100%|██████████| 5000/5000 [00:11<00:00, 452.19it/s]\n",
      "pc_nonsparse_0: 100%|██████████| 5000/5000 [00:11<00:00, 438.62it/s]\n",
      "pc_nonsparse_0: 100%|██████████| 5000/5000 [00:10<00:00, 490.30it/s]\n",
      "pc_nonsparse_0: 100%|██████████| 5000/5000 [00:10<00:00, 464.61it/s]\n",
      "pc_nonsparse_0: 100%|██████████| 5000/5000 [00:10<00:00, 477.14it/s]\n",
      "pc_nonsparse_0: 100%|██████████| 5000/5000 [00:10<00:00, 490.44it/s]\n",
      "pc_nonsparse_0: 100%|██████████| 5000/5000 [00:10<00:00, 479.86it/s]\n",
      "pc_nonsparse_0: 100%|██████████| 5000/5000 [00:11<00:00, 436.72it/s]\n",
      "pc_nonsparse_0: 100%|██████████| 5000/5000 [00:10<00:00, 456.11it/s]\n",
      "pc_nonsparse_0: 100%|██████████| 5000/5000 [00:10<00:00, 485.64it/s]\n",
      "pc_nonsparse_0: 100%|██████████| 5000/5000 [00:11<00:00, 443.27it/s]\n",
      "pc_nonsparse_0: 100%|██████████| 5000/5000 [00:11<00:00, 446.61it/s]\n",
      "pc_nonsparse_0: 100%|██████████| 5000/5000 [00:11<00:00, 447.43it/s]\n",
      "pc_nonsparse_0: 100%|██████████| 5000/5000 [00:11<00:00, 424.42it/s]\n",
      "pc_nonsparse_0: 100%|██████████| 5000/5000 [00:11<00:00, 452.46it/s]\n",
      "pc_nonsparse_0: 100%|██████████| 5000/5000 [00:10<00:00, 464.96it/s]\n",
      "pc_nonsparse_0: 100%|██████████| 5000/5000 [00:10<00:00, 463.12it/s]\n",
      "pc_nonsparse_0: 100%|██████████| 5000/5000 [00:11<00:00, 452.78it/s]\n",
      "pc_nonsparse_0: 100%|██████████| 5000/5000 [00:11<00:00, 443.30it/s]\n",
      "pc_nonsparse_0: 100%|██████████| 5000/5000 [00:11<00:00, 440.92it/s]\n",
      "pc_nonsparse_0: 100%|██████████| 5000/5000 [00:11<00:00, 430.46it/s]\n",
      "pc_nonsparse_0: 100%|██████████| 5000/5000 [00:10<00:00, 471.29it/s]\n",
      "pc_nonsparse_0: 100%|██████████| 5000/5000 [00:11<00:00, 444.42it/s]\n",
      "pc_nonsparse_0: 100%|██████████| 5000/5000 [00:10<00:00, 456.53it/s]\n",
      "pc_nonsparse_0: 100%|██████████| 5000/5000 [00:10<00:00, 463.40it/s]\n",
      "pc_nonsparse_0: 100%|██████████| 5000/5000 [00:11<00:00, 451.20it/s]\n",
      "pc_nonsparse_0: 100%|██████████| 5000/5000 [00:11<00:00, 450.75it/s]\n",
      "pc_nonsparse_0: 100%|██████████| 5000/5000 [00:11<00:00, 448.97it/s]\n",
      "pc_nonsparse_0: 100%|██████████| 5000/5000 [00:10<00:00, 471.69it/s]\n",
      "pc_nonsparse_0: 100%|██████████| 5000/5000 [00:11<00:00, 447.48it/s]\n",
      "pc_nonsparse_0: 100%|██████████| 5000/5000 [00:11<00:00, 437.39it/s]\n",
      "pc_nonsparse_0: 100%|██████████| 5000/5000 [00:10<00:00, 455.20it/s]\n",
      "pc_nonsparse_0: 100%|██████████| 5000/5000 [00:11<00:00, 448.43it/s]\n",
      "pc_nonsparse_0: 100%|██████████| 5000/5000 [00:11<00:00, 430.88it/s]\n",
      "pp_nonsparse: 100%|██████████| 5000/5000 [00:32<00:00, 155.85it/s]\n",
      "pp_nonsparse: 100%|██████████| 5000/5000 [00:32<00:00, 153.81it/s]\n",
      "pp_nonsparse: 100%|██████████| 5000/5000 [00:33<00:00, 148.97it/s]s]\n",
      "pp_nonsparse: 100%|██████████| 5000/5000 [00:34<00:00, 145.96it/s]\n",
      "pp_nonsparse: 100%|██████████| 5000/5000 [00:32<00:00, 154.95it/s]\n",
      "pp_nonsparse: 100%|██████████| 5000/5000 [00:31<00:00, 156.84it/s]\n",
      "pp_nonsparse: 100%|██████████| 5000/5000 [00:31<00:00, 156.74it/s]\n",
      "pp_nonsparse: 100%|██████████| 5000/5000 [00:31<00:00, 156.75it/s]\n",
      "pp_nonsparse: 100%|██████████| 5000/5000 [00:32<00:00, 153.10it/s]\n",
      "pp_nonsparse: 100%|██████████| 5000/5000 [00:30<00:00, 166.21it/s]\n",
      "pp_nonsparse: 100%|██████████| 5000/5000 [00:30<00:00, 163.74it/s]\n",
      "pp_nonsparse: 100%|██████████| 5000/5000 [00:31<00:00, 158.83it/s]\n",
      "pp_nonsparse: 100%|██████████| 5000/5000 [00:32<00:00, 154.68it/s]\n",
      "pp_nonsparse: 100%|██████████| 5000/5000 [00:31<00:00, 159.08it/s]\n",
      "pp_nonsparse: 100%|██████████| 5000/5000 [00:31<00:00, 157.50it/s]\n",
      "pp_nonsparse: 100%|██████████| 5000/5000 [00:32<00:00, 155.57it/s]\n",
      "pp_nonsparse: 100%|██████████| 5000/5000 [00:31<00:00, 160.72it/s]\n",
      "pp_nonsparse: 100%|██████████| 5000/5000 [00:32<00:00, 155.47it/s]\n",
      "pp_nonsparse: 100%|██████████| 5000/5000 [00:32<00:00, 152.56it/s]\n",
      "pp_nonsparse: 100%|██████████| 5000/5000 [00:32<00:00, 155.20it/s]\n",
      "pp_nonsparse: 100%|██████████| 5000/5000 [00:33<00:00, 150.02it/s]\n",
      "pp_nonsparse: 100%|██████████| 5000/5000 [00:32<00:00, 152.08it/s]\n",
      "pp_nonsparse: 100%|██████████| 5000/5000 [00:31<00:00, 158.90it/s]\n",
      "pp_nonsparse: 100%|██████████| 5000/5000 [00:32<00:00, 151.96it/s]\n",
      "pp_nonsparse: 100%|██████████| 5000/5000 [00:31<00:00, 157.68it/s]\n",
      "pp_nonsparse: 100%|██████████| 5000/5000 [00:33<00:00, 150.99it/s]\n",
      "pp_nonsparse: 100%|██████████| 5000/5000 [00:31<00:00, 158.36it/s]\n",
      "pp_nonsparse: 100%|██████████| 5000/5000 [00:32<00:00, 154.61it/s]\n",
      "pp_nonsparse: 100%|██████████| 5000/5000 [00:32<00:00, 154.34it/s]\n",
      "pp_nonsparse: 100%|██████████| 5000/5000 [00:31<00:00, 159.28it/s]\n",
      "pp_nonsparse: 100%|██████████| 5000/5000 [00:31<00:00, 156.48it/s]\n",
      "pp_nonsparse: 100%|██████████| 5000/5000 [00:32<00:00, 154.17it/s]\n",
      "pp_nonsparse: 100%|██████████| 5000/5000 [00:33<00:00, 147.85it/s]\n",
      "pp_nonsparse: 100%|██████████| 5000/5000 [00:33<00:00, 148.74it/s]\n",
      "pp_nonsparse: 100%|██████████| 5000/5000 [00:33<00:00, 150.42it/s]\n",
      "pp_nonsparse: 100%|██████████| 5000/5000 [00:31<00:00, 157.94it/s]\n",
      "pp_nonsparse: 100%|██████████| 5000/5000 [00:33<00:00, 148.49it/s]\n",
      "pp_nonsparse: 100%|██████████| 5000/5000 [00:32<00:00, 152.20it/s]\n",
      "pp_nonsparse: 100%|██████████| 5000/5000 [00:33<00:00, 147.84it/s]\n",
      "pp_nonsparse: 100%|██████████| 5000/5000 [00:33<00:00, 150.27it/s]\n",
      "pp_nonsparse: 100%|██████████| 5000/5000 [00:33<00:00, 149.44it/s]\n",
      "pp_nonsparse: 100%|██████████| 5000/5000 [00:31<00:00, 157.65it/s]\n",
      "pp_nonsparse: 100%|██████████| 5000/5000 [00:33<00:00, 150.66it/s]\n",
      "pp_nonsparse: 100%|█████████���| 5000/5000 [00:33<00:00, 148.29it/s]\n",
      "pp_nonsparse: 100%|██████████| 5000/5000 [00:34<00:00, 145.99it/s]\n",
      "pp_nonsparse: 100%|██████████| 5000/5000 [00:33<00:00, 147.60it/s]\n",
      "pp_nonsparse: 100%|██████████| 5000/5000 [00:33<00:00, 147.83it/s]\n",
      "pp_nonsparse: 100%|██████████| 5000/5000 [00:33<00:00, 150.09it/s]\n",
      "pp_nonsparse: 100%|██████████| 5000/5000 [00:33<00:00, 147.94it/s]\n",
      "pp_nonsparse: 100%|██████████| 5000/5000 [00:32<00:00, 152.28it/s]\n",
      "pp_nonsparse: 100%|██████████| 5000/5000 [00:32<00:00, 152.01it/s]\n",
      "pp_nonsparse: 100%|██████████| 5000/5000 [00:34<00:00, 143.95it/s]\n",
      "pp_nonsparse: 100%|██████████| 5000/5000 [00:33<00:00, 148.47it/s]\n",
      "pp_nonsparse: 100%|██████████| 5000/5000 [00:34<00:00, 143.70it/s]\n",
      "pp_nonsparse: 100%|██████████| 5000/5000 [00:34<00:00, 146.78it/s]\n",
      "pp_nonsparse: 100%|██████████| 5000/5000 [00:33<00:00, 149.50it/s]\n",
      "pp_nonsparse: 100%|██████████| 5000/5000 [00:33<00:00, 147.91it/s]\n",
      "pp_nonsparse: 100%|██████████| 5000/5000 [00:34<00:00, 145.77it/s]\n",
      "pp_nonsparse: 100%|██████████| 5000/5000 [00:35<00:00, 141.35it/s]\n",
      "pp_nonsparse: 100%|██████████| 5000/5000 [00:34<00:00, 146.44it/s]\n",
      "pp_nonsparse: 100%|██████████| 5000/5000 [00:34<00:00, 142.94it/s]\n",
      "pp_nonsparse: 100%|██████████| 5000/5000 [00:33<00:00, 147.25it/s]\n",
      "pp_nonsparse: 100%|██████████| 5000/5000 [00:34<00:00, 145.74it/s]\n",
      "pp_nonsparse: 100%|██████████| 5000/5000 [00:35<00:00, 140.40it/s]s]\n",
      "pp_nonsparse: 100%|██████████| 5000/5000 [00:34<00:00, 143.81it/s]\n",
      "pp_nonsparse: 100%|██████████| 5000/5000 [00:33<00:00, 147.83it/s]\n",
      "pp_nonsparse: 100%|██████████| 5000/5000 [00:32<00:00, 152.10it/s]\n",
      "pp_nonsparse: 100%|██████████| 5000/5000 [00:34<00:00, 146.91it/s]\n",
      "pp_nonsparse: 100%|██████████| 5000/5000 [00:34<00:00, 145.03it/s]\n",
      "pp_nonsparse: 100%|██████████| 5000/5000 [00:35<00:00, 141.69it/s]\n",
      "pp_nonsparse: 100%|██████████| 5000/5000 [00:34<00:00, 145.63it/s]\n",
      "pp_nonsparse: 100%|██████████| 5000/5000 [00:33<00:00, 147.38it/s]\n",
      "pp_nonsparse: 100%|██████████| 5000/5000 [00:33<00:00, 147.94it/s]\n",
      "pp_nonsparse: 100%|██████████| 5000/5000 [00:34<00:00, 146.44it/s]\n",
      "pp_nonsparse: 100%|██████████| 5000/5000 [00:33<00:00, 147.87it/s]\n",
      "pp_nonsparse: 100%|██████████| 5000/5000 [00:34<00:00, 145.47it/s]\n",
      "pp_nonsparse: 100%|██████████| 5000/5000 [00:33<00:00, 149.77it/s]\n",
      "pp_nonsparse: 100%|██████████| 5000/5000 [00:33<00:00, 147.53it/s]\n",
      "pp_nonsparse: 100%|██████████| 5000/5000 [00:34<00:00, 145.05it/s]\n",
      "pp_nonsparse: 100%|██████████| 5000/5000 [00:35<00:00, 141.70it/s]\n",
      "pp_nonsparse: 100%|██████████| 5000/5000 [00:34<00:00, 145.44it/s]\n",
      "pp_nonsparse: 100%|██████████| 5000/5000 [00:34<00:00, 142.98it/s]\n",
      "pp_nonsparse: 100%|██████████| 5000/5000 [00:33<00:00, 148.14it/s]\n"
     ]
    },
    {
     "name": "stdout",
     "output_type": "stream",
     "text": [
      "result_N10_num_trials100_T5000_maxweight0.5_variancee0.005_K1_SissymmetricTrue_seed42_P1_C1_gammma0.999_alpha0.015_betapc0.015_betaco0.02_betasgd0.02_r4_q20_rho0.15_timestamp20250109_141314_.png\n"
     ]
    },
    {
     "data": {
      "image/png": "[encoded data removed]",
      "text/plain": [
       "<Figure size 1000x600 with 1 Axes>"
      ]
     },
     "metadata": {},
     "output_type": "display_data"
    },
    {
     "name": "stdout",
     "output_type": "stream",
     "text": [
      "Notebook file copied to: ./result/250109/images/notebook_backup_20250109_141314.ipynb\n"
     ]
    }
   ],
   "source": [
    "# 試行回数の設定\n",
    "num_trials = 100\n",
    "\n",
    "# パラメータの設定\n",
    "N = 10\n",
    "T = 5000\n",
    "sparsity = 100\n",
    "max_weight = 0.5\n",
    "variance_e = 0.005\n",
    "std_e = np.sqrt(variance_e)\n",
    "K = 1\n",
    "S_is_symmetric = True\n",
    "\n",
    "seed = 42  # 基本のシード\n",
    "\n",
    "# TV-SEMパラメータ\n",
    "P = 1\n",
    "C = 1\n",
    "gamma = 0.999\n",
    "alpha = 0.015\n",
    "beta_pc = 0.015\n",
    "beta_co = 0.02\n",
    "beta_sgd = 0.02\n",
    "\n",
    "# その他のパラメータ\n",
    "r = 4  # window size\n",
    "q = 20  # number of processors\n",
    "rho = 0.15\n",
    "\n",
    "# 試行ごとの処理を行う関数を定義\n",
    "def run_trial(trial_seed):\n",
    "    np.random.seed(trial_seed)  # シードを試行ごとに設定\n",
    "\n",
    "    # データの生成\n",
    "    S_series, X = generate_piecewise_X_K(N, T, S_is_symmetric, sparsity, max_weight, std_e, K)\n",
    "\n",
    "    # 初期値の設定\n",
    "    if S_is_symmetric:\n",
    "        S_0 = generate_random_S(N, sparsity, max_weight)\n",
    "    else:\n",
    "        S_0 = generate_random_S_with_off_diagonal(N, sparsity, max_weight)\n",
    "    S_0 = S_0 / norm(S_0)\n",
    "\n",
    "    # モデルのインスタンス化（並列処理を無効化）\n",
    "    tv_sem_pc = TimeVaryingSEM_PC_NONSPARSE(N, S_0, alpha, beta_pc, gamma, P, C)\n",
    "    tv_sem_co = TimeVaryingSEM_PC_NONSPARSE(N, S_0, alpha, beta_co, gamma, 0, C)\n",
    "    tv_sem_sgd = TimeVaryingSEM_PC_NONSPARSE(N, S_0, alpha, beta_sgd, 0, 0, C)\n",
    "    tv_sem_pp = TimeVaryingSEM_PP_NONSPARSE_UNDIRECTED(N, S_0, r, q, rho)\n",
    "\n",
    "    # 並列処理を無効化するために、直接関数を呼び出す\n",
    "    estimates_pc, cost_values_pc = tv_sem_pc.run(X)\n",
    "    estimates_co, cost_values_co = tv_sem_co.run(X)\n",
    "    estimates_sgd, cost_values_sgd = tv_sem_sgd.run(X)\n",
    "    estimates_pp = tv_sem_pp.run(X)\n",
    "\n",
    "    # エラーの計算\n",
    "    error_pc = []\n",
    "    error_co = []\n",
    "    error_sgd = []\n",
    "    error_pp = []\n",
    "\n",
    "    for i in range(T):\n",
    "        error_pc.append(norm(estimates_pc[i] - S_series[i]) ** 2 / (norm(S_0 - S_series[i]) ** 2))\n",
    "        error_co.append(norm(estimates_co[i] - S_series[i]) ** 2 / (norm(S_0 - S_series[i]) ** 2))\n",
    "        error_sgd.append(norm(estimates_sgd[i] - S_series[i]) ** 2 / (norm(S_0 - S_series[i]) ** 2))\n",
    "        error_pp.append(norm(estimates_pp[i] - S_series[i]) ** 2 / (norm(S_0 - S_series[i]) ** 2))\n",
    "\n",
    "    return error_pc, error_co, error_sgd, error_pp\n",
    "\n",
    "# 試行ごとのシードを作成\n",
    "trial_seeds = [seed + i for i in range(num_trials)]\n",
    "\n",
    "# 並列処理の実行\n",
    "results = Parallel(n_jobs=num_trials)(\n",
    "    delayed(run_trial)(trial_seed) for trial_seed in trial_seeds\n",
    ")\n",
    "\n",
    "# 結果の集計\n",
    "error_pc_total = np.zeros(T)\n",
    "error_co_total = np.zeros(T)\n",
    "error_sgd_total = np.zeros(T)\n",
    "error_pp_total = np.zeros(T)\n",
    "\n",
    "for error_pc, error_co, error_sgd, error_pp in results:\n",
    "    error_pc_total += np.array(error_pc)\n",
    "    error_co_total += np.array(error_co)\n",
    "    error_sgd_total += np.array(error_sgd)\n",
    "    error_pp_total += np.array(error_pp)\n",
    "\n",
    "# 平均の計算\n",
    "error_pc_mean = error_pc_total / num_trials\n",
    "error_co_mean = error_co_total / num_trials\n",
    "error_sgd_mean = error_sgd_total / num_trials\n",
    "error_pp_mean = error_pp_total / num_trials\n",
    "\n",
    "# 結果のプロット\n",
    "plt.figure(figsize=(10,6))\n",
    "plt.plot(error_co_mean, color='blue', label='Correction Only')\n",
    "plt.plot(error_pc_mean, color='limegreen', label='Prediction Correction')\n",
    "plt.plot(error_sgd_mean, color='cyan', label='SGD')\n",
    "plt.plot(error_pp_mean, color='red', label='Proposed')\n",
    "plt.yscale('log')\n",
    "plt.xlim(left=0, right=T)\n",
    "plt.xlabel('t')\n",
    "plt.ylabel('Average NSE')\n",
    "plt.grid(True, 'both')\n",
    "plt.legend()\n",
    "\n",
    "timestamp = datetime.datetime.now().strftime('%Y%m%d_%H%M%S')\n",
    "\n",
    "filename = (\n",
    "    f'result_N{N}_'\n",
    "    f'num_trials{num_trials}_'\n",
    "    f'T{T}_'\n",
    "    f'maxweight{max_weight}_'\n",
    "    f'variancee{variance_e}_'\n",
    "    f'K{K}_'\n",
    "    f'Sissymmetric{S_is_symmetric}_'\n",
    "    f'seed{seed}_'\n",
    "    f'P{P}_'\n",
    "    f'C{C}_'\n",
    "    f'gammma{gamma}_'\n",
    "    f'alpha{alpha}_'\n",
    "    f'betapc{beta_pc}_'\n",
    "    f'betaco{beta_co}_'\n",
    "    f'betasgd{beta_sgd}_'\n",
    "    f'r{r}_'\n",
    "    f'q{q}_'\n",
    "    f'rho{rho}_'\n",
    "    f'timestamp{timestamp}_.png'\n",
    ")\n",
    "\n",
    "print(filename)\n",
    "today_str = datetime.datetime.now().strftime('%y%m%d')\n",
    "save_path = f'./result/{today_str}/images'\n",
    "os.makedirs(save_path, exist_ok=True)  # ディレクトリが無い場合は作成\n",
    "plt.savefig(os.path.join(save_path, filename))\n",
    "plt.show()\n",
    "\n",
    "notebook_filename = \"sandbox_mean.ipynb\"  # ★使用中のNotebook名を入力\n",
    "copy_ipynb_path = os.path.join(save_path, f\"notebook_backup_{timestamp}.ipynb\")\n",
    "\n",
    "shutil.copy(notebook_filename, copy_ipynb_path)\n",
    "print(f\"Notebook file copied to: {copy_ipynb_path}\")\n"
   ]
  }
 ],
 "metadata": {
  "kernelspec": {
   "display_name": "venv",
   "language": "python",
   "name": "python3"
  },
  "language_info": {
   "codemirror_mode": {
    "name": "ipython",
    "version": 3
   },
   "file_extension": ".py",
   "mimetype": "text/x-python",
   "name": "python",
   "nbconvert_exporter": "python",
   "pygments_lexer": "ipython3",
   "version": "3.12.8"
  }
 },
 "nbformat": 4,
 "nbformat_minor": 2
}
