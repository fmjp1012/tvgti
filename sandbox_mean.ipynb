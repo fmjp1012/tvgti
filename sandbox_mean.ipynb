{
 "cells": [
  {
   "cell_type": "code",
   "execution_count": 1,
   "metadata": {},
   "outputs": [],
   "source": [
    "import numpy as np\n",
    "from scipy.linalg import inv, eigvals, norm\n",
    "import matplotlib.pyplot as plt\n",
    "import cvxpy as cp\n",
    "from tqdm import tqdm\n",
    "from joblib import Parallel, delayed\n",
    "from multiprocessing import Manager\n",
    "\n",
    "from utils import *\n",
    "from models.tvgti_pc_nonsparse import TimeVaryingSEM as TimeVaryingSEM_PC_NONSPARSE\n",
    "from models.tvgti_pp_nonsparse_undirected import TimeVaryingSEM as TimeVaryingSEM_PP_NONSPARSE_UNDIRECTED"
   ]
  },
  {
   "cell_type": "code",
   "execution_count": 2,
   "metadata": {},
   "outputs": [],
   "source": [
    "def generate_random_S(N, sparsity, max_weight):\n",
    "    S = np.zeros((N, N))\n",
    "    \n",
    "    for i in range(N):\n",
    "        for j in range(i + 1, N):\n",
    "            if np.random.rand() < sparsity:\n",
    "                weight = np.random.uniform(-max_weight, max_weight)\n",
    "                # weight = np.random.uniform(0, max_weight)\n",
    "                S[i, j] = weight\n",
    "                S[j, i] = weight\n",
    "    \n",
    "    # Ensure spectral radius < 1\n",
    "    spectral_radius = max(abs(eigvals(S)))\n",
    "    if spectral_radius >= 1:\n",
    "        S = S / (spectral_radius + 0.1)\n",
    "\n",
    "    S = S / norm(S)\n",
    "    return S\n",
    "\n",
    "def generate_random_S_with_off_diagonal(N, sparsity, max_weight):\n",
    "    S = np.zeros((N, N))\n",
    "    \n",
    "    for i in range(N):\n",
    "        for j in range(N):\n",
    "            if i != j and np.random.rand() < sparsity:\n",
    "                weight = np.random.uniform(-max_weight, max_weight)\n",
    "                # weight = np.random.uniform(0, max_weight)\n",
    "                S[i, j] = weight\n",
    "    \n",
    "    # Ensure spectral radius < 1\n",
    "    spectral_radius = max(abs(eigvals(S)))\n",
    "    if spectral_radius >= 1:\n",
    "        S = S / (spectral_radius + 0.1)\n",
    "\n",
    "    S = S / norm(S)\n",
    "    return S\n",
    "\n",
    "def modify_S(S, edge_indices, factor=2.0):\n",
    "    S_modified = S.copy()\n",
    "    for (i, j) in edge_indices:\n",
    "        if i != j:\n",
    "            S_modified[i, j] *= factor\n",
    "            S_modified[j, i] *= factor\n",
    "    return S_modified\n",
    "\n",
    "def generate_stationary_X(N, T, S_is_symmetric, sparsity, max_weight, std_e):\n",
    "    if S_is_symmetric:\n",
    "        S = generate_random_S(N, sparsity=sparsity, max_weight=max_weight)\n",
    "    else:\n",
    "        S = generate_random_S_with_off_diagonal(N, sparsity=sparsity, max_weight=max_weight)\n",
    "    S_series = [S for _ in range(T)]\n",
    "    e_t_series = np.random.normal(0, std_e, size=(N, T))\n",
    "\n",
    "    I = np.eye(N)\n",
    "    try:\n",
    "        inv_I_S = inv(I - S)\n",
    "    except np.linalg.LinAlgError:\n",
    "        raise ValueError(\"The matrix (I - S) is non-invertible. Please adjust S to ensure invertibility.\")\n",
    "\n",
    "    X = inv_I_S @ e_t_series\n",
    "\n",
    "    return S_series, X, e_t_series\n",
    "\n",
    "def generate_stationary_X_from_S(S, N, T, std_e):\n",
    "    S = S\n",
    "    S_series = [S for _ in range(T)]\n",
    "    e_t_series = np.random.normal(0, std_e, size=(N, T))\n",
    "\n",
    "    I = np.eye(N)\n",
    "    try:\n",
    "        inv_I_S = inv(I - S)\n",
    "    except np.linalg.LinAlgError:\n",
    "        raise ValueError(\"The matrix (I - S) is non-invertible. Please adjust S to ensure invertibility.\")\n",
    "\n",
    "    X = inv_I_S @ e_t_series\n",
    "\n",
    "    return S_series, X\n",
    "\n",
    "def generate_piecewise_X(N, T, S_is_symmetric, sparsity, max_weight, std_e):\n",
    "    max_weight_0 = max_weight\n",
    "    max_weight_1 = max_weight\n",
    "    if S_is_symmetric:\n",
    "        S0 = generate_random_S(N, sparsity=sparsity, max_weight=max_weight)\n",
    "    else:\n",
    "        S0 = generate_random_S_with_off_diagonal(N, sparsity=sparsity, max_weight=max_weight)\n",
    "    # S1 = generate_random_S(N, sparsity=sparsity, max_weight=max_weight_1)\n",
    "    S1 = S0*2\n",
    "    S_series = [S0 for _ in range(T // 2)] + [S1 for _ in range(T - T // 2)]\n",
    "    e_t_series = np.random.normal(0, std_e, size=(N, T))\n",
    "\n",
    "    I = np.eye(N)\n",
    "    try:\n",
    "        inv_I_S0 = inv(I - S0)\n",
    "        inv_I_S1 = inv(I - S1)\n",
    "    except np.linalg.LinAlgError:\n",
    "        raise ValueError(\"The matrix (I - S) is non-invertible. Please adjust S to ensure invertibility.\")\n",
    "\n",
    "    X0 = inv_I_S0 @ e_t_series[:, :T // 2]\n",
    "    X1 = inv_I_S1 @ e_t_series[:, T // 2:]\n",
    "    X = np.concatenate([X0, X1], axis=1)\n",
    "\n",
    "    return S_series, X\n",
    "\n",
    "def generate_piecewise_X_K(N, T, S_is_symmetric, sparsity, max_weight, std_e, K):\n",
    "    S_list = []\n",
    "    inv_I_S_list = []\n",
    "    I = np.eye(N)\n",
    "\n",
    "    for i in range(K):\n",
    "        if S_is_symmetric:\n",
    "            S = generate_random_S(N, sparsity=sparsity, max_weight=max_weight)\n",
    "        else:\n",
    "            S = generate_random_S_with_off_diagonal(N, sparsity=sparsity, max_weight=max_weight)\n",
    "        S_list.append(S)\n",
    "        try:\n",
    "            inv_I_S = inv(I - S)\n",
    "            inv_I_S_list.append(inv_I_S)\n",
    "        except np.linalg.LinAlgError:\n",
    "            raise ValueError(\"The matrix (I - S) is non-invertible. Please adjust S to ensure invertibility.\")\n",
    "\n",
    "    # Divide T into K segments\n",
    "    segment_lengths = [T // K] * K\n",
    "    segment_lengths[i-1] += T % K\n",
    "\n",
    "    # Create S_series\n",
    "    S_series = []\n",
    "    for i, length in enumerate(segment_lengths):\n",
    "        S_series.extend([S_list[i]] * length)\n",
    "\n",
    "    # Generate error terms\n",
    "    e_t_series = np.random.normal(0, std_e, size=(N, T))\n",
    "\n",
    "    # Compute X\n",
    "    X_list = []\n",
    "    start = 0\n",
    "    for i, length in enumerate(segment_lengths):\n",
    "        end = start + length\n",
    "        X_i = inv_I_S_list[i] @ e_t_series[:, start:end]\n",
    "        X_list.append(X_i)\n",
    "        start = end\n",
    "\n",
    "    X = np.concatenate(X_list, axis=1)\n",
    "\n",
    "    return S_series, X\n",
    "\n",
    "\n",
    "def solve_offline_sem(X_up_to_t, lambda_reg):\n",
    "    N, t = X_up_to_t.shape\n",
    "    S = cp.Variable((N, N), symmetric=True)\n",
    "    \n",
    "    # objective = (1/(2*t)) * cp.norm(X_up_to_t - S @ X_up_to_t, 'fro') + lambda_reg * cp.norm1(S)\n",
    "    objective = (1/(2*t)) * cp.norm(X_up_to_t - S @ X_up_to_t, 'fro')\n",
    "    \n",
    "    constraints = [cp.diag(S) == 0]\n",
    "    \n",
    "    prob = cp.Problem(cp.Minimize(objective), constraints)\n",
    "    \n",
    "    prob.solve(solver=cp.SCS, verbose=False)\n",
    "    \n",
    "    if prob.status not in [\"optimal\", \"optimal_inaccurate\"]:\n",
    "        raise ValueError(\"CVXPY did not find an optimal solution.\")\n",
    "    \n",
    "    S_opt = S.value\n",
    "    return S_opt\n"
   ]
  },
  {
   "cell_type": "code",
   "execution_count": 3,
   "metadata": {},
   "outputs": [
    {
     "name": "stdout",
     "output_type": "stream",
     "text": [
      "Loaded cached matrix from matrix_cache/duplication_matrix_hh_N=10.npz\n",
      "Loaded cached matrix from matrix_cache/elimination_matrix_hh_N=10.npz\n",
      "Loaded cached matrix from matrix_cache/duplication_matrix_hh_N=10.npz\n",
      "Loaded cached matrix from matrix_cache/elimination_matrix_hh_N=10.npz\n"
     ]
    },
    {
     "name": "stderr",
     "output_type": "stream",
     "text": [
      "pc_nonsparse_0.999:   0%|          | 0/5000 [00:00<?, ?it/s] 524.99it/s]"
     ]
    },
    {
     "name": "stdout",
     "output_type": "stream",
     "text": [
      "Loaded cached matrix from matrix_cache/duplication_matrix_hh_N=10.npz\n",
      "Loaded cached matrix from matrix_cache/elimination_matrix_hh_N=10.npz\n",
      "Loaded cached matrix from matrix_cache/duplication_matrix_hh_N=10.npz\n",
      "Loaded cached matrix from matrix_cache/elimination_matrix_hh_N=10.npz\n",
      "Loaded cached matrix from matrix_cache/duplication_matrix_hh_N=10.npz\n",
      "Loaded cached matrix from matrix_cache/elimination_matrix_hh_N=10.npz\n",
      "Loaded cached matrix from matrix_cache/duplication_matrix_hh_N=10.npz\n",
      "Loaded cached matrix from matrix_cache/elimination_matrix_hh_N=10.npz\n"
     ]
    },
    {
     "name": "stderr",
     "output_type": "stream",
     "text": [
      "pc_nonsparse_0.999:   3%|▎         | 164/5000 [00:00<00:11, 435.40it/s]]"
     ]
    },
    {
     "name": "stdout",
     "output_type": "stream",
     "text": [
      "Loaded cached matrix from matrix_cache/duplication_matrix_hh_N=10.npz\n",
      "Loaded cached matrix from matrix_cache/elimination_matrix_hh_N=10.npz\n",
      "Loaded cached matrix from matrix_cache/duplication_matrix_hh_N=10.npz\n",
      "Loaded cached matrix from matrix_cache/elimination_matrix_hh_N=10.npz\n",
      "Loaded cached matrix from matrix_cache/duplication_matrix_hh_N=10.npz\n",
      "Loaded cached matrix from matrix_cache/elimination_matrix_hh_N=10.npz\n",
      "Loaded cached matrix from matrix_cache/duplication_matrix_hh_N=10.npz\n",
      "Loaded cached matrix from matrix_cache/elimination_matrix_hh_N=10.npz\n",
      "Loaded cached matrix from matrix_cache/duplication_matrix_hh_N=10.npz\n",
      "Loaded cached matrix from matrix_cache/elimination_matrix_hh_N=10.npz\n",
      "Loaded cached matrix from matrix_cache/duplication_matrix_hh_N=10.npz\n",
      "Loaded cached matrix from matrix_cache/elimination_matrix_hh_N=10.npz\n",
      "Loaded cached matrix from matrix_cache/duplication_matrix_hh_N=10.npz\n",
      "Loaded cached matrix from matrix_cache/elimination_matrix_hh_N=10.npz\n",
      "Loaded cached matrix from matrix_cache/duplication_matrix_hh_N=10.npz\n",
      "Loaded cached matrix from matrix_cache/elimination_matrix_hh_N=10.npz\n",
      "Loaded cached matrix from matrix_cache/duplication_matrix_hh_N=10.npz\n",
      "Loaded cached matrix from matrix_cache/elimination_matrix_hh_N=10.npz\n",
      "Loaded cached matrix from matrix_cache/duplication_matrix_hh_N=10.npz\n"
     ]
    },
    {
     "name": "stderr",
     "output_type": "stream",
     "text": [
      "pc_nonsparse_0.999:   1%|▏         | 69/5000 [00:00<00:09, 495.34it/s]]]"
     ]
    },
    {
     "name": "stdout",
     "output_type": "stream",
     "text": [
      "Loaded cached matrix from matrix_cache/elimination_matrix_hh_N=10.npz\n",
      "Loaded cached matrix from matrix_cache/duplication_matrix_hh_N=10.npz\n",
      "Loaded cached matrix from matrix_cache/elimination_matrix_hh_N=10.npz\n",
      "Loaded cached matrix from matrix_cache/duplication_matrix_hh_N=10.npz\n",
      "Loaded cached matrix from matrix_cache/elimination_matrix_hh_N=10.npz\n"
     ]
    },
    {
     "name": "stderr",
     "output_type": "stream",
     "text": [
      "pc_nonsparse_0.999:   4%|▍         | 223/5000 [00:00<00:07, 646.75it/s]]"
     ]
    },
    {
     "name": "stdout",
     "output_type": "stream",
     "text": [
      "Loaded cached matrix from matrix_cache/duplication_matrix_hh_N=10.npz\n",
      "Loaded cached matrix from matrix_cache/elimination_matrix_hh_N=10.npz\n",
      "Loaded cached matrix from matrix_cache/duplication_matrix_hh_N=10.npz\n",
      "Loaded cached matrix from matrix_cache/elimination_matrix_hh_N=10.npz\n",
      "Loaded cached matrix from matrix_cache/duplication_matrix_hh_N=10.npz\n",
      "Loaded cached matrix from matrix_cache/elimination_matrix_hh_N=10.npz\n",
      "Loaded cached matrix from matrix_cache/duplication_matrix_hh_N=10.npz\n"
     ]
    },
    {
     "name": "stderr",
     "output_type": "stream",
     "text": [
      "pc_nonsparse_0.999:   0%|          | 0/5000 [00:00<?, ?it/s]584.46it/s]]"
     ]
    },
    {
     "name": "stdout",
     "output_type": "stream",
     "text": [
      "Loaded cached matrix from matrix_cache/duplication_matrix_hh_N=10.npz\n",
      "Loaded cached matrix from matrix_cache/elimination_matrix_hh_N=10.npz\n",
      "Loaded cached matrix from matrix_cache/elimination_matrix_hh_N=10.npz\n",
      "Loaded cached matrix from matrix_cache/duplication_matrix_hh_N=10.npz\n",
      "Loaded cached matrix from matrix_cache/elimination_matrix_hh_N=10.npz\n",
      "Loaded cached matrix from matrix_cache/duplication_matrix_hh_N=10.npz\n",
      "Loaded cached matrix from matrix_cache/elimination_matrix_hh_N=10.npz\n",
      "Loaded cached matrix from matrix_cache/duplication_matrix_hh_N=10.npz\n",
      "Loaded cached matrix from matrix_cache/elimination_matrix_hh_N=10.npz\n",
      "Loaded cached matrix from matrix_cache/duplication_matrix_hh_N=10.npz\n",
      "Loaded cached matrix from matrix_cache/elimination_matrix_hh_N=10.npz\n",
      "Loaded cached matrix from matrix_cache/duplication_matrix_hh_N=10.npz\n",
      "Loaded cached matrix from matrix_cache/elimination_matrix_hh_N=10.npz\n"
     ]
    },
    {
     "name": "stderr",
     "output_type": "stream",
     "text": [
      "pc_nonsparse_0.999:  17%|█▋        | 839/5000 [00:01<00:05, 755.36it/s] "
     ]
    },
    {
     "name": "stdout",
     "output_type": "stream",
     "text": [
      "Loaded cached matrix from matrix_cache/duplication_matrix_hh_N=10.npz\n",
      "Loaded cached matrix from matrix_cache/elimination_matrix_hh_N=10.npz\n",
      "Loaded cached matrix from matrix_cache/duplication_matrix_hh_N=10.npz\n",
      "Loaded cached matrix from matrix_cache/elimination_matrix_hh_N=10.npz\n",
      "Loaded cached matrix from matrix_cache/duplication_matrix_hh_N=10.npz\n"
     ]
    },
    {
     "name": "stderr",
     "output_type": "stream",
     "text": [
      "pc_nonsparse_0.999:   2%|▏         | 88/5000 [00:00<00:17, 287.91it/s]]]"
     ]
    },
    {
     "name": "stdout",
     "output_type": "stream",
     "text": [
      "Loaded cached matrix from matrix_cache/elimination_matrix_hh_N=10.npz\n",
      "Loaded cached matrix from matrix_cache/duplication_matrix_hh_N=10.npz\n",
      "Loaded cached matrix from matrix_cache/elimination_matrix_hh_N=10.npz\n"
     ]
    },
    {
     "name": "stderr",
     "output_type": "stream",
     "text": [
      "pc_nonsparse_0.999:  34%|███▍      | 1707/5000 [00:02<00:03, 825.18it/s]"
     ]
    },
    {
     "name": "stdout",
     "output_type": "stream",
     "text": [
      "Loaded cached matrix from matrix_cache/duplication_matrix_hh_N=10.npz\n",
      "Loaded cached matrix from matrix_cache/elimination_matrix_hh_N=10.npz\n",
      "Loaded cached matrix from matrix_cache/duplication_matrix_hh_N=10.npz\n",
      "Loaded cached matrix from matrix_cache/elimination_matrix_hh_N=10.npz\n"
     ]
    },
    {
     "name": "stderr",
     "output_type": "stream",
     "text": [
      "pc_nonsparse_0.999: 100%|██████████| 5000/5000 [00:08<00:00, 560.56it/s] \n",
      "pc_nonsparse_0.999: 100%|██████████| 5000/5000 [00:05<00:00, 998.72it/s] \n",
      "pc_nonsparse_0.999: 100%|██████████| 5000/5000 [00:04<00:00, 1189.04it/s]\n",
      "pc_nonsparse_0.999: 100%|██████████| 5000/5000 [00:04<00:00, 1145.63it/s]\n",
      "pc_nonsparse_0.999: 100%|██████████| 5000/5000 [00:04<00:00, 1003.82it/s]\n",
      "pc_nonsparse_0.999: 100%|██████████| 5000/5000 [00:04<00:00, 1146.17it/s]\n",
      "pc_nonsparse_0.999: 100%|██████████| 5000/5000 [00:04<00:00, 1189.36it/s]\n",
      "pc_nonsparse_0.999: 100%|██████████| 5000/5000 [00:04<00:00, 1102.78it/s]\n",
      "pc_nonsparse_0.999: 100%|██████████| 5000/5000 [00:03<00:00, 1322.76it/s]\n",
      "pc_nonsparse_0.999: 100%|██████████| 5000/5000 [00:04<00:00, 1193.06it/s]\n",
      "pc_nonsparse_0.999: 100%|██████████| 5000/5000 [00:03<00:00, 1335.73it/s]\n",
      "pc_nonsparse_0.999: 100%|██████████| 5000/5000 [00:03<00:00, 1310.75it/s]\n",
      "pc_nonsparse_0.999: 100%|██████████| 5000/5000 [00:04<00:00, 1213.35it/s]\n",
      "pc_nonsparse_0.999: 100%|██████████| 5000/5000 [00:03<00:00, 1286.25it/s]\n",
      "pc_nonsparse_0.999: 100%|██████████| 5000/5000 [00:03<00:00, 1488.51it/s]\n",
      "pc_nonsparse_0.999: 100%|██████████| 5000/5000 [00:03<00:00, 1360.27it/s]\n",
      "pc_nonsparse_0.999: 100%|██████████| 5000/5000 [00:02<00:00, 1679.59it/s]\n",
      "pc_nonsparse_0: 100%|██████████| 5000/5000 [00:01<00:00, 2531.24it/s]\n",
      "pc_nonsparse_0: 100%|██████████| 5000/5000 [00:01<00:00, 2768.77it/s]\n",
      "pc_nonsparse_0: 100%|██████████| 5000/5000 [00:01<00:00, 2676.68it/s]\n",
      "pc_nonsparse_0: 100%|██████████| 5000/5000 [00:01<00:00, 2556.16it/s]\n",
      "pc_nonsparse_0: 100%|██████████| 5000/5000 [00:01<00:00, 2608.61it/s]\n",
      "pc_nonsparse_0: 100%|██████████| 5000/5000 [00:01<00:00, 2552.18it/s]\n",
      "pc_nonsparse_0: 100%|██████████| 5000/5000 [00:02<00:00, 2483.12it/s]\n",
      "pc_nonsparse_0: 100%|██████████| 5000/5000 [00:01<00:00, 2681.99it/s]\n",
      "pc_nonsparse_0: 100%|██████████| 5000/5000 [00:01<00:00, 2514.49it/s]\n",
      "pc_nonsparse_0: 100%|██████████| 5000/5000 [00:01<00:00, 2619.40it/s]\n",
      "pc_nonsparse_0: 100%|██████████| 5000/5000 [00:01<00:00, 2711.25it/s]\n",
      "pc_nonsparse_0: 100%|██████████| 5000/5000 [00:01<00:00, 2584.68it/s]\n",
      "pc_nonsparse_0: 100%|██████████| 5000/5000 [00:02<00:00, 2457.31it/s]\n",
      "pc_nonsparse_0: 100%|██████████| 5000/5000 [00:01<00:00, 2591.99it/s]\n",
      "pc_nonsparse_0: 100%|██████████| 5000/5000 [00:01<00:00, 2511.22it/s]\n",
      "pc_nonsparse_0: 100%|██████████| 5000/5000 [00:01<00:00, 2514.67it/s]\n",
      "pc_nonsparse_0: 100%|██████████| 5000/5000 [00:01<00:00, 2594.81it/s]\n",
      "pp_nonsparse: 100%|██████████| 5000/5000 [00:05<00:00, 870.63it/s]]\n",
      "pp_nonsparse: 100%|██████████| 5000/5000 [00:05<00:00, 891.39it/s] \n",
      "pp_nonsparse: 100%|██████████| 5000/5000 [00:06<00:00, 800.24it/s]\n",
      "pp_nonsparse: 100%|██████████| 5000/5000 [00:06<00:00, 772.05it/s]\n",
      "pp_nonsparse: 100%|██████████| 5000/5000 [00:06<00:00, 774.65it/s]\n",
      "pp_nonsparse:  99%|█████████▉| 4965/5000 [00:06<00:00, 353.06it/s]\n",
      "pp_nonsparse: 100%|██████████| 5000/5000 [00:06<00:00, 747.54it/s]\n",
      "pp_nonsparse: 100%|██████████| 5000/5000 [00:06<00:00, 731.56it/s]\n",
      "pp_nonsparse: 100%|██████████| 5000/5000 [00:07<00:00, 705.28it/s]\n",
      "pp_nonsparse: 100%|██████████| 5000/5000 [00:07<00:00, 699.39it/s]\n",
      "pp_nonsparse: 100%|██████████| 5000/5000 [00:07<00:00, 691.06it/s]\n",
      "pp_nonsparse:  99%|█████████▉| 4953/5000 [00:07<00:00, 181.56it/s]"
     ]
    },
    {
     "name": "stdout",
     "output_type": "stream",
     "text": [
      "Loaded cached matrix from matrix_cache/duplication_matrix_hh_N=10.npz\n",
      "Loaded cached matrix from matrix_cache/elimination_matrix_hh_N=10.npz\n",
      "Loaded cached matrix from matrix_cache/duplication_matrix_hh_N=10.npz\n",
      "Loaded cached matrix from matrix_cache/elimination_matrix_hh_N=10.npz\n",
      "Loaded cached matrix from matrix_cache/duplication_matrix_hh_N=10.npz\n",
      "Loaded cached matrix from matrix_cache/elimination_matrix_hh_N=10.npz\n",
      "Loaded cached matrix from matrix_cache/duplication_matrix_hh_N=10.npz\n",
      "Loaded cached matrix from matrix_cache/elimination_matrix_hh_N=10.npz\n"
     ]
    },
    {
     "name": "stderr",
     "output_type": "stream",
     "text": [
      "pp_nonsparse: 100%|██████████| 5000/5000 [00:08<00:00, 612.29it/s]it/s]]\n",
      "pp_nonsparse: 100%|██████████| 5000/5000 [00:08<00:00, 600.05it/s]\n",
      "pc_nonsparse_0.999:   5%|▌         | 251/5000 [00:00<00:18, 251.02it/s] "
     ]
    },
    {
     "name": "stdout",
     "output_type": "stream",
     "text": [
      "Loaded cached matrix from matrix_cache/duplication_matrix_hh_N=10.npz\n",
      "Loaded cached matrix from matrix_cache/elimination_matrix_hh_N=10.npz\n",
      "Loaded cached matrix from matrix_cache/duplication_matrix_hh_N=10.npz\n",
      "Loaded cached matrix from matrix_cache/elimination_matrix_hh_N=10.npz\n",
      "Loaded cached matrix from matrix_cache/duplication_matrix_hh_N=10.npz\n",
      "Loaded cached matrix from matrix_cache/elimination_matrix_hh_N=10.npz\n",
      "Loaded cached matrix from matrix_cache/duplication_matrix_hh_N=10.npz\n",
      "Loaded cached matrix from matrix_cache/elimination_matrix_hh_N=10.npz\n",
      "Loaded cached matrix from matrix_cache/duplication_matrix_hh_N=10.npz\n",
      "Loaded cached matrix from matrix_cache/elimination_matrix_hh_N=10.npz\n",
      "Loaded cached matrix from matrix_cache/duplication_matrix_hh_N=10.npz\n",
      "Loaded cached matrix from matrix_cache/elimination_matrix_hh_N=10.npz\n"
     ]
    },
    {
     "name": "stderr",
     "output_type": "stream",
     "text": [
      "pp_nonsparse:  98%|█████████▊| 4918/5000 [00:08<00:01, 77.52it/s] it/s]"
     ]
    },
    {
     "name": "stdout",
     "output_type": "stream",
     "text": [
      "Loaded cached matrix from matrix_cache/duplication_matrix_hh_N=10.npz\n",
      "Loaded cached matrix from matrix_cache/elimination_matrix_hh_N=10.npz\n",
      "Loaded cached matrix from matrix_cache/duplication_matrix_hh_N=10.npz\n",
      "Loaded cached matrix from matrix_cache/elimination_matrix_hh_N=10.npz\n"
     ]
    },
    {
     "name": "stderr",
     "output_type": "stream",
     "text": [
      "pp_nonsparse:  99%|█████████▊| 4929/5000 [00:09<00:01, 59.76it/s]it/s]]"
     ]
    },
    {
     "name": "stdout",
     "output_type": "stream",
     "text": [
      "Loaded cached matrix from matrix_cache/duplication_matrix_hh_N=10.npz\n",
      "Loaded cached matrix from matrix_cache/elimination_matrix_hh_N=10.npz\n",
      "Loaded cached matrix from matrix_cache/duplication_matrix_hh_N=10.npz\n",
      "Loaded cached matrix from matrix_cache/elimination_matrix_hh_N=10.npz\n",
      "Loaded cached matrix from matrix_cache/duplication_matrix_hh_N=10.npz\n",
      "Loaded cached matrix from matrix_cache/elimination_matrix_hh_N=10.npz\n",
      "Loaded cached matrix from matrix_cache/duplication_matrix_hh_N=10.npz\n",
      "Loaded cached matrix from matrix_cache/elimination_matrix_hh_N=10.npz\n"
     ]
    },
    {
     "name": "stderr",
     "output_type": "stream",
     "text": [
      "pp_nonsparse:  97%|█████████▋| 4865/5000 [00:09<00:00, 145.18it/s]it/s]"
     ]
    },
    {
     "name": "stdout",
     "output_type": "stream",
     "text": [
      "Loaded cached matrix from matrix_cache/duplication_matrix_hh_N=10.npz\n",
      "Loaded cached matrix from matrix_cache/elimination_matrix_hh_N=10.npz\n",
      "Loaded cached matrix from matrix_cache/duplication_matrix_hh_N=10.npz\n",
      "Loaded cached matrix from matrix_cache/elimination_matrix_hh_N=10.npz\n",
      "Loaded cached matrix from matrix_cache/duplication_matrix_hh_N=10.npz\n",
      "Loaded cached matrix from matrix_cache/elimination_matrix_hh_N=10.npz\n",
      "Loaded cached matrix from matrix_cache/duplication_matrix_hh_N=10.npz\n",
      "Loaded cached matrix from matrix_cache/elimination_matrix_hh_N=10.npz\n"
     ]
    },
    {
     "name": "stderr",
     "output_type": "stream",
     "text": [
      "pp_nonsparse: 100%|██████████| 5000/5000 [00:09<00:00, 525.96it/s]/s] \n",
      "pc_nonsparse_0.999:   5%|▌         | 264/5000 [00:01<00:18, 255.69it/s]"
     ]
    },
    {
     "name": "stdout",
     "output_type": "stream",
     "text": [
      "Loaded cached matrix from matrix_cache/duplication_matrix_hh_N=10.npz\n",
      "Loaded cached matrix from matrix_cache/elimination_matrix_hh_N=10.npz\n",
      "Loaded cached matrix from matrix_cache/duplication_matrix_hh_N=10.npz\n",
      "Loaded cached matrix from matrix_cache/elimination_matrix_hh_N=10.npz\n",
      "Loaded cached matrix from matrix_cache/duplication_matrix_hh_N=10.npz\n",
      "Loaded cached matrix from matrix_cache/elimination_matrix_hh_N=10.npz\n",
      "Loaded cached matrix from matrix_cache/duplication_matrix_hh_N=10.npz\n",
      "Loaded cached matrix from matrix_cache/elimination_matrix_hh_N=10.npz\n",
      "Loaded cached matrix from matrix_cache/duplication_matrix_hh_N=10.npz\n",
      "Loaded cached matrix from matrix_cache/elimination_matrix_hh_N=10.npz\n",
      "Loaded cached matrix from matrix_cache/duplication_matrix_hh_N=10.npz\n",
      "Loaded cached matrix from matrix_cache/elimination_matrix_hh_N=10.npz\n"
     ]
    },
    {
     "name": "stderr",
     "output_type": "stream",
     "text": [
      "pc_nonsparse_0.999:   0%|          | 14/5000 [00:00<00:41, 119.27it/s]]"
     ]
    },
    {
     "name": "stdout",
     "output_type": "stream",
     "text": [
      "Loaded cached matrix from matrix_cache/duplication_matrix_hh_N=10.npz\n",
      "Loaded cached matrix from matrix_cache/elimination_matrix_hh_N=10.npz\n",
      "Loaded cached matrix from matrix_cache/duplication_matrix_hh_N=10.npz\n",
      "Loaded cached matrix from matrix_cache/elimination_matrix_hh_N=10.npz\n",
      "Loaded cached matrix from matrix_cache/duplication_matrix_hh_N=10.npz\n",
      "Loaded cached matrix from matrix_cache/elimination_matrix_hh_N=10.npz\n",
      "Loaded cached matrix from matrix_cache/duplication_matrix_hh_N=10.npz\n",
      "Loaded cached matrix from matrix_cache/elimination_matrix_hh_N=10.npz\n"
     ]
    },
    {
     "name": "stderr",
     "output_type": "stream",
     "text": [
      "pp_nonsparse: 100%|██████████| 5000/5000 [00:10<00:00, 491.20it/s]t/s]]\n",
      "pc_nonsparse_0.999:   1%|          | 49/5000 [00:00<00:40, 120.96it/s]]"
     ]
    },
    {
     "name": "stdout",
     "output_type": "stream",
     "text": [
      "Loaded cached matrix from matrix_cache/duplication_matrix_hh_N=10.npz\n",
      "Loaded cached matrix from matrix_cache/elimination_matrix_hh_N=10.npz\n",
      "Loaded cached matrix from matrix_cache/duplication_matrix_hh_N=10.npz\n",
      "Loaded cached matrix from matrix_cache/elimination_matrix_hh_N=10.npz\n"
     ]
    },
    {
     "name": "stderr",
     "output_type": "stream",
     "text": [
      "pp_nonsparse: 100%|██████████| 5000/5000 [00:10<00:00, 466.16it/s]it/s]\n",
      "pc_nonsparse_0.999:   0%|          | 0/5000 [00:00<?, ?it/s]it/s]0it/s]"
     ]
    },
    {
     "name": "stdout",
     "output_type": "stream",
     "text": [
      "Loaded cached matrix from matrix_cache/duplication_matrix_hh_N=10.npz\n",
      "Loaded cached matrix from matrix_cache/elimination_matrix_hh_N=10.npz\n",
      "Loaded cached matrix from matrix_cache/duplication_matrix_hh_N=10.npz\n",
      "Loaded cached matrix from matrix_cache/elimination_matrix_hh_N=10.npz\n"
     ]
    },
    {
     "name": "stderr",
     "output_type": "stream",
     "text": [
      "pc_nonsparse_0.999:  11%|█         | 549/5000 [00:02<00:21, 207.32it/s]]"
     ]
    },
    {
     "name": "stdout",
     "output_type": "stream",
     "text": [
      "Loaded cached matrix from matrix_cache/duplication_matrix_hh_N=10.npz\n",
      "Loaded cached matrix from matrix_cache/elimination_matrix_hh_N=10.npz\n",
      "Loaded cached matrix from matrix_cache/duplication_matrix_hh_N=10.npz\n",
      "Loaded cached matrix from matrix_cache/duplication_matrix_hh_N=10.npz\n",
      "Loaded cached matrix from matrix_cache/elimination_matrix_hh_N=10.npz\n",
      "Loaded cached matrix from matrix_cache/duplication_matrix_hh_N=10.npz\n",
      "Loaded cached matrix from matrix_cache/duplication_matrix_hh_N=10.npz\n",
      "Loaded cached matrix from matrix_cache/elimination_matrix_hh_N=10.npz\n",
      "Loaded cached matrix from matrix_cache/duplication_matrix_hh_N=10.npz\n",
      "Loaded cached matrix from matrix_cache/elimination_matrix_hh_N=10.npz\n",
      "Loaded cached matrix from matrix_cache/elimination_matrix_hh_N=10.npz\n",
      "Loaded cached matrix from matrix_cache/elimination_matrix_hh_N=10.npz\n",
      "Loaded cached matrix from matrix_cache/duplication_matrix_hh_N=10.npz\n",
      "Loaded cached matrix from matrix_cache/elimination_matrix_hh_N=10.npz\n",
      "Loaded cached matrix from matrix_cache/duplication_matrix_hh_N=10.npz\n",
      "Loaded cached matrix from matrix_cache/elimination_matrix_hh_N=10.npz\n"
     ]
    },
    {
     "name": "stderr",
     "output_type": "stream",
     "text": [
      "pp_nonsparse: 100%|██████████| 5000/5000 [00:12<00:00, 407.90it/s]it/s]]\n",
      "pc_nonsparse_0.999:  25%|██▍       | 1242/5000 [00:05<00:22, 163.73it/s]"
     ]
    },
    {
     "name": "stdout",
     "output_type": "stream",
     "text": [
      "Loaded cached matrix from matrix_cache/duplication_matrix_hh_N=10.npz\n",
      "Loaded cached matrix from matrix_cache/elimination_matrix_hh_N=10.npz\n",
      "Loaded cached matrix from matrix_cache/duplication_matrix_hh_N=10.npz\n",
      "Loaded cached matrix from matrix_cache/elimination_matrix_hh_N=10.npz\n"
     ]
    },
    {
     "name": "stderr",
     "output_type": "stream",
     "text": [
      "pc_nonsparse_0.999:   9%|▉         | 450/5000 [00:02<00:21, 209.29it/s]]"
     ]
    },
    {
     "name": "stdout",
     "output_type": "stream",
     "text": [
      "Loaded cached matrix from matrix_cache/duplication_matrix_hh_N=10.npz\n",
      "Loaded cached matrix from matrix_cache/elimination_matrix_hh_N=10.npz\n",
      "Loaded cached matrix from matrix_cache/duplication_matrix_hh_N=10.npz\n",
      "Loaded cached matrix from matrix_cache/elimination_matrix_hh_N=10.npz\n"
     ]
    },
    {
     "name": "stderr",
     "output_type": "stream",
     "text": [
      "pc_nonsparse_0.999:  35%|███▍      | 1726/5000 [00:09<00:18, 177.76it/s]"
     ]
    },
    {
     "name": "stdout",
     "output_type": "stream",
     "text": [
      "Loaded cached matrix from matrix_cache/duplication_matrix_hh_N=10.npz\n",
      "Loaded cached matrix from matrix_cache/elimination_matrix_hh_N=10.npz\n"
     ]
    },
    {
     "name": "stderr",
     "output_type": "stream",
     "text": [
      "pc_nonsparse_0.999:  23%|██▎       | 1174/5000 [00:07<00:33, 114.31it/s]"
     ]
    },
    {
     "name": "stdout",
     "output_type": "stream",
     "text": [
      "Loaded cached matrix from matrix_cache/duplication_matrix_hh_N=10.npz\n",
      "Loaded cached matrix from matrix_cache/elimination_matrix_hh_N=10.npz\n"
     ]
    },
    {
     "name": "stderr",
     "output_type": "stream",
     "text": [
      "pc_nonsparse_0.999:  51%|█████▏    | 2571/5000 [00:11<00:16, 146.97it/s]"
     ]
    },
    {
     "name": "stdout",
     "output_type": "stream",
     "text": [
      "Loaded cached matrix from matrix_cache/duplication_matrix_hh_N=10.npz\n",
      "Loaded cached matrix from matrix_cache/elimination_matrix_hh_N=10.npz\n",
      "Loaded cached matrix from matrix_cache/duplication_matrix_hh_N=10.npz\n",
      "Loaded cached matrix from matrix_cache/elimination_matrix_hh_N=10.npz\n"
     ]
    },
    {
     "name": "stderr",
     "output_type": "stream",
     "text": [
      "pc_nonsparse_0.999:  30%|██▉       | 1490/5000 [00:09<00:25, 138.33it/s]"
     ]
    },
    {
     "name": "stdout",
     "output_type": "stream",
     "text": [
      "Loaded cached matrix from matrix_cache/duplication_matrix_hh_N=10.npz\n",
      "Loaded cached matrix from matrix_cache/elimination_matrix_hh_N=10.npz\n",
      "Loaded cached matrix from matrix_cache/duplication_matrix_hh_N=10.npz\n",
      "Loaded cached matrix from matrix_cache/elimination_matrix_hh_N=10.npz\n",
      "Loaded cached matrix from matrix_cache/duplication_matrix_hh_N=10.npz\n",
      "Loaded cached matrix from matrix_cache/elimination_matrix_hh_N=10.npz\n"
     ]
    },
    {
     "name": "stderr",
     "output_type": "stream",
     "text": [
      "pc_nonsparse_0.999:  45%|████▍     | 2246/5000 [00:13<00:20, 132.06it/s]"
     ]
    },
    {
     "name": "stdout",
     "output_type": "stream",
     "text": [
      "Loaded cached matrix from matrix_cache/duplication_matrix_hh_N=10.npz\n",
      "Loaded cached matrix from matrix_cache/elimination_matrix_hh_N=10.npz\n",
      "Loaded cached matrix from matrix_cache/duplication_matrix_hh_N=10.npz\n",
      "Loaded cached matrix from matrix_cache/elimination_matrix_hh_N=10.npz\n",
      "Loaded cached matrix from matrix_cache/duplication_matrix_hh_N=10.npz\n",
      "Loaded cached matrix from matrix_cache/duplication_matrix_hh_N=10.npz\n",
      "Loaded cached matrix from matrix_cache/elimination_matrix_hh_N=10.npz\n",
      "Loaded cached matrix from matrix_cache/elimination_matrix_hh_N=10.npz\n"
     ]
    },
    {
     "name": "stderr",
     "output_type": "stream",
     "text": [
      "pc_nonsparse_0.999:  49%|████▊     | 2437/5000 [00:14<00:07, 358.01it/s]"
     ]
    },
    {
     "name": "stdout",
     "output_type": "stream",
     "text": [
      "Loaded cached matrix from matrix_cache/duplication_matrix_hh_N=10.npz\n",
      "Loaded cached matrix from matrix_cache/elimination_matrix_hh_N=10.npz\n",
      "Loaded cached matrix from matrix_cache/duplication_matrix_hh_N=10.npz\n",
      "Loaded cached matrix from matrix_cache/elimination_matrix_hh_N=10.npz\n",
      "Loaded cached matrix from matrix_cache/duplication_matrix_hh_N=10.npz\n",
      "Loaded cached matrix from matrix_cache/elimination_matrix_hh_N=10.npz\n"
     ]
    },
    {
     "name": "stderr",
     "output_type": "stream",
     "text": [
      "pc_nonsparse_0.999:   2%|▏         | 105/5000 [00:01<00:44, 110.35it/s]s]"
     ]
    },
    {
     "name": "stdout",
     "output_type": "stream",
     "text": [
      "Loaded cached matrix from matrix_cache/duplication_matrix_hh_N=10.npz\n",
      "Loaded cached matrix from matrix_cache/elimination_matrix_hh_N=10.npz\n",
      "Loaded cached matrix from matrix_cache/duplication_matrix_hh_N=10.npz\n",
      "Loaded cached matrix from matrix_cache/elimination_matrix_hh_N=10.npz\n"
     ]
    },
    {
     "name": "stderr",
     "output_type": "stream",
     "text": [
      "pc_nonsparse_0.999:  44%|████▍     | 2222/5000 [00:13<00:17, 158.44it/s]"
     ]
    },
    {
     "name": "stdout",
     "output_type": "stream",
     "text": [
      "Loaded cached matrix from matrix_cache/duplication_matrix_hh_N=10.npz\n",
      "Loaded cached matrix from matrix_cache/elimination_matrix_hh_N=10.npz\n",
      "Loaded cached matrix from matrix_cache/duplication_matrix_hh_N=10.npz\n",
      "Loaded cached matrix from matrix_cache/elimination_matrix_hh_N=10.npz\n",
      "Loaded cached matrix from matrix_cache/duplication_matrix_hh_N=10.npz\n",
      "Loaded cached matrix from matrix_cache/elimination_matrix_hh_N=10.npz\n",
      "Loaded cached matrix from matrix_cache/duplication_matrix_hh_N=10.npz\n",
      "Loaded cached matrix from matrix_cache/duplication_matrix_hh_N=10.npz\n",
      "Loaded cached matrix from matrix_cache/elimination_matrix_hh_N=10.npz\n"
     ]
    },
    {
     "name": "stderr",
     "output_type": "stream",
     "text": [
      "pc_nonsparse_0.999:  42%|████▏     | 2087/5000 [00:12<00:10, 266.34it/s]"
     ]
    },
    {
     "name": "stdout",
     "output_type": "stream",
     "text": [
      "Loaded cached matrix from matrix_cache/elimination_matrix_hh_N=10.npz\n",
      "Loaded cached matrix from matrix_cache/duplication_matrix_hh_N=10.npz\n",
      "Loaded cached matrix from matrix_cache/elimination_matrix_hh_N=10.npz\n"
     ]
    },
    {
     "name": "stderr",
     "output_type": "stream",
     "text": [
      "pc_nonsparse_0.999:  65%|██████▍   | 3228/5000 [00:15<00:05, 335.44it/s]]"
     ]
    },
    {
     "name": "stdout",
     "output_type": "stream",
     "text": [
      "Loaded cached matrix from matrix_cache/duplication_matrix_hh_N=10.npz\n",
      "Loaded cached matrix from matrix_cache/elimination_matrix_hh_N=10.npz\n",
      "Loaded cached matrix from matrix_cache/duplication_matrix_hh_N=10.npz\n",
      "Loaded cached matrix from matrix_cache/elimination_matrix_hh_N=10.npz\n",
      "Loaded cached matrix from matrix_cache/duplication_matrix_hh_N=10.npz\n",
      "Loaded cached matrix from matrix_cache/elimination_matrix_hh_N=10.npz\n",
      "Loaded cached matrix from matrix_cache/duplication_matrix_hh_N=10.npz\n",
      "Loaded cached matrix from matrix_cache/elimination_matrix_hh_N=10.npz\n"
     ]
    },
    {
     "name": "stderr",
     "output_type": "stream",
     "text": [
      "pc_nonsparse_0.999:   8%|▊         | 387/5000 [00:03<00:43, 105.00it/s]]"
     ]
    },
    {
     "name": "stdout",
     "output_type": "stream",
     "text": [
      "Loaded cached matrix from matrix_cache/duplication_matrix_hh_N=10.npz\n",
      "Loaded cached matrix from matrix_cache/elimination_matrix_hh_N=10.npz\n",
      "Loaded cached matrix from matrix_cache/duplication_matrix_hh_N=10.npz\n",
      "Loaded cached matrix from matrix_cache/elimination_matrix_hh_N=10.npz\n",
      "Loaded cached matrix from matrix_cache/duplication_matrix_hh_N=10.npz\n",
      "Loaded cached matrix from matrix_cache/elimination_matrix_hh_N=10.npz\n",
      "Loaded cached matrix from matrix_cache/duplication_matrix_hh_N=10.npz\n",
      "Loaded cached matrix from matrix_cache/elimination_matrix_hh_N=10.npz\n"
     ]
    },
    {
     "name": "stderr",
     "output_type": "stream",
     "text": [
      "pc_nonsparse_0.999:  58%|█████▊    | 2887/5000 [00:16<00:11, 184.21it/s]"
     ]
    },
    {
     "name": "stdout",
     "output_type": "stream",
     "text": [
      "Loaded cached matrix from matrix_cache/duplication_matrix_hh_N=10.npz\n",
      "Loaded cached matrix from matrix_cache/elimination_matrix_hh_N=10.npz\n",
      "Loaded cached matrix from matrix_cache/duplication_matrix_hh_N=10.npz\n",
      "Loaded cached matrix from matrix_cache/elimination_matrix_hh_N=10.npz\n"
     ]
    },
    {
     "name": "stderr",
     "output_type": "stream",
     "text": [
      "pc_nonsparse_0.999:  74%|███████▍  | 3706/5000 [00:17<00:05, 240.37it/s]"
     ]
    },
    {
     "name": "stdout",
     "output_type": "stream",
     "text": [
      "Loaded cached matrix from matrix_cache/duplication_matrix_hh_N=10.npz\n",
      "Loaded cached matrix from matrix_cache/elimination_matrix_hh_N=10.npz\n",
      "Loaded cached matrix from matrix_cache/duplication_matrix_hh_N=10.npz\n",
      "Loaded cached matrix from matrix_cache/elimination_matrix_hh_N=10.npz\n"
     ]
    },
    {
     "name": "stderr",
     "output_type": "stream",
     "text": [
      "pc_nonsparse_0.999:  78%|███████▊  | 3916/5000 [00:20<00:04, 261.09it/s]"
     ]
    },
    {
     "name": "stdout",
     "output_type": "stream",
     "text": [
      "Loaded cached matrix from matrix_cache/duplication_matrix_hh_N=10.npz\n",
      "Loaded cached matrix from matrix_cache/elimination_matrix_hh_N=10.npz\n",
      "Loaded cached matrix from matrix_cache/duplication_matrix_hh_N=10.npz\n",
      "Loaded cached matrix from matrix_cache/elimination_matrix_hh_N=10.npz\n",
      "Loaded cached matrix from matrix_cache/duplication_matrix_hh_N=10.npz\n",
      "Loaded cached matrix from matrix_cache/elimination_matrix_hh_N=10.npz\n",
      "Loaded cached matrix from matrix_cache/duplication_matrix_hh_N=10.npz\n",
      "Loaded cached matrix from matrix_cache/elimination_matrix_hh_N=10.npz\n",
      "Loaded cached matrix from matrix_cache/duplication_matrix_hh_N=10.npz\n",
      "Loaded cached matrix from matrix_cache/elimination_matrix_hh_N=10.npz\n",
      "Loaded cached matrix from matrix_cache/duplication_matrix_hh_N=10.npz\n",
      "Loaded cached matrix from matrix_cache/duplication_matrix_hh_N=10.npz\n",
      "Loaded cached matrix from matrix_cache/elimination_matrix_hh_N=10.npz\n",
      "Loaded cached matrix from matrix_cache/elimination_matrix_hh_N=10.npz\n",
      "Loaded cached matrix from matrix_cache/duplication_matrix_hh_N=10.npz\n",
      "Loaded cached matrix from matrix_cache/elimination_matrix_hh_N=10.npz\n",
      "Loaded cached matrix from matrix_cache/duplication_matrix_hh_N=10.npz\n"
     ]
    },
    {
     "name": "stderr",
     "output_type": "stream",
     "text": [
      "pc_nonsparse_0.999:  10%|▉         | 483/5000 [00:03<00:27, 161.39it/s]]]"
     ]
    },
    {
     "name": "stdout",
     "output_type": "stream",
     "text": [
      "Loaded cached matrix from matrix_cache/elimination_matrix_hh_N=10.npz\n",
      "Loaded cached matrix from matrix_cache/duplication_matrix_hh_N=10.npz\n",
      "Loaded cached matrix from matrix_cache/duplication_matrix_hh_N=10.npz\n",
      "Loaded cached matrix from matrix_cache/elimination_matrix_hh_N=10.npz\n",
      "Loaded cached matrix from matrix_cache/duplication_matrix_hh_N=10.npz\n",
      "Loaded cached matrix from matrix_cache/elimination_matrix_hh_N=10.npz\n",
      "Loaded cached matrix from matrix_cache/duplication_matrix_hh_N=10.npz\n",
      "Loaded cached matrix from matrix_cache/elimination_matrix_hh_N=10.npz\n",
      "Loaded cached matrix from matrix_cache/elimination_matrix_hh_N=10.npz\n",
      "Loaded cached matrix from matrix_cache/duplication_matrix_hh_N=10.npz\n",
      "Loaded cached matrix from matrix_cache/elimination_matrix_hh_N=10.npz\n",
      "Loaded cached matrix from matrix_cache/duplication_matrix_hh_N=10.npz\n",
      "Loaded cached matrix from matrix_cache/elimination_matrix_hh_N=10.npz\n",
      "Loaded cached matrix from matrix_cache/duplication_matrix_hh_N=10.npz\n",
      "Loaded cached matrix from matrix_cache/duplication_matrix_hh_N=10.npz\n",
      "Loaded cached matrix from matrix_cache/elimination_matrix_hh_N=10.npz\n",
      "Loaded cached matrix from matrix_cache/duplication_matrix_hh_N=10.npz\n",
      "Loaded cached matrix from matrix_cache/elimination_matrix_hh_N=10.npz\n",
      "Loaded cached matrix from matrix_cache/elimination_matrix_hh_N=10.npz\n",
      "Loaded cached matrix from matrix_cache/duplication_matrix_hh_N=10.npz\n",
      "Loaded cached matrix from matrix_cache/elimination_matrix_hh_N=10.npz\n",
      "Loaded cached matrix from matrix_cache/duplication_matrix_hh_N=10.npz\n",
      "Loaded cached matrix from matrix_cache/duplication_matrix_hh_N=10.npz\n"
     ]
    },
    {
     "name": "stderr",
     "output_type": "stream",
     "text": [
      "pc_nonsparse_0.999:   0%|          | 24/5000 [00:00<01:03, 78.09it/s]/s]"
     ]
    },
    {
     "name": "stdout",
     "output_type": "stream",
     "text": [
      "Loaded cached matrix from matrix_cache/elimination_matrix_hh_N=10.npz\n",
      "Loaded cached matrix from matrix_cache/duplication_matrix_hh_N=10.npz\n",
      "Loaded cached matrix from matrix_cache/elimination_matrix_hh_N=10.npz\n",
      "Loaded cached matrix from matrix_cache/elimination_matrix_hh_N=10.npz\n",
      "Loaded cached matrix from matrix_cache/duplication_matrix_hh_N=10.npz\n",
      "Loaded cached matrix from matrix_cache/elimination_matrix_hh_N=10.npz\n",
      "Loaded cached matrix from matrix_cache/duplication_matrix_hh_N=10.npz\n",
      "Loaded cached matrix from matrix_cache/elimination_matrix_hh_N=10.npz\n",
      "Loaded cached matrix from matrix_cache/duplication_matrix_hh_N=10.npz\n",
      "Loaded cached matrix from matrix_cache/elimination_matrix_hh_N=10.npz\n"
     ]
    },
    {
     "name": "stderr",
     "output_type": "stream",
     "text": [
      "pc_nonsparse_0.999:  15%|█▍        | 729/5000 [00:04<00:21, 194.21it/s]]s]"
     ]
    },
    {
     "name": "stdout",
     "output_type": "stream",
     "text": [
      "Loaded cached matrix from matrix_cache/duplication_matrix_hh_N=10.npz\n",
      "Loaded cached matrix from matrix_cache/elimination_matrix_hh_N=10.npz\n",
      "Loaded cached matrix from matrix_cache/duplication_matrix_hh_N=10.npz\n",
      "Loaded cached matrix from matrix_cache/elimination_matrix_hh_N=10.npz\n",
      "Loaded cached matrix from matrix_cache/duplication_matrix_hh_N=10.npz\n",
      "Loaded cached matrix from matrix_cache/elimination_matrix_hh_N=10.npz\n",
      "Loaded cached matrix from matrix_cache/duplication_matrix_hh_N=10.npz\n",
      "Loaded cached matrix from matrix_cache/elimination_matrix_hh_N=10.npz\n",
      "Loaded cached matrix from matrix_cache/duplication_matrix_hh_N=10.npz\n",
      "Loaded cached matrix from matrix_cache/elimination_matrix_hh_N=10.npz\n",
      "Loaded cached matrix from matrix_cache/duplication_matrix_hh_N=10.npz\n",
      "Loaded cached matrix from matrix_cache/elimination_matrix_hh_N=10.npz\n",
      "Loaded cached matrix from matrix_cache/duplication_matrix_hh_N=10.npz\n",
      "Loaded cached matrix from matrix_cache/elimination_matrix_hh_N=10.npz\n"
     ]
    },
    {
     "name": "stderr",
     "output_type": "stream",
     "text": [
      "pc_nonsparse_0.999:   5%|▌         | 256/5000 [00:01<00:19, 243.93it/s]]"
     ]
    },
    {
     "name": "stdout",
     "output_type": "stream",
     "text": [
      "Loaded cached matrix from matrix_cache/duplication_matrix_hh_N=10.npz\n",
      "Loaded cached matrix from matrix_cache/elimination_matrix_hh_N=10.npz\n",
      "Loaded cached matrix from matrix_cache/duplication_matrix_hh_N=10.npz\n",
      "Loaded cached matrix from matrix_cache/elimination_matrix_hh_N=10.npz\n",
      "Loaded cached matrix from matrix_cache/duplication_matrix_hh_N=10.npz\n",
      "Loaded cached matrix from matrix_cache/elimination_matrix_hh_N=10.npz\n",
      "Loaded cached matrix from matrix_cache/duplication_matrix_hh_N=10.npz\n",
      "Loaded cached matrix from matrix_cache/duplication_matrix_hh_N=10.npz\n",
      "Loaded cached matrix from matrix_cache/elimination_matrix_hh_N=10.npz\n",
      "Loaded cached matrix from matrix_cache/elimination_matrix_hh_N=10.npz\n",
      "Loaded cached matrix from matrix_cache/duplication_matrix_hh_N=10.npz\n",
      "Loaded cached matrix from matrix_cache/elimination_matrix_hh_N=10.npz\n",
      "Loaded cached matrix from matrix_cache/duplication_matrix_hh_N=10.npz\n",
      "Loaded cached matrix from matrix_cache/elimination_matrix_hh_N=10.npz\n",
      "Loaded cached matrix from matrix_cache/duplication_matrix_hh_N=10.npz\n"
     ]
    },
    {
     "name": "stderr",
     "output_type": "stream",
     "text": [
      "pc_nonsparse_0.999:  65%|██████▌   | 3251/5000 [00:17<00:11, 153.69it/s]s]"
     ]
    },
    {
     "name": "stdout",
     "output_type": "stream",
     "text": [
      "Loaded cached matrix from matrix_cache/elimination_matrix_hh_N=10.npz\n",
      "Loaded cached matrix from matrix_cache/duplication_matrix_hh_N=10.npz\n",
      "Loaded cached matrix from matrix_cache/elimination_matrix_hh_N=10.npz\n",
      "Loaded cached matrix from matrix_cache/duplication_matrix_hh_N=10.npz\n",
      "Loaded cached matrix from matrix_cache/elimination_matrix_hh_N=10.npz\n",
      "Loaded cached matrix from matrix_cache/duplication_matrix_hh_N=10.npz\n",
      "Loaded cached matrix from matrix_cache/duplication_matrix_hh_N=10.npz\n",
      "Loaded cached matrix from matrix_cache/elimination_matrix_hh_N=10.npz\n",
      "Loaded cached matrix from matrix_cache/duplication_matrix_hh_N=10.npz\n",
      "Loaded cached matrix from matrix_cache/elimination_matrix_hh_N=10.npz\n",
      "Loaded cached matrix from matrix_cache/duplication_matrix_hh_N=10.npz\n",
      "Loaded cached matrix from matrix_cache/elimination_matrix_hh_N=10.npz\n",
      "Loaded cached matrix from matrix_cache/elimination_matrix_hh_N=10.npz\n",
      "Loaded cached matrix from matrix_cache/duplication_matrix_hh_N=10.npz\n",
      "Loaded cached matrix from matrix_cache/duplication_matrix_hh_N=10.npz\n",
      "Loaded cached matrix from matrix_cache/elimination_matrix_hh_N=10.npz\n",
      "Loaded cached matrix from matrix_cache/duplication_matrix_hh_N=10.npz\n",
      "Loaded cached matrix from matrix_cache/duplication_matrix_hh_N=10.npz\n",
      "Loaded cached matrix from matrix_cache/elimination_matrix_hh_N=10.npz\n",
      "Loaded cached matrix from matrix_cache/elimination_matrix_hh_N=10.npz\n",
      "Loaded cached matrix from matrix_cache/elimination_matrix_hh_N=10.npz\n",
      "Loaded cached matrix from matrix_cache/duplication_matrix_hh_N=10.npz\n",
      "Loaded cached matrix from matrix_cache/duplication_matrix_hh_N=10.npz\n",
      "Loaded cached matrix from matrix_cache/elimination_matrix_hh_N=10.npz\n",
      "Loaded cached matrix from matrix_cache/elimination_matrix_hh_N=10.npz\n",
      "Loaded cached matrix from matrix_cache/duplication_matrix_hh_N=10.npz\n"
     ]
    },
    {
     "name": "stderr",
     "output_type": "stream",
     "text": [
      "pc_nonsparse_0.999:  63%|██████▎   | 3146/5000 [00:18<00:07, 245.98it/s]"
     ]
    },
    {
     "name": "stdout",
     "output_type": "stream",
     "text": [
      "Loaded cached matrix from matrix_cache/elimination_matrix_hh_N=10.npz\n",
      "Loaded cached matrix from matrix_cache/duplication_matrix_hh_N=10.npz\n",
      "Loaded cached matrix from matrix_cache/elimination_matrix_hh_N=10.npz\n",
      "Loaded cached matrix from matrix_cache/duplication_matrix_hh_N=10.npz\n",
      "Loaded cached matrix from matrix_cache/elimination_matrix_hh_N=10.npz\n",
      "Loaded cached matrix from matrix_cache/duplication_matrix_hh_N=10.npz\n",
      "Loaded cached matrix from matrix_cache/elimination_matrix_hh_N=10.npz\n",
      "Loaded cached matrix from matrix_cache/duplication_matrix_hh_N=10.npz\n",
      "Loaded cached matrix from matrix_cache/elimination_matrix_hh_N=10.npz\n",
      "Loaded cached matrix from matrix_cache/duplication_matrix_hh_N=10.npz\n",
      "Loaded cached matrix from matrix_cache/duplication_matrix_hh_N=10.npz\n",
      "Loaded cached matrix from matrix_cache/elimination_matrix_hh_N=10.npz\n",
      "Loaded cached matrix from matrix_cache/duplication_matrix_hh_N=10.npz\n",
      "Loaded cached matrix from matrix_cache/elimination_matrix_hh_N=10.npz\n",
      "Loaded cached matrix from matrix_cache/elimination_matrix_hh_N=10.npz\n",
      "Loaded cached matrix from matrix_cache/duplication_matrix_hh_N=10.npz\n"
     ]
    },
    {
     "name": "stderr",
     "output_type": "stream",
     "text": [
      "pc_nonsparse_0.999:   4%|▍         | 222/5000 [00:00<00:08, 573.84it/s]]"
     ]
    },
    {
     "name": "stdout",
     "output_type": "stream",
     "text": [
      "Loaded cached matrix from matrix_cache/duplication_matrix_hh_N=10.npz\n",
      "Loaded cached matrix from matrix_cache/elimination_matrix_hh_N=10.npz\n",
      "Loaded cached matrix from matrix_cache/elimination_matrix_hh_N=10.npz\n",
      "Loaded cached matrix from matrix_cache/duplication_matrix_hh_N=10.npz\n",
      "Loaded cached matrix from matrix_cache/duplication_matrix_hh_N=10.npz\n",
      "Loaded cached matrix from matrix_cache/elimination_matrix_hh_N=10.npz\n",
      "Loaded cached matrix from matrix_cache/duplication_matrix_hh_N=10.npz\n",
      "Loaded cached matrix from matrix_cache/duplication_matrix_hh_N=10.npz\n",
      "Loaded cached matrix from matrix_cache/elimination_matrix_hh_N=10.npz\n",
      "Loaded cached matrix from matrix_cache/duplication_matrix_hh_N=10.npz\n",
      "Loaded cached matrix from matrix_cache/elimination_matrix_hh_N=10.npz\n",
      "Loaded cached matrix from matrix_cache/elimination_matrix_hh_N=10.npz\n",
      "Loaded cached matrix from matrix_cache/duplication_matrix_hh_N=10.npz\n",
      "Loaded cached matrix from matrix_cache/elimination_matrix_hh_N=10.npz\n",
      "Loaded cached matrix from matrix_cache/duplication_matrix_hh_N=10.npz\n",
      "Loaded cached matrix from matrix_cache/elimination_matrix_hh_N=10.npz\n",
      "Loaded cached matrix from matrix_cache/duplication_matrix_hh_N=10.npz\n",
      "Loaded cached matrix from matrix_cache/elimination_matrix_hh_N=10.npz\n",
      "Loaded cached matrix from matrix_cache/elimination_matrix_hh_N=10.npz\n"
     ]
    },
    {
     "name": "stderr",
     "output_type": "stream",
     "text": [
      "pc_nonsparse_0.999:  36%|███▋      | 1819/5000 [00:08<00:08, 365.85it/s]<00:03, 375.63it/s]"
     ]
    },
    {
     "name": "stdout",
     "output_type": "stream",
     "text": [
      "Loaded cached matrix from matrix_cache/duplication_matrix_hh_N=10.npz\n",
      "Loaded cached matrix from matrix_cache/elimination_matrix_hh_N=10.npz\n",
      "Loaded cached matrix from matrix_cache/duplication_matrix_hh_N=10.npz\n",
      "Loaded cached matrix from matrix_cache/elimination_matrix_hh_N=10.npz\n",
      "Loaded cached matrix from matrix_cache/duplication_matrix_hh_N=10.npz\n",
      "Loaded cached matrix from matrix_cache/elimination_matrix_hh_N=10.npz\n",
      "Loaded cached matrix from matrix_cache/duplication_matrix_hh_N=10.npz\n",
      "Loaded cached matrix from matrix_cache/duplication_matrix_hh_N=10.npz\n",
      "Loaded cached matrix from matrix_cache/elimination_matrix_hh_N=10.npz\n",
      "Loaded cached matrix from matrix_cache/duplication_matrix_hh_N=10.npz\n",
      "Loaded cached matrix from matrix_cache/elimination_matrix_hh_N=10.npz\n",
      "Loaded cached matrix from matrix_cache/elimination_matrix_hh_N=10.npz\n",
      "Loaded cached matrix from matrix_cache/duplication_matrix_hh_N=10.npz\n",
      "Loaded cached matrix from matrix_cache/elimination_matrix_hh_N=10.npz\n",
      "Loaded cached matrix from matrix_cache/duplication_matrix_hh_N=10.npz\n",
      "Loaded cached matrix from matrix_cache/elimination_matrix_hh_N=10.npz\n",
      "Loaded cached matrix from matrix_cache/duplication_matrix_hh_N=10.npz\n",
      "Loaded cached matrix from matrix_cache/elimination_matrix_hh_N=10.npz\n",
      "Loaded cached matrix from matrix_cache/duplication_matrix_hh_N=10.npz\n",
      "Loaded cached matrix from matrix_cache/elimination_matrix_hh_N=10.npz\n"
     ]
    },
    {
     "name": "stderr",
     "output_type": "stream",
     "text": [
      "pc_nonsparse_0.999: 100%|██████████| 5000/5000 [00:23<00:00, 212.57it/s]\n",
      "pc_nonsparse_0.999:  78%|███████▊  | 3902/5000 [00:21<00:04, 246.18it/s]"
     ]
    },
    {
     "name": "stdout",
     "output_type": "stream",
     "text": [
      "Loaded cached matrix from matrix_cache/duplication_matrix_hh_N=10.npz\n",
      "Loaded cached matrix from matrix_cache/elimination_matrix_hh_N=10.npz\n",
      "Loaded cached matrix from matrix_cache/duplication_matrix_hh_N=10.npz\n",
      "Loaded cached matrix from matrix_cache/elimination_matrix_hh_N=10.npz\n",
      "Loaded cached matrix from matrix_cache/duplication_matrix_hh_N=10.npz\n",
      "Loaded cached matrix from matrix_cache/elimination_matrix_hh_N=10.npz\n",
      "Loaded cached matrix from matrix_cache/duplication_matrix_hh_N=10.npz\n",
      "Loaded cached matrix from matrix_cache/elimination_matrix_hh_N=10.npz\n"
     ]
    },
    {
     "name": "stderr",
     "output_type": "stream",
     "text": [
      "pc_nonsparse_0.999:  41%|████      | 2058/5000 [00:09<00:10, 276.61it/s]"
     ]
    },
    {
     "name": "stdout",
     "output_type": "stream",
     "text": [
      "Loaded cached matrix from matrix_cache/duplication_matrix_hh_N=10.npz\n",
      "Loaded cached matrix from matrix_cache/elimination_matrix_hh_N=10.npz\n",
      "Loaded cached matrix from matrix_cache/duplication_matrix_hh_N=10.npz\n",
      "Loaded cached matrix from matrix_cache/elimination_matrix_hh_N=10.npz\n"
     ]
    },
    {
     "name": "stderr",
     "output_type": "stream",
     "text": [
      "pc_nonsparse_0.999: 100%|██████████| 5000/5000 [00:23<00:00, 214.90it/s]s]\n",
      "pc_nonsparse_0.999: 100%|██████████| 5000/5000 [00:23<00:00, 210.49it/s]\n",
      "pc_nonsparse_0.999: 100%|██████████| 5000/5000 [00:24<00:00, 207.75it/s]\n",
      "pc_nonsparse_0.999: 100%|██████████| 5000/5000 [00:24<00:00, 206.18it/s]\n",
      "pc_nonsparse_0.999: 100%|██████████| 5000/5000 [00:25<00:00, 192.89it/s]\n",
      "pc_nonsparse_0.999: 100%|██████████| 5000/5000 [00:24<00:00, 205.43it/s]\n",
      "pc_nonsparse_0.999: 100%|██████████| 5000/5000 [00:24<00:00, 202.42it/s]\n",
      "pc_nonsparse_0.999: 100%|██████████| 5000/5000 [00:23<00:00, 214.20it/s]\n",
      "pc_nonsparse_0.999: 100%|██████████| 5000/5000 [00:24<00:00, 202.07it/s]\n",
      "pc_nonsparse_0.999: 100%|██████████| 5000/5000 [00:24<00:00, 205.06it/s]\n",
      "pc_nonsparse_0.999: 100%|██████████| 5000/5000 [00:24<00:00, 206.99it/s]\n",
      "pc_nonsparse_0.999: 100%|██████████| 5000/5000 [00:22<00:00, 217.50it/s]\n",
      "pc_nonsparse_0.999: 100%|██████████| 5000/5000 [00:24<00:00, 203.86it/s]\n",
      "pc_nonsparse_0.999: 100%|██████████| 5000/5000 [00:24<00:00, 200.72it/s]\n",
      "pc_nonsparse_0.999: 100%|██████████| 5000/5000 [00:24<00:00, 201.79it/s]\n",
      "pc_nonsparse_0.999: 100%|██████████| 5000/5000 [00:23<00:00, 213.61it/s]\n",
      "pc_nonsparse_0.999: 100%|██████████| 5000/5000 [00:25<00:00, 199.68it/s]\n",
      "pc_nonsparse_0.999: 100%|██████████| 5000/5000 [00:23<00:00, 208.51it/s]\n",
      "pc_nonsparse_0.999: 100%|██████████| 5000/5000 [00:22<00:00, 226.56it/s]\n",
      "pc_nonsparse_0.999: 100%|██████████| 5000/5000 [00:23<00:00, 209.67it/s]\n",
      "pc_nonsparse_0.999: 100%|██████████| 5000/5000 [00:23<00:00, 209.26it/s]\n",
      "pc_nonsparse_0.999: 100%|██████████| 5000/5000 [00:23<00:00, 213.32it/s]\n",
      "pc_nonsparse_0.999: 100%|██████████| 5000/5000 [00:18<00:00, 273.67it/s]\n",
      "pc_nonsparse_0.999: 100%|██████████| 5000/5000 [00:16<00:00, 296.39it/s]\n",
      "pc_nonsparse_0.999: 100%|██████████| 5000/5000 [00:17<00:00, 287.17it/s]\n",
      "pc_nonsparse_0.999: 100%|██████████| 5000/5000 [00:20<00:00, 247.96it/s]\n",
      "pc_nonsparse_0.999: 100%|██████████| 5000/5000 [00:17<00:00, 282.28it/s]\n",
      "pc_nonsparse_0.999: 100%|██████████| 5000/5000 [00:17<00:00, 281.69it/s]\n",
      "pc_nonsparse_0.999: 100%|██████████| 5000/5000 [00:18<00:00, 276.06it/s]\n",
      "pc_nonsparse_0.999: 100%|██████████| 5000/5000 [00:17<00:00, 289.94it/s]\n",
      "pc_nonsparse_0.999:  70%|██████▉   | 3489/5000 [00:10<00:03, 472.28it/s]\n",
      "pc_nonsparse_0.999: 100%|██████████| 5000/5000 [00:17<00:00, 280.76it/s]\n",
      "pc_nonsparse_0.999: 100%|██████████| 5000/5000 [00:17<00:00, 281.74it/s]\n",
      "pc_nonsparse_0.999: 100%|██████████| 5000/5000 [00:16<00:00, 301.97it/s]\n",
      "pc_nonsparse_0.999: 100%|██████████| 5000/5000 [00:17<00:00, 278.67it/s]\n",
      "pc_nonsparse_0.999: 100%|██████████| 5000/5000 [00:15<00:00, 313.22it/s]\n",
      "pc_nonsparse_0.999: 100%|██████████| 5000/5000 [00:16<00:00, 307.60it/s]\n",
      "pc_nonsparse_0.999: 100%|██████████| 5000/5000 [00:12<00:00, 416.14it/s]\n",
      "pc_nonsparse_0.999: 100%|██████████| 5000/5000 [00:13<00:00, 357.36it/s]\n",
      "pc_nonsparse_0.999: 100%|██████████| 5000/5000 [00:14<00:00, 333.99it/s]\n",
      "pc_nonsparse_0.999: 100%|██████████| 5000/5000 [00:16<00:00, 294.66it/s]\n",
      "pc_nonsparse_0.999: 100%|██████████| 5000/5000 [00:14<00:00, 347.48it/s]\n",
      "pc_nonsparse_0.999: 100%|██████████| 5000/5000 [00:13<00:00, 363.69it/s]\n",
      "pc_nonsparse_0.999: 100%|██████████| 5000/5000 [00:13<00:00, 380.98it/s]\n",
      "pc_nonsparse_0.999: 100%|██████████| 5000/5000 [00:14<00:00, 334.06it/s]\n",
      "pc_nonsparse_0.999: 100%|██████████| 5000/5000 [00:13<00:00, 362.98it/s]\n",
      "pc_nonsparse_0.999: 100%|██████████| 5000/5000 [00:14<00:00, 337.92it/s]\n",
      "pc_nonsparse_0.999: 100%|██████████| 5000/5000 [00:14<00:00, 345.82it/s]\n",
      "pc_nonsparse_0.999: 100%|██████████| 5000/5000 [00:14<00:00, 341.35it/s]\n",
      "pc_nonsparse_0.999: 100%|██████████| 5000/5000 [00:15<00:00, 327.17it/s]\n",
      "pc_nonsparse_0.999: 100%|██████████| 5000/5000 [00:14<00:00, 346.82it/s]\n",
      "pc_nonsparse_0.999: 100%|██████████| 5000/5000 [00:13<00:00, 366.07it/s]\n",
      "pc_nonsparse_0.999: 100%|██████████| 5000/5000 [00:15<00:00, 332.79it/s]\n",
      "pc_nonsparse_0.999: 100%|██████████| 5000/5000 [00:14<00:00, 333.89it/s]\n",
      "pc_nonsparse_0.999: 100%|██████████| 5000/5000 [00:13<00:00, 363.10it/s]\n",
      "pc_nonsparse_0.999: 100%|██████████| 5000/5000 [00:14<00:00, 340.39it/s]\n",
      "pc_nonsparse_0.999: 100%|██████████| 5000/5000 [00:14<00:00, 351.37it/s]\n",
      "pc_nonsparse_0.999: 100%|██████████| 5000/5000 [00:14<00:00, 348.95it/s]\n",
      "pc_nonsparse_0.999: 100%|██████████| 5000/5000 [00:14<00:00, 347.57it/s]\n",
      "pc_nonsparse_0.999: 100%|██████████| 5000/5000 [00:15<00:00, 329.54it/s]\n",
      "pc_nonsparse_0.999: 100%|██████████| 5000/5000 [00:15<00:00, 322.75it/s]\n",
      "pc_nonsparse_0.999: 100%|██████████| 5000/5000 [00:13<00:00, 364.96it/s]\n",
      "pc_nonsparse_0.999: 100%|██████████| 5000/5000 [00:13<00:00, 359.99it/s]\n",
      "pc_nonsparse_0.999: 100%|██████████| 5000/5000 [00:12<00:00, 390.46it/s]\n",
      "pc_nonsparse_0.999: 100%|██████████| 5000/5000 [00:13<00:00, 367.56it/s]\n",
      "pc_nonsparse_0.999: 100%|██████████| 5000/5000 [00:14<00:00, 346.13it/s]\n",
      "pc_nonsparse_0.999: 100%|██████████| 5000/5000 [00:14<00:00, 355.50it/s]\n",
      "pc_nonsparse_0.999: 100%|██████████| 5000/5000 [00:13<00:00, 362.89it/s]\n",
      "pc_nonsparse_0.999: 100%|██████████| 5000/5000 [00:13<00:00, 359.72it/s]\n",
      "pc_nonsparse_0.999: 100%|██████████| 5000/5000 [00:13<00:00, 379.10it/s]\n",
      "pc_nonsparse_0.999: 100%|██████████| 5000/5000 [00:13<00:00, 371.76it/s]\n",
      "pc_nonsparse_0: 100%|██████████| 5000/5000 [00:12<00:00, 402.32it/s]t/s]\n",
      "pc_nonsparse_0: 100%|██████████| 5000/5000 [00:13<00:00, 377.66it/s]\n",
      "pc_nonsparse_0.999: 100%|██████████| 5000/5000 [00:14<00:00, 337.82it/s]\n",
      "pc_nonsparse_0.999: 100%|██████████| 5000/5000 [00:14<00:00, 348.19it/s]\n",
      "pc_nonsparse_0.999: 100%|██████████| 5000/5000 [00:14<00:00, 341.80it/s]\n",
      "pc_nonsparse_0.999: 100%|██████████| 5000/5000 [00:14<00:00, 337.96it/s]\n",
      "pc_nonsparse_0.999: 100%|██████████| 5000/5000 [00:14<00:00, 348.89it/s]\n",
      "pc_nonsparse_0.999: 100%|██████████| 5000/5000 [00:16<00:00, 308.65it/s]\n",
      "pc_nonsparse_0.999: 100%|██████████| 5000/5000 [00:14<00:00, 344.91it/s]\n",
      "pc_nonsparse_0.999: 100%|██████████| 5000/5000 [00:14<00:00, 341.52it/s]\n",
      "pc_nonsparse_0.999: 100%|██████████| 5000/5000 [00:15<00:00, 322.94it/s]\n",
      "pc_nonsparse_0.999: 100%|██████████| 5000/5000 [00:14<00:00, 347.47it/s]\n",
      "pc_nonsparse_0.999: 100%|██████████| 5000/5000 [00:15<00:00, 330.54it/s]\n",
      "pc_nonsparse_0: 100%|██████████| 5000/5000 [00:12<00:00, 389.94it/s]\n",
      "pc_nonsparse_0: 100%|██████████| 5000/5000 [00:13<00:00, 367.69it/s]\n",
      "pc_nonsparse_0: 100%|██████████| 5000/5000 [00:14<00:00, 353.72it/s]\n",
      "pc_nonsparse_0: 100%|██████████| 5000/5000 [00:13<00:00, 357.34it/s]\n",
      "pc_nonsparse_0: 100%|██████████| 5000/5000 [00:12<00:00, 405.18it/s]\n",
      "pc_nonsparse_0: 100%|██████████| 5000/5000 [00:13<00:00, 370.78it/s]\n",
      "pc_nonsparse_0: 100%|██████████| 5000/5000 [00:14<00:00, 356.19it/s]\n",
      "pc_nonsparse_0: 100%|██████████| 5000/5000 [00:13<00:00, 359.40it/s]\n",
      "pc_nonsparse_0: 100%|██████████| 5000/5000 [00:13<00:00, 376.55it/s]\n",
      "pc_nonsparse_0: 100%|██████████| 5000/5000 [00:13<00:00, 376.15it/s]\n",
      "pc_nonsparse_0: 100%|██████████| 5000/5000 [00:14<00:00, 342.83it/s]\n",
      "pc_nonsparse_0: 100%|██████████| 5000/5000 [00:14<00:00, 347.98it/s]\n",
      "pc_nonsparse_0: 100%|██████████| 5000/5000 [00:13<00:00, 365.66it/s]\n",
      "pc_nonsparse_0: 100%|██████████| 5000/5000 [00:13<00:00, 358.13it/s]\n",
      "pc_nonsparse_0: 100%|██████████| 5000/5000 [00:13<00:00, 376.97it/s]\n",
      "pc_nonsparse_0: 100%|██████████| 5000/5000 [00:14<00:00, 345.71it/s]\n",
      "pc_nonsparse_0: 100%|██████████| 5000/5000 [00:14<00:00, 338.84it/s]\n",
      "pc_nonsparse_0: 100%|██████████| 5000/5000 [00:14<00:00, 333.64it/s]\n",
      "pc_nonsparse_0: 100%|██████████| 5000/5000 [00:15<00:00, 321.85it/s]\n",
      "pc_nonsparse_0: 100%|██████████| 5000/5000 [00:14<00:00, 342.58it/s]\n",
      "pc_nonsparse_0: 100%|██████████| 5000/5000 [00:13<00:00, 380.28it/s]\n",
      "pc_nonsparse_0: 100%|██████████| 5000/5000 [00:13<00:00, 360.07it/s]\n",
      "pc_nonsparse_0: 100%|██████████| 5000/5000 [00:12<00:00, 389.80it/s]\n",
      "pc_nonsparse_0: 100%|██████████| 5000/5000 [00:13<00:00, 366.40it/s]\n",
      "pc_nonsparse_0: 100%|██████████| 5000/5000 [00:13<00:00, 368.70it/s]\n",
      "pc_nonsparse_0: 100%|██████████| 5000/5000 [00:14<00:00, 351.73it/s]\n",
      "pc_nonsparse_0: 100%|██████████| 5000/5000 [00:13<00:00, 368.70it/s]\n",
      "pc_nonsparse_0: 100%|██████████| 5000/5000 [00:12<00:00, 404.39it/s]\n",
      "pc_nonsparse_0: 100%|██████████| 5000/5000 [00:13<00:00, 366.34it/s]\n",
      "pc_nonsparse_0: 100%|██████████| 5000/5000 [00:14<00:00, 355.06it/s]\n",
      "pc_nonsparse_0: 100%|██████████| 5000/5000 [00:13<00:00, 375.89it/s]\n",
      "pc_nonsparse_0: 100%|██████████| 5000/5000 [00:13<00:00, 375.99it/s]\n",
      "pc_nonsparse_0: 100%|██████████| 5000/5000 [00:13<00:00, 362.54it/s]\n",
      "pc_nonsparse_0: 100%|██████████| 5000/5000 [00:14<00:00, 355.95it/s]\n",
      "pc_nonsparse_0: 100%|██████████| 5000/5000 [00:13<00:00, 357.34it/s]\n",
      "pc_nonsparse_0: 100%|██████████| 5000/5000 [00:14<00:00, 354.89it/s]\n",
      "pc_nonsparse_0: 100%|██████████| 5000/5000 [00:13<00:00, 380.33it/s]\n",
      "pc_nonsparse_0: 100%|██████████| 5000/5000 [00:14<00:00, 354.95it/s]\n",
      "pc_nonsparse_0: 100%|██████████| 5000/5000 [00:14<00:00, 339.23it/s]\n",
      "pc_nonsparse_0: 100%|██████████| 5000/5000 [00:14<00:00, 348.13it/s]\n",
      "pc_nonsparse_0: 100%|██████████| 5000/5000 [00:13<00:00, 373.15it/s]\n",
      "pc_nonsparse_0: 100%|██████████| 5000/5000 [00:12<00:00, 396.54it/s]\n",
      "pc_nonsparse_0: 100%|██████████| 5000/5000 [00:14<00:00, 343.75it/s]\n",
      "pc_nonsparse_0: 100%|██████████| 5000/5000 [00:13<00:00, 358.24it/s]\n",
      "pc_nonsparse_0: 100%|██████████| 5000/5000 [00:12<00:00, 388.94it/s]\n",
      "pc_nonsparse_0: 100%|██████████| 5000/5000 [00:13<00:00, 371.26it/s]\n",
      "pc_nonsparse_0: 100%|██████████| 5000/5000 [00:13<00:00, 358.78it/s]\n",
      "pc_nonsparse_0: 100%|██████████| 5000/5000 [00:13<00:00, 368.15it/s]\n",
      "pc_nonsparse_0: 100%|██████████| 5000/5000 [00:14<00:00, 356.31it/s]\n",
      "pc_nonsparse_0: 100%|██████████| 5000/5000 [00:13<00:00, 360.33it/s]\n",
      "pc_nonsparse_0: 100%|██████████| 5000/5000 [00:13<00:00, 377.25it/s]\n",
      "pc_nonsparse_0: 100%|██████████| 5000/5000 [00:14<00:00, 352.38it/s]\n",
      "pc_nonsparse_0: 100%|██████████| 5000/5000 [00:12<00:00, 385.52it/s]\n",
      "pc_nonsparse_0: 100%|██████████| 5000/5000 [00:13<00:00, 369.65it/s]\n",
      "pc_nonsparse_0: 100%|██████████| 5000/5000 [00:13<00:00, 367.74it/s]\n",
      "pc_nonsparse_0: 100%|██████████| 5000/5000 [00:13<00:00, 366.93it/s]\n",
      "pc_nonsparse_0: 100%|██████████| 5000/5000 [00:14<00:00, 352.98it/s]\n",
      "pc_nonsparse_0: 100%|██████████| 5000/5000 [00:14<00:00, 352.48it/s]\n",
      "pc_nonsparse_0: 100%|██████████| 5000/5000 [00:13<00:00, 371.41it/s]\n",
      "pc_nonsparse_0: 100%|██████████| 5000/5000 [00:13<00:00, 361.51it/s]\n",
      "pc_nonsparse_0: 100%|██████████| 5000/5000 [00:14<00:00, 344.94it/s]\n",
      "pc_nonsparse_0: 100%|██████████| 5000/5000 [00:14<00:00, 346.72it/s]\n",
      "pc_nonsparse_0: 100%|██████████| 5000/5000 [00:12<00:00, 401.32it/s]\n",
      "pc_nonsparse_0: 100%|██████████| 5000/5000 [00:15<00:00, 332.36it/s]\n",
      "pc_nonsparse_0: 100%|██████████| 5000/5000 [00:13<00:00, 369.75it/s]\n",
      "pc_nonsparse_0: 100%|██████████| 5000/5000 [00:14<00:00, 354.57it/s]\n",
      "pc_nonsparse_0: 100%|██████████| 5000/5000 [00:14<00:00, 348.86it/s]\n",
      "pc_nonsparse_0: 100%|██████████| 5000/5000 [00:13<00:00, 359.33it/s]\n",
      "pc_nonsparse_0: 100%|██████████| 5000/5000 [00:13<00:00, 362.38it/s]\n",
      "pc_nonsparse_0: 100%|██████████| 5000/5000 [00:12<00:00, 399.02it/s]\n",
      "pc_nonsparse_0: 100%|██████████| 5000/5000 [00:14<00:00, 349.84it/s]\n",
      "pc_nonsparse_0: 100%|██████████| 5000/5000 [00:14<00:00, 353.65it/s]\n",
      "pc_nonsparse_0: 100%|██████████| 5000/5000 [00:14<00:00, 354.89it/s]\n",
      "pc_nonsparse_0: 100%|██████████| 5000/5000 [00:14<00:00, 348.19it/s]\n",
      "pc_nonsparse_0: 100%|██████████| 5000/5000 [00:14<00:00, 342.50it/s]\n",
      "pc_nonsparse_0: 100%|██████████| 5000/5000 [00:13<00:00, 370.17it/s]\n",
      "pc_nonsparse_0: 100%|██████████| 5000/5000 [00:13<00:00, 368.06it/s]\n",
      "pc_nonsparse_0: 100%|██████████| 5000/5000 [00:14<00:00, 355.98it/s]\n",
      "pc_nonsparse_0: 100%|██████████| 5000/5000 [00:13<00:00, 372.48it/s]\n",
      "pc_nonsparse_0: 100%|██████████| 5000/5000 [00:14<00:00, 354.09it/s]\n",
      "pc_nonsparse_0: 100%|██████████| 5000/5000 [00:13<00:00, 357.43it/s]\n",
      "pp_nonsparse: 100%|██████████| 5000/5000 [00:37<00:00, 134.77it/s]\n",
      "pp_nonsparse: 100%|██████████| 5000/5000 [00:38<00:00, 130.07it/s]\n",
      "pp_nonsparse: 100%|██████████| 5000/5000 [00:36<00:00, 135.92it/s]\n",
      "pp_nonsparse: 100%|██████████| 5000/5000 [00:36<00:00, 135.83it/s]\n",
      "pp_nonsparse: 100%|██████████| 5000/5000 [00:37<00:00, 132.13it/s]\n",
      "pp_nonsparse: 100%|██████████| 5000/5000 [00:37<00:00, 133.72it/s]\n",
      "pp_nonsparse: 100%|██████████| 5000/5000 [00:37<00:00, 135.01it/s]\n",
      "pp_nonsparse: 100%|██████████| 5000/5000 [00:36<00:00, 136.85it/s]\n",
      "pp_nonsparse: 100%|██████████| 5000/5000 [00:37<00:00, 133.58it/s]\n",
      "pp_nonsparse: 100%|██████████| 5000/5000 [00:36<00:00, 136.05it/s]\n",
      "pp_nonsparse: 100%|██████████| 5000/5000 [00:38<00:00, 129.98it/s]\n",
      "pp_nonsparse: 100%|██████████| 5000/5000 [00:37<00:00, 132.01it/s]\n",
      "pp_nonsparse: 100%|██████████| 5000/5000 [00:36<00:00, 135.40it/s]\n",
      "pp_nonsparse: 100%|██████████| 5000/5000 [00:37<00:00, 131.99it/s]\n",
      "pp_nonsparse: 100%|██████████| 5000/5000 [00:36<00:00, 136.48it/s]\n",
      "pp_nonsparse: 100%|██████████| 5000/5000 [00:37<00:00, 134.37it/s]\n",
      "pp_nonsparse: 100%|██████████| 5000/5000 [00:37<00:00, 132.06it/s]\n",
      "pp_nonsparse: 100%|██████████| 5000/5000 [00:37<00:00, 134.70it/s]\n",
      "pp_nonsparse: 100%|██████████| 5000/5000 [00:39<00:00, 126.36it/s]\n",
      "pp_nonsparse: 100%|██████████| 5000/5000 [00:38<00:00, 130.34it/s]\n",
      "pp_nonsparse: 100%|██████████| 5000/5000 [00:38<00:00, 130.45it/s]\n",
      "pp_nonsparse: 100%|██████████| 5000/5000 [00:39<00:00, 126.57it/s]\n",
      "pp_nonsparse: 100%|██████████| 5000/5000 [00:40<00:00, 123.62it/s]\n",
      "pp_nonsparse: 100%|██████████| 5000/5000 [00:37<00:00, 131.67it/s]\n",
      "pp_nonsparse: 100%|██████████| 5000/5000 [00:37<00:00, 132.39it/s]\n",
      "pp_nonsparse: 100%|██████████| 5000/5000 [00:38<00:00, 130.19it/s]\n",
      "pp_nonsparse: 100%|██████████| 5000/5000 [00:38<00:00, 131.52it/s]\n",
      "pp_nonsparse: 100%|██████████| 5000/5000 [00:37<00:00, 132.05it/s]\n",
      "pp_nonsparse: 100%|██████████| 5000/5000 [00:39<00:00, 127.91it/s]\n",
      "pp_nonsparse: 100%|██████████| 5000/5000 [00:39<00:00, 126.69it/s]\n",
      "pp_nonsparse: 100%|██████████| 5000/5000 [00:38<00:00, 131.26it/s]\n",
      "pp_nonsparse: 100%|██████████| 5000/5000 [00:38<00:00, 129.41it/s]\n",
      "pp_nonsparse: 100%|██████████| 5000/5000 [00:40<00:00, 124.91it/s]\n",
      "pp_nonsparse: 100%|██████████| 5000/5000 [00:38<00:00, 130.51it/s]\n",
      "pp_nonsparse:  95%|█████████▍| 4747/5000 [00:37<00:02, 117.75it/s]\n",
      "pp_nonsparse: 100%|██████████| 5000/5000 [00:39<00:00, 128.09it/s]\n",
      "pp_nonsparse: 100%|██████████| 5000/5000 [00:38<00:00, 130.41it/s]\n",
      "pp_nonsparse: 100%|██████████| 5000/5000 [00:38<00:00, 129.80it/s]\n",
      "pp_nonsparse: 100%|██████████| 5000/5000 [00:39<00:00, 128.09it/s]\n",
      "pp_nonsparse: 100%|██████████| 5000/5000 [00:40<00:00, 124.94it/s]\n",
      "pp_nonsparse: 100%|██████████| 5000/5000 [00:38<00:00, 128.59it/s]\n",
      "pp_nonsparse: 100%|██████████| 5000/5000 [00:38<00:00, 128.21it/s]\n",
      "pp_nonsparse: 100%|██████████| 5000/5000 [00:37<00:00, 133.45it/s]\n",
      "pp_nonsparse: 100%|██████████| 5000/5000 [00:38<00:00, 128.86it/s]\n",
      "pp_nonsparse: 100%|██████████| 5000/5000 [00:38<00:00, 131.44it/s]\n",
      "pp_nonsparse: 100%|██████████| 5000/5000 [00:39<00:00, 126.74it/s]\n",
      "pp_nonsparse:  97%|█████████▋| 4871/5000 [00:38<00:01, 120.24it/s]\n",
      "pp_nonsparse: 100%|██████████| 5000/5000 [00:38<00:00, 128.34it/s]\n",
      "pp_nonsparse: 100%|██████████| 5000/5000 [00:39<00:00, 125.54it/s]\n",
      "pp_nonsparse: 100%|██████████| 5000/5000 [00:38<00:00, 128.52it/s]\n",
      "pp_nonsparse: 100%|██████████| 5000/5000 [00:38<00:00, 131.53it/s]\n",
      "pp_nonsparse: 100%|██████████| 5000/5000 [00:38<00:00, 130.90it/s]\n",
      "pp_nonsparse: 100%|██████████| 5000/5000 [00:39<00:00, 126.49it/s]\n",
      "pp_nonsparse: 100%|██████████| 5000/5000 [00:38<00:00, 130.53it/s]\n",
      "pp_nonsparse: 100%|██████████| 5000/5000 [00:39<00:00, 126.24it/s]\n",
      "pp_nonsparse: 100%|██████████| 5000/5000 [00:39<00:00, 127.25it/s]\n",
      "pp_nonsparse: 100%|██████████| 5000/5000 [00:39<00:00, 127.27it/s]\n",
      "pp_nonsparse:  98%|█████████▊| 4913/5000 [00:39<00:00, 116.54it/s]\n",
      "pp_nonsparse: 100%|██████████| 5000/5000 [00:38<00:00, 129.20it/s]\n",
      "pp_nonsparse: 100%|██████████| 5000/5000 [00:40<00:00, 123.91it/s]\n",
      "pp_nonsparse: 100%|██████████| 5000/5000 [00:39<00:00, 125.46it/s]\n",
      "pp_nonsparse: 100%|██████████| 5000/5000 [00:39<00:00, 126.42it/s]\n",
      "pp_nonsparse: 100%|██████████| 5000/5000 [00:41<00:00, 120.72it/s]\n",
      "pp_nonsparse: 100%|██████████| 5000/5000 [00:39<00:00, 127.39it/s]\n",
      "pp_nonsparse: 100%|██████████| 5000/5000 [00:38<00:00, 130.34it/s]\n",
      "pp_nonsparse: 100%|██████████| 5000/5000 [00:39<00:00, 125.29it/s]\n",
      "pp_nonsparse: 100%|██████████| 5000/5000 [00:38<00:00, 129.39it/s]\n",
      "pp_nonsparse: 100%|██████████| 5000/5000 [00:40<00:00, 124.77it/s]\n",
      "pp_nonsparse: 100%|██████████| 5000/5000 [00:40<00:00, 124.97it/s]\n",
      "pp_nonsparse: 100%|██████████| 5000/5000 [00:38<00:00, 128.45it/s]\n",
      "pp_nonsparse: 100%|██████████| 5000/5000 [00:39<00:00, 127.05it/s]\n",
      "pp_nonsparse: 100%|██████████| 5000/5000 [00:38<00:00, 129.70it/s]\n",
      "pp_nonsparse: 100%|██████████| 5000/5000 [00:40<00:00, 122.20it/s]\n",
      "pp_nonsparse: 100%|██████████| 5000/5000 [00:40<00:00, 124.43it/s]\n",
      "pp_nonsparse: 100%|██████████| 5000/5000 [00:39<00:00, 126.05it/s]\n",
      "pp_nonsparse: 100%|██████████| 5000/5000 [00:40<00:00, 122.84it/s]\n",
      "pp_nonsparse: 100%|██████████| 5000/5000 [00:40<00:00, 122.27it/s]\n",
      "pp_nonsparse: 100%|██████████| 5000/5000 [00:40<00:00, 123.70it/s]\n",
      "pp_nonsparse: 100%|██████████| 5000/5000 [00:40<00:00, 124.08it/s]\n",
      "pp_nonsparse: 100%|██████████| 5000/5000 [00:40<00:00, 123.64it/s]\n",
      "pp_nonsparse: 100%|██████████| 5000/5000 [00:39<00:00, 125.03it/s]\n",
      "pp_nonsparse: 100%|██████████| 5000/5000 [00:40<00:00, 124.85it/s]\n",
      "pp_nonsparse: 100%|██████████| 5000/5000 [00:39<00:00, 127.78it/s]\n"
     ]
    },
    {
     "name": "stdout",
     "output_type": "stream",
     "text": [
      "result_N10_num_trials100_T5000_maxweight0.5_variancee0.005_K1_SissymmetricTrue_seed42_P0_C1_gammma0.999_betapc0.03_betasgd0.03_r4_q20_rho0.15_numtrials100_.png\n"
     ]
    },
    {
     "data": {
      "image/png": "[encoded data removed]",
      "text/plain": [
       "<Figure size 1000x600 with 1 Axes>"
      ]
     },
     "metadata": {},
     "output_type": "display_data"
    }
   ],
   "source": [
    "# 試行回数の設定\n",
    "num_trials = 100\n",
    "\n",
    "# パラメータの設定\n",
    "N = \n",
    "T = 5000\n",
    "sparsity = 100\n",
    "max_weight = 0.5\n",
    "variance_e = 0.005\n",
    "std_e = np.sqrt(variance_e)\n",
    "K = 1\n",
    "S_is_symmetric = True\n",
    "\n",
    "seed = 42  # 基本のシード\n",
    "\n",
    "# TV-SEMパラメータ\n",
    "P = 0\n",
    "C = 1\n",
    "gamma = 0.999\n",
    "alpha = 0.0\n",
    "beta_pc = 1e-2 * 3\n",
    "beta_sgd = 1e-2 * 3\n",
    "\n",
    "# その他のパラメータ\n",
    "r = 4  # window size\n",
    "q = 20  # number of processors\n",
    "rho = 0.15\n",
    "\n",
    "# 試行ごとの処理を行う関数を定義\n",
    "def run_trial(trial_seed):\n",
    "    np.random.seed(trial_seed)  # シードを試行ごとに設定\n",
    "\n",
    "    # データの生成\n",
    "    S_series, X = generate_piecewise_X_K(N, T, S_is_symmetric, sparsity, max_weight, std_e, K)\n",
    "\n",
    "    # 初期値の設定\n",
    "    if S_is_symmetric:\n",
    "        S_0 = generate_random_S(N, sparsity, max_weight)\n",
    "    else:\n",
    "        S_0 = generate_random_S_with_off_diagonal(N, sparsity, max_weight)\n",
    "    S_0 = S_0 / norm(S_0)\n",
    "\n",
    "    # モデルのインスタンス化（並列処理を無効化）\n",
    "    tv_sem_pc = TimeVaryingSEM_PC_NONSPARSE(N, S_0, alpha, beta_pc, gamma, P, C)\n",
    "    tv_sem_sgd = TimeVaryingSEM_PC_NONSPARSE(N, S_0, alpha, beta_sgd, 0, P, C)\n",
    "    tv_sem_pp = TimeVaryingSEM_PP_NONSPARSE_UNDIRECTED(N, S_0, r, q, rho)\n",
    "\n",
    "    # 並列処理を無効化するために、直接関数を呼び出す\n",
    "    estimates_pc, cost_values_pc = tv_sem_pc.run(X)\n",
    "    estimates_sgd, cost_values_sgd = tv_sem_sgd.run(X)\n",
    "    estimates_pp = tv_sem_pp.run(X)\n",
    "\n",
    "    # エラーの計算\n",
    "    error_pc = []\n",
    "    error_sgd = []\n",
    "    error_pp = []\n",
    "\n",
    "    for i in range(T):\n",
    "        error_pc.append(norm(estimates_pc[i] - S_series[i]) ** 2 / (norm(S_0 - S_series[i]) ** 2))\n",
    "        error_sgd.append(norm(estimates_sgd[i] - S_series[i]) ** 2 / (norm(S_0 - S_series[i]) ** 2))\n",
    "        error_pp.append(norm(estimates_pp[i] - S_series[i]) ** 2 / (norm(S_0 - S_series[i]) ** 2))\n",
    "\n",
    "    return error_pc, error_sgd, error_pp\n",
    "\n",
    "# 試行ごとのシードを作成\n",
    "trial_seeds = [seed + i for i in range(num_trials)]\n",
    "\n",
    "# 並列処理の実行\n",
    "results = Parallel(n_jobs=num_trials)(\n",
    "    delayed(run_trial)(trial_seed) for trial_seed in trial_seeds\n",
    ")\n",
    "\n",
    "# 結果の集計\n",
    "error_pc_total = np.zeros(T)\n",
    "error_sgd_total = np.zeros(T)\n",
    "error_pp_total = np.zeros(T)\n",
    "\n",
    "for error_pc, error_sgd, error_pp in results:\n",
    "    error_pc_total += np.array(error_pc)\n",
    "    error_sgd_total += np.array(error_sgd)\n",
    "    error_pp_total += np.array(error_pp)\n",
    "\n",
    "# 平均の計算\n",
    "error_pc_mean = error_pc_total / num_trials\n",
    "error_sgd_mean = error_sgd_total / num_trials\n",
    "error_pp_mean = error_pp_total / num_trials\n",
    "\n",
    "# 結果のプロット\n",
    "plt.figure(figsize=(10,6))\n",
    "plt.plot(error_pc_mean, color='blue', label='Correction Only')\n",
    "plt.plot(error_sgd_mean, color='cyan', label='SGD')\n",
    "plt.plot(error_pp_mean, color='red', label='Proposed')\n",
    "plt.yscale('log')\n",
    "plt.xlim(left=0, right=T)\n",
    "plt.xlabel('t')\n",
    "plt.ylabel('Average NSE')\n",
    "plt.legend()\n",
    "filename = (\n",
    "    f'result_N{N}_'\n",
    "    f'num_trials{num_trials}_'\n",
    "    f'T{T}_'\n",
    "    f'maxweight{max_weight}_'\n",
    "    f'variancee{variance_e}_'\n",
    "    f'K{K}_'\n",
    "    f'Sissymmetric{S_is_symmetric}_'\n",
    "    f'seed{seed}_'\n",
    "    f'P{P}_'\n",
    "    f'C{C}_'\n",
    "    f'gammma{gamma}_'\n",
    "    f'betapc{beta_pc}_'\n",
    "    f'betasgd{beta_sgd}_'\n",
    "    f'r{r}_'\n",
    "    f'q{q}_'\n",
    "    f'rho{rho}_'\n",
    "    f'numtrials{num_trials}_.png'\n",
    ")\n",
    "print(filename)\n",
    "plt.savefig('./result/241125_mean/images/' + filename)\n",
    "plt.show()\n"
   ]
  },
  {
   "cell_type": "code",
   "execution_count": null,
   "metadata": {},
   "outputs": [],
   "source": []
  }
 ],
 "metadata": {
  "kernelspec": {
   "display_name": "venv",
   "language": "python",
   "name": "python3"
  },
  "language_info": {
   "codemirror_mode": {
    "name": "ipython",
    "version": 3
   },
   "file_extension": ".py",
   "mimetype": "text/x-python",
   "name": "python",
   "nbconvert_exporter": "python",
   "pygments_lexer": "ipython3",
   "version": "3.12.7"
  }
 },
 "nbformat": 4,
 "nbformat_minor": 2
}
