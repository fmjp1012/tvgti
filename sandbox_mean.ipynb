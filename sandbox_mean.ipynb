{
 "cells": [
  {
   "cell_type": "code",
   "execution_count": 1,
   "metadata": {},
   "outputs": [],
   "source": [
    "import numpy as np\n",
    "from scipy.linalg import inv, eigvals, norm\n",
    "import matplotlib.pyplot as plt\n",
    "import cvxpy as cp\n",
    "from tqdm import tqdm\n",
    "from joblib import Parallel, delayed\n",
    "from multiprocessing import Manager\n",
    "\n",
    "from utils import *\n",
    "from models.tvgti_pc_nonsparse import TimeVaryingSEM as TimeVaryingSEM_PC_NONSPARSE\n",
    "from models.tvgti_pp_nonsparse_undirected import TimeVaryingSEM as TimeVaryingSEM_PP_NONSPARSE_UNDIRECTED"
   ]
  },
  {
   "cell_type": "code",
   "execution_count": 2,
   "metadata": {},
   "outputs": [],
   "source": [
    "def generate_random_S(N, sparsity, max_weight):\n",
    "    S = np.zeros((N, N))\n",
    "    \n",
    "    for i in range(N):\n",
    "        for j in range(i + 1, N):\n",
    "            if np.random.rand() < sparsity:\n",
    "                weight = np.random.uniform(-max_weight, max_weight)\n",
    "                # weight = np.random.uniform(0, max_weight)\n",
    "                S[i, j] = weight\n",
    "                S[j, i] = weight\n",
    "    \n",
    "    # Ensure spectral radius < 1\n",
    "    spectral_radius = max(abs(eigvals(S)))\n",
    "    if spectral_radius >= 1:\n",
    "        S = S / (spectral_radius + 0.1)\n",
    "\n",
    "    S = S / norm(S)\n",
    "    return S\n",
    "\n",
    "def generate_random_S_with_off_diagonal(N, sparsity, max_weight):\n",
    "    S = np.zeros((N, N))\n",
    "    \n",
    "    for i in range(N):\n",
    "        for j in range(N):\n",
    "            if i != j and np.random.rand() < sparsity:\n",
    "                weight = np.random.uniform(-max_weight, max_weight)\n",
    "                # weight = np.random.uniform(0, max_weight)\n",
    "                S[i, j] = weight\n",
    "    \n",
    "    # Ensure spectral radius < 1\n",
    "    spectral_radius = max(abs(eigvals(S)))\n",
    "    if spectral_radius >= 1:\n",
    "        S = S / (spectral_radius + 0.1)\n",
    "\n",
    "    S = S / norm(S)\n",
    "    return S\n",
    "\n",
    "def modify_S(S, edge_indices, factor=2.0):\n",
    "    S_modified = S.copy()\n",
    "    for (i, j) in edge_indices:\n",
    "        if i != j:\n",
    "            S_modified[i, j] *= factor\n",
    "            S_modified[j, i] *= factor\n",
    "    return S_modified\n",
    "\n",
    "def generate_stationary_X(N, T, S_is_symmetric, sparsity, max_weight, std_e):\n",
    "    if S_is_symmetric:\n",
    "        S = generate_random_S(N, sparsity=sparsity, max_weight=max_weight)\n",
    "    else:\n",
    "        S = generate_random_S_with_off_diagonal(N, sparsity=sparsity, max_weight=max_weight)\n",
    "    S_series = [S for _ in range(T)]\n",
    "    e_t_series = np.random.normal(0, std_e, size=(N, T))\n",
    "\n",
    "    I = np.eye(N)\n",
    "    try:\n",
    "        inv_I_S = inv(I - S)\n",
    "    except np.linalg.LinAlgError:\n",
    "        raise ValueError(\"The matrix (I - S) is non-invertible. Please adjust S to ensure invertibility.\")\n",
    "\n",
    "    X = inv_I_S @ e_t_series\n",
    "\n",
    "    return S_series, X, e_t_series\n",
    "\n",
    "def generate_stationary_X_from_S(S, N, T, std_e):\n",
    "    S = S\n",
    "    S_series = [S for _ in range(T)]\n",
    "    e_t_series = np.random.normal(0, std_e, size=(N, T))\n",
    "\n",
    "    I = np.eye(N)\n",
    "    try:\n",
    "        inv_I_S = inv(I - S)\n",
    "    except np.linalg.LinAlgError:\n",
    "        raise ValueError(\"The matrix (I - S) is non-invertible. Please adjust S to ensure invertibility.\")\n",
    "\n",
    "    X = inv_I_S @ e_t_series\n",
    "\n",
    "    return S_series, X\n",
    "\n",
    "def generate_piecewise_X(N, T, S_is_symmetric, sparsity, max_weight, std_e):\n",
    "    max_weight_0 = max_weight\n",
    "    max_weight_1 = max_weight\n",
    "    if S_is_symmetric:\n",
    "        S0 = generate_random_S(N, sparsity=sparsity, max_weight=max_weight)\n",
    "    else:\n",
    "        S0 = generate_random_S_with_off_diagonal(N, sparsity=sparsity, max_weight=max_weight)\n",
    "    # S1 = generate_random_S(N, sparsity=sparsity, max_weight=max_weight_1)\n",
    "    S1 = S0*2\n",
    "    S_series = [S0 for _ in range(T // 2)] + [S1 for _ in range(T - T // 2)]\n",
    "    e_t_series = np.random.normal(0, std_e, size=(N, T))\n",
    "\n",
    "    I = np.eye(N)\n",
    "    try:\n",
    "        inv_I_S0 = inv(I - S0)\n",
    "        inv_I_S1 = inv(I - S1)\n",
    "    except np.linalg.LinAlgError:\n",
    "        raise ValueError(\"The matrix (I - S) is non-invertible. Please adjust S to ensure invertibility.\")\n",
    "\n",
    "    X0 = inv_I_S0 @ e_t_series[:, :T // 2]\n",
    "    X1 = inv_I_S1 @ e_t_series[:, T // 2:]\n",
    "    X = np.concatenate([X0, X1], axis=1)\n",
    "\n",
    "    return S_series, X\n",
    "\n",
    "def generate_piecewise_X_K(N, T, S_is_symmetric, sparsity, max_weight, std_e, K):\n",
    "    S_list = []\n",
    "    inv_I_S_list = []\n",
    "    I = np.eye(N)\n",
    "\n",
    "    for i in range(K):\n",
    "        if S_is_symmetric:\n",
    "            S = generate_random_S(N, sparsity=sparsity, max_weight=max_weight)\n",
    "        else:\n",
    "            S = generate_random_S_with_off_diagonal(N, sparsity=sparsity, max_weight=max_weight)\n",
    "        S_list.append(S)\n",
    "        try:\n",
    "            inv_I_S = inv(I - S)\n",
    "            inv_I_S_list.append(inv_I_S)\n",
    "        except np.linalg.LinAlgError:\n",
    "            raise ValueError(\"The matrix (I - S) is non-invertible. Please adjust S to ensure invertibility.\")\n",
    "\n",
    "    # Divide T into K segments\n",
    "    segment_lengths = [T // K] * K\n",
    "    segment_lengths[i-1] += T % K\n",
    "\n",
    "    # Create S_series\n",
    "    S_series = []\n",
    "    for i, length in enumerate(segment_lengths):\n",
    "        S_series.extend([S_list[i]] * length)\n",
    "\n",
    "    # Generate error terms\n",
    "    e_t_series = np.random.normal(0, std_e, size=(N, T))\n",
    "\n",
    "    # Compute X\n",
    "    X_list = []\n",
    "    start = 0\n",
    "    for i, length in enumerate(segment_lengths):\n",
    "        end = start + length\n",
    "        X_i = inv_I_S_list[i] @ e_t_series[:, start:end]\n",
    "        X_list.append(X_i)\n",
    "        start = end\n",
    "\n",
    "    X = np.concatenate(X_list, axis=1)\n",
    "\n",
    "    return S_series, X\n",
    "\n",
    "\n",
    "def solve_offline_sem(X_up_to_t, lambda_reg):\n",
    "    N, t = X_up_to_t.shape\n",
    "    S = cp.Variable((N, N), symmetric=True)\n",
    "    \n",
    "    # objective = (1/(2*t)) * cp.norm(X_up_to_t - S @ X_up_to_t, 'fro') + lambda_reg * cp.norm1(S)\n",
    "    objective = (1/(2*t)) * cp.norm(X_up_to_t - S @ X_up_to_t, 'fro')\n",
    "    \n",
    "    constraints = [cp.diag(S) == 0]\n",
    "    \n",
    "    prob = cp.Problem(cp.Minimize(objective), constraints)\n",
    "    \n",
    "    prob.solve(solver=cp.SCS, verbose=False)\n",
    "    \n",
    "    if prob.status not in [\"optimal\", \"optimal_inaccurate\"]:\n",
    "        raise ValueError(\"CVXPY did not find an optimal solution.\")\n",
    "    \n",
    "    S_opt = S.value\n",
    "    return S_opt\n"
   ]
  },
  {
   "cell_type": "code",
   "execution_count": 3,
   "metadata": {},
   "outputs": [
    {
     "name": "stdout",
     "output_type": "stream",
     "text": [
      "Loaded cached matrix from matrix_cache/duplication_matrix_hh_N=10.npz\n",
      "Loaded cached matrix from matrix_cache/elimination_matrix_hh_N=10.npz\n",
      "Loaded cached matrix from matrix_cache/duplication_matrix_hh_N=10.npz\n",
      "Loaded cached matrix from matrix_cache/elimination_matrix_hh_N=10.npz\n",
      "Loaded cached matrix from matrix_cache/duplication_matrix_hh_N=10.npz\n",
      "Loaded cached matrix from matrix_cache/elimination_matrix_hh_N=10.npz\n"
     ]
    },
    {
     "name": "stderr",
     "output_type": "stream",
     "text": [
      "pc_nonsparse_0.999:  21%|██        | 1054/5000 [00:02<00:10, 360.98it/s]"
     ]
    },
    {
     "name": "stdout",
     "output_type": "stream",
     "text": [
      "Loaded cached matrix from matrix_cache/duplication_matrix_hh_N=10.npz\n",
      "Loaded cached matrix from matrix_cache/elimination_matrix_hh_N=10.npz\n",
      "Loaded cached matrix from matrix_cache/duplication_matrix_hh_N=10.npz\n",
      "Loaded cached matrix from matrix_cache/elimination_matrix_hh_N=10.npz\n",
      "Loaded cached matrix from matrix_cache/duplication_matrix_hh_N=10.npz\n",
      "Loaded cached matrix from matrix_cache/elimination_matrix_hh_N=10.npz\n",
      "Loaded cached matrix from matrix_cache/duplication_matrix_hh_N=10.npz\n",
      "Loaded cached matrix from matrix_cache/elimination_matrix_hh_N=10.npz\n",
      "Loaded cached matrix from matrix_cache/duplication_matrix_hh_N=10.npz\n",
      "Loaded cached matrix from matrix_cache/elimination_matrix_hh_N=10.npz\n",
      "Loaded cached matrix from matrix_cache/duplication_matrix_hh_N=10.npz\n",
      "Loaded cached matrix from matrix_cache/elimination_matrix_hh_N=10.npz\n",
      "Loaded cached matrix from matrix_cache/duplication_matrix_hh_N=10.npz\n",
      "Loaded cached matrix from matrix_cache/elimination_matrix_hh_N=10.npz\n",
      "Loaded cached matrix from matrix_cache/duplication_matrix_hh_N=10.npz\n",
      "Loaded cached matrix from matrix_cache/elimination_matrix_hh_N=10.npz\n",
      "Loaded cached matrix from matrix_cache/duplication_matrix_hh_N=10.npz\n",
      "Loaded cached matrix from matrix_cache/elimination_matrix_hh_N=10.npz\n"
     ]
    },
    {
     "name": "stderr",
     "output_type": "stream",
     "text": [
      "pc_nonsparse_0.999:  25%|██▍       | 1241/5000 [00:03<00:09, 410.37it/s]"
     ]
    },
    {
     "name": "stdout",
     "output_type": "stream",
     "text": [
      "Loaded cached matrix from matrix_cache/duplication_matrix_hh_N=10.npz\n",
      "Loaded cached matrix from matrix_cache/elimination_matrix_hh_N=10.npz\n",
      "Loaded cached matrix from matrix_cache/duplication_matrix_hh_N=10.npz\n",
      "Loaded cached matrix from matrix_cache/elimination_matrix_hh_N=10.npz\n",
      "Loaded cached matrix from matrix_cache/duplication_matrix_hh_N=10.npz\n",
      "Loaded cached matrix from matrix_cache/elimination_matrix_hh_N=10.npz\n"
     ]
    },
    {
     "name": "stderr",
     "output_type": "stream",
     "text": [
      "pc_nonsparse_0.999:   0%|          | 0/5000 [00:00<?, ?it/s] 360.85it/s]"
     ]
    },
    {
     "name": "stdout",
     "output_type": "stream",
     "text": [
      "Loaded cached matrix from matrix_cache/duplication_matrix_hh_N=10.npz\n",
      "Loaded cached matrix from matrix_cache/elimination_matrix_hh_N=10.npz\n",
      "Loaded cached matrix from matrix_cache/duplication_matrix_hh_N=10.npz\n",
      "Loaded cached matrix from matrix_cache/elimination_matrix_hh_N=10.npz\n",
      "Loaded cached matrix from matrix_cache/duplication_matrix_hh_N=10.npz\n",
      "Loaded cached matrix from matrix_cache/duplication_matrix_hh_N=10.npz\n",
      "Loaded cached matrix from matrix_cache/elimination_matrix_hh_N=10.npz\n",
      "Loaded cached matrix from matrix_cache/duplication_matrix_hh_N=10.npz\n",
      "Loaded cached matrix from matrix_cache/elimination_matrix_hh_N=10.npz\n",
      "Loaded cached matrix from matrix_cache/duplication_matrix_hh_N=10.npz\n",
      "Loaded cached matrix from matrix_cache/elimination_matrix_hh_N=10.npz\n",
      "Loaded cached matrix from matrix_cache/elimination_matrix_hh_N=10.npz\n"
     ]
    },
    {
     "name": "stderr",
     "output_type": "stream",
     "text": [
      "pc_nonsparse_0.999:  28%|██▊       | 1401/5000 [00:03<00:10, 348.56it/s]"
     ]
    },
    {
     "name": "stdout",
     "output_type": "stream",
     "text": [
      "Loaded cached matrix from matrix_cache/duplication_matrix_hh_N=10.npz\n",
      "Loaded cached matrix from matrix_cache/elimination_matrix_hh_N=10.npz\n",
      "Loaded cached matrix from matrix_cache/duplication_matrix_hh_N=10.npz\n",
      "Loaded cached matrix from matrix_cache/elimination_matrix_hh_N=10.npz\n",
      "Loaded cached matrix from matrix_cache/duplication_matrix_hh_N=10.npz\n",
      "Loaded cached matrix from matrix_cache/elimination_matrix_hh_N=10.npz\n"
     ]
    },
    {
     "name": "stderr",
     "output_type": "stream",
     "text": [
      "pc_nonsparse_0.999:  29%|██▉       | 1439/5000 [00:04<00:12, 281.89it/s]"
     ]
    },
    {
     "name": "stdout",
     "output_type": "stream",
     "text": [
      "Loaded cached matrix from matrix_cache/duplication_matrix_hh_N=10.npz\n",
      "Loaded cached matrix from matrix_cache/elimination_matrix_hh_N=10.npz\n",
      "Loaded cached matrix from matrix_cache/duplication_matrix_hh_N=10.npz\n",
      "Loaded cached matrix from matrix_cache/elimination_matrix_hh_N=10.npz\n",
      "Loaded cached matrix from matrix_cache/duplication_matrix_hh_N=10.npz\n",
      "Loaded cached matrix from matrix_cache/elimination_matrix_hh_N=10.npz\n",
      "Loaded cached matrix from matrix_cache/duplication_matrix_hh_N=10.npz\n",
      "Loaded cached matrix from matrix_cache/elimination_matrix_hh_N=10.npz\n",
      "Loaded cached matrix from matrix_cache/duplication_matrix_hh_N=10.npz\n",
      "Loaded cached matrix from matrix_cache/elimination_matrix_hh_N=10.npz\n",
      "Loaded cached matrix from matrix_cache/duplication_matrix_hh_N=10.npz\n",
      "Loaded cached matrix from matrix_cache/elimination_matrix_hh_N=10.npz\n"
     ]
    },
    {
     "name": "stderr",
     "output_type": "stream",
     "text": [
      "pc_nonsparse_0.999:  13%|█▎        | 672/5000 [00:01<00:06, 626.02it/s]]"
     ]
    },
    {
     "name": "stdout",
     "output_type": "stream",
     "text": [
      "Loaded cached matrix from matrix_cache/duplication_matrix_hh_N=10.npz\n",
      "Loaded cached matrix from matrix_cache/elimination_matrix_hh_N=10.npz\n",
      "Loaded cached matrix from matrix_cache/duplication_matrix_hh_N=10.npz\n",
      "Loaded cached matrix from matrix_cache/elimination_matrix_hh_N=10.npz\n",
      "Loaded cached matrix from matrix_cache/duplication_matrix_hh_N=10.npz\n",
      "Loaded cached matrix from matrix_cache/elimination_matrix_hh_N=10.npz\n",
      "Loaded cached matrix from matrix_cache/duplication_matrix_hh_N=10.npz\n",
      "Loaded cached matrix from matrix_cache/elimination_matrix_hh_N=10.npz\n",
      "Loaded cached matrix from matrix_cache/duplication_matrix_hh_N=10.npz\n",
      "Loaded cached matrix from matrix_cache/elimination_matrix_hh_N=10.npz\n",
      "Loaded cached matrix from matrix_cache/duplication_matrix_hh_N=10.npz\n",
      "Loaded cached matrix from matrix_cache/elimination_matrix_hh_N=10.npz\n",
      "Loaded cached matrix from matrix_cache/duplication_matrix_hh_N=10.npz\n",
      "Loaded cached matrix from matrix_cache/elimination_matrix_hh_N=10.npz\n",
      "Loaded cached matrix from matrix_cache/duplication_matrix_hh_N=10.npz\n",
      "Loaded cached matrix from matrix_cache/elimination_matrix_hh_N=10.npz\n",
      "Loaded cached matrix from matrix_cache/duplication_matrix_hh_N=10.npz\n",
      "Loaded cached matrix from matrix_cache/elimination_matrix_hh_N=10.npz\n"
     ]
    },
    {
     "name": "stderr",
     "output_type": "stream",
     "text": [
      "pc_nonsparse_0.999:   7%|▋         | 371/5000 [00:00<00:12, 363.83it/s]"
     ]
    },
    {
     "name": "stdout",
     "output_type": "stream",
     "text": [
      "Loaded cached matrix from matrix_cache/duplication_matrix_hh_N=10.npz\n",
      "Loaded cached matrix from matrix_cache/elimination_matrix_hh_N=10.npz\n",
      "Loaded cached matrix from matrix_cache/duplication_matrix_hh_N=10.npz\n",
      "Loaded cached matrix from matrix_cache/elimination_matrix_hh_N=10.npz\n",
      "Loaded cached matrix from matrix_cache/duplication_matrix_hh_N=10.npz\n",
      "Loaded cached matrix from matrix_cache/elimination_matrix_hh_N=10.npz\n",
      "Loaded cached matrix from matrix_cache/duplication_matrix_hh_N=10.npz\n",
      "Loaded cached matrix from matrix_cache/elimination_matrix_hh_N=10.npz\n",
      "Loaded cached matrix from matrix_cache/duplication_matrix_hh_N=10.npz\n",
      "Loaded cached matrix from matrix_cache/elimination_matrix_hh_N=10.npz\n",
      "Loaded cached matrix from matrix_cache/duplication_matrix_hh_N=10.npz\n",
      "Loaded cached matrix from matrix_cache/elimination_matrix_hh_N=10.npz\n",
      "Loaded cached matrix from matrix_cache/duplication_matrix_hh_N=10.npz\n",
      "Loaded cached matrix from matrix_cache/elimination_matrix_hh_N=10.npz\n",
      "Loaded cached matrix from matrix_cache/duplication_matrix_hh_N=10.npz\n",
      "Loaded cached matrix from matrix_cache/elimination_matrix_hh_N=10.npz\n",
      "Loaded cached matrix from matrix_cache/duplication_matrix_hh_N=10.npz\n",
      "Loaded cached matrix from matrix_cache/elimination_matrix_hh_N=10.npz\n"
     ]
    },
    {
     "name": "stderr",
     "output_type": "stream",
     "text": [
      "pc_nonsparse_0.999:   7%|▋         | 353/5000 [00:01<00:17, 266.95it/s]]"
     ]
    },
    {
     "name": "stdout",
     "output_type": "stream",
     "text": [
      "Loaded cached matrix from matrix_cache/duplication_matrix_hh_N=10.npz\n",
      "Loaded cached matrix from matrix_cache/elimination_matrix_hh_N=10.npz\n",
      "Loaded cached matrix from matrix_cache/duplication_matrix_hh_N=10.npz\n",
      "Loaded cached matrix from matrix_cache/elimination_matrix_hh_N=10.npz\n",
      "Loaded cached matrix from matrix_cache/duplication_matrix_hh_N=10.npz\n",
      "Loaded cached matrix from matrix_cache/elimination_matrix_hh_N=10.npz\n"
     ]
    },
    {
     "name": "stderr",
     "output_type": "stream",
     "text": [
      "pc_nonsparse_0.999:   6%|▋         | 322/5000 [00:00<00:07, 589.46it/s]]"
     ]
    },
    {
     "name": "stdout",
     "output_type": "stream",
     "text": [
      "Loaded cached matrix from matrix_cache/duplication_matrix_hh_N=10.npz\n",
      "Loaded cached matrix from matrix_cache/elimination_matrix_hh_N=10.npz\n",
      "Loaded cached matrix from matrix_cache/duplication_matrix_hh_N=10.npz\n",
      "Loaded cached matrix from matrix_cache/elimination_matrix_hh_N=10.npz\n",
      "Loaded cached matrix from matrix_cache/duplication_matrix_hh_N=10.npz\n",
      "Loaded cached matrix from matrix_cache/elimination_matrix_hh_N=10.npz\n"
     ]
    },
    {
     "name": "stderr",
     "output_type": "stream",
     "text": [
      "pc_nonsparse_0.999: 100%|██████████| 5000/5000 [00:08<00:00, 598.65it/s] \n",
      "pc_nonsparse_0.999: 100%|██████████| 5000/5000 [00:05<00:00, 893.53it/s] \n",
      "pc_nonsparse_0.999: 100%|██████████| 5000/5000 [00:05<00:00, 904.44it/s] \n",
      "pc_nonsparse_0.999: 100%|██████████| 5000/5000 [00:05<00:00, 838.22it/s] \n",
      "pc_nonsparse_0.999: 100%|██████████| 5000/5000 [00:05<00:00, 851.89it/s] \n",
      "pc_nonsparse_0.999: 100%|██████████| 5000/5000 [00:04<00:00, 1016.39it/s]\n",
      "pc_nonsparse_0.999: 100%|██████████| 5000/5000 [00:05<00:00, 951.50it/s] \n",
      "pc_nonsparse_0.999: 100%|██████████| 5000/5000 [00:04<00:00, 1096.08it/s]\n",
      "pc_nonsparse_0.999: 100%|██████████| 5000/5000 [00:05<00:00, 945.95it/s] \n",
      "pc_nonsparse_0.999: 100%|██████████| 5000/5000 [00:05<00:00, 916.42it/s] \n",
      "pc_nonsparse_0.999: 100%|██████████| 5000/5000 [00:04<00:00, 1125.83it/s]\n",
      "pc_nonsparse_0.999: 100%|██████████| 5000/5000 [00:04<00:00, 1153.62it/s]\n",
      "pc_nonsparse_0.999: 100%|██████████| 5000/5000 [00:04<00:00, 1058.35it/s]\n",
      "pc_nonsparse_0.999: 100%|██████████| 5000/5000 [00:04<00:00, 1172.98it/s]\n",
      "pc_nonsparse_0.999: 100%|██████████| 5000/5000 [00:04<00:00, 1004.21it/s]\n",
      "pc_nonsparse_0.999: 100%|██████████| 5000/5000 [00:04<00:00, 1068.80it/s]\n",
      "pc_nonsparse_0.999: 100%|██████████| 5000/5000 [00:03<00:00, 1274.90it/s]\n",
      "pc_nonsparse_0.999: 100%|██████████| 5000/5000 [00:04<00:00, 1119.67it/s]\n",
      "pc_nonsparse_0.999: 100%|██████████| 5000/5000 [00:02<00:00, 2426.28it/s]\n",
      "pc_nonsparse_0.999: 100%|██████████| 5000/5000 [00:02<00:00, 2397.03it/s]\n",
      "pc_nonsparse_0.999: 100%|██████████| 5000/5000 [00:02<00:00, 2292.10it/s]\n",
      "pc_nonsparse_0.999: 100%|██████████| 5000/5000 [00:02<00:00, 2172.74it/s]\n",
      "pc_nonsparse_0.999: 100%|██████████| 5000/5000 [00:02<00:00, 2256.67it/s]\n",
      "pc_nonsparse_0.999: 100%|██████████| 5000/5000 [00:02<00:00, 2266.48it/s]\n",
      "pc_nonsparse_0.999: 100%|██████████| 5000/5000 [00:02<00:00, 2170.80it/s]\n",
      "pc_nonsparse_0.999: 100%|██████████| 5000/5000 [00:02<00:00, 2292.08it/s]\n",
      "pc_nonsparse_0.999: 100%|██████████| 5000/5000 [00:02<00:00, 2250.37it/s]\n",
      "pc_nonsparse_0.999: 100%|██████████| 5000/5000 [00:02<00:00, 2096.86it/s]\n",
      "pc_nonsparse_0.999: 100%|██████████| 5000/5000 [00:02<00:00, 2190.48it/s]\n",
      "pc_nonsparse_0.999: 100%|██████████| 5000/5000 [00:02<00:00, 2156.79it/s]\n",
      "pc_nonsparse_0.999: 100%|██████████| 5000/5000 [00:02<00:00, 2263.77it/s]\n",
      "pc_nonsparse_0.999: 100%|██████████| 5000/5000 [00:02<00:00, 2168.10it/s]\n",
      "pc_nonsparse_0.999: 100%|██████████| 5000/5000 [00:02<00:00, 2200.86it/s]\n",
      "pc_nonsparse_0.999: 100%|██████████| 5000/5000 [00:02<00:00, 2330.00it/s]\n",
      "pc_nonsparse_0.999: 100%|██████████| 5000/5000 [00:02<00:00, 2184.38it/s]\n",
      "pc_nonsparse_0.999: 100%|██████████| 5000/5000 [00:02<00:00, 2047.62it/s]\n",
      "pc_nonsparse_0: 100%|██████████| 5000/5000 [00:02<00:00, 2249.62it/s]\n",
      "pc_nonsparse_0: 100%|██████████| 5000/5000 [00:02<00:00, 1968.87it/s]\n",
      "pc_nonsparse_0: 100%|██████████| 5000/5000 [00:02<00:00, 1902.49it/s]\n",
      "pc_nonsparse_0: 100%|██████████| 5000/5000 [00:02<00:00, 2135.33it/s]\n",
      "pc_nonsparse_0: 100%|██████████| 5000/5000 [00:02<00:00, 2029.64it/s]\n",
      "pc_nonsparse_0: 100%|██████████| 5000/5000 [00:02<00:00, 1964.97it/s]\n",
      "pc_nonsparse_0: 100%|██████████| 5000/5000 [00:02<00:00, 2017.47it/s]\n",
      "pc_nonsparse_0: 100%|██████████| 5000/5000 [00:02<00:00, 1957.72it/s]\n",
      "pc_nonsparse_0: 100%|██████████| 5000/5000 [00:02<00:00, 2036.81it/s]\n",
      "pc_nonsparse_0: 100%|██████████| 5000/5000 [00:02<00:00, 1947.89it/s]\n",
      "pc_nonsparse_0: 100%|██████████| 5000/5000 [00:02<00:00, 1992.89it/s]\n",
      "pc_nonsparse_0: 100%|██████████| 5000/5000 [00:02<00:00, 1878.84it/s]\n",
      "pc_nonsparse_0: 100%|██████████| 5000/5000 [00:02<00:00, 1937.50it/s]\n",
      "pc_nonsparse_0: 100%|██████████| 5000/5000 [00:02<00:00, 1852.84it/s]\n",
      "pc_nonsparse_0: 100%|██████████| 5000/5000 [00:02<00:00, 1858.46it/s]\n",
      "pc_nonsparse_0: 100%|██████████| 5000/5000 [00:02<00:00, 1877.21it/s]\n",
      "pc_nonsparse_0: 100%|██████████| 5000/5000 [00:02<00:00, 1900.88it/s]\n",
      "pc_nonsparse_0: 100%|██████████| 5000/5000 [00:02<00:00, 1960.65it/s]\n",
      "pp_nonsparse: 100%|██████████| 5000/5000 [00:06<00:00, 723.62it/s]\n",
      "pp_nonsparse: 100%|██████████| 5000/5000 [00:06<00:00, 765.86it/s]\n",
      "pp_nonsparse: 100%|██████████| 5000/5000 [00:06<00:00, 787.06it/s]\n",
      "pp_nonsparse: 100%|██████████| 5000/5000 [00:06<00:00, 766.36it/s]\n",
      "pp_nonsparse: 100%|██████████| 5000/5000 [00:06<00:00, 776.06it/s]\n",
      "pp_nonsparse: 100%|██████████| 5000/5000 [00:06<00:00, 770.20it/s]\n",
      "pp_nonsparse: 100%|██████████| 5000/5000 [00:06<00:00, 740.86it/s]\n",
      "pp_nonsparse: 100%|██████████| 5000/5000 [00:06<00:00, 767.54it/s]\n",
      "pp_nonsparse: 100%|██████████| 5000/5000 [00:06<00:00, 761.10it/s]\n",
      "pp_nonsparse: 100%|██████████| 5000/5000 [00:06<00:00, 773.16it/s]\n",
      "pp_nonsparse: 100%|██████████| 5000/5000 [00:06<00:00, 735.70it/s]\n",
      "pp_nonsparse: 100%|██████████| 5000/5000 [00:06<00:00, 737.36it/s]\n",
      "pp_nonsparse: 100%|██████████| 5000/5000 [00:06<00:00, 727.06it/s]\n",
      "pp_nonsparse: 100%|██████████| 5000/5000 [00:07<00:00, 689.78it/s]\n",
      "pp_nonsparse: 100%|██████████| 5000/5000 [00:07<00:00, 680.00it/s]\n",
      "pp_nonsparse: 100%|██████████| 5000/5000 [00:07<00:00, 639.45it/s]\n",
      "pp_nonsparse: 100%|██████████| 5000/5000 [00:07<00:00, 634.29it/s]\n",
      "pp_nonsparse:  97%|█████████▋| 4836/5000 [00:08<00:00, 174.07it/s]"
     ]
    },
    {
     "name": "stdout",
     "output_type": "stream",
     "text": [
      "Loaded cached matrix from matrix_cache/duplication_matrix_hh_N=10.npz\n",
      "Loaded cached matrix from matrix_cache/elimination_matrix_hh_N=10.npz\n",
      "Loaded cached matrix from matrix_cache/duplication_matrix_hh_N=10.npz\n",
      "Loaded cached matrix from matrix_cache/elimination_matrix_hh_N=10.npz\n",
      "Loaded cached matrix from matrix_cache/duplication_matrix_hh_N=10.npz\n",
      "Loaded cached matrix from matrix_cache/elimination_matrix_hh_N=10.npz\n"
     ]
    },
    {
     "name": "stderr",
     "output_type": "stream",
     "text": [
      "pp_nonsparse:  98%|█████████▊| 4893/5000 [00:09<00:00, 124.50it/s]t/s]s]"
     ]
    },
    {
     "name": "stdout",
     "output_type": "stream",
     "text": [
      "Loaded cached matrix from matrix_cache/duplication_matrix_hh_N=10.npz\n",
      "Loaded cached matrix from matrix_cache/elimination_matrix_hh_N=10.npz\n",
      "Loaded cached matrix from matrix_cache/duplication_matrix_hh_N=10.npz\n",
      "Loaded cached matrix from matrix_cache/elimination_matrix_hh_N=10.npz\n",
      "Loaded cached matrix from matrix_cache/duplication_matrix_hh_N=10.npz\n",
      "Loaded cached matrix from matrix_cache/elimination_matrix_hh_N=10.npz\n"
     ]
    },
    {
     "name": "stderr",
     "output_type": "stream",
     "text": [
      "pp_nonsparse: 100%|██████████| 5000/5000 [00:10<00:00, 497.33it/s]it/s] \n",
      "pc_nonsparse_0.999:  18%|█▊        | 915/5000 [00:02<00:08, 473.82it/s]"
     ]
    },
    {
     "name": "stdout",
     "output_type": "stream",
     "text": [
      "Loaded cached matrix from matrix_cache/duplication_matrix_hh_N=10.npz\n",
      "Loaded cached matrix from matrix_cache/elimination_matrix_hh_N=10.npz\n",
      "Loaded cached matrix from matrix_cache/duplication_matrix_hh_N=10.npz\n",
      "Loaded cached matrix from matrix_cache/elimination_matrix_hh_N=10.npz\n",
      "Loaded cached matrix from matrix_cache/duplication_matrix_hh_N=10.npz\n",
      "Loaded cached matrix from matrix_cache/elimination_matrix_hh_N=10.npz\n",
      "Loaded cached matrix from matrix_cache/duplication_matrix_hh_N=10.npz\n",
      "Loaded cached matrix from matrix_cache/elimination_matrix_hh_N=10.npz\n",
      "Loaded cached matrix from matrix_cache/duplication_matrix_hh_N=10.npz\n",
      "Loaded cached matrix from matrix_cache/elimination_matrix_hh_N=10.npz\n",
      "Loaded cached matrix from matrix_cache/duplication_matrix_hh_N=10.npz\n",
      "Loaded cached matrix from matrix_cache/elimination_matrix_hh_N=10.npz\n",
      "Loaded cached matrix from matrix_cache/duplication_matrix_hh_N=10.npz\n",
      "Loaded cached matrix from matrix_cache/elimination_matrix_hh_N=10.npz\n",
      "Loaded cached matrix from matrix_cache/duplication_matrix_hh_N=10.npz\n",
      "Loaded cached matrix from matrix_cache/elimination_matrix_hh_N=10.npz\n",
      "Loaded cached matrix from matrix_cache/duplication_matrix_hh_N=10.npz\n",
      "Loaded cached matrix from matrix_cache/elimination_matrix_hh_N=10.npz\n"
     ]
    },
    {
     "name": "stderr",
     "output_type": "stream",
     "text": [
      "pc_nonsparse_0.999:  24%|██▍       | 1209/5000 [00:03<00:18, 205.47it/s]"
     ]
    },
    {
     "name": "stdout",
     "output_type": "stream",
     "text": [
      "Loaded cached matrix from matrix_cache/duplication_matrix_hh_N=10.npz\n",
      "Loaded cached matrix from matrix_cache/elimination_matrix_hh_N=10.npz\n",
      "Loaded cached matrix from matrix_cache/duplication_matrix_hh_N=10.npz\n",
      "Loaded cached matrix from matrix_cache/elimination_matrix_hh_N=10.npz\n",
      "Loaded cached matrix from matrix_cache/duplication_matrix_hh_N=10.npz\n",
      "Loaded cached matrix from matrix_cache/elimination_matrix_hh_N=10.npz\n"
     ]
    },
    {
     "name": "stderr",
     "output_type": "stream",
     "text": [
      "pc_nonsparse_0.999:  32%|███▏      | 1583/5000 [00:06<00:21, 156.48it/s]"
     ]
    },
    {
     "name": "stdout",
     "output_type": "stream",
     "text": [
      "Loaded cached matrix from matrix_cache/duplication_matrix_hh_N=10.npz\n",
      "Loaded cached matrix from matrix_cache/elimination_matrix_hh_N=10.npz\n",
      "Loaded cached matrix from matrix_cache/duplication_matrix_hh_N=10.npz\n",
      "Loaded cached matrix from matrix_cache/elimination_matrix_hh_N=10.npz\n"
     ]
    },
    {
     "name": "stderr",
     "output_type": "stream",
     "text": [
      "pc_nonsparse_0.999:  32%|███▏      | 1624/5000 [00:06<00:19, 171.87it/s]"
     ]
    },
    {
     "name": "stdout",
     "output_type": "stream",
     "text": [
      "Loaded cached matrix from matrix_cache/duplication_matrix_hh_N=10.npz\n",
      "Loaded cached matrix from matrix_cache/elimination_matrix_hh_N=10.npz\n"
     ]
    },
    {
     "name": "stderr",
     "output_type": "stream",
     "text": [
      "pc_nonsparse_0.999:  35%|███▌      | 1750/5000 [00:07<00:23, 139.71it/s]"
     ]
    },
    {
     "name": "stdout",
     "output_type": "stream",
     "text": [
      "Loaded cached matrix from matrix_cache/duplication_matrix_hh_N=10.npz\n",
      "Loaded cached matrix from matrix_cache/elimination_matrix_hh_N=10.npz\n",
      "Loaded cached matrix from matrix_cache/duplication_matrix_hh_N=10.npz\n",
      "Loaded cached matrix from matrix_cache/elimination_matrix_hh_N=10.npz\n",
      "Loaded cached matrix from matrix_cache/duplication_matrix_hh_N=10.npz\n",
      "Loaded cached matrix from matrix_cache/elimination_matrix_hh_N=10.npz\n",
      "Loaded cached matrix from matrix_cache/duplication_matrix_hh_N=10.npz\n"
     ]
    },
    {
     "name": "stderr",
     "output_type": "stream",
     "text": [
      "pc_nonsparse_0.999:  38%|███▊      | 1891/5000 [00:08<00:14, 218.57it/s]"
     ]
    },
    {
     "name": "stdout",
     "output_type": "stream",
     "text": [
      "Loaded cached matrix from matrix_cache/elimination_matrix_hh_N=10.npz\n",
      "Loaded cached matrix from matrix_cache/duplication_matrix_hh_N=10.npz\n",
      "Loaded cached matrix from matrix_cache/elimination_matrix_hh_N=10.npz\n",
      "Loaded cached matrix from matrix_cache/duplication_matrix_hh_N=10.npz\n",
      "Loaded cached matrix from matrix_cache/elimination_matrix_hh_N=10.npz\n"
     ]
    },
    {
     "name": "stderr",
     "output_type": "stream",
     "text": [
      "pc_nonsparse_0.999:  19%|█▉        | 956/5000 [00:06<01:09, 58.54it/s] "
     ]
    },
    {
     "name": "stdout",
     "output_type": "stream",
     "text": [
      "Loaded cached matrix from matrix_cache/duplication_matrix_hh_N=10.npz\n",
      "Loaded cached matrix from matrix_cache/elimination_matrix_hh_N=10.npz\n"
     ]
    },
    {
     "name": "stderr",
     "output_type": "stream",
     "text": [
      "pc_nonsparse_0.999:   0%|          | 1/5000 [00:00<22:05,  3.77it/s]s]]"
     ]
    },
    {
     "name": "stdout",
     "output_type": "stream",
     "text": [
      "Loaded cached matrix from matrix_cache/duplication_matrix_hh_N=10.npz\n",
      "Loaded cached matrix from matrix_cache/elimination_matrix_hh_N=10.npz\n",
      "Loaded cached matrix from matrix_cache/duplication_matrix_hh_N=10.npz\n",
      "Loaded cached matrix from matrix_cache/elimination_matrix_hh_N=10.npz\n"
     ]
    },
    {
     "name": "stderr",
     "output_type": "stream",
     "text": [
      "pc_nonsparse_0.999:   1%|          | 44/5000 [00:01<02:51, 28.92it/s]s] "
     ]
    },
    {
     "name": "stdout",
     "output_type": "stream",
     "text": [
      "Loaded cached matrix from matrix_cache/duplication_matrix_hh_N=10.npz\n",
      "Loaded cached matrix from matrix_cache/elimination_matrix_hh_N=10.npz\n",
      "Loaded cached matrix from matrix_cache/duplication_matrix_hh_N=10.npz\n"
     ]
    },
    {
     "name": "stderr",
     "output_type": "stream",
     "text": [
      "pc_nonsparse_0.999:  15%|█▍        | 744/5000 [00:08<01:30, 46.86it/s]]]"
     ]
    },
    {
     "name": "stdout",
     "output_type": "stream",
     "text": [
      "Loaded cached matrix from matrix_cache/elimination_matrix_hh_N=10.npz\n",
      "Loaded cached matrix from matrix_cache/duplication_matrix_hh_N=10.npz\n",
      "Loaded cached matrix from matrix_cache/duplication_matrix_hh_N=10.npz\n",
      "Loaded cached matrix from matrix_cache/elimination_matrix_hh_N=10.npz\n",
      "Loaded cached matrix from matrix_cache/elimination_matrix_hh_N=10.npz\n"
     ]
    },
    {
     "name": "stderr",
     "output_type": "stream",
     "text": [
      "pc_nonsparse_0.999:  14%|█▍        | 722/5000 [00:07<00:50, 85.24it/s]]]"
     ]
    },
    {
     "name": "stdout",
     "output_type": "stream",
     "text": [
      "Loaded cached matrix from matrix_cache/duplication_matrix_hh_N=10.npz\n",
      "Loaded cached matrix from matrix_cache/elimination_matrix_hh_N=10.npz\n",
      "Loaded cached matrix from matrix_cache/duplication_matrix_hh_N=10.npz\n",
      "Loaded cached matrix from matrix_cache/elimination_matrix_hh_N=10.npz\n"
     ]
    },
    {
     "name": "stderr",
     "output_type": "stream",
     "text": [
      "pc_nonsparse_0.999:  15%|█▍        | 737/5000 [00:07<00:56, 75.82it/s]] "
     ]
    },
    {
     "name": "stdout",
     "output_type": "stream",
     "text": [
      "Loaded cached matrix from matrix_cache/duplication_matrix_hh_N=10.npz\n",
      "Loaded cached matrix from matrix_cache/elimination_matrix_hh_N=10.npz\n",
      "Loaded cached matrix from matrix_cache/duplication_matrix_hh_N=10.npz\n",
      "Loaded cached matrix from matrix_cache/elimination_matrix_hh_N=10.npz\n",
      "Loaded cached matrix from matrix_cache/duplication_matrix_hh_N=10.npz\n",
      "Loaded cached matrix from matrix_cache/elimination_matrix_hh_N=10.npz\n"
     ]
    },
    {
     "name": "stderr",
     "output_type": "stream",
     "text": [
      "pc_nonsparse_0.999:   1%|          | 28/5000 [00:00<01:42, 48.45it/s]]]"
     ]
    },
    {
     "name": "stdout",
     "output_type": "stream",
     "text": [
      "Loaded cached matrix from matrix_cache/duplication_matrix_hh_N=10.npz\n",
      "Loaded cached matrix from matrix_cache/elimination_matrix_hh_N=10.npz\n"
     ]
    },
    {
     "name": "stderr",
     "output_type": "stream",
     "text": [
      "pc_nonsparse_0.999:  24%|██▍       | 1210/5000 [00:10<00:41, 90.53it/s]"
     ]
    },
    {
     "name": "stdout",
     "output_type": "stream",
     "text": [
      "Loaded cached matrix from matrix_cache/duplication_matrix_hh_N=10.npz\n",
      "Loaded cached matrix from matrix_cache/elimination_matrix_hh_N=10.npz\n",
      "Loaded cached matrix from matrix_cache/duplication_matrix_hh_N=10.npz\n",
      "Loaded cached matrix from matrix_cache/elimination_matrix_hh_N=10.npz\n"
     ]
    },
    {
     "name": "stderr",
     "output_type": "stream",
     "text": [
      "pc_nonsparse_0.999:  32%|███▏      | 1594/5000 [00:12<00:36, 92.19it/s] "
     ]
    },
    {
     "name": "stdout",
     "output_type": "stream",
     "text": [
      "Loaded cached matrix from matrix_cache/duplication_matrix_hh_N=10.npz\n",
      "Loaded cached matrix from matrix_cache/elimination_matrix_hh_N=10.npz\n",
      "Loaded cached matrix from matrix_cache/duplication_matrix_hh_N=10.npz\n",
      "Loaded cached matrix from matrix_cache/duplication_matrix_hh_N=10.npz\n"
     ]
    },
    {
     "name": "stderr",
     "output_type": "stream",
     "text": [
      "pc_nonsparse_0.999:  24%|██▍       | 1199/5000 [00:11<00:47, 79.77it/s] "
     ]
    },
    {
     "name": "stdout",
     "output_type": "stream",
     "text": [
      "Loaded cached matrix from matrix_cache/elimination_matrix_hh_N=10.npz\n",
      "Loaded cached matrix from matrix_cache/duplication_matrix_hh_N=10.npz\n",
      "Loaded cached matrix from matrix_cache/elimination_matrix_hh_N=10.npz\n",
      "Loaded cached matrix from matrix_cache/elimination_matrix_hh_N=10.npz\n",
      "Loaded cached matrix from matrix_cache/duplication_matrix_hh_N=10.npz\n",
      "Loaded cached matrix from matrix_cache/elimination_matrix_hh_N=10.npz\n"
     ]
    },
    {
     "name": "stderr",
     "output_type": "stream",
     "text": [
      "pc_nonsparse_0.999:   4%|▎         | 184/5000 [00:03<02:35, 30.88it/s]] "
     ]
    },
    {
     "name": "stdout",
     "output_type": "stream",
     "text": [
      "Loaded cached matrix from matrix_cache/duplication_matrix_hh_N=10.npz\n",
      "Loaded cached matrix from matrix_cache/elimination_matrix_hh_N=10.npz\n"
     ]
    },
    {
     "name": "stderr",
     "output_type": "stream",
     "text": [
      "pc_nonsparse_0.999:   1%|          | 55/5000 [00:01<02:50, 29.05it/s]s]]"
     ]
    },
    {
     "name": "stdout",
     "output_type": "stream",
     "text": [
      "Loaded cached matrix from matrix_cache/duplication_matrix_hh_N=10.npz\n",
      "Loaded cached matrix from matrix_cache/elimination_matrix_hh_N=10.npz\n"
     ]
    },
    {
     "name": "stderr",
     "output_type": "stream",
     "text": [
      "pc_nonsparse_0.999:   4%|▍         | 206/5000 [00:04<02:51, 27.92it/s]]"
     ]
    },
    {
     "name": "stdout",
     "output_type": "stream",
     "text": [
      "Loaded cached matrix from matrix_cache/duplication_matrix_hh_N=10.npz\n",
      "Loaded cached matrix from matrix_cache/elimination_matrix_hh_N=10.npz\n",
      "Loaded cached matrix from matrix_cache/duplication_matrix_hh_N=10.npz\n",
      "Loaded cached matrix from matrix_cache/elimination_matrix_hh_N=10.npz\n"
     ]
    },
    {
     "name": "stderr",
     "output_type": "stream",
     "text": [
      "pc_nonsparse_0.999:  26%|██▌       | 1311/5000 [00:13<01:32, 39.99it/s]]"
     ]
    },
    {
     "name": "stdout",
     "output_type": "stream",
     "text": [
      "Loaded cached matrix from matrix_cache/duplication_matrix_hh_N=10.npz\n",
      "Loaded cached matrix from matrix_cache/elimination_matrix_hh_N=10.npz\n",
      "Loaded cached matrix from matrix_cache/duplication_matrix_hh_N=10.npz\n",
      "Loaded cached matrix from matrix_cache/elimination_matrix_hh_N=10.npz\n"
     ]
    },
    {
     "name": "stderr",
     "output_type": "stream",
     "text": [
      "pc_nonsparse_0.999:   1%|▏         | 66/5000 [00:01<01:14, 66.51it/s]]s]"
     ]
    },
    {
     "name": "stdout",
     "output_type": "stream",
     "text": [
      "Loaded cached matrix from matrix_cache/duplication_matrix_hh_N=10.npz\n",
      "Loaded cached matrix from matrix_cache/duplication_matrix_hh_N=10.npz\n",
      "Loaded cached matrix from matrix_cache/duplication_matrix_hh_N=10.npz\n",
      "Loaded cached matrix from matrix_cache/elimination_matrix_hh_N=10.npz\n",
      "Loaded cached matrix from matrix_cache/elimination_matrix_hh_N=10.npz\n",
      "Loaded cached matrix from matrix_cache/elimination_matrix_hh_N=10.npz\n",
      "Loaded cached matrix from matrix_cache/duplication_matrix_hh_N=10.npz\n",
      "Loaded cached matrix from matrix_cache/elimination_matrix_hh_N=10.npz\n",
      "Loaded cached matrix from matrix_cache/duplication_matrix_hh_N=10.npz\n",
      "Loaded cached matrix from matrix_cache/elimination_matrix_hh_N=10.npz\n",
      "Loaded cached matrix from matrix_cache/duplication_matrix_hh_N=10.npz\n"
     ]
    },
    {
     "name": "stderr",
     "output_type": "stream",
     "text": [
      "pc_nonsparse_0.999:   2%|▏         | 80/5000 [00:02<02:09, 37.87it/s]]] "
     ]
    },
    {
     "name": "stdout",
     "output_type": "stream",
     "text": [
      "Loaded cached matrix from matrix_cache/duplication_matrix_hh_N=10.npz\n",
      "Loaded cached matrix from matrix_cache/elimination_matrix_hh_N=10.npz\n",
      "Loaded cached matrix from matrix_cache/elimination_matrix_hh_N=10.npz\n"
     ]
    },
    {
     "name": "stderr",
     "output_type": "stream",
     "text": [
      "pc_nonsparse_0.999:   1%|▏         | 66/5000 [00:00<01:07, 73.63it/s]s]]"
     ]
    },
    {
     "name": "stdout",
     "output_type": "stream",
     "text": [
      "Loaded cached matrix from matrix_cache/duplication_matrix_hh_N=10.npz\n",
      "Loaded cached matrix from matrix_cache/elimination_matrix_hh_N=10.npz\n",
      "Loaded cached matrix from matrix_cache/duplication_matrix_hh_N=10.npz\n",
      "Loaded cached matrix from matrix_cache/elimination_matrix_hh_N=10.npz\n",
      "Loaded cached matrix from matrix_cache/duplication_matrix_hh_N=10.npz\n",
      "Loaded cached matrix from matrix_cache/elimination_matrix_hh_N=10.npz\n",
      "Loaded cached matrix from matrix_cache/duplication_matrix_hh_N=10.npz\n",
      "Loaded cached matrix from matrix_cache/elimination_matrix_hh_N=10.npz\n",
      "Loaded cached matrix from matrix_cache/duplication_matrix_hh_N=10.npz\n",
      "Loaded cached matrix from matrix_cache/elimination_matrix_hh_N=10.npz\n",
      "Loaded cached matrix from matrix_cache/duplication_matrix_hh_N=10.npz\n"
     ]
    },
    {
     "name": "stderr",
     "output_type": "stream",
     "text": [
      "pc_nonsparse_0.999:   3%|▎         | 156/5000 [00:01<00:38, 126.80it/s]]"
     ]
    },
    {
     "name": "stdout",
     "output_type": "stream",
     "text": [
      "Loaded cached matrix from matrix_cache/elimination_matrix_hh_N=10.npz\n"
     ]
    },
    {
     "name": "stderr",
     "output_type": "stream",
     "text": [
      "pc_nonsparse_0.999:  10%|▉         | 496/5000 [00:07<00:52, 86.44it/s]  "
     ]
    },
    {
     "name": "stdout",
     "output_type": "stream",
     "text": [
      "Loaded cached matrix from matrix_cache/duplication_matrix_hh_N=10.npz\n",
      "Loaded cached matrix from matrix_cache/elimination_matrix_hh_N=10.npz\n",
      "Loaded cached matrix from matrix_cache/duplication_matrix_hh_N=10.npz\n"
     ]
    },
    {
     "name": "stderr",
     "output_type": "stream",
     "text": [
      "pc_nonsparse_0.999:  10%|▉         | 476/5000 [00:08<00:46, 97.92it/s]  "
     ]
    },
    {
     "name": "stdout",
     "output_type": "stream",
     "text": [
      "Loaded cached matrix from matrix_cache/elimination_matrix_hh_N=10.npz\n",
      "Loaded cached matrix from matrix_cache/duplication_matrix_hh_N=10.npz\n",
      "Loaded cached matrix from matrix_cache/elimination_matrix_hh_N=10.npz\n"
     ]
    },
    {
     "name": "stderr",
     "output_type": "stream",
     "text": [
      "pc_nonsparse_0.999:  24%|██▍       | 1217/5000 [00:12<00:27, 135.76it/s]:10<00:44, 93.83it/s] "
     ]
    },
    {
     "name": "stdout",
     "output_type": "stream",
     "text": [
      "Loaded cached matrix from matrix_cache/duplication_matrix_hh_N=10.npz\n",
      "Loaded cached matrix from matrix_cache/elimination_matrix_hh_N=10.npz\n",
      "Loaded cached matrix from matrix_cache/duplication_matrix_hh_N=10.npz\n",
      "Loaded cached matrix from matrix_cache/elimination_matrix_hh_N=10.npz\n"
     ]
    },
    {
     "name": "stderr",
     "output_type": "stream",
     "text": [
      "pc_nonsparse_0.999:  45%|████▍     | 2231/5000 [00:24<00:26, 103.89it/s]"
     ]
    },
    {
     "name": "stdout",
     "output_type": "stream",
     "text": [
      "Loaded cached matrix from matrix_cache/duplication_matrix_hh_N=10.npz\n",
      "Loaded cached matrix from matrix_cache/duplication_matrix_hh_N=10.npz\n",
      "Loaded cached matrix from matrix_cache/elimination_matrix_hh_N=10.npz\n",
      "Loaded cached matrix from matrix_cache/duplication_matrix_hh_N=10.npz\n",
      "Loaded cached matrix from matrix_cache/elimination_matrix_hh_N=10.npz\n",
      "Loaded cached matrix from matrix_cache/elimination_matrix_hh_N=10.npz\n",
      "Loaded cached matrix from matrix_cache/duplication_matrix_hh_N=10.npz\n",
      "Loaded cached matrix from matrix_cache/duplication_matrix_hh_N=10.npz\n",
      "Loaded cached matrix from matrix_cache/elimination_matrix_hh_N=10.npz\n",
      "Loaded cached matrix from matrix_cache/elimination_matrix_hh_N=10.npz\n",
      "Loaded cached matrix from matrix_cache/duplication_matrix_hh_N=10.npz\n",
      "Loaded cached matrix from matrix_cache/duplication_matrix_hh_N=10.npz\n",
      "Loaded cached matrix from matrix_cache/elimination_matrix_hh_N=10.npz\n",
      "Loaded cached matrix from matrix_cache/duplication_matrix_hh_N=10.npz\n",
      "Loaded cached matrix from matrix_cache/elimination_matrix_hh_N=10.npz\n",
      "Loaded cached matrix from matrix_cache/elimination_matrix_hh_N=10.npz\n",
      "Loaded cached matrix from matrix_cache/duplication_matrix_hh_N=10.npz\n",
      "Loaded cached matrix from matrix_cache/elimination_matrix_hh_N=10.npz\n"
     ]
    },
    {
     "name": "stderr",
     "output_type": "stream",
     "text": [
      "pc_nonsparse_0.999:  30%|██▉       | 1495/5000 [00:13<00:11, 302.25it/s]"
     ]
    },
    {
     "name": "stdout",
     "output_type": "stream",
     "text": [
      "Loaded cached matrix from matrix_cache/duplication_matrix_hh_N=10.npz\n",
      "Loaded cached matrix from matrix_cache/elimination_matrix_hh_N=10.npz\n",
      "Loaded cached matrix from matrix_cache/duplication_matrix_hh_N=10.npz\n",
      "Loaded cached matrix from matrix_cache/elimination_matrix_hh_N=10.npz\n",
      "Loaded cached matrix from matrix_cache/duplication_matrix_hh_N=10.npz\n",
      "Loaded cached matrix from matrix_cache/duplication_matrix_hh_N=10.npz\n"
     ]
    },
    {
     "name": "stderr",
     "output_type": "stream",
     "text": [
      "pc_nonsparse_0.999:   0%|          | 2/5000 [00:00<04:29, 18.53it/s]t/s]"
     ]
    },
    {
     "name": "stdout",
     "output_type": "stream",
     "text": [
      "Loaded cached matrix from matrix_cache/elimination_matrix_hh_N=10.npz\n",
      "Loaded cached matrix from matrix_cache/elimination_matrix_hh_N=10.npz\n",
      "Loaded cached matrix from matrix_cache/duplication_matrix_hh_N=10.npz\n"
     ]
    },
    {
     "name": "stderr",
     "output_type": "stream",
     "text": [
      "pc_nonsparse_0.999:  35%|███▍      | 1727/5000 [00:16<00:34, 96.18it/s]]"
     ]
    },
    {
     "name": "stdout",
     "output_type": "stream",
     "text": [
      "Loaded cached matrix from matrix_cache/elimination_matrix_hh_N=10.npz\n",
      "Loaded cached matrix from matrix_cache/duplication_matrix_hh_N=10.npz\n",
      "Loaded cached matrix from matrix_cache/elimination_matrix_hh_N=10.npz\n",
      "Loaded cached matrix from matrix_cache/duplication_matrix_hh_N=10.npz\n",
      "Loaded cached matrix from matrix_cache/elimination_matrix_hh_N=10.npz\n"
     ]
    },
    {
     "name": "stderr",
     "output_type": "stream",
     "text": [
      "pc_nonsparse_0.999:   1%|          | 51/5000 [00:00<01:25, 57.64it/s]]s]"
     ]
    },
    {
     "name": "stdout",
     "output_type": "stream",
     "text": [
      "Loaded cached matrix from matrix_cache/duplication_matrix_hh_N=10.npz\n",
      "Loaded cached matrix from matrix_cache/elimination_matrix_hh_N=10.npz\n",
      "Loaded cached matrix from matrix_cache/duplication_matrix_hh_N=10.npz\n",
      "Loaded cached matrix from matrix_cache/elimination_matrix_hh_N=10.npz\n",
      "Loaded cached matrix from matrix_cache/duplication_matrix_hh_N=10.npz\n",
      "Loaded cached matrix from matrix_cache/duplication_matrix_hh_N=10.npz\n",
      "Loaded cached matrix from matrix_cache/duplication_matrix_hh_N=10.npz\n",
      "Loaded cached matrix from matrix_cache/elimination_matrix_hh_N=10.npz\n",
      "Loaded cached matrix from matrix_cache/duplication_matrix_hh_N=10.npz\n",
      "Loaded cached matrix from matrix_cache/elimination_matrix_hh_N=10.npz\n",
      "Loaded cached matrix from matrix_cache/duplication_matrix_hh_N=10.npz\n"
     ]
    },
    {
     "name": "stderr",
     "output_type": "stream",
     "text": [
      "pc_nonsparse_0.999:  79%|███████▉  | 3939/5000 [00:28<00:07, 141.55it/s]"
     ]
    },
    {
     "name": "stdout",
     "output_type": "stream",
     "text": [
      "Loaded cached matrix from matrix_cache/elimination_matrix_hh_N=10.npz\n",
      "Loaded cached matrix from matrix_cache/elimination_matrix_hh_N=10.npz\n",
      "Loaded cached matrix from matrix_cache/elimination_matrix_hh_N=10.npz\n",
      "Loaded cached matrix from matrix_cache/duplication_matrix_hh_N=10.npz\n",
      "Loaded cached matrix from matrix_cache/duplication_matrix_hh_N=10.npz\n",
      "Loaded cached matrix from matrix_cache/elimination_matrix_hh_N=10.npz\n",
      "Loaded cached matrix from matrix_cache/duplication_matrix_hh_N=10.npz\n",
      "Loaded cached matrix from matrix_cache/duplication_matrix_hh_N=10.npz\n",
      "Loaded cached matrix from matrix_cache/elimination_matrix_hh_N=10.npz\n",
      "Loaded cached matrix from matrix_cache/elimination_matrix_hh_N=10.npz\n",
      "Loaded cached matrix from matrix_cache/duplication_matrix_hh_N=10.npz\n",
      "Loaded cached matrix from matrix_cache/elimination_matrix_hh_N=10.npz\n",
      "Loaded cached matrix from matrix_cache/duplication_matrix_hh_N=10.npz\n"
     ]
    },
    {
     "name": "stderr",
     "output_type": "stream",
     "text": [
      "pc_nonsparse_0.999:  37%|███▋      | 1861/5000 [00:17<00:23, 131.22it/s]"
     ]
    },
    {
     "name": "stdout",
     "output_type": "stream",
     "text": [
      "Loaded cached matrix from matrix_cache/elimination_matrix_hh_N=10.npz\n",
      "Loaded cached matrix from matrix_cache/elimination_matrix_hh_N=10.npz\n",
      "Loaded cached matrix from matrix_cache/duplication_matrix_hh_N=10.npz\n",
      "Loaded cached matrix from matrix_cache/elimination_matrix_hh_N=10.npz\n",
      "Loaded cached matrix from matrix_cache/duplication_matrix_hh_N=10.npz\n",
      "Loaded cached matrix from matrix_cache/elimination_matrix_hh_N=10.npz\n",
      "Loaded cached matrix from matrix_cache/duplication_matrix_hh_N=10.npz\n",
      "Loaded cached matrix from matrix_cache/elimination_matrix_hh_N=10.npz\n",
      "Loaded cached matrix from matrix_cache/duplication_matrix_hh_N=10.npz\n"
     ]
    },
    {
     "name": "stderr",
     "output_type": "stream",
     "text": [
      "pc_nonsparse_0.999:  71%|███████   | 3559/5000 [00:28<00:05, 241.99it/s]"
     ]
    },
    {
     "name": "stdout",
     "output_type": "stream",
     "text": [
      "Loaded cached matrix from matrix_cache/duplication_matrix_hh_N=10.npz\n",
      "Loaded cached matrix from matrix_cache/elimination_matrix_hh_N=10.npz\n",
      "Loaded cached matrix from matrix_cache/duplication_matrix_hh_N=10.npz\n",
      "Loaded cached matrix from matrix_cache/duplication_matrix_hh_N=10.npz\n",
      "Loaded cached matrix from matrix_cache/elimination_matrix_hh_N=10.npz\n",
      "Loaded cached matrix from matrix_cache/elimination_matrix_hh_N=10.npz\n",
      "Loaded cached matrix from matrix_cache/duplication_matrix_hh_N=10.npz\n",
      "Loaded cached matrix from matrix_cache/elimination_matrix_hh_N=10.npz\n",
      "Loaded cached matrix from matrix_cache/duplication_matrix_hh_N=10.npz\n",
      "Loaded cached matrix from matrix_cache/elimination_matrix_hh_N=10.npz\n",
      "Loaded cached matrix from matrix_cache/duplication_matrix_hh_N=10.npz\n",
      "Loaded cached matrix from matrix_cache/elimination_matrix_hh_N=10.npz\n",
      "Loaded cached matrix from matrix_cache/duplication_matrix_hh_N=10.npz\n",
      "Loaded cached matrix from matrix_cache/duplication_matrix_hh_N=10.npz\n",
      "Loaded cached matrix from matrix_cache/elimination_matrix_hh_N=10.npz\n",
      "Loaded cached matrix from matrix_cache/elimination_matrix_hh_N=10.npz\n"
     ]
    },
    {
     "name": "stderr",
     "output_type": "stream",
     "text": [
      "pc_nonsparse_0.999:  41%|████      | 2034/5000 [00:21<00:26, 110.56it/s]"
     ]
    },
    {
     "name": "stdout",
     "output_type": "stream",
     "text": [
      "Loaded cached matrix from matrix_cache/duplication_matrix_hh_N=10.npz\n",
      "Loaded cached matrix from matrix_cache/elimination_matrix_hh_N=10.npz\n",
      "Loaded cached matrix from matrix_cache/duplication_matrix_hh_N=10.npz\n",
      "Loaded cached matrix from matrix_cache/elimination_matrix_hh_N=10.npz\n",
      "Loaded cached matrix from matrix_cache/duplication_matrix_hh_N=10.npz\n",
      "Loaded cached matrix from matrix_cache/elimination_matrix_hh_N=10.npz\n",
      "Loaded cached matrix from matrix_cache/duplication_matrix_hh_N=10.npz\n",
      "Loaded cached matrix from matrix_cache/duplication_matrix_hh_N=10.npz\n",
      "Loaded cached matrix from matrix_cache/elimination_matrix_hh_N=10.npz\n",
      "Loaded cached matrix from matrix_cache/duplication_matrix_hh_N=10.npz\n",
      "Loaded cached matrix from matrix_cache/elimination_matrix_hh_N=10.npz\n",
      "Loaded cached matrix from matrix_cache/elimination_matrix_hh_N=10.npz\n",
      "Loaded cached matrix from matrix_cache/elimination_matrix_hh_N=10.npz\n",
      "Loaded cached matrix from matrix_cache/duplication_matrix_hh_N=10.npz\n",
      "Loaded cached matrix from matrix_cache/duplication_matrix_hh_N=10.npz\n"
     ]
    },
    {
     "name": "stderr",
     "output_type": "stream",
     "text": [
      "pc_nonsparse_0.999:   3%|▎         | 150/5000 [00:01<00:18, 264.38it/s]]"
     ]
    },
    {
     "name": "stdout",
     "output_type": "stream",
     "text": [
      "Loaded cached matrix from matrix_cache/duplication_matrix_hh_N=10.npz\n",
      "Loaded cached matrix from matrix_cache/elimination_matrix_hh_N=10.npz\n",
      "Loaded cached matrix from matrix_cache/duplication_matrix_hh_N=10.npz\n",
      "Loaded cached matrix from matrix_cache/elimination_matrix_hh_N=10.npz\n",
      "Loaded cached matrix from matrix_cache/duplication_matrix_hh_N=10.npz\n",
      "Loaded cached matrix from matrix_cache/elimination_matrix_hh_N=10.npz\n",
      "Loaded cached matrix from matrix_cache/elimination_matrix_hh_N=10.npz\n",
      "Loaded cached matrix from matrix_cache/duplication_matrix_hh_N=10.npz\n",
      "Loaded cached matrix from matrix_cache/elimination_matrix_hh_N=10.npz\n",
      "Loaded cached matrix from matrix_cache/elimination_matrix_hh_N=10.npz\n",
      "Loaded cached matrix from matrix_cache/duplication_matrix_hh_N=10.npz\n",
      "Loaded cached matrix from matrix_cache/elimination_matrix_hh_N=10.npz\n",
      "Loaded cached matrix from matrix_cache/duplication_matrix_hh_N=10.npz\n",
      "Loaded cached matrix from matrix_cache/duplication_matrix_hh_N=10.npz\n",
      "Loaded cached matrix from matrix_cache/elimination_matrix_hh_N=10.npz\n",
      "Loaded cached matrix from matrix_cache/elimination_matrix_hh_N=10.npz\n"
     ]
    },
    {
     "name": "stderr",
     "output_type": "stream",
     "text": [
      "pc_nonsparse_0.999:   1%|          | 52/5000 [00:00<00:24, 198.10it/s]s] "
     ]
    },
    {
     "name": "stdout",
     "output_type": "stream",
     "text": [
      "Loaded cached matrix from matrix_cache/duplication_matrix_hh_N=10.npz\n",
      "Loaded cached matrix from matrix_cache/elimination_matrix_hh_N=10.npz\n",
      "Loaded cached matrix from matrix_cache/duplication_matrix_hh_N=10.npz\n",
      "Loaded cached matrix from matrix_cache/duplication_matrix_hh_N=10.npz\n",
      "Loaded cached matrix from matrix_cache/elimination_matrix_hh_N=10.npz\n",
      "Loaded cached matrix from matrix_cache/elimination_matrix_hh_N=10.npz\n",
      "Loaded cached matrix from matrix_cache/duplication_matrix_hh_N=10.npz\n"
     ]
    },
    {
     "name": "stderr",
     "output_type": "stream",
     "text": [
      "pc_nonsparse_0.999:   0%|          | 3/5000 [00:00<08:28,  9.83it/s]s] ]"
     ]
    },
    {
     "name": "stdout",
     "output_type": "stream",
     "text": [
      "Loaded cached matrix from matrix_cache/duplication_matrix_hh_N=10.npz\n",
      "Loaded cached matrix from matrix_cache/elimination_matrix_hh_N=10.npz\n",
      "Loaded cached matrix from matrix_cache/duplication_matrix_hh_N=10.npz\n",
      "Loaded cached matrix from matrix_cache/elimination_matrix_hh_N=10.npz\n",
      "Loaded cached matrix from matrix_cache/elimination_matrix_hh_N=10.npz\n",
      "Loaded cached matrix from matrix_cache/duplication_matrix_hh_N=10.npz\n",
      "Loaded cached matrix from matrix_cache/elimination_matrix_hh_N=10.npz\n",
      "Loaded cached matrix from matrix_cache/duplication_matrix_hh_N=10.npz\n",
      "Loaded cached matrix from matrix_cache/elimination_matrix_hh_N=10.npz\n"
     ]
    },
    {
     "name": "stderr",
     "output_type": "stream",
     "text": [
      "pc_nonsparse_0.999:   8%|▊         | 376/5000 [00:03<00:24, 188.05it/s]]s]"
     ]
    },
    {
     "name": "stdout",
     "output_type": "stream",
     "text": [
      "Loaded cached matrix from matrix_cache/duplication_matrix_hh_N=10.npz\n",
      "Loaded cached matrix from matrix_cache/duplication_matrix_hh_N=10.npz\n",
      "Loaded cached matrix from matrix_cache/elimination_matrix_hh_N=10.npz\n",
      "Loaded cached matrix from matrix_cache/duplication_matrix_hh_N=10.npz\n",
      "Loaded cached matrix from matrix_cache/elimination_matrix_hh_N=10.npz\n",
      "Loaded cached matrix from matrix_cache/elimination_matrix_hh_N=10.npz\n",
      "Loaded cached matrix from matrix_cache/duplication_matrix_hh_N=10.npz\n",
      "Loaded cached matrix from matrix_cache/duplication_matrix_hh_N=10.npz\n",
      "Loaded cached matrix from matrix_cache/elimination_matrix_hh_N=10.npz\n",
      "Loaded cached matrix from matrix_cache/duplication_matrix_hh_N=10.npz\n",
      "Loaded cached matrix from matrix_cache/elimination_matrix_hh_N=10.npz\n",
      "Loaded cached matrix from matrix_cache/elimination_matrix_hh_N=10.npz\n",
      "Loaded cached matrix from matrix_cache/duplication_matrix_hh_N=10.npz\n",
      "Loaded cached matrix from matrix_cache/duplication_matrix_hh_N=10.npz\n",
      "Loaded cached matrix from matrix_cache/duplication_matrix_hh_N=10.npz\n",
      "Loaded cached matrix from matrix_cache/elimination_matrix_hh_N=10.npz\n",
      "Loaded cached matrix from matrix_cache/elimination_matrix_hh_N=10.npz\n",
      "Loaded cached matrix from matrix_cache/duplication_matrix_hh_N=10.npz\n",
      "Loaded cached matrix from matrix_cache/elimination_matrix_hh_N=10.npz\n",
      "Loaded cached matrix from matrix_cache/elimination_matrix_hh_N=10.npz\n",
      "Loaded cached matrix from matrix_cache/duplication_matrix_hh_N=10.npz\n",
      "Loaded cached matrix from matrix_cache/elimination_matrix_hh_N=10.npz\n",
      "Loaded cached matrix from matrix_cache/duplication_matrix_hh_N=10.npz\n",
      "Loaded cached matrix from matrix_cache/elimination_matrix_hh_N=10.npz\n"
     ]
    },
    {
     "name": "stderr",
     "output_type": "stream",
     "text": [
      "pc_nonsparse_0.999:   9%|▉         | 470/5000 [00:04<00:25, 175.43it/s]]]"
     ]
    },
    {
     "name": "stdout",
     "output_type": "stream",
     "text": [
      "Loaded cached matrix from matrix_cache/duplication_matrix_hh_N=10.npz\n",
      "Loaded cached matrix from matrix_cache/elimination_matrix_hh_N=10.npz\n",
      "Loaded cached matrix from matrix_cache/duplication_matrix_hh_N=10.npz\n",
      "Loaded cached matrix from matrix_cache/elimination_matrix_hh_N=10.npz\n",
      "Loaded cached matrix from matrix_cache/duplication_matrix_hh_N=10.npz\n",
      "Loaded cached matrix from matrix_cache/elimination_matrix_hh_N=10.npz\n",
      "Loaded cached matrix from matrix_cache/duplication_matrix_hh_N=10.npz\n",
      "Loaded cached matrix from matrix_cache/elimination_matrix_hh_N=10.npz\n"
     ]
    },
    {
     "name": "stderr",
     "output_type": "stream",
     "text": [
      "pc_nonsparse_0.999:   3%|▎         | 141/5000 [00:01<00:28, 172.98it/s]]"
     ]
    },
    {
     "name": "stdout",
     "output_type": "stream",
     "text": [
      "Loaded cached matrix from matrix_cache/duplication_matrix_hh_N=10.npz\n",
      "Loaded cached matrix from matrix_cache/elimination_matrix_hh_N=10.npz\n",
      "Loaded cached matrix from matrix_cache/duplication_matrix_hh_N=10.npz\n",
      "Loaded cached matrix from matrix_cache/elimination_matrix_hh_N=10.npz\n",
      "Loaded cached matrix from matrix_cache/duplication_matrix_hh_N=10.npz\n",
      "Loaded cached matrix from matrix_cache/elimination_matrix_hh_N=10.npz\n",
      "Loaded cached matrix from matrix_cache/duplication_matrix_hh_N=10.npz\n",
      "Loaded cached matrix from matrix_cache/elimination_matrix_hh_N=10.npz\n",
      "Loaded cached matrix from matrix_cache/duplication_matrix_hh_N=10.npz\n",
      "Loaded cached matrix from matrix_cache/elimination_matrix_hh_N=10.npz\n"
     ]
    },
    {
     "name": "stderr",
     "output_type": "stream",
     "text": [
      "pc_nonsparse_0.999:  39%|███▉      | 1957/5000 [00:19<00:23, 128.10it/s]"
     ]
    },
    {
     "name": "stdout",
     "output_type": "stream",
     "text": [
      "Loaded cached matrix from matrix_cache/duplication_matrix_hh_N=10.npz\n",
      "Loaded cached matrix from matrix_cache/elimination_matrix_hh_N=10.npz\n",
      "Loaded cached matrix from matrix_cache/duplication_matrix_hh_N=10.npz\n",
      "Loaded cached matrix from matrix_cache/elimination_matrix_hh_N=10.npz\n",
      "Loaded cached matrix from matrix_cache/duplication_matrix_hh_N=10.npz\n",
      "Loaded cached matrix from matrix_cache/elimination_matrix_hh_N=10.npz\n",
      "Loaded cached matrix from matrix_cache/duplication_matrix_hh_N=10.npz\n",
      "Loaded cached matrix from matrix_cache/elimination_matrix_hh_N=10.npz\n",
      "Loaded cached matrix from matrix_cache/duplication_matrix_hh_N=10.npz\n",
      "Loaded cached matrix from matrix_cache/elimination_matrix_hh_N=10.npz\n",
      "Loaded cached matrix from matrix_cache/duplication_matrix_hh_N=10.npz\n",
      "Loaded cached matrix from matrix_cache/elimination_matrix_hh_N=10.npz\n",
      "Loaded cached matrix from matrix_cache/duplication_matrix_hh_N=10.npz\n"
     ]
    },
    {
     "name": "stderr",
     "output_type": "stream",
     "text": [
      "pc_nonsparse_0.999:   6%|▌         | 307/5000 [00:02<00:52, 88.85it/s] ]"
     ]
    },
    {
     "name": "stdout",
     "output_type": "stream",
     "text": [
      "Loaded cached matrix from matrix_cache/elimination_matrix_hh_N=10.npz\n",
      "Loaded cached matrix from matrix_cache/duplication_matrix_hh_N=10.npz\n",
      "Loaded cached matrix from matrix_cache/elimination_matrix_hh_N=10.npz\n"
     ]
    },
    {
     "name": "stderr",
     "output_type": "stream",
     "text": [
      "pc_nonsparse_0.999:  39%|███▊      | 1931/5000 [00:16<00:24, 127.53it/s]"
     ]
    },
    {
     "name": "stdout",
     "output_type": "stream",
     "text": [
      "Loaded cached matrix from matrix_cache/duplication_matrix_hh_N=10.npz\n",
      "Loaded cached matrix from matrix_cache/elimination_matrix_hh_N=10.npz\n",
      "Loaded cached matrix from matrix_cache/duplication_matrix_hh_N=10.npz\n",
      "Loaded cached matrix from matrix_cache/duplication_matrix_hh_N=10.npz\n",
      "Loaded cached matrix from matrix_cache/elimination_matrix_hh_N=10.npz\n",
      "Loaded cached matrix from matrix_cache/elimination_matrix_hh_N=10.npz\n",
      "Loaded cached matrix from matrix_cache/duplication_matrix_hh_N=10.npz\n",
      "Loaded cached matrix from matrix_cache/duplication_matrix_hh_N=10.npz\n",
      "Loaded cached matrix from matrix_cache/elimination_matrix_hh_N=10.npz\n",
      "Loaded cached matrix from matrix_cache/duplication_matrix_hh_N=10.npz\n",
      "Loaded cached matrix from matrix_cache/elimination_matrix_hh_N=10.npz\n"
     ]
    },
    {
     "name": "stderr",
     "output_type": "stream",
     "text": [
      "pc_nonsparse_0.999:  47%|████▋     | 2364/5000 [00:25<00:33, 78.38it/s]]"
     ]
    },
    {
     "name": "stdout",
     "output_type": "stream",
     "text": [
      "Loaded cached matrix from matrix_cache/duplication_matrix_hh_N=10.npz\n",
      "Loaded cached matrix from matrix_cache/elimination_matrix_hh_N=10.npz\n",
      "Loaded cached matrix from matrix_cache/elimination_matrix_hh_N=10.npzLoaded cached matrix from matrix_cache/duplication_matrix_hh_N=10.npz\n",
      "Loaded cached matrix from matrix_cache/elimination_matrix_hh_N=10.npz\n",
      "\n",
      "Loaded cached matrix from matrix_cache/duplication_matrix_hh_N=10.npz\n",
      "Loaded cached matrix from matrix_cache/elimination_matrix_hh_N=10.npz\n",
      "Loaded cached matrix from matrix_cache/duplication_matrix_hh_N=10.npz\n",
      "Loaded cached matrix from matrix_cache/elimination_matrix_hh_N=10.npz\n",
      "Loaded cached matrix from matrix_cache/duplication_matrix_hh_N=10.npz\n",
      "Loaded cached matrix from matrix_cache/elimination_matrix_hh_N=10.npz\n",
      "Loaded cached matrix from matrix_cache/duplication_matrix_hh_N=10.npz\n",
      "Loaded cached matrix from matrix_cache/elimination_matrix_hh_N=10.npz\n",
      "Loaded cached matrix from matrix_cache/duplication_matrix_hh_N=10.npz\n",
      "Loaded cached matrix from matrix_cache/duplication_matrix_hh_N=10.npz\n"
     ]
    },
    {
     "name": "stderr",
     "output_type": "stream",
     "text": [
      "pc_nonsparse_0.999:  57%|█████▋    | 2838/5000 [00:28<00:20, 103.48it/s]"
     ]
    },
    {
     "name": "stdout",
     "output_type": "stream",
     "text": [
      "Loaded cached matrix from matrix_cache/elimination_matrix_hh_N=10.npz\n",
      "Loaded cached matrix from matrix_cache/duplication_matrix_hh_N=10.npz\n",
      "Loaded cached matrix from matrix_cache/duplication_matrix_hh_N=10.npz\n",
      "Loaded cached matrix from matrix_cache/elimination_matrix_hh_N=10.npz\n",
      "Loaded cached matrix from matrix_cache/elimination_matrix_hh_N=10.npz\n",
      "Loaded cached matrix from matrix_cache/duplication_matrix_hh_N=10.npz\n",
      "Loaded cached matrix from matrix_cache/duplication_matrix_hh_N=10.npz\n",
      "Loaded cached matrix from matrix_cache/duplication_matrix_hh_N=10.npz\n",
      "Loaded cached matrix from matrix_cache/elimination_matrix_hh_N=10.npz\n",
      "Loaded cached matrix from matrix_cache/elimination_matrix_hh_N=10.npz\n",
      "Loaded cached matrix from matrix_cache/duplication_matrix_hh_N=10.npz\n",
      "Loaded cached matrix from matrix_cache/elimination_matrix_hh_N=10.npz\n",
      "Loaded cached matrix from matrix_cache/duplication_matrix_hh_N=10.npz\n",
      "Loaded cached matrix from matrix_cache/duplication_matrix_hh_N=10.npz\n",
      "Loaded cached matrix from matrix_cache/elimination_matrix_hh_N=10.npz\n",
      "Loaded cached matrix from matrix_cache/elimination_matrix_hh_N=10.npz\n",
      "Loaded cached matrix from matrix_cache/duplication_matrix_hh_N=10.npz\n",
      "Loaded cached matrix from matrix_cache/elimination_matrix_hh_N=10.npz\n",
      "Loaded cached matrix from matrix_cache/duplication_matrix_hh_N=10.npz\n",
      "Loaded cached matrix from matrix_cache/elimination_matrix_hh_N=10.npz\n"
     ]
    },
    {
     "name": "stderr",
     "output_type": "stream",
     "text": [
      "pc_nonsparse_0.999:  19%|█▉        | 966/5000 [00:07<00:48, 83.38it/s] ]"
     ]
    },
    {
     "name": "stdout",
     "output_type": "stream",
     "text": [
      "Loaded cached matrix from matrix_cache/duplication_matrix_hh_N=10.npz\n",
      "Loaded cached matrix from matrix_cache/elimination_matrix_hh_N=10.npz\n",
      "Loaded cached matrix from matrix_cache/elimination_matrix_hh_N=10.npz\n",
      "Loaded cached matrix from matrix_cache/duplication_matrix_hh_N=10.npz\n",
      "Loaded cached matrix from matrix_cache/elimination_matrix_hh_N=10.npz\n",
      "Loaded cached matrix from matrix_cache/duplication_matrix_hh_N=10.npz\n",
      "Loaded cached matrix from matrix_cache/elimination_matrix_hh_N=10.npz\n",
      "Loaded cached matrix from matrix_cache/duplication_matrix_hh_N=10.npz\n",
      "Loaded cached matrix from matrix_cache/elimination_matrix_hh_N=10.npz\n",
      "Loaded cached matrix from matrix_cache/elimination_matrix_hh_N=10.npz\n",
      "Loaded cached matrix from matrix_cache/duplication_matrix_hh_N=10.npz\n"
     ]
    },
    {
     "name": "stderr",
     "output_type": "stream",
     "text": [
      "pc_nonsparse_0.999:  58%|█████▊    | 2914/5000 [00:29<00:25, 81.13it/s] "
     ]
    },
    {
     "name": "stdout",
     "output_type": "stream",
     "text": [
      "Loaded cached matrix from matrix_cache/elimination_matrix_hh_N=10.npz\n",
      "Loaded cached matrix from matrix_cache/duplication_matrix_hh_N=10.npz\n",
      "Loaded cached matrix from matrix_cache/duplication_matrix_hh_N=10.npz\n",
      "Loaded cached matrix from matrix_cache/duplication_matrix_hh_N=10.npz\n",
      "Loaded cached matrix from matrix_cache/elimination_matrix_hh_N=10.npz\n",
      "Loaded cached matrix from matrix_cache/elimination_matrix_hh_N=10.npz\n",
      "Loaded cached matrix from matrix_cache/duplication_matrix_hh_N=10.npz\n",
      "Loaded cached matrix from matrix_cache/duplication_matrix_hh_N=10.npz\n",
      "Loaded cached matrix from matrix_cache/elimination_matrix_hh_N=10.npz\n",
      "Loaded cached matrix from matrix_cache/duplication_matrix_hh_N=10.npz\n",
      "Loaded cached matrix from matrix_cache/elimination_matrix_hh_N=10.npz\n"
     ]
    },
    {
     "name": "stderr",
     "output_type": "stream",
     "text": [
      "pc_nonsparse_0.999: 100%|██████████| 5000/5000 [00:36<00:00, 136.86it/s]\n",
      "pc_nonsparse_0.999:  18%|█▊        | 884/5000 [00:07<00:46, 88.12it/s]s]"
     ]
    },
    {
     "name": "stdout",
     "output_type": "stream",
     "text": [
      "Loaded cached matrix from matrix_cache/elimination_matrix_hh_N=10.npz\n",
      "Loaded cached matrix from matrix_cache/duplication_matrix_hh_N=10.npz\n",
      "Loaded cached matrix from matrix_cache/elimination_matrix_hh_N=10.npz\n",
      "Loaded cached matrix from matrix_cache/elimination_matrix_hh_N=10.npz\n",
      "Loaded cached matrix from matrix_cache/duplication_matrix_hh_N=10.npz\n",
      "Loaded cached matrix from matrix_cache/elimination_matrix_hh_N=10.npz\n"
     ]
    },
    {
     "name": "stderr",
     "output_type": "stream",
     "text": [
      "pc_nonsparse_0.999:  64%|██████▍   | 3188/5000 [00:29<00:15, 116.55it/s]"
     ]
    },
    {
     "name": "stdout",
     "output_type": "stream",
     "text": [
      "Loaded cached matrix from matrix_cache/duplication_matrix_hh_N=10.npz\n",
      "Loaded cached matrix from matrix_cache/elimination_matrix_hh_N=10.npz\n",
      "Loaded cached matrix from matrix_cache/duplication_matrix_hh_N=10.npz\n",
      "Loaded cached matrix from matrix_cache/elimination_matrix_hh_N=10.npz\n",
      "Loaded cached matrix from matrix_cache/duplication_matrix_hh_N=10.npz\n",
      "Loaded cached matrix from matrix_cache/elimination_matrix_hh_N=10.npz\n"
     ]
    },
    {
     "name": "stderr",
     "output_type": "stream",
     "text": [
      "pc_nonsparse_0.999:   2%|▏         | 122/5000 [00:01<00:41, 117.49it/s]]"
     ]
    },
    {
     "name": "stdout",
     "output_type": "stream",
     "text": [
      "Loaded cached matrix from matrix_cache/duplication_matrix_hh_N=10.npz\n",
      "Loaded cached matrix from matrix_cache/elimination_matrix_hh_N=10.npz\n",
      "Loaded cached matrix from matrix_cache/duplication_matrix_hh_N=10.npz\n",
      "Loaded cached matrix from matrix_cache/elimination_matrix_hh_N=10.npz\n",
      "Loaded cached matrix from matrix_cache/duplication_matrix_hh_N=10.npz\n",
      "Loaded cached matrix from matrix_cache/elimination_matrix_hh_N=10.npz\n"
     ]
    },
    {
     "name": "stderr",
     "output_type": "stream",
     "text": [
      "pc_nonsparse_0.999:   6%|▋         | 322/5000 [00:03<00:32, 143.28it/s]]"
     ]
    },
    {
     "name": "stdout",
     "output_type": "stream",
     "text": [
      "Loaded cached matrix from matrix_cache/duplication_matrix_hh_N=10.npz\n",
      "Loaded cached matrix from matrix_cache/elimination_matrix_hh_N=10.npz\n",
      "Loaded cached matrix from matrix_cache/duplication_matrix_hh_N=10.npz\n",
      "Loaded cached matrix from matrix_cache/elimination_matrix_hh_N=10.npz\n",
      "Loaded cached matrix from matrix_cache/duplication_matrix_hh_N=10.npz\n",
      "Loaded cached matrix from matrix_cache/elimination_matrix_hh_N=10.npz\n",
      "Loaded cached matrix from matrix_cache/duplication_matrix_hh_N=10.npz\n",
      "Loaded cached matrix from matrix_cache/elimination_matrix_hh_N=10.npz\n",
      "Loaded cached matrix from matrix_cache/duplication_matrix_hh_N=10.npz\n"
     ]
    },
    {
     "name": "stderr",
     "output_type": "stream",
     "text": [
      "pc_nonsparse_0.999:  58%|█████▊    | 2895/5000 [00:22<00:06, 323.24it/s]]"
     ]
    },
    {
     "name": "stdout",
     "output_type": "stream",
     "text": [
      "Loaded cached matrix from matrix_cache/elimination_matrix_hh_N=10.npz\n",
      "Loaded cached matrix from matrix_cache/duplication_matrix_hh_N=10.npz\n",
      "Loaded cached matrix from matrix_cache/elimination_matrix_hh_N=10.npz\n",
      "Loaded cached matrix from matrix_cache/duplication_matrix_hh_N=10.npz\n",
      "Loaded cached matrix from matrix_cache/elimination_matrix_hh_N=10.npz\n",
      "Loaded cached matrix from matrix_cache/duplication_matrix_hh_N=10.npz\n",
      "Loaded cached matrix from matrix_cache/elimination_matrix_hh_N=10.npz\n",
      "Loaded cached matrix from matrix_cache/duplication_matrix_hh_N=10.npz\n",
      "Loaded cached matrix from matrix_cache/elimination_matrix_hh_N=10.npz\n",
      "Loaded cached matrix from matrix_cache/duplication_matrix_hh_N=10.npz\n",
      "Loaded cached matrix from matrix_cache/elimination_matrix_hh_N=10.npz\n",
      "Loaded cached matrix from matrix_cache/duplication_matrix_hh_N=10.npz\n",
      "Loaded cached matrix from matrix_cache/elimination_matrix_hh_N=10.npz\n",
      "Loaded cached matrix from matrix_cache/duplication_matrix_hh_N=10.npz\n",
      "Loaded cached matrix from matrix_cache/elimination_matrix_hh_N=10.npz\n"
     ]
    },
    {
     "name": "stderr",
     "output_type": "stream",
     "text": [
      "pc_nonsparse_0.999:  53%|█████▎    | 2636/5000 [00:24<00:15, 148.95it/s]"
     ]
    },
    {
     "name": "stdout",
     "output_type": "stream",
     "text": [
      "Loaded cached matrix from matrix_cache/duplication_matrix_hh_N=10.npz\n",
      "Loaded cached matrix from matrix_cache/elimination_matrix_hh_N=10.npz\n",
      "Loaded cached matrix from matrix_cache/duplication_matrix_hh_N=10.npz\n",
      "Loaded cached matrix from matrix_cache/elimination_matrix_hh_N=10.npz\n",
      "Loaded cached matrix from matrix_cache/duplication_matrix_hh_N=10.npz\n",
      "Loaded cached matrix from matrix_cache/elimination_matrix_hh_N=10.npz\n"
     ]
    },
    {
     "name": "stderr",
     "output_type": "stream",
     "text": [
      "pc_nonsparse_0.999:  94%|█████████▍| 4703/5000 [00:37<00:02, 125.96it/s]"
     ]
    },
    {
     "name": "stdout",
     "output_type": "stream",
     "text": [
      "Loaded cached matrix from matrix_cache/duplication_matrix_hh_N=10.npz\n",
      "Loaded cached matrix from matrix_cache/elimination_matrix_hh_N=10.npz\n",
      "Loaded cached matrix from matrix_cache/duplication_matrix_hh_N=10.npz\n",
      "Loaded cached matrix from matrix_cache/elimination_matrix_hh_N=10.npz\n",
      "Loaded cached matrix from matrix_cache/duplication_matrix_hh_N=10.npz\n",
      "Loaded cached matrix from matrix_cache/elimination_matrix_hh_N=10.npz\n",
      "Loaded cached matrix from matrix_cache/duplication_matrix_hh_N=10.npz\n",
      "Loaded cached matrix from matrix_cache/elimination_matrix_hh_N=10.npz\n",
      "Loaded cached matrix from matrix_cache/duplication_matrix_hh_N=10.npz\n",
      "Loaded cached matrix from matrix_cache/duplication_matrix_hh_N=10.npz\n",
      "Loaded cached matrix from matrix_cache/elimination_matrix_hh_N=10.npz\n",
      "Loaded cached matrix from matrix_cache/duplication_matrix_hh_N=10.npz\n",
      "Loaded cached matrix from matrix_cache/elimination_matrix_hh_N=10.npz\n",
      "Loaded cached matrix from matrix_cache/duplication_matrix_hh_N=10.npz\n",
      "Loaded cached matrix from matrix_cache/elimination_matrix_hh_N=10.npz\n",
      "Loaded cached matrix from matrix_cache/elimination_matrix_hh_N=10.npz\n",
      "Loaded cached matrix from matrix_cache/duplication_matrix_hh_N=10.npz\n",
      "Loaded cached matrix from matrix_cache/duplication_matrix_hh_N=10.npz\n",
      "Loaded cached matrix from matrix_cache/elimination_matrix_hh_N=10.npz\n",
      "Loaded cached matrix from matrix_cache/elimination_matrix_hh_N=10.npz\n",
      "Loaded cached matrix from matrix_cache/duplication_matrix_hh_N=10.npz\n",
      "Loaded cached matrix from matrix_cache/elimination_matrix_hh_N=10.npz\n",
      "Loaded cached matrix from matrix_cache/duplication_matrix_hh_N=10.npz\n"
     ]
    },
    {
     "name": "stderr",
     "output_type": "stream",
     "text": [
      "pc_nonsparse_0.999: 100%|██████████| 5000/5000 [00:39<00:00, 126.61it/s]\n",
      "pc_nonsparse_0.999:  15%|█▌        | 769/5000 [00:06<00:31, 134.48it/s]]"
     ]
    },
    {
     "name": "stdout",
     "output_type": "stream",
     "text": [
      "Loaded cached matrix from matrix_cache/elimination_matrix_hh_N=10.npz\n",
      "Loaded cached matrix from matrix_cache/duplication_matrix_hh_N=10.npz\n"
     ]
    },
    {
     "name": "stderr",
     "output_type": "stream",
     "text": [
      "pc_nonsparse_0.999: 100%|██████████| 5000/5000 [00:38<00:00, 129.18it/s]\n"
     ]
    },
    {
     "name": "stdout",
     "output_type": "stream",
     "text": [
      "Loaded cached matrix from matrix_cache/elimination_matrix_hh_N=10.npz\n",
      "Loaded cached matrix from matrix_cache/duplication_matrix_hh_N=10.npz\n",
      "Loaded cached matrix from matrix_cache/elimination_matrix_hh_N=10.npz\n",
      "Loaded cached matrix from matrix_cache/duplication_matrix_hh_N=10.npz\n",
      "Loaded cached matrix from matrix_cache/elimination_matrix_hh_N=10.npz\n",
      "Loaded cached matrix from matrix_cache/duplication_matrix_hh_N=10.npz\n",
      "Loaded cached matrix from matrix_cache/duplication_matrix_hh_N=10.npz\n",
      "Loaded cached matrix from matrix_cache/elimination_matrix_hh_N=10.npz\n",
      "Loaded cached matrix from matrix_cache/duplication_matrix_hh_N=10.npz\n"
     ]
    },
    {
     "name": "stderr",
     "output_type": "stream",
     "text": [
      "pc_nonsparse_0.999:   0%|          | 0/5000 [00:00<?, ?it/s] 151.63it/s]"
     ]
    },
    {
     "name": "stdout",
     "output_type": "stream",
     "text": [
      "Loaded cached matrix from matrix_cache/elimination_matrix_hh_N=10.npz\n",
      "Loaded cached matrix from matrix_cache/elimination_matrix_hh_N=10.npz\n"
     ]
    },
    {
     "name": "stderr",
     "output_type": "stream",
     "text": [
      "pc_nonsparse_0.999:  21%|██▏       | 1071/5000 [00:08<00:14, 267.33it/s]"
     ]
    },
    {
     "name": "stdout",
     "output_type": "stream",
     "text": [
      "Loaded cached matrix from matrix_cache/duplication_matrix_hh_N=10.npz\n",
      "Loaded cached matrix from matrix_cache/elimination_matrix_hh_N=10.npz\n",
      "Loaded cached matrix from matrix_cache/duplication_matrix_hh_N=10.npz\n",
      "Loaded cached matrix from matrix_cache/elimination_matrix_hh_N=10.npz\n",
      "Loaded cached matrix from matrix_cache/duplication_matrix_hh_N=10.npz\n",
      "Loaded cached matrix from matrix_cache/elimination_matrix_hh_N=10.npz\n"
     ]
    },
    {
     "name": "stderr",
     "output_type": "stream",
     "text": [
      "pc_nonsparse_0.999:  36%|███▋      | 1813/5000 [00:12<00:18, 171.85it/s]]"
     ]
    },
    {
     "name": "stdout",
     "output_type": "stream",
     "text": [
      "Loaded cached matrix from matrix_cache/duplication_matrix_hh_N=10.npz\n",
      "Loaded cached matrix from matrix_cache/elimination_matrix_hh_N=10.npz\n",
      "Loaded cached matrix from matrix_cache/duplication_matrix_hh_N=10.npz\n",
      "Loaded cached matrix from matrix_cache/elimination_matrix_hh_N=10.npz\n",
      "Loaded cached matrix from matrix_cache/duplication_matrix_hh_N=10.npz\n",
      "Loaded cached matrix from matrix_cache/elimination_matrix_hh_N=10.npz\n"
     ]
    },
    {
     "name": "stderr",
     "output_type": "stream",
     "text": [
      "pc_nonsparse_0.999: 100%|██████████| 5000/5000 [00:40<00:00, 122.74it/s]\n",
      "pc_nonsparse_0.999: 100%|██████████| 5000/5000 [00:34<00:00, 144.57it/s]\n",
      "pc_nonsparse_0.999: 100%|██████████| 5000/5000 [00:43<00:00, 114.62it/s]\n",
      "pc_nonsparse_0.999: 100%|██████████| 5000/5000 [00:42<00:00, 116.43it/s]\n",
      "pc_nonsparse_0.999: 100%|██████████| 5000/5000 [00:38<00:00, 128.44it/s]\n",
      "pc_nonsparse_0.999: 100%|██████████| 5000/5000 [00:40<00:00, 123.15it/s]\n",
      "pc_nonsparse_0.999: 100%|██████████| 5000/5000 [00:38<00:00, 128.59it/s]\n",
      "pc_nonsparse_0.999: 100%|██████████| 5000/5000 [00:32<00:00, 154.96it/s]\n",
      "pc_nonsparse_0.999: 100%|██████████| 5000/5000 [00:35<00:00, 141.79it/s]\n",
      "pc_nonsparse_0.999: 100%|██████████| 5000/5000 [00:37<00:00, 134.19it/s]]\n",
      "pc_nonsparse_0.999: 100%|██████████| 5000/5000 [00:39<00:00, 127.18it/s]\n",
      "pc_nonsparse_0.999: 100%|██████████| 5000/5000 [00:40<00:00, 123.17it/s]\n",
      "pc_nonsparse_0.999: 100%|██████████| 5000/5000 [00:34<00:00, 144.37it/s]s]\n",
      "pc_nonsparse_0.999: 100%|██████████| 5000/5000 [00:33<00:00, 148.56it/s]\n",
      "pc_nonsparse_0.999: 100%|████���█████| 5000/5000 [00:36<00:00, 136.39it/s]\n",
      "pc_nonsparse_0.999: 100%|██████████| 5000/5000 [00:33<00:00, 151.01it/s]\n",
      "pc_nonsparse_0.999: 100%|██████████| 5000/5000 [00:39<00:00, 127.10it/s]\n",
      "pc_nonsparse_0.999: 100%|██████████| 5000/5000 [00:34<00:00, 143.34it/s]\n",
      "pc_nonsparse_0.999: 100%|██████████| 5000/5000 [00:36<00:00, 135.99it/s]\n",
      "pc_nonsparse_0.999: 100%|██████████| 5000/5000 [00:34<00:00, 145.80it/s]\n",
      "pc_nonsparse_0.999: 100%|██████████| 5000/5000 [00:26<00:00, 188.21it/s]s]\n",
      "pc_nonsparse_0.999: 100%|██████████| 5000/5000 [00:27<00:00, 183.90it/s]s]\n",
      "pc_nonsparse_0.999: 100%|██████████| 5000/5000 [00:26<00:00, 188.44it/s]s]\n",
      "pc_nonsparse_0.999: 100%|██████████| 5000/5000 [00:30<00:00, 164.54it/s]\n",
      "pc_nonsparse_0.999: 100%|██████████| 5000/5000 [00:30<00:00, 163.17it/s]\n",
      "pc_nonsparse_0.999: 100%|██████████| 5000/5000 [00:29<00:00, 168.47it/s]\n",
      "pc_nonsparse_0.999: 100%|██████████| 5000/5000 [00:27<00:00, 180.50it/s]\n",
      "pc_nonsparse_0.999: 100%|██████████| 5000/5000 [00:27<00:00, 179.54it/s]\n",
      "pc_nonsparse_0.999: 100%|██████████| 5000/5000 [00:30<00:00, 164.81it/s]\n",
      "pc_nonsparse_0.999: 100%|██████████| 5000/5000 [00:30<00:00, 163.96it/s]\n",
      "pc_nonsparse_0.999: 100%|██████████| 5000/5000 [00:26<00:00, 190.42it/s]\n",
      "pc_nonsparse_0.999: 100%|██████████| 5000/5000 [00:21<00:00, 230.30it/s]\n",
      "pc_nonsparse_0.999: 100%|██████████| 5000/5000 [00:28<00:00, 177.53it/s]\n",
      "pc_nonsparse_0.999: 100%|██████████| 5000/5000 [00:29<00:00, 170.33it/s]\n",
      "pc_nonsparse_0.999: 100%|██████████| 5000/5000 [00:29<00:00, 170.01it/s]\n",
      "pc_nonsparse_0.999: 100%|██████████| 5000/5000 [00:29<00:00, 171.53it/s]\n",
      "pc_nonsparse_0.999: 100%|██████████| 5000/5000 [00:28<00:00, 175.74it/s]\n",
      "pc_nonsparse_0.999: 100%|██████████| 5000/5000 [00:32<00:00, 155.13it/s]\n",
      "pc_nonsparse_0.999: 100%|██████████| 5000/5000 [00:29<00:00, 171.39it/s]\n",
      "pc_nonsparse_0.999: 100%|██████████| 5000/5000 [00:27<00:00, 179.97it/s]\n",
      "pc_nonsparse_0.999: 100%|██████████| 5000/5000 [00:29<00:00, 170.34it/s]\n",
      "pc_nonsparse_0.999: 100%|██████████| 5000/5000 [00:30<00:00, 165.05it/s]\n",
      "pc_nonsparse_0.999: 100%|██████████| 5000/5000 [00:28<00:00, 176.72it/s]\n",
      "pc_nonsparse_0.999: 100%|██████████| 5000/5000 [00:28<00:00, 175.56it/s]\n",
      "pc_nonsparse_0.999: 100%|██████████| 5000/5000 [00:27<00:00, 182.68it/s]\n",
      "pc_nonsparse_0.999: 100%|██████████| 5000/5000 [00:30<00:00, 165.39it/s]\n",
      "pc_nonsparse_0.999: 100%|██████████| 5000/5000 [00:30<00:00, 164.38it/s]s]\n",
      "pc_nonsparse_0.999: 100%|██████████| 5000/5000 [00:27<00:00, 179.42it/s]\n",
      "pc_nonsparse_0.999: 100%|██████████| 5000/5000 [00:32<00:00, 155.06it/s]\n",
      "pc_nonsparse_0.999: 100%|██████████| 5000/5000 [00:29<00:00, 172.41it/s]\n",
      "pc_nonsparse_0.999: 100%|██████████| 5000/5000 [00:25<00:00, 192.90it/s]\n",
      "pc_nonsparse_0.999: 100%|██████████| 5000/5000 [00:26<00:00, 188.53it/s]\n",
      "pc_nonsparse_0.999: 100%|██████████| 5000/5000 [00:27<00:00, 182.49it/s]\n",
      "pc_nonsparse_0.999: 100%|██████████| 5000/5000 [00:25<00:00, 194.71it/s]\n",
      "pc_nonsparse_0.999: 100%|██████████| 5000/5000 [00:27<00:00, 184.15it/s]\n",
      "pc_nonsparse_0.999: 100%|██████████| 5000/5000 [00:22<00:00, 220.76it/s]\n",
      "pc_nonsparse_0.999: 100%|██████████| 5000/5000 [00:26<00:00, 187.60it/s]\n",
      "pc_nonsparse_0.999: 100%|██████████| 5000/5000 [00:27<00:00, 182.04it/s]\n",
      "pc_nonsparse_0.999: 100%|██████████| 5000/5000 [00:26<00:00, 187.32it/s]\n",
      "pc_nonsparse_0.999: 100%|██████████| 5000/5000 [00:26<00:00, 191.88it/s]\n",
      "pc_nonsparse_0.999: 100%|██████████| 5000/5000 [00:29<00:00, 171.17it/s]\n",
      "pc_nonsparse_0.999: 100%|██████████| 5000/5000 [00:29<00:00, 168.99it/s]\n",
      "pc_nonsparse_0.999: 100%|██████████| 5000/5000 [00:25<00:00, 193.02it/s]\n",
      "pc_nonsparse_0.999: 100%|██████████| 5000/5000 [00:26<00:00, 188.52it/s]\n",
      "pc_nonsparse_0.999: 100%|██████████| 5000/5000 [00:23<00:00, 215.29it/s]\n",
      "pc_nonsparse_0.999: 100%|██████████| 5000/5000 [00:23<00:00, 215.98it/s]\n",
      "pc_nonsparse_0.999: 100%|██████████| 5000/5000 [00:24<00:00, 201.33it/s]\n",
      "pc_nonsparse_0.999: 100%|██████████| 5000/5000 [00:25<00:00, 194.23it/s]\n",
      "pc_nonsparse_0.999: 100%|██████████| 5000/5000 [00:27<00:00, 182.74it/s]\n",
      "pc_nonsparse_0.999: 100%|██████████| 5000/5000 [00:25<00:00, 197.42it/s]\n",
      "pc_nonsparse_0.999: 100%|██████████| 5000/5000 [00:25<00:00, 197.87it/s]s]\n",
      "pc_nonsparse_0.999: 100%|██████████| 5000/5000 [00:28<00:00, 172.85it/s]\n",
      "pc_nonsparse_0.999: 100%|██████████| 5000/5000 [00:24<00:00, 204.53it/s]\n",
      "pc_nonsparse_0.999: 100%|██████████| 5000/5000 [00:24<00:00, 201.40it/s]\n",
      "pc_nonsparse_0.999: 100%|██████████| 5000/5000 [00:27<00:00, 179.33it/s]\n",
      "pc_nonsparse_0.999: 100%|██████████| 5000/5000 [00:25<00:00, 199.24it/s]\n",
      "pc_nonsparse_0.999: 100%|██████████| 5000/5000 [00:23<00:00, 216.54it/s]\n",
      "pc_nonsparse_0.999: 100%|██████████| 5000/5000 [00:26<00:00, 188.17it/s]\n",
      "pc_nonsparse_0.999: 100%|██████████| 5000/5000 [00:25<00:00, 194.72it/s]]\n",
      "pc_nonsparse_0.999: 100%|██████████| 5000/5000 [00:19<00:00, 255.87it/s]\n",
      "pc_nonsparse_0.999: 100%|██████████| 5000/5000 [00:26<00:00, 189.69it/s]\n",
      "pc_nonsparse_0.999: 100%|██████████| 5000/5000 [00:25<00:00, 199.11it/s]\n",
      "pc_nonsparse_0.999: 100%|██████████| 5000/5000 [00:21<00:00, 236.05it/s]\n",
      "pc_nonsparse_0.999: 100%|██████████| 5000/5000 [00:25<00:00, 199.02it/s]\n",
      "pc_nonsparse_0.999: 100%|██████████| 5000/5000 [00:26<00:00, 188.48it/s]\n",
      "pc_nonsparse_0.999: 100%|██████████| 5000/5000 [00:22<00:00, 221.22it/s]\n",
      "pc_nonsparse_0.999: 100%|██████████| 5000/5000 [00:20<00:00, 239.82it/s]\n",
      "pc_nonsparse_0.999: 100%|██████████| 5000/5000 [00:20<00:00, 243.27it/s]\n",
      "pc_nonsparse_0.999: 100%|██████████| 5000/5000 [00:22<00:00, 222.29it/s]\n",
      "pc_nonsparse_0.999: 100%|██████████| 5000/5000 [00:22<00:00, 221.65it/s]\n",
      "pc_nonsparse_0.999: 100%|██████████| 5000/5000 [00:19<00:00, 253.87it/s]\n",
      "pc_nonsparse_0.999: 100%|██████████| 5000/5000 [00:21<00:00, 236.55it/s]\n",
      "pc_nonsparse_0.999: 100%|██████████| 5000/5000 [00:18<00:00, 275.62it/s]\n",
      "pc_nonsparse_0.999: 100%|██████████| 5000/5000 [00:20<00:00, 244.42it/s]\n",
      "pc_nonsparse_0.999: 100%|██████████| 5000/5000 [00:20<00:00, 249.57it/s]\n",
      "pc_nonsparse_0.999: 100%|██████████| 5000/5000 [00:21<00:00, 231.56it/s]\n",
      "pc_nonsparse_0.999: 100%|██████████| 5000/5000 [00:22<00:00, 226.37it/s]\n",
      "pc_nonsparse_0.999:  62%|██████▏   | 3109/5000 [00:11<00:10, 173.69it/s]\n",
      "pc_nonsparse_0.999: 100%|██████████| 5000/5000 [00:21<00:00, 230.71it/s]\n",
      "pc_nonsparse_0.999: 100%|██████████| 5000/5000 [00:21<00:00, 232.31it/s]s]\n",
      "pc_nonsparse_0.999: 100%|██████████| 5000/5000 [00:24<00:00, 207.37it/s]\n",
      "pc_nonsparse_0.999: 100%|██████████| 5000/5000 [00:22<00:00, 223.75it/s]\n",
      "pc_nonsparse_0.999: 100%|██████████| 5000/5000 [00:18<00:00, 269.40it/s]\n",
      "pc_nonsparse_0.999: 100%|██████████| 5000/5000 [00:17<00:00, 279.94it/s]\n",
      "pc_nonsparse_0.999: 100%|██████████| 5000/5000 [00:17<00:00, 287.24it/s]\n",
      "pc_nonsparse_0: 100%|██████████| 5000/5000 [00:16<00:00, 298.29it/s]t/s]\n",
      "pc_nonsparse_0.999: 100%|██████████| 5000/5000 [00:17<00:00, 290.67it/s]\n",
      "pc_nonsparse_0.999: 100%|██████████| 5000/5000 [00:18<00:00, 271.86it/s]\n",
      "pc_nonsparse_0.999: 100%|██████████| 5000/5000 [00:19<00:00, 261.39it/s]\n",
      "pc_nonsparse_0.999: 100%|██████████| 5000/5000 [00:18<00:00, 267.94it/s]\n",
      "pc_nonsparse_0.999: 100%|██████████| 5000/5000 [00:18<00:00, 269.05it/s]\n",
      "pc_nonsparse_0.999: 100%|██████████| 5000/5000 [00:17<00:00, 288.29it/s]\n",
      "pc_nonsparse_0.999: 100%|██████████| 5000/5000 [00:17<00:00, 293.21it/s]\n",
      "pc_nonsparse_0.999: 100%|██████████| 5000/5000 [00:19<00:00, 260.17it/s]\n",
      "pc_nonsparse_0.999: 100%|██████████| 5000/5000 [00:18<00:00, 277.20it/s]\n",
      "pc_nonsparse_0: 100%|██████████| 5000/5000 [00:14<00:00, 339.86it/s]t/s]\n",
      "pc_nonsparse_0.999: 100%|██████████| 5000/5000 [00:18<00:00, 266.91it/s]\n",
      "pc_nonsparse_0.999: 100%|██████████| 5000/5000 [00:18<00:00, 267.97it/s]\n",
      "pc_nonsparse_0.999: 100%|██████████| 5000/5000 [00:18<00:00, 273.70it/s]\n",
      "pc_nonsparse_0.999: 100%|██████████| 5000/5000 [00:19<00:00, 262.26it/s]\n",
      "pc_nonsparse_0.999: 100%|██████████| 5000/5000 [00:20<00:00, 239.87it/s]\n",
      "pc_nonsparse_0.999: 100%|██████████| 5000/5000 [00:18<00:00, 271.36it/s]\n",
      "pc_nonsparse_0.999: 100%|██████████| 5000/5000 [00:17<00:00, 282.07it/s]\n",
      "pc_nonsparse_0.999: 100%|██████████| 5000/5000 [00:17<00:00, 281.86it/s]\n",
      "pc_nonsparse_0.999: 100%|██████████| 5000/5000 [00:19<00:00, 257.69it/s]\n",
      "pc_nonsparse_0.999: 100%|██████████| 5000/5000 [00:18<00:00, 267.58it/s]\n",
      "pc_nonsparse_0.999: 100%|██████████| 5000/5000 [00:20<00:00, 241.96it/s]\n",
      "pc_nonsparse_0.999: 100%|██████████| 5000/5000 [00:18<00:00, 274.09it/s]\n",
      "pc_nonsparse_0.999: 100%|██████████| 5000/5000 [00:17<00:00, 287.68it/s]\n",
      "pc_nonsparse_0.999: 100%|██████████| 5000/5000 [00:17<00:00, 291.47it/s]\n",
      "pc_nonsparse_0.999: 100%|██████████| 5000/5000 [00:17<00:00, 282.36it/s]\n",
      "pc_nonsparse_0.999: 100%|██████████| 5000/5000 [00:16<00:00, 311.05it/s]\n",
      "pc_nonsparse_0.999: 100%|██████████| 5000/5000 [00:15<00:00, 313.23it/s]\n",
      "pc_nonsparse_0: 100%|██████████| 5000/5000 [00:15<00:00, 316.90it/s]t/s]\n",
      "pc_nonsparse_0.999: 100%|██████████| 5000/5000 [00:19<00:00, 259.49it/s]\n",
      "pc_nonsparse_0.999: 100%|██████████| 5000/5000 [00:17<00:00, 287.23it/s]\n",
      "pc_nonsparse_0.999: 100%|██████████| 5000/5000 [00:16<00:00, 308.13it/s]\n",
      "pc_nonsparse_0.999: 100%|██████████| 5000/5000 [00:16<00:00, 296.15it/s]\n",
      "pc_nonsparse_0.999: 100%|██████████| 5000/5000 [00:17<00:00, 294.04it/s]\n",
      "pc_nonsparse_0.999: 100%|██████████| 5000/5000 [00:17<00:00, 283.22it/s]\n",
      "pc_nonsparse_0: 100%|██████████| 5000/5000 [00:14<00:00, 351.67it/s]t/s]\n",
      "pc_nonsparse_0: 100%|██████████| 5000/5000 [00:14<00:00, 339.44it/s]t/s]\n",
      "pc_nonsparse_0.999: 100%|██████████| 5000/5000 [00:19<00:00, 256.99it/s]\n",
      "pc_nonsparse_0.999: 100%|██████████| 5000/5000 [00:17<00:00, 288.77it/s]\n",
      "pc_nonsparse_0.999: 100%|██████████| 5000/5000 [00:16<00:00, 300.66it/s]\n",
      "pc_nonsparse_0.999: 100%|██████████| 5000/5000 [00:17<00:00, 278.02it/s]\n",
      "pc_nonsparse_0.999: 100%|██████████| 5000/5000 [00:17<00:00, 291.72it/s]\n",
      "pc_nonsparse_0.999: 100%|██████████| 5000/5000 [00:17<00:00, 291.47it/s]\n",
      "pc_nonsparse_0.999: 100%|██████████| 5000/5000 [00:17<00:00, 278.87it/s]\n",
      "pc_nonsparse_0.999: 100%|██████████| 5000/5000 [00:16<00:00, 301.59it/s]\n",
      "pc_nonsparse_0.999: 100%|██████████| 5000/5000 [00:19<00:00, 261.70it/s]\n",
      "pc_nonsparse_0.999: 100%|██████████| 5000/5000 [00:19<00:00, 252.51it/s]\n",
      "pc_nonsparse_0.999: 100%|██████████| 5000/5000 [00:18<00:00, 274.71it/s]\n",
      "pc_nonsparse_0.999: 100%|██████████| 5000/5000 [00:18<00:00, 273.94it/s]\n",
      "pc_nonsparse_0.999: 100%|██████████| 5000/5000 [00:18<00:00, 275.42it/s]\n",
      "pc_nonsparse_0.999: 100%|██████████| 5000/5000 [00:17<00:00, 281.59it/s]\n",
      "pc_nonsparse_0.999: 100%|██████████| 5000/5000 [00:18<00:00, 264.13it/s]\n",
      "pc_nonsparse_0.999: 100%|██████████| 5000/5000 [00:17<00:00, 287.84it/s]\n",
      "pc_nonsparse_0.999: 100%|██████████| 5000/5000 [00:18<00:00, 266.20it/s]\n",
      "pc_nonsparse_0.999: 100%|██████████| 5000/5000 [00:17<00:00, 290.74it/s]\n",
      "pc_nonsparse_0.999: 100%|██████████| 5000/5000 [00:19<00:00, 250.85it/s]\n",
      "pc_nonsparse_0.999: 100%|██████████| 5000/5000 [00:18<00:00, 273.78it/s]\n",
      "pc_nonsparse_0.999: 100%|██████████| 5000/5000 [00:21<00:00, 235.84it/s]\n",
      "pc_nonsparse_0.999: 100%|██████████| 5000/5000 [00:19<00:00, 254.51it/s]\n",
      "pc_nonsparse_0.999: 100%|██████████| 5000/5000 [00:19<00:00, 261.28it/s]\n",
      "pc_nonsparse_0: 100%|██████████| 5000/5000 [00:18<00:00, 272.48it/s]t/s]\n",
      "pc_nonsparse_0.999: 100%|██████████| 5000/5000 [00:19<00:00, 251.16it/s]\n",
      "pc_nonsparse_0: 100%|██████████| 5000/5000 [00:18<00:00, 263.52it/s]\n",
      "pc_nonsparse_0: 100%|██████████| 5000/5000 [00:20<00:00, 246.72it/s]\n",
      "pc_nonsparse_0: 100%|██████████| 5000/5000 [00:20<00:00, 244.03it/s]:17, 205.18it/s]\n",
      "pc_nonsparse_0: 100%|██████████| 5000/5000 [00:19<00:00, 256.00it/s]\n",
      "pc_nonsparse_0: 100%|██████████| 5000/5000 [00:21<00:00, 235.95it/s]\n",
      "pc_nonsparse_0: 100%|██████████| 5000/5000 [00:21<00:00, 236.08it/s]s]\n",
      "pc_nonsparse_0: 100%|██████████| 5000/5000 [00:20<00:00, 246.77it/s]\n",
      "pc_nonsparse_0: 100%|██████████| 5000/5000 [00:20<00:00, 242.78it/s]\n",
      "pc_nonsparse_0: 100%|██████████| 5000/5000 [00:22<00:00, 223.17it/s]\n",
      "pc_nonsparse_0: 100%|██████████| 5000/5000 [00:21<00:00, 228.13it/s]\n",
      "pc_nonsparse_0: 100%|██████████| 5000/5000 [00:21<00:00, 231.36it/s]\n",
      "pc_nonsparse_0: 100%|██████████| 5000/5000 [00:23<00:00, 208.89it/s]8/5000 [00:17<00:07, 194.78it/s]\n",
      "pc_nonsparse_0: 100%|██████████| 5000/5000 [00:23<00:00, 213.16it/s]\n",
      "pc_nonsparse_0: 100%|██████████| 5000/5000 [00:22<00:00, 217.53it/s]\n",
      "pc_nonsparse_0: 100%|██████████| 5000/5000 [00:22<00:00, 220.48it/s]\n",
      "pc_nonsparse_0: 100%|██████████| 5000/5000 [00:22<00:00, 223.16it/s]\n",
      "pc_nonsparse_0: 100%|██████████| 5000/5000 [00:23<00:00, 211.41it/s]\n",
      "pc_nonsparse_0: 100%|██████████| 5000/5000 [00:24<00:00, 205.45it/s]\n",
      "pc_nonsparse_0: 100%|██████████| 5000/5000 [00:20<00:00, 243.90it/s]\n",
      "pc_nonsparse_0: 100%|██████████| 5000/5000 [00:21<00:00, 233.18it/s]\n",
      "pc_nonsparse_0: 100%|██████████| 5000/5000 [00:23<00:00, 217.10it/s]\n",
      "pc_nonsparse_0: 100%|██████████| 5000/5000 [00:23<00:00, 215.14it/s]\n",
      "pc_nonsparse_0: 100%|██████████| 5000/5000 [00:23<00:00, 213.19it/s]\n",
      "pc_nonsparse_0: 100%|██████████| 5000/5000 [00:22<00:00, 224.57it/s]\n",
      "pc_nonsparse_0: 100%|██████████| 5000/5000 [00:21<00:00, 233.29it/s]\n",
      "pc_nonsparse_0: 100%|██████████| 5000/5000 [00:23<00:00, 213.62it/s]\n",
      "pc_nonsparse_0: 100%|██████████| 5000/5000 [00:21<00:00, 228.40it/s]\n",
      "pc_nonsparse_0: 100%|██████████| 5000/5000 [00:22<00:00, 224.36it/s]\n",
      "pc_nonsparse_0: 100%|██████████| 5000/5000 [00:22<00:00, 227.01it/s]\n",
      "pc_nonsparse_0: 100%|██████████| 5000/5000 [00:21<00:00, 228.89it/s]\n",
      "pc_nonsparse_0: 100%|██████████| 5000/5000 [00:23<00:00, 209.57it/s]\n",
      "pc_nonsparse_0: 100%|██████████| 5000/5000 [00:22<00:00, 225.44it/s]\n",
      "pc_nonsparse_0: 100%|██████████| 5000/5000 [00:22<00:00, 219.71it/s]\n",
      "pc_nonsparse_0: 100%|██████████| 5000/5000 [00:23<00:00, 215.74it/s]\n",
      "pc_nonsparse_0: 100%|██████████| 5000/5000 [00:23<00:00, 214.68it/s]\n",
      "pc_nonsparse_0: 100%|██████████| 5000/5000 [00:22<00:00, 225.67it/s]\n",
      "pc_nonsparse_0: 100%|██████████| 5000/5000 [00:22<00:00, 218.03it/s]\n",
      "pc_nonsparse_0: 100%|██████████| 5000/5000 [00:22<00:00, 217.68it/s]\n",
      "pc_nonsparse_0: 100%|██████████| 5000/5000 [00:23<00:00, 215.89it/s]\n",
      "pc_nonsparse_0: 100%|██████████| 5000/5000 [00:23<00:00, 217.32it/s]\n",
      "pc_nonsparse_0: 100%|██████████| 5000/5000 [00:23<00:00, 209.44it/s]\n",
      "pc_nonsparse_0: 100%|██████████| 5000/5000 [00:22<00:00, 226.02it/s]\n",
      "pc_nonsparse_0: 100%|██████████| 5000/5000 [00:24<00:00, 202.78it/s]\n",
      "pc_nonsparse_0: 100%|██████████| 5000/5000 [00:23<00:00, 213.02it/s]\n",
      "pc_nonsparse_0: 100%|██████████| 5000/5000 [00:23<00:00, 210.01it/s]\n",
      "pc_nonsparse_0: 100%|██████████| 5000/5000 [00:22<00:00, 219.02it/s]\n",
      "pc_nonsparse_0: 100%|██████████| 5000/5000 [00:22<00:00, 218.88it/s]\n",
      "pc_nonsparse_0: 100%|██████████| 5000/5000 [00:23<00:00, 212.31it/s]\n",
      "pc_nonsparse_0: 100%|██████████| 5000/5000 [00:22<00:00, 220.33it/s]\n",
      "pc_nonsparse_0: 100%|██████████| 5000/5000 [00:22<00:00, 220.46it/s]\n",
      "pc_nonsparse_0: 100%|██████████| 5000/5000 [00:23<00:00, 211.34it/s]\n",
      "pc_nonsparse_0: 100%|██████████| 5000/5000 [00:23<00:00, 211.65it/s]\n",
      "pc_nonsparse_0: 100%|██████████| 5000/5000 [00:22<00:00, 218.60it/s]\n",
      "pc_nonsparse_0: 100%|██████████| 5000/5000 [00:22<00:00, 222.08it/s]\n",
      "pc_nonsparse_0: 100%|██████████| 5000/5000 [00:21<00:00, 230.15it/s]\n",
      "pc_nonsparse_0: 100%|██████████| 5000/5000 [00:23<00:00, 213.39it/s]\n",
      "pc_nonsparse_0: 100%|██████████| 5000/5000 [00:23<00:00, 209.30it/s]\n",
      "pc_nonsparse_0: 100%|██████████| 5000/5000 [00:22<00:00, 222.34it/s]\n",
      "pc_nonsparse_0: 100%|██████████| 5000/5000 [00:22<00:00, 220.66it/s]\n",
      "pc_nonsparse_0: 100%|██████████| 5000/5000 [00:22<00:00, 225.34it/s]\n",
      "pc_nonsparse_0: 100%|██████████| 5000/5000 [00:22<00:00, 223.56it/s]\n",
      "pc_nonsparse_0: 100%|██████████| 5000/5000 [00:21<00:00, 227.47it/s]\n",
      "pc_nonsparse_0: 100%|██████████| 5000/5000 [00:22<00:00, 221.65it/s]\n",
      "pc_nonsparse_0: 100%|██████████| 5000/5000 [00:22<00:00, 224.28it/s]\n",
      "pc_nonsparse_0: 100%|██████████| 5000/5000 [00:22<00:00, 224.56it/s]\n",
      "pc_nonsparse_0: 100%|██████████| 5000/5000 [00:21<00:00, 227.74it/s]\n",
      "pc_nonsparse_0: 100%|██████████| 5000/5000 [00:21<00:00, 234.39it/s]\n",
      "pc_nonsparse_0: 100%|██████████| 5000/5000 [00:20<00:00, 242.83it/s]\n",
      "pc_nonsparse_0: 100%|██████████| 5000/5000 [00:23<00:00, 217.38it/s]\n",
      "pp_nonsparse:  13%|█▎        | 652/5000 [00:05<00:41, 104.62it/s]]s]\n",
      "pc_nonsparse_0: 100%|██████████| 5000/5000 [00:21<00:00, 230.45it/s]\n",
      "pc_nonsparse_0: 100%|██████████| 5000/5000 [00:22<00:00, 219.02it/s]\n",
      "pc_nonsparse_0: 100%|██████████| 5000/5000 [00:21<00:00, 236.27it/s]\n",
      "pc_nonsparse_0: 100%|██████████| 5000/5000 [00:20<00:00, 243.79it/s]\n",
      "pc_nonsparse_0: 100%|██████████| 5000/5000 [00:19<00:00, 252.69it/s]\n",
      "pc_nonsparse_0: 100%|██████████| 5000/5000 [00:20<00:00, 241.13it/s]\n",
      "pp_nonsparse: 100%|██████████| 5000/5000 [00:52<00:00, 95.21it/s] \n",
      "pp_nonsparse: 100%|██████████| 5000/5000 [00:50<00:00, 98.22it/s] \n",
      "pp_nonsparse: 100%|██████████| 5000/5000 [00:54<00:00, 91.78it/s] ] \n",
      "pp_nonsparse: 100%|██████████| 5000/5000 [00:52<00:00, 95.60it/s] \n",
      "pp_nonsparse: 100%|██████████| 5000/5000 [00:53<00:00, 93.30it/s] \n",
      "pp_nonsparse: 100%|██████████| 5000/5000 [00:48<00:00, 104.03it/s]\n",
      "pp_nonsparse: 100%|██████████| 5000/5000 [00:48<00:00, 102.43it/s]\n",
      "pp_nonsparse: 100%|██████████| 5000/5000 [00:45<00:00, 109.04it/s]\n",
      "pp_nonsparse: 100%|██████████| 5000/5000 [00:49<00:00, 101.45it/s]\n",
      "pp_nonsparse: 100%|██████████| 5000/5000 [00:43<00:00, 115.22it/s]\n",
      "pp_nonsparse: 100%|██████████| 5000/5000 [00:45<00:00, 108.94it/s]\n",
      "pp_nonsparse: 100%|██████████| 5000/5000 [00:45<00:00, 111.01it/s]\n",
      "pp_nonsparse: 100%|██████████| 5000/5000 [00:48<00:00, 102.41it/s]\n",
      "pp_nonsparse: 100%|██████████| 5000/5000 [00:48<00:00, 102.81it/s]\n",
      "pp_nonsparse: 100%|██████████| 5000/5000 [00:45<00:00, 109.30it/s]\n",
      "pp_nonsparse: 100%|██████████| 5000/5000 [00:45<00:00, 109.36it/s]\n",
      "pp_nonsparse: 100%|██████████| 5000/5000 [00:46<00:00, 107.89it/s]\n",
      "pp_nonsparse: 100%|██████████| 5000/5000 [00:44<00:00, 113.61it/s]\n",
      "pp_nonsparse: 100%|██████████| 5000/5000 [00:44<00:00, 111.46it/s]\n",
      "pp_nonsparse: 100%|██████████| 5000/5000 [00:45<00:00, 109.07it/s]\n",
      "pp_nonsparse: 100%|██████████| 5000/5000 [00:43<00:00, 116.15it/s]\n",
      "pp_nonsparse: 100%|██████████| 5000/5000 [00:46<00:00, 107.36it/s]\n",
      "pp_nonsparse: 100%|██████████| 5000/5000 [00:44<00:00, 111.45it/s]\n",
      "pp_nonsparse: 100%|██████████| 5000/5000 [00:45<00:00, 109.76it/s]\n",
      "pp_nonsparse: 100%|██████████| 5000/5000 [00:46<00:00, 108.28it/s]\n",
      "pp_nonsparse: 100%|██████████| 5000/5000 [00:42<00:00, 117.72it/s]\n",
      "pp_nonsparse: 100%|██████████| 5000/5000 [00:47<00:00, 105.92it/s]\n",
      "pp_nonsparse: 100%|██████████| 5000/5000 [00:47<00:00, 106.16it/s]\n",
      "pp_nonsparse: 100%|██████████| 5000/5000 [00:46<00:00, 108.39it/s]\n",
      "pp_nonsparse: 100%|██████████| 5000/5000 [00:46<00:00, 106.84it/s]\n",
      "pp_nonsparse: 100%|██████████| 5000/5000 [00:44<00:00, 112.64it/s]\n",
      "pp_nonsparse: 100%|██████████| 5000/5000 [00:44<00:00, 112.34it/s]\n",
      "pp_nonsparse: 100%|██████████| 5000/5000 [00:44<00:00, 112.25it/s]\n",
      "pp_nonsparse: 100%|██████████| 5000/5000 [00:45<00:00, 109.78it/s]\n",
      "pp_nonsparse: 100%|██████████| 5000/5000 [00:45<00:00, 110.64it/s]\n",
      "pp_nonsparse: 100%|██████████| 5000/5000 [00:46<00:00, 107.03it/s]\n",
      "pp_nonsparse: 100%|██████████| 5000/5000 [00:45<00:00, 110.44it/s]\n",
      "pp_nonsparse: 100%|██████████| 5000/5000 [00:45<00:00, 109.43it/s]\n",
      "pp_nonsparse: 100%|██████████| 5000/5000 [00:45<00:00, 110.83it/s]\n",
      "pp_nonsparse: 100%|██████████| 5000/5000 [00:47<00:00, 106.11it/s]\n",
      "pp_nonsparse: 100%|██████████| 5000/5000 [00:46<00:00, 107.55it/s]\n",
      "pp_nonsparse: 100%|██████████| 5000/5000 [00:46<00:00, 108.51it/s]\n",
      "pp_nonsparse: 100%|██████████| 5000/5000 [00:46<00:00, 107.00it/s]\n",
      "pp_nonsparse: 100%|██████████| 5000/5000 [00:47<00:00, 105.51it/s]\n",
      "pp_nonsparse: 100%|██████████| 5000/5000 [00:46<00:00, 107.80it/s]\n",
      "pp_nonsparse: 100%|██████████| 5000/5000 [00:47<00:00, 104.71it/s]\n",
      "pp_nonsparse: 100%|██████████| 5000/5000 [00:46<00:00, 106.96it/s]\n",
      "pp_nonsparse: 100%|██████████| 5000/5000 [00:47<00:00, 105.84it/s]\n",
      "pp_nonsparse: 100%|██████████| 5000/5000 [00:46<00:00, 107.19it/s]\n",
      "pp_nonsparse: 100%|██████████| 5000/5000 [00:47<00:00, 105.27it/s]\n",
      "pp_nonsparse: 100%|██████████| 5000/5000 [00:44<00:00, 112.43it/s]\n",
      "pp_nonsparse: 100%|██████████| 5000/5000 [00:47<00:00, 105.26it/s]\n",
      "pp_nonsparse: 100%|██████████| 5000/5000 [00:45<00:00, 110.24it/s]]\n",
      "pp_nonsparse: 100%|██████████| 5000/5000 [00:44<00:00, 113.10it/s]\n",
      "pp_nonsparse: 100%|██████████| 5000/5000 [00:46<00:00, 107.02it/s]\n",
      "pp_nonsparse: 100%|██████████| 5000/5000 [00:46<00:00, 107.89it/s]\n",
      "pp_nonsparse: 100%|██████████| 5000/5000 [00:46<00:00, 106.72it/s]\n",
      "pp_nonsparse: 100%|██████████| 5000/5000 [00:46<00:00, 106.92it/s]\n",
      "pp_nonsparse:  97%|█████████▋| 4864/5000 [00:45<00:01, 108.17it/s]\n",
      "pp_nonsparse: 100%|██████████| 5000/5000 [00:46<00:00, 106.73it/s]\n",
      "pp_nonsparse: 100%|██████████| 5000/5000 [00:47<00:00, 104.41it/s]\n",
      "pp_nonsparse: 100%|██████████| 5000/5000 [00:46<00:00, 107.00it/s]\n",
      "pp_nonsparse: 100%|██████████| 5000/5000 [00:47<00:00, 105.51it/s]\n",
      "pp_nonsparse: 100%|██████████| 5000/5000 [00:48<00:00, 103.26it/s]\n",
      "pp_nonsparse: 100%|██████████| 5000/5000 [00:47<00:00, 104.71it/s]\n",
      "pp_nonsparse: 100%|██████████| 5000/5000 [00:47<00:00, 105.63it/s]\n",
      "pp_nonsparse: 100%|██████████| 5000/5000 [00:48<00:00, 103.69it/s]\n",
      "pp_nonsparse: 100%|██████████| 5000/5000 [00:48<00:00, 102.06it/s]\n",
      "pp_nonsparse: 100%|██████████| 5000/5000 [00:46<00:00, 107.37it/s]\n",
      "pp_nonsparse: 100%|██████████| 5000/5000 [00:47<00:00, 104.41it/s]\n",
      "pp_nonsparse: 100%|██████████| 5000/5000 [00:47<00:00, 105.28it/s]\n",
      "pp_nonsparse: 100%|██████████| 5000/5000 [00:47<00:00, 104.86it/s]\n",
      "pp_nonsparse: 100%|██████████| 5000/5000 [00:48<00:00, 102.10it/s]\n",
      "pp_nonsparse: 100%|██████████| 5000/5000 [00:48<00:00, 103.92it/s]\n",
      "pp_nonsparse: 100%|██████████| 5000/5000 [00:47<00:00, 104.41it/s]\n",
      "pp_nonsparse: 100%|██████████| 5000/5000 [00:48<00:00, 103.14it/s]\n",
      "pp_nonsparse: 100%|██████████| 5000/5000 [00:47<00:00, 105.64it/s]\n",
      "pp_nonsparse: 100%|██████████| 5000/5000 [00:46<00:00, 108.40it/s]\n",
      "pp_nonsparse: 100%|██████████| 5000/5000 [00:47<00:00, 106.04it/s]\n",
      "pp_nonsparse: 100%|██████████| 5000/5000 [00:46<00:00, 106.56it/s]\n",
      "pp_nonsparse: 100%|██████████| 5000/5000 [00:46<00:00, 106.93it/s]\n",
      "pp_nonsparse: 100%|██████████| 5000/5000 [00:47<00:00, 105.45it/s]\n"
     ]
    },
    {
     "name": "stdout",
     "output_type": "stream",
     "text": [
      "result_N10_num_trials100_T5000_maxweight0.5_variancee0.005_K1_SissymmetricTrue_seed42_P1_C1_gammma0.999_alpha0.015_betapc0.015_betaco0.02_betasgd0.02_r4_q20_rho0.15_numtrials100_.png\n"
     ]
    },
    {
     "data": {
      "image/png": "[encoded data removed]",
      "text/plain": [
       "<Figure size 1000x600 with 1 Axes>"
      ]
     },
     "metadata": {},
     "output_type": "display_data"
    }
   ],
   "source": [
    "# 試行回数の設定\n",
    "num_trials = 100\n",
    "\n",
    "# パラメータの設定\n",
    "N = 10\n",
    "T = 5000\n",
    "sparsity = 100\n",
    "max_weight = 0.5\n",
    "variance_e = 0.005\n",
    "std_e = np.sqrt(variance_e)\n",
    "K = 1\n",
    "S_is_symmetric = True\n",
    "\n",
    "seed = 42  # 基本のシード\n",
    "\n",
    "# TV-SEMパラメータ\n",
    "P = 1\n",
    "C = 1\n",
    "gamma = 0.999\n",
    "alpha = 0.015\n",
    "beta_pc = 0.015\n",
    "beta_co = 0.02\n",
    "beta_sgd = 0.02\n",
    "\n",
    "# その他のパラメータ\n",
    "r = 4  # window size\n",
    "q = 20  # number of processors\n",
    "rho = 0.15\n",
    "\n",
    "# 試行ごとの処理を行う関数を定義\n",
    "def run_trial(trial_seed):\n",
    "    np.random.seed(trial_seed)  # シードを試行ごとに設定\n",
    "\n",
    "    # データの生成\n",
    "    S_series, X = generate_piecewise_X_K(N, T, S_is_symmetric, sparsity, max_weight, std_e, K)\n",
    "\n",
    "    # 初期値の設定\n",
    "    if S_is_symmetric:\n",
    "        S_0 = generate_random_S(N, sparsity, max_weight)\n",
    "    else:\n",
    "        S_0 = generate_random_S_with_off_diagonal(N, sparsity, max_weight)\n",
    "    S_0 = S_0 / norm(S_0)\n",
    "\n",
    "    # モデルのインスタンス化（並列処理を無効化）\n",
    "    tv_sem_pc = TimeVaryingSEM_PC_NONSPARSE(N, S_0, alpha, beta_pc, gamma, P, C)\n",
    "    tv_sem_co = TimeVaryingSEM_PC_NONSPARSE(N, S_0, alpha, beta_co, gamma, 0, C)\n",
    "    tv_sem_sgd = TimeVaryingSEM_PC_NONSPARSE(N, S_0, alpha, beta_sgd, 0, 0, C)\n",
    "    tv_sem_pp = TimeVaryingSEM_PP_NONSPARSE_UNDIRECTED(N, S_0, r, q, rho)\n",
    "\n",
    "    # 並列処理を無効化するために、直接関数を呼び出す\n",
    "    estimates_pc, cost_values_pc = tv_sem_pc.run(X)\n",
    "    estimates_co, cost_values_co = tv_sem_co.run(X)\n",
    "    estimates_sgd, cost_values_sgd = tv_sem_sgd.run(X)\n",
    "    estimates_pp = tv_sem_pp.run(X)\n",
    "\n",
    "    # エラーの計算\n",
    "    error_pc = []\n",
    "    error_co = []\n",
    "    error_sgd = []\n",
    "    error_pp = []\n",
    "\n",
    "    for i in range(T):\n",
    "        error_pc.append(norm(estimates_pc[i] - S_series[i]) ** 2 / (norm(S_0 - S_series[i]) ** 2))\n",
    "        error_co.append(norm(estimates_co[i] - S_series[i]) ** 2 / (norm(S_0 - S_series[i]) ** 2))\n",
    "        error_sgd.append(norm(estimates_sgd[i] - S_series[i]) ** 2 / (norm(S_0 - S_series[i]) ** 2))\n",
    "        error_pp.append(norm(estimates_pp[i] - S_series[i]) ** 2 / (norm(S_0 - S_series[i]) ** 2))\n",
    "\n",
    "    return error_pc, error_co, error_sgd, error_pp\n",
    "\n",
    "# 試行ごとのシードを作成\n",
    "trial_seeds = [seed + i for i in range(num_trials)]\n",
    "\n",
    "# 並列処理の実行\n",
    "results = Parallel(n_jobs=num_trials)(\n",
    "    delayed(run_trial)(trial_seed) for trial_seed in trial_seeds\n",
    ")\n",
    "\n",
    "# 結果の集計\n",
    "error_pc_total = np.zeros(T)\n",
    "error_co_total = np.zeros(T)\n",
    "error_sgd_total = np.zeros(T)\n",
    "error_pp_total = np.zeros(T)\n",
    "\n",
    "for error_pc, error_co, error_sgd, error_pp in results:\n",
    "    error_pc_total += np.array(error_pc)\n",
    "    error_co_total += np.array(error_co)\n",
    "    error_sgd_total += np.array(error_sgd)\n",
    "    error_pp_total += np.array(error_pp)\n",
    "\n",
    "# 平均の計算\n",
    "error_pc_mean = error_pc_total / num_trials\n",
    "error_co_mean = error_co_total / num_trials\n",
    "error_sgd_mean = error_sgd_total / num_trials\n",
    "error_pp_mean = error_pp_total / num_trials\n",
    "\n",
    "# 結果のプロット\n",
    "plt.figure(figsize=(10,6))\n",
    "plt.plot(error_co_mean, color='blue', label='Correction Only')\n",
    "plt.plot(error_pc_mean, color='limegreen', label='Prediction Correction')\n",
    "plt.plot(error_sgd_mean, color='cyan', label='SGD')\n",
    "plt.plot(error_pp_mean, color='red', label='Proposed')\n",
    "plt.yscale('log')\n",
    "plt.xlim(left=0, right=T)\n",
    "plt.xlabel('t')\n",
    "plt.ylabel('Average NSE')\n",
    "plt.legend()\n",
    "filename = (\n",
    "    f'result_N{N}_'\n",
    "    f'num_trials{num_trials}_'\n",
    "    f'T{T}_'\n",
    "    f'maxweight{max_weight}_'\n",
    "    f'variancee{variance_e}_'\n",
    "    f'K{K}_'\n",
    "    f'Sissymmetric{S_is_symmetric}_'\n",
    "    f'seed{seed}_'\n",
    "    f'P{P}_'\n",
    "    f'C{C}_'\n",
    "    f'gammma{gamma}_'\n",
    "    f'alpha{alpha}_'\n",
    "    f'betapc{beta_pc}_'\n",
    "    f'betaco{beta_co}_'\n",
    "    f'betasgd{beta_sgd}_'\n",
    "    f'r{r}_'\n",
    "    f'q{q}_'\n",
    "    f'rho{rho}_'\n",
    "    f'numtrials{num_trials}_.png'\n",
    ")\n",
    "print(filename)\n",
    "plt.savefig('./result/241220_mean/images/' + filename)\n",
    "plt.show()\n"
   ]
  }
 ],
 "metadata": {
  "kernelspec": {
   "display_name": "venv",
   "language": "python",
   "name": "python3"
  },
  "language_info": {
   "codemirror_mode": {
    "name": "ipython",
    "version": 3
   },
   "file_extension": ".py",
   "mimetype": "text/x-python",
   "name": "python",
   "nbconvert_exporter": "python",
   "pygments_lexer": "ipython3",
   "version": "3.12.8"
  }
 },
 "nbformat": 4,
 "nbformat_minor": 2
}
