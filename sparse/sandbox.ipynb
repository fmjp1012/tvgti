{
 "cells": [
  {
   "cell_type": "code",
   "execution_count": 1,
   "metadata": {},
   "outputs": [],
   "source": [
    "import numpy as np\n",
    "from scipy.linalg import inv, eigvals, norm\n",
    "\n",
    "from utils import *"
   ]
  },
  {
   "cell_type": "code",
   "execution_count": 4,
   "metadata": {},
   "outputs": [
    {
     "data": {
      "text/plain": [
       "array([[-0.27503065,  0.1656232 ,  0.23315531,  0.20425283,  0.15029085],\n",
       "       [ 0.1656232 ,  0.24393698, -0.35644295, -0.14091974,  0.06658393],\n",
       "       [ 0.23315531, -0.35644295, -0.22451781,  0.25693529, -0.13345772],\n",
       "       [ 0.20425283, -0.14091974,  0.25693529,  0.14190494,  0.02231067],\n",
       "       [ 0.15029085,  0.06658393, -0.13345772,  0.02231067, -0.1754251 ]])"
      ]
     },
     "execution_count": 4,
     "metadata": {},
     "output_type": "execute_result"
    }
   ],
   "source": [
    "generate_random_S(5, 0, 0.5, True)"
   ]
  }
 ],
 "metadata": {
  "kernelspec": {
   "display_name": "venv",
   "language": "python",
   "name": "python3"
  },
  "language_info": {
   "codemirror_mode": {
    "name": "ipython",
    "version": 3
   },
   "file_extension": ".py",
   "mimetype": "text/x-python",
   "name": "python",
   "nbconvert_exporter": "python",
   "pygments_lexer": "ipython3",
   "version": "3.12.9"
  }
 },
 "nbformat": 4,
 "nbformat_minor": 2
}
